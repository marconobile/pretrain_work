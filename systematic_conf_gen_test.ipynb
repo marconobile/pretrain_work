{
 "cells": [
  {
   "cell_type": "code",
   "execution_count": null,
   "metadata": {},
   "outputs": [],
   "source": [
    "%load_ext autoreload\n",
    "%autoreload 2"
   ]
  },
  {
   "cell_type": "code",
   "execution_count": null,
   "metadata": {},
   "outputs": [],
   "source": [
    "import CDPL.Chem as CDPLChem\n",
    "from source.utils.conforge_conformer_generation import *\n",
    "from source.utils.mol_utils import drop_disconnected_components, preprocess_mol\n",
    "from rdkit import Chem as rdChem\n",
    "from source.utils.npz_utils import get_field_from_npzs\n",
    "\n",
    "from source.utils.conforge_conformer_generation import generate_conformers\n",
    "from source.utils.mol2pyg import mols2pyg_list_with_targets\n",
    "import torch\n",
    "from source.utils.npz_utils import save_pyg_as_npz\n",
    "import shutil\n",
    "from pathlib import Path\n",
    "\n",
    "\n",
    "def preprocess_smile(s):\n",
    "    s = drop_disconnected_components(s)\n",
    "    m = rdChem.MolFromSmiles(s)\n",
    "    m = preprocess_mol(m)\n",
    "    return rdChem.MolToSmiles(m)\n",
    "\n",
    "def smi_to_cdpl_mol(s):\n",
    "    s = drop_disconnected_components(s)\n",
    "    m = rdChem.MolFromSmiles(s)\n",
    "    m = preprocess_mol(m)\n",
    "    s = rdChem.MolToSmiles(m)\n",
    "    return  CDPLChem.parseSMILES(s)\n",
    "\n",
    "def getSettings(minRMSD):\n",
    "    settings = ConfGen.ConformerGenerator()\n",
    "    settings.settings.setSamplingMode(1) # AUTO = 0; SYSTEMATIC = 1; STOCHASTIC = 2;\n",
    "    settings.settings.timeout = 36000 #! this is core\n",
    "    settings.settings.minRMSD = minRMSD # for freesolv test #! this is core ; 2.5\n",
    "    print(f'Using minRMSD = {settings.settings.minRMSD}')\n",
    "    settings.settings.energyWindow = 150000.0\n",
    "    settings.settings.setMaxNumOutputConformers(100) # mostly irrelevant?\n",
    "    return settings\n",
    "\n",
    "def eval_confs(npz_path, minRMSD):\n",
    "    tot = 0\n",
    "    out = get_field_from_npzs(npz_path) #! get only smiles?\n",
    "    print(f\"Num of mols pre-data agumentation: \", len(out))\n",
    "    n_confs = []\n",
    "    settings = getSettings(minRMSD)\n",
    "    for npz in out:\n",
    "        s = str(npz['smiles'])\n",
    "        mol = smi_to_cdpl_mol(s)\n",
    "        status, num_confs = generateConformationEnsembles(mol, settings)\n",
    "        try:\n",
    "            status_to_str[status]\n",
    "        except:\n",
    "            # print(f\"num_confs {num_confs}\")\n",
    "            n_confs.append(num_confs)\n",
    "            tot += num_confs\n",
    "\n",
    "    print(f\"Num of mols post-data agumentation: \", tot)\n",
    "    return np.bincount(np.array(n_confs)),\n"
   ]
  },
  {
   "cell_type": "markdown",
   "metadata": {},
   "source": [
    "# tests"
   ]
  },
  {
   "cell_type": "code",
   "execution_count": null,
   "metadata": {},
   "outputs": [],
   "source": [
    "save_dir = Path('/storage_common/nobilm/pretrain_paper/guacamol/EXPERIMENTS/freesolv/train_backup')\n",
    "eval_confs(save_dir)"
   ]
  },
  {
   "cell_type": "code",
   "execution_count": null,
   "metadata": {},
   "outputs": [],
   "source": [
    "eval_confs('/storage_common/nobilm/pretrain_paper/guacamol/EXPERIMENTS/freesolv/train_agumented')\n",
    "# array([  0, 505,   4]) # 36 minutes\n",
    "# array([  0, 479,  28,   4,   1,   1]) # 15.3 seconds! Consistent result\n"
   ]
  },
  {
   "cell_type": "code",
   "execution_count": null,
   "metadata": {},
   "outputs": [],
   "source": [
    "# do the same with a subset of qm9:\n",
    "eval_confs('/storage_common/nobilm/pretrain_paper/guacamol/EXPERIMENTS/qm9ftTEST/train_data_dbg')\n",
    "# array([   0, 4988,   10])"
   ]
  },
  {
   "cell_type": "code",
   "execution_count": null,
   "metadata": {},
   "outputs": [],
   "source": [
    "# small subset of guacamol\n",
    "eval_confs('/storage_common/nobilm/pretrain_paper/guacamol/EXPERIMENTS/100k_random_split_first_test/dbg_train')\n",
    "\n",
    "# array([ 0, 83, 70, 23, 19,  8, 14,  6,  4,  5,  6,  3,  2,  0,  4,  0,  2,\n",
    "#         1,  1,  0,  1,  1,  0,  0,  0,  1,  0,  0,  0,  0,  0,  0,  0,  0,\n",
    "#         0,  0,  0,  0,  0,  0,  0,  0,  0,  0,  0,  0,  0,  0,  0,  0,  0,\n",
    "#         0,  0,  0,  0,  0,  0,  0,  0,  0,  0,  0,  0,  0,  0,  0,  0,  0,\n",
    "#         0,  0,  0,  0,  0,  0,  0,  0,  0,  0,  0,  0,  0,  0,  0,  0,  0,\n",
    "#         0,  0,  0,  0,  0,  0,  0,  0,  0,  0,  0,  0,  0,  0,  0,  0,  0,\n",
    "#         0,  0,  0,  0,  0,  0,  0,  0,  0,  0,  0,  0,  0,  0,  0,  0,  0,\n",
    "#         0,  0,  0,  0,  0,  0,  0,  0,  0,  0,  0,  0,  0,  0,  0,  0,  0,\n",
    "#         0,  0,  0,  0,  0,  0,  0,  0,  0,  0,  0,  0,  0,  0,  0,  0,  0,\n",
    "#         0,  0,  0,  0,  0,  0,  0,  0,  0,  0,  0,  0,  0,  0,  0,  0,  0,\n",
    "#         0,  0,  0,  0,  0,  0,  0,  0,  0,  0,  0,  0,  0,  0,  0,  0,  0,\n",
    "#         0,  0,  0,  0,  0,  0,  0,  0,  0,  0,  0,  0,  0,  0,  0,  0,  0,\n",
    "#         0,  0,  0,  0,  0,  0,  0,  0,  0,  0,  0,  0,  0,  0,  0,  0,  1])"
   ]
  },
  {
   "cell_type": "markdown",
   "metadata": {},
   "source": [
    "# SAVE AGUMENTED CONFORMERS"
   ]
  },
  {
   "cell_type": "code",
   "execution_count": null,
   "metadata": {},
   "outputs": [],
   "source": [
    "starting_path = '/storage_common/nobilm/pretrain_paper/guacamol/EXPERIMENTS/bace/val'\n",
    "starting_path = Path(starting_path)\n",
    "# eval_confs(starting_path, 2.0) # from 3354 to 11.2k\n",
    "\n",
    "# Using minRMSD = 2.5\n",
    "# (array([  0, 479,  28,   4,   1,   1]), 556)\n",
    "\n",
    "# Num of mols pre-data agumentation:  513\n",
    "# Using minRMSD = 2.0\n",
    "# Num of mols post-data agumentation:  614"
   ]
  },
  {
   "cell_type": "code",
   "execution_count": null,
   "metadata": {},
   "outputs": [],
   "source": [
    "def getSettingsLOCAL(minRMSD):\n",
    "    settings = ConfGen.ConformerGenerator()\n",
    "    settings.settings.setSamplingMode(1) # AUTO = 0; SYSTEMATIC = 1; STOCHASTIC = 2;\n",
    "    settings.settings.timeout = 36000 #! this is core\n",
    "    settings.settings.minRMSD = minRMSD # for freesolv test #! this is core ; 2.5\n",
    "    print(f'Using minRMSD = {settings.settings.minRMSD}')\n",
    "    settings.settings.energyWindow = 150000.0\n",
    "    settings.settings.setMaxNumOutputConformers(10) # mostly irrelevant? -n in https://cdpkit.org/v1.1.1/cdpl_python_cookbook/confgen/gen_ensemble.html\n",
    "    return settings\n",
    "\n",
    "save_dir = '/storage_common/nobilm/pretrain_paper/guacamol/EXPERIMENTS/bace/val_agumented_10confs_1.5RMSD'\n",
    "os.makedirs(save_dir)\n",
    "save_dir = Path(save_dir) # the folder must exist\n",
    "\n",
    "out = get_field_from_npzs(starting_path)\n",
    "n_confs = []\n",
    "tot = 0\n",
    "settings = getSettingsLOCAL(minRMSD = 1.5)\n",
    "for npz_id, npz in enumerate(out):\n",
    "\n",
    "    s = str(npz['smiles'])\n",
    "    y = float(npz['graph_labels']) #!\n",
    "\n",
    "    s = preprocess_smile(s)\n",
    "\n",
    "    conformers = generate_conformers(s, settings)\n",
    "\n",
    "    n_confs.append(len(conformers))\n",
    "    tot+=len(conformers)\n",
    "\n",
    "    if not conformers:\n",
    "        shutil.copy(npz.zip.filename, save_dir / Path(npz.zip.filename).name)\n",
    "        continue\n",
    "\n",
    "    pyg_mol_fixed_fields = mols2pyg_list_with_targets([conformers[0]], [s], [y])[0]\n",
    "\n",
    "    batched_pos = []\n",
    "    for mol in conformers: #! here eventually write how many confs to keep for given mol\n",
    "        pos = []\n",
    "        conf = mol.GetConformer()\n",
    "        for i, atom in enumerate(mol.GetAtoms()):\n",
    "            positions = conf.GetAtomPosition(i)\n",
    "            pos.append((positions.x, positions.y, positions.z))\n",
    "        pos = torch.tensor(pos, dtype=torch.float32)\n",
    "        batched_pos.append(pos)\n",
    "\n",
    "    batched_pos = torch.stack(batched_pos)\n",
    "    pyg_mol_fixed_fields.pos = batched_pos\n",
    "\n",
    "    save_pyg_as_npz(pyg_mol_fixed_fields, f'{save_dir}/mol_{npz_id}')\n",
    "\n",
    "np.bincount(n_confs),tot"
   ]
  },
  {
   "cell_type": "code",
   "execution_count": null,
   "metadata": {},
   "outputs": [],
   "source": [
    "# settings = getSettings(2.0)\n",
    "# (array([  0, 449,  50,   6,   2,   2,   1,   1,   2]), 614)\n",
    "\n",
    "# rmsd 1.5, max 10 confs\n",
    "# (array([ 36,  37,  52,  22,  70,  34,  27,  36,  40,  37, 819]), 9914)\n",
    "\n"
   ]
  }
 ],
 "metadata": {
  "kernelspec": {
   "display_name": "rdkit_pyg_geqm9_clone",
   "language": "python",
   "name": "python3"
  },
  "language_info": {
   "codemirror_mode": {
    "name": "ipython",
    "version": 3
   },
   "file_extension": ".py",
   "mimetype": "text/x-python",
   "name": "python",
   "nbconvert_exporter": "python",
   "pygments_lexer": "ipython3",
   "version": "3.10.14"
  }
 },
 "nbformat": 4,
 "nbformat_minor": 2
}
