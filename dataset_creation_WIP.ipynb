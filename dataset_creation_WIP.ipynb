{
 "cells": [
  {
   "cell_type": "code",
   "execution_count": 28,
   "metadata": {},
   "outputs": [],
   "source": [
    "%load_ext autoreload\n",
    "%autoreload 2"
   ]
  },
  {
   "cell_type": "markdown",
   "metadata": {},
   "source": [
    "# QM9"
   ]
  },
  {
   "cell_type": "code",
   "execution_count": null,
   "metadata": {},
   "outputs": [],
   "source": [
    "import torch\n",
    "from rdkit import Chem as rdChem\n",
    "from tqdm import tqdm\n",
    "from source.utils.mol_utils import preprocess_mol\n",
    "from source.utils.mol2pyg import mol2pyg\n",
    "from source.utils.npz_utils import save_npz, save_pyg_as_npz\n",
    "import numpy as np\n",
    "\n",
    "sdf = '/home/nobilm@usi.ch/pretrain_paper/data/qm9/raw/gdb9.sdf'\n",
    "csv = '/home/nobilm@usi.ch/pretrain_paper/data/qm9/raw/gdb9.sdf.csv'\n",
    "to_be_skip = '/home/nobilm@usi.ch/pretrain_paper/data/qm9/raw/uncharacterized.txt'\n",
    "\n",
    "HAR2EV = 27.211386246\n",
    "KCALMOL2EV = 0.04336414\n",
    "conversion = torch.tensor([\n",
    "    1., 1., HAR2EV, HAR2EV, HAR2EV, 1., HAR2EV, HAR2EV, HAR2EV, HAR2EV, HAR2EV,\n",
    "    1., KCALMOL2EV, KCALMOL2EV, KCALMOL2EV, KCALMOL2EV, 1., 1., 1.\n",
    "])\n",
    "\n",
    "# TODO script to download things above\n",
    "# def download(self) -> None:\n",
    "#     try:\n",
    "#         import rdkit  # noqa\n",
    "#         file_path = download_url(self.raw_url, self.raw_dir)\n",
    "#         extract_zip(file_path, self.raw_dir)\n",
    "#         os.unlink(file_path)\n",
    "\n",
    "#         file_path = download_url(self.raw_url2, self.raw_dir)\n",
    "#         os.rename(osp.join(self.raw_dir, '3195404'),\n",
    "#                     osp.join(self.raw_dir, 'uncharacterized.txt'))\n",
    "#     except ImportError:\n",
    "#         path = download_url(self.processed_url, self.raw_dir)\n",
    "#         extract_zip(path, self.raw_dir)\n",
    "#         os.unlink(path)\n",
    "\n",
    "# TODO add check to make sure that save_folder exists\n",
    "def process(save_folder):\n",
    "\n",
    "    with open(csv) as f:\n",
    "        target = [[float(x) for x in line.split(',')[1:20]] for line in f.read().split('\\n')[1:-1]]\n",
    "        y = torch.tensor(target, dtype=torch.float)\n",
    "        y = torch.cat([y[:, 3:], y[:, :3]], dim=-1)\n",
    "        y = y * conversion.view(1, -1)\n",
    "\n",
    "    with open(to_be_skip) as f:\n",
    "        skip = [int(x.split()[0]) - 1 for x in f.read().split('\\n')[9:-2]]\n",
    "\n",
    "    suppl = rdChem.SDMolSupplier(sdf, removeHs=False, sanitize=False) # raw_paths[0]='/.../raw/gdb9.sdf'\n",
    "    for i, mol in enumerate(tqdm(suppl)):\n",
    "\n",
    "        if i in skip:\n",
    "            continue\n",
    "\n",
    "        mol = preprocess_mol(mol)\n",
    "\n",
    "        if mol is None:\n",
    "            continue\n",
    "\n",
    "        smiles = rdChem.MolToSmiles(mol, isomericSmiles=True)\n",
    "        data = mol2pyg(mol, smiles)\n",
    "        data.y = y[i].unsqueeze(0)\n",
    "        save_pyg_as_npz(data, f'{save_folder}/mol_{i}')"
   ]
  },
  {
   "cell_type": "code",
   "execution_count": 12,
   "metadata": {},
   "outputs": [],
   "source": [
    "# process('/storage_common/nobilm/pretrain_paper/guacamol/EXPERIMENTS/qm9ftTEST/all')"
   ]
  },
  {
   "cell_type": "markdown",
   "metadata": {},
   "source": [
    "# MoleculeNet"
   ]
  },
  {
   "cell_type": "code",
   "execution_count": 3,
   "metadata": {},
   "outputs": [],
   "source": [
    "# load + scaffold split\n",
    "from source.utils import parse_csv\n",
    "from source.utils.mol_utils import drop_disconnected_components, preprocess_mol, visualize_3d_mols\n",
    "from source.utils.mol2pyg import mols2pyg_list_with_targets\n",
    "from source.utils.npz_utils import save_npz\n",
    "from source.utils.conforge_conformer_generation import generate_conformers, get_conformer_generator\n",
    "from source.utils.data_splitting_utils import scaffold_splitter\n",
    "from collections import defaultdict"
   ]
  },
  {
   "cell_type": "code",
   "execution_count": null,
   "metadata": {},
   "outputs": [],
   "source": [
    "path = '/home/nobilm@usi.ch/pretrain_paper/data/moelculenet/freesolv.csv'\n",
    "out = parse_csv(path, [1,-1])\n",
    "out.keys()"
   ]
  },
  {
   "cell_type": "code",
   "execution_count": 5,
   "metadata": {},
   "outputs": [],
   "source": [
    "filtered = defaultdict(list)\n",
    "for s, y in zip(out['smiles'], out['calc']):\n",
    "    s = drop_disconnected_components(s)\n",
    "    mol = preprocess_mol(rdChem.MolFromSmiles(s))\n",
    "    if mol:\n",
    "        conformers = generate_conformers(s, get_conformer_generator(1))\n",
    "        if conformers:\n",
    "            filtered['smiles'].append(s)\n",
    "            filtered['mols'].append(conformers[0])\n",
    "            filtered['y'].append(y)"
   ]
  },
  {
   "cell_type": "code",
   "execution_count": 6,
   "metadata": {},
   "outputs": [],
   "source": [
    "# type(filtered['mols'][0]) #visualize_3d_mols([filtered['mols'][0]])"
   ]
  },
  {
   "cell_type": "code",
   "execution_count": 7,
   "metadata": {},
   "outputs": [],
   "source": [
    "pyg_mol_fixed_fields = mols2pyg_list_with_targets(mols=filtered['mols'], smiles=filtered['smiles'], ys=filtered['y'])"
   ]
  },
  {
   "cell_type": "code",
   "execution_count": 8,
   "metadata": {},
   "outputs": [],
   "source": [
    "from source.utils.data_splitting_utils import create_data_folders\n",
    "# all_dir, _, _, _ = create_data_folders(path)"
   ]
  },
  {
   "cell_type": "code",
   "execution_count": null,
   "metadata": {},
   "outputs": [],
   "source": [
    "path = '/storage_common/nobilm/pretrain_paper/guacamol/EXPERIMENTS/freesolv'\n",
    "save_npz(pyg_mol_fixed_fields, path)"
   ]
  },
  {
   "cell_type": "code",
   "execution_count": 12,
   "metadata": {},
   "outputs": [],
   "source": [
    "scaffold_splitter(path, 'tmp')"
   ]
  },
  {
   "cell_type": "code",
   "execution_count": null,
   "metadata": {},
   "outputs": [],
   "source": [
    "asd = np.load('/storage_common/nobilm/pretrain_paper/guacamol/EXPERIMENTS/freesolv/test/mol_77.npz')\n",
    "for k, v in asd.items():\n",
    "    print(k, v.shape)"
   ]
  },
  {
   "cell_type": "code",
   "execution_count": null,
   "metadata": {},
   "outputs": [],
   "source": [
    "asd['graph_labels']"
   ]
  },
  {
   "cell_type": "markdown",
   "metadata": {},
   "source": [
    "# Conformer Generation from train folder full of single mol npz"
   ]
  },
  {
   "cell_type": "code",
   "execution_count": 17,
   "metadata": {},
   "outputs": [],
   "source": [
    "path = '/storage_common/nobilm/pretrain_paper/guacamol/EXPERIMENTS/freesolv/train'"
   ]
  },
  {
   "cell_type": "code",
   "execution_count": null,
   "metadata": {},
   "outputs": [],
   "source": []
  }
 ],
 "metadata": {
  "kernelspec": {
   "display_name": "rdkit_pyg_geqm9_clone",
   "language": "python",
   "name": "python3"
  },
  "language_info": {
   "codemirror_mode": {
    "name": "ipython",
    "version": 3
   },
   "file_extension": ".py",
   "mimetype": "text/x-python",
   "name": "python",
   "nbconvert_exporter": "python",
   "pygments_lexer": "ipython3",
   "version": "3.10.14"
  }
 },
 "nbformat": 4,
 "nbformat_minor": 2
}
