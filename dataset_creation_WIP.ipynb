{
 "cells": [
  {
   "cell_type": "code",
   "execution_count": null,
   "metadata": {},
   "outputs": [],
   "source": [
    "%load_ext autoreload\n",
    "%autoreload 2"
   ]
  },
  {
   "cell_type": "code",
   "execution_count": 12,
   "metadata": {},
   "outputs": [],
   "source": [
    "import torch\n",
    "from rdkit import Chem as rdChem\n",
    "from tqdm import tqdm\n",
    "from source.utils.mol_utils import preprocess_mol\n",
    "from source.utils.mol2pyg import mol2pyg\n",
    "import numpy as np\n",
    "from source.utils.npz_utils import save_npz, save_pyg_as_npz\n",
    "from source.utils.code_utils import print_obj_API"
   ]
  },
  {
   "cell_type": "markdown",
   "metadata": {},
   "source": [
    "# QM9"
   ]
  },
  {
   "cell_type": "code",
   "execution_count": null,
   "metadata": {},
   "outputs": [],
   "source": [
    "sdf = '/home/nobilm@usi.ch/pretrain_paper/data/qm9/raw/gdb9.sdf'\n",
    "csv = '/home/nobilm@usi.ch/pretrain_paper/data/qm9/raw/gdb9.sdf.csv'\n",
    "to_be_skip = '/home/nobilm@usi.ch/pretrain_paper/data/qm9/raw/uncharacterized.txt'\n",
    "\n",
    "HAR2EV = 27.211386246\n",
    "KCALMOL2EV = 0.04336414\n",
    "conversion = torch.tensor([\n",
    "    1., 1., HAR2EV, HAR2EV, HAR2EV, 1., HAR2EV, HAR2EV, HAR2EV, HAR2EV, HAR2EV,\n",
    "    1., KCALMOL2EV, KCALMOL2EV, KCALMOL2EV, KCALMOL2EV, 1., 1., 1.\n",
    "])\n",
    "\n",
    "# TODO script to download things above\n",
    "# def download(self) -> None:\n",
    "#     try:\n",
    "#         import rdkit  # noqa\n",
    "#         file_path = download_url(self.raw_url, self.raw_dir)\n",
    "#         extract_zip(file_path, self.raw_dir)\n",
    "#         os.unlink(file_path)\n",
    "\n",
    "#         file_path = download_url(self.raw_url2, self.raw_dir)\n",
    "#         os.rename(osp.join(self.raw_dir, '3195404'),\n",
    "#                     osp.join(self.raw_dir, 'uncharacterized.txt'))\n",
    "#     except ImportError:\n",
    "#         path = download_url(self.processed_url, self.raw_dir)\n",
    "#         extract_zip(path, self.raw_dir)\n",
    "#         os.unlink(path)\n",
    "\n",
    "# TODO add check to make sure that save_folder exists\n",
    "def process(save_folder):\n",
    "\n",
    "    with open(csv) as f:\n",
    "        target = [[float(x) for x in line.split(',')[1:20]] for line in f.read().split('\\n')[1:-1]]\n",
    "        y = torch.tensor(target, dtype=torch.float)\n",
    "        y = torch.cat([y[:, 3:], y[:, :3]], dim=-1)\n",
    "        y = y * conversion.view(1, -1)\n",
    "\n",
    "    with open(to_be_skip) as f:\n",
    "        skip = [int(x.split()[0]) - 1 for x in f.read().split('\\n')[9:-2]]\n",
    "\n",
    "    suppl = rdChem.SDMolSupplier(sdf, removeHs=False, sanitize=False) # raw_paths[0]='/.../raw/gdb9.sdf'\n",
    "    for i, mol in enumerate(tqdm(suppl)):\n",
    "\n",
    "        if i in skip:\n",
    "            continue\n",
    "\n",
    "        mol = preprocess_mol(mol)\n",
    "\n",
    "        if mol is None:\n",
    "            continue\n",
    "\n",
    "        smiles = rdChem.MolToSmiles(mol, isomericSmiles=True)\n",
    "        data = mol2pyg(mol, smiles)\n",
    "        data.y = y[i].unsqueeze(0)\n",
    "        save_pyg_as_npz(data, f'{save_folder}/mol_{i}')"
   ]
  },
  {
   "cell_type": "code",
   "execution_count": null,
   "metadata": {},
   "outputs": [],
   "source": [
    "# process('/storage_common/nobilm/pretrain_paper/guacamol/EXPERIMENTS/qm9ftTEST/all')"
   ]
  },
  {
   "cell_type": "markdown",
   "metadata": {},
   "source": [
    "# MoleculeNet"
   ]
  },
  {
   "cell_type": "code",
   "execution_count": 1,
   "metadata": {},
   "outputs": [
    {
     "name": "stderr",
     "output_type": "stream",
     "text": [
      "No normalization for SPS. Feature removed!\n",
      "No normalization for AvgIpc. Feature removed!\n",
      "Skipped loading some Tensorflow models, missing a dependency. No module named 'tensorflow'\n",
      "Skipped loading modules with pytorch-geometric dependency, missing a dependency. No module named 'dgl'\n",
      "Skipped loading modules with transformers dependency. No module named 'transformers'\n",
      "cannot import name 'HuggingFaceModel' from 'deepchem.models.torch_models' (/home/nobilm@usi.ch/miniconda3/envs/rdkit_pyg_geqm9_clone/lib/python3.10/site-packages/deepchem/models/torch_models/__init__.py)\n",
      "Skipped loading modules with pytorch-lightning dependency, missing a dependency. No module named 'lightning'\n",
      "Skipped loading some Jax models, missing a dependency. No module named 'jax'\n",
      "Skipped loading some PyTorch models, missing a dependency. No module named 'tensorflow'\n"
     ]
    },
    {
     "ename": "ImportError",
     "evalue": "cannot import name 'get_conformer_generator' from 'source.utils.conforge_conformer_generation' (/home/nobilm@usi.ch/pretrain_paper/source/utils/conforge_conformer_generation.py)",
     "output_type": "error",
     "traceback": [
      "\u001b[0;31m---------------------------------------------------------------------------\u001b[0m",
      "\u001b[0;31mImportError\u001b[0m                               Traceback (most recent call last)",
      "Cell \u001b[0;32mIn[1], line 6\u001b[0m\n\u001b[1;32m      4\u001b[0m \u001b[38;5;28;01mfrom\u001b[39;00m \u001b[38;5;21;01msource\u001b[39;00m\u001b[38;5;21;01m.\u001b[39;00m\u001b[38;5;21;01mutils\u001b[39;00m\u001b[38;5;21;01m.\u001b[39;00m\u001b[38;5;21;01mmol2pyg\u001b[39;00m \u001b[38;5;28;01mimport\u001b[39;00m mols2pyg_list_with_targets\n\u001b[1;32m      5\u001b[0m \u001b[38;5;28;01mfrom\u001b[39;00m \u001b[38;5;21;01msource\u001b[39;00m\u001b[38;5;21;01m.\u001b[39;00m\u001b[38;5;21;01mutils\u001b[39;00m\u001b[38;5;21;01m.\u001b[39;00m\u001b[38;5;21;01mnpz_utils\u001b[39;00m \u001b[38;5;28;01mimport\u001b[39;00m save_npz\n\u001b[0;32m----> 6\u001b[0m \u001b[38;5;28;01mfrom\u001b[39;00m \u001b[38;5;21;01msource\u001b[39;00m\u001b[38;5;21;01m.\u001b[39;00m\u001b[38;5;21;01mutils\u001b[39;00m\u001b[38;5;21;01m.\u001b[39;00m\u001b[38;5;21;01mconforge_conformer_generation\u001b[39;00m \u001b[38;5;28;01mimport\u001b[39;00m generate_conformers, get_conformer_generator\n\u001b[1;32m      7\u001b[0m \u001b[38;5;28;01mfrom\u001b[39;00m \u001b[38;5;21;01msource\u001b[39;00m\u001b[38;5;21;01m.\u001b[39;00m\u001b[38;5;21;01mutils\u001b[39;00m\u001b[38;5;21;01m.\u001b[39;00m\u001b[38;5;21;01mdata_splitting_utils\u001b[39;00m \u001b[38;5;28;01mimport\u001b[39;00m scaffold_splitter\n\u001b[1;32m      8\u001b[0m \u001b[38;5;28;01mfrom\u001b[39;00m \u001b[38;5;21;01mcollections\u001b[39;00m \u001b[38;5;28;01mimport\u001b[39;00m defaultdict\n",
      "\u001b[0;31mImportError\u001b[0m: cannot import name 'get_conformer_generator' from 'source.utils.conforge_conformer_generation' (/home/nobilm@usi.ch/pretrain_paper/source/utils/conforge_conformer_generation.py)"
     ]
    }
   ],
   "source": [
    "# load + scaffold split\n",
    "from source.utils import parse_csv\n",
    "from source.utils.mol_utils import drop_disconnected_components, preprocess_mol, visualize_3d_mols\n",
    "from source.utils.mol2pyg import mols2pyg_list_with_targets\n",
    "from source.utils.npz_utils import save_npz\n",
    "from source.utils.conforge_conformer_generation import generate_conformers, get_conformer_generator\n",
    "from source.utils.data_splitting_utils import scaffold_splitter\n",
    "from collections import defaultdict"
   ]
  },
  {
   "cell_type": "markdown",
   "metadata": {},
   "source": [
    "# freesolv"
   ]
  },
  {
   "cell_type": "code",
   "execution_count": null,
   "metadata": {},
   "outputs": [],
   "source": [
    "path = '/home/nobilm@usi.ch/pretrain_paper/data/moelculenet/freesolv.csv'\n",
    "out = parse_csv(path, [1,-1])\n",
    "out.keys()\n",
    "smiles = out['smiles']\n",
    "ys = out['calc']"
   ]
  },
  {
   "cell_type": "code",
   "execution_count": null,
   "metadata": {},
   "outputs": [],
   "source": [
    "filtered = defaultdict(list)\n",
    "for s, y in zip(smiles, ys):\n",
    "    s = drop_disconnected_components(s)\n",
    "    mol = preprocess_mol(rdChem.MolFromSmiles(s))\n",
    "    if mol:\n",
    "        conformers = generate_conformers(s, get_conformer_generator(1))\n",
    "        if conformers:\n",
    "            filtered['smiles'].append(s)\n",
    "            filtered['mols'].append(conformers[0])\n",
    "            filtered['y'].append(y)"
   ]
  },
  {
   "cell_type": "code",
   "execution_count": null,
   "metadata": {},
   "outputs": [],
   "source": [
    "pyg_mol_fixed_fields = mols2pyg_list_with_targets(mols=filtered['mols'], smiles=filtered['smiles'], ys=filtered['y'])\n",
    "path = '/storage_common/nobilm/pretrain_paper/guacamol/EXPERIMENTS/freesolv'\n",
    "save_npz(pyg_mol_fixed_fields, path)\n",
    "scaffold_splitter(path, 'tmp')"
   ]
  },
  {
   "cell_type": "markdown",
   "metadata": {},
   "source": [
    "# test dsets conf"
   ]
  },
  {
   "cell_type": "code",
   "execution_count": 1,
   "metadata": {},
   "outputs": [
    {
     "name": "stderr",
     "output_type": "stream",
     "text": [
      "No normalization for SPS. Feature removed!\n",
      "No normalization for AvgIpc. Feature removed!\n",
      "Skipped loading some Tensorflow models, missing a dependency. No module named 'tensorflow'\n",
      "Skipped loading modules with pytorch-geometric dependency, missing a dependency. No module named 'dgl'\n",
      "Skipped loading modules with transformers dependency. No module named 'transformers'\n",
      "cannot import name 'HuggingFaceModel' from 'deepchem.models.torch_models' (/home/nobilm@usi.ch/miniconda3/envs/rdkit_pyg_geqm9_clone/lib/python3.10/site-packages/deepchem/models/torch_models/__init__.py)\n",
      "Skipped loading modules with pytorch-lightning dependency, missing a dependency. No module named 'lightning'\n",
      "Skipped loading some Jax models, missing a dependency. No module named 'jax'\n",
      "Skipped loading some PyTorch models, missing a dependency. No module named 'tensorflow'\n"
     ]
    }
   ],
   "source": [
    "from source.utils.npz_utils import get_field_from_npzs\n",
    "from source.utils.file_handling_utils import ls\n",
    "\n",
    "out = get_field_from_npzs('/storage_common/nobilm/pretrain_paper/guacamol/EXPERIMENTS/bace/val')"
   ]
  }
 ],
 "metadata": {
  "kernelspec": {
   "display_name": "rdkit_pyg_geqm9_clone",
   "language": "python",
   "name": "python3"
  },
  "language_info": {
   "codemirror_mode": {
    "name": "ipython",
    "version": 3
   },
   "file_extension": ".py",
   "mimetype": "text/x-python",
   "name": "python",
   "nbconvert_exporter": "python",
   "pygments_lexer": "ipython3",
   "version": "3.10.14"
  }
 },
 "nbformat": 4,
 "nbformat_minor": 2
}
