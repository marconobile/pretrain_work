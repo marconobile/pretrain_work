{
 "cells": [
  {
   "cell_type": "markdown",
   "metadata": {},
   "source": [
    "# TODO:\n",
    "- write data\n",
    "- add homo/lumo to pretrain\n",
    "- check number_radical_e\n",
    "- PRETRAIN: USE SCAFFOLD SPLIT ON PCMM4 TO SELECT ETEROGENEOUS DATA 500K SHOULD BE A REASONABLE TEST AMMOUNT"
   ]
  },
  {
   "cell_type": "markdown",
   "metadata": {},
   "source": [
    "## Notes from https://ogb.stanford.edu/docs/lsc/pcqm4mv2/\n",
    "\n",
    "3D Graph: We  provide equilibrium 3D graph structure for training molecules in the form of the SDF format. \n",
    "The compressed SDF can be downloaded with the code below (1.5GB). \n",
    "The single SDF contains 3D information of all the 3,378,606 training molecules. \n",
    "First download and decompress the file as follows.\n",
    "```\n",
    "wget http://ogb-data.stanford.edu/data/lsc/pcqm4m-v2-train.sdf.tar.gz\n",
    "md5sum pcqm4m-v2-train.sdf.tar.gz # fd72bce606e7ddf36c2a832badeec6ab\n",
    "tar -xf pcqm4m-v2-train.sdf.tar.gz # extracted pcqm4m-v2-train.sdf\n",
    "```\n",
    "Then, use rdkit to extract molecule information as follows.\n",
    "\n",
    "    from rdkit import Chem\n",
    "    suppl = Chem.SDMolSupplier('pcqm4m-v2-train.sdf')\n",
    "    for idx, mol in enumerate(suppl):\n",
    "        print(f'{idx}-th rdkit mol obj: {mol}')\n",
    "\n",
    "\n",
    "- These structures are calculated by DFT. (cit from tgt: \"DFT coordinates extracted from the SDF file provided by OGB\")\n",
    "\n",
    "- Note that 3D information is not provided for validation and test molecules, and test-time inference needs to be performed without explicit 3D information. Known issue: A very small number of training molecules (around 46 out of 3,378,606) have 2D graph structures that are inconsistent with the ones calculated from SMILES. These molecules often involve Si atom(s).\n",
    "\n",
    "- Prediction task and evaluation metric: The task is graph regression: predicting the HOMO-LUMO energy gap in electronvolt (eV) given 2D molecular graphs. Mean Absolute Error (MAE) is used as evaluation metric. HOMO-LUMO gap was calculated by DFT based on the final 3D structures"
   ]
  },
  {
   "cell_type": "code",
   "execution_count": 5,
   "metadata": {},
   "outputs": [],
   "source": [
    "%load_ext autoreload\n",
    "%autoreload 2"
   ]
  },
  {
   "cell_type": "code",
   "execution_count": 1,
   "metadata": {},
   "outputs": [],
   "source": [
    "# wget http://ogb-data.stanford.edu/data/lsc/pcqm4m-v2-train.sdf.tar.gz -P /storage_common/nobilm/pretrain_paper/PCQM4Mv2Dataset/from_wget # 2025-03-17 14:50:51 (14.1 MB/s) - ‘/storage_common/nobilm/pretrain_paper/PCQM4Mv2Dataset/from_wget/pcqm4m-v2-train.sdf.tar.gz’ saved [1559712928/1559712928]\n",
    "# md5sum /storage_common/nobilm/pretrain_paper/PCQM4Mv2Dataset/from_wget/pcqm4m-v2-train.sdf.tar.gz # fd72bce606e7ddf36c2a832badeec6ab  Check against this <-\n",
    "# tar -xf /storage_common/nobilm/pretrain_paper/PCQM4Mv2Dataset/from_wget/pcqm4m-v2-train.sdf.tar.gz # extracts pcqm4m-v2-train.sdf\n",
    "# 'fd72bce606e7ddf36c2a832badeec6ab' ==  'fd72bce606e7ddf36c2a832badeec6ab'"
   ]
  },
  {
   "cell_type": "code",
   "execution_count": 2,
   "metadata": {},
   "outputs": [
    {
     "data": {
      "text/plain": [
       "3378606"
      ]
     },
     "execution_count": 2,
     "metadata": {},
     "output_type": "execute_result"
    }
   ],
   "source": [
    "from rdkit import Chem as rdChem\n",
    "suppl = rdChem.SDMolSupplier('/storage_common/nobilm/pretrain_paper/PCQM4Mv2Dataset/from_wget/pcqm4m-v2-train.sdf')\n",
    "len(suppl)"
   ]
  },
  {
   "cell_type": "code",
   "execution_count": 3,
   "metadata": {},
   "outputs": [
    {
     "name": "stdout",
     "output_type": "stream",
     "text": [
      "14\n"
     ]
    },
    {
     "data": {
      "text/plain": [
       "473004"
      ]
     },
     "execution_count": 3,
     "metadata": {},
     "output_type": "execute_result"
    }
   ],
   "source": [
    "# 500k:len(suppl) = x :100\n",
    "perc = int(500000*100/len(suppl))\n",
    "print(perc) # perc to be used for split\n",
    "testing_data = int(perc*len(suppl)/100)\n",
    "testing_data"
   ]
  },
  {
   "cell_type": "code",
   "execution_count": 4,
   "metadata": {},
   "outputs": [
    {
     "name": "stdout",
     "output_type": "stream",
     "text": [
      "0-th rdkit mol obj: <rdkit.Chem.rdchem.Mol object at 0x7fd18d0c5230>\n",
      "1-th rdkit mol obj: <rdkit.Chem.rdchem.Mol object at 0x7fd18d0c52a0>\n",
      "2-th rdkit mol obj: <rdkit.Chem.rdchem.Mol object at 0x7fd18d0c5310>\n",
      "3-th rdkit mol obj: <rdkit.Chem.rdchem.Mol object at 0x7fd18d0c5380>\n",
      "4-th rdkit mol obj: <rdkit.Chem.rdchem.Mol object at 0x7fd18d0c53f0>\n",
      "5-th rdkit mol obj: <rdkit.Chem.rdchem.Mol object at 0x7fd18d0c5460>\n",
      "6-th rdkit mol obj: <rdkit.Chem.rdchem.Mol object at 0x7fd18d0c54d0>\n",
      "7-th rdkit mol obj: <rdkit.Chem.rdchem.Mol object at 0x7fd18d0c5540>\n",
      "8-th rdkit mol obj: <rdkit.Chem.rdchem.Mol object at 0x7fd18d0c55b0>\n",
      "9-th rdkit mol obj: <rdkit.Chem.rdchem.Mol object at 0x7fd18d0c5620>\n",
      "10-th rdkit mol obj: <rdkit.Chem.rdchem.Mol object at 0x7fd18d0c5690>\n"
     ]
    },
    {
     "name": "stderr",
     "output_type": "stream",
     "text": [
      "No normalization for SPS. Feature removed!\n",
      "No normalization for AvgIpc. Feature removed!\n",
      "No normalization for NumAmideBonds. Feature removed!\n",
      "No normalization for NumAtomStereoCenters. Feature removed!\n",
      "No normalization for NumBridgeheadAtoms. Feature removed!\n",
      "No normalization for NumHeterocycles. Feature removed!\n",
      "No normalization for NumSpiroAtoms. Feature removed!\n",
      "No normalization for NumUnspecifiedAtomStereoCenters. Feature removed!\n",
      "No normalization for Phi. Feature removed!\n",
      "Skipped loading some Tensorflow models, missing a dependency. No module named 'tensorflow'\n",
      "Skipped loading modules with pytorch-geometric dependency, missing a dependency. No module named 'torchdata'\n",
      "Skipped loading modules with pytorch-lightning dependency, missing a dependency. No module named 'lightning'\n",
      "Skipped loading some Jax models, missing a dependency. No module named 'jax'\n",
      "Skipped loading some PyTorch models, missing a dependency. No module named 'tensorflow'\n"
     ]
    },
    {
     "data": {
      "application/3dmoljs_load.v0": "<div id=\"3dmolviewer_17422866078324378\"  style=\"position: relative; width: 2000px; height: 400px;\">\n        <p id=\"3dmolwarning_17422866078324378\" style=\"background-color:#ffcccc;color:black\">3Dmol.js failed to load for some reason.  Please check your browser console for error messages.<br></p>\n        </div>\n<script>\n\nvar loadScriptAsync = function(uri){\n  return new Promise((resolve, reject) => {\n    //this is to ignore the existence of requirejs amd\n    var savedexports, savedmodule;\n    if (typeof exports !== 'undefined') savedexports = exports;\n    else exports = {}\n    if (typeof module !== 'undefined') savedmodule = module;\n    else module = {}\n\n    var tag = document.createElement('script');\n    tag.src = uri;\n    tag.async = true;\n    tag.onload = () => {\n        exports = savedexports;\n        module = savedmodule;\n        resolve();\n    };\n  var firstScriptTag = document.getElementsByTagName('script')[0];\n  firstScriptTag.parentNode.insertBefore(tag, firstScriptTag);\n});\n};\n\nif(typeof $3Dmolpromise === 'undefined') {\n$3Dmolpromise = null;\n  $3Dmolpromise = loadScriptAsync('https://cdnjs.cloudflare.com/ajax/libs/3Dmol/2.4.0/3Dmol-min.js');\n}\n\nvar viewer_17422866078324378 = null;\nvar warn = document.getElementById(\"3dmolwarning_17422866078324378\");\nif(warn) {\n    warn.parentNode.removeChild(warn);\n}\n$3Dmolpromise.then(function() {\nvar viewergrid_17422866078324378 = null;\nviewergrid_17422866078324378 = $3Dmol.createViewerGrid(document.getElementById(\"3dmolviewer_17422866078324378\"),{rows: 2, cols: 5, control_all: true},{backgroundColor:\"white\"});\nviewer_17422866078324378 = viewergrid_17422866078324378[0][0];\nviewergrid_17422866078324378[0][0].zoomTo();viewergrid_17422866078324378[0][1].zoomTo();viewergrid_17422866078324378[0][2].zoomTo();viewergrid_17422866078324378[0][3].zoomTo();viewergrid_17422866078324378[0][4].zoomTo();viewergrid_17422866078324378[1][0].zoomTo();viewergrid_17422866078324378[1][1].zoomTo();viewergrid_17422866078324378[1][2].zoomTo();viewergrid_17422866078324378[1][3].zoomTo();viewergrid_17422866078324378[1][4].zoomTo();\tviewergrid_17422866078324378[0][0].removeAllModels();\n\tviewergrid_17422866078324378[0][0].addModel(\"/Volumes/PubChemQCDataBaseWork/pubchemqc2017database/xyz/00000000_00009999/0.xyz\\n     RDKit          3D\\n\\n 18 20  0  0  1  0  0  0  0  0999 V2000\\n    4.9919   -5.2514    4.0126 C   0  0  0  0  0  0  0  0  0  0  0  0\\n    6.1051   -3.0257    3.5200 C   0  0  0  0  0  0  0  0  0  0  0  0\\n    4.5521   -3.9001    1.9140 C   0  0  0  0  0  0  0  0  0  0  0  0\\n    6.3372   -1.9217    2.7029 C   0  0  0  0  0  0  0  0  0  0  0  0\\n    4.7751   -2.7953    1.0929 C   0  0  0  0  0  0  0  0  0  0  0  0\\n    2.8586    1.2252   -1.7853 C   0  0  0  0  0  0  0  0  0  0  0  0\\n    2.8118    0.8707   -3.0956 C   0  0  0  0  0  0  0  0  0  0  0  0\\n    5.7890   -0.8350   -0.8455 C   0  0  0  0  0  3  0  0  0  0  0  0\\n    4.6658   -0.4760   -3.0127 C   0  0  0  0  0  0  0  0  0  0  0  0\\n    5.2150   -4.0391    3.1392 C   0  0  0  0  0  0  0  0  0  0  0  0\\n    5.6770   -1.7955    1.4745 C   0  0  0  0  0  0  0  0  0  0  0  0\\n    4.8499   -0.2104   -1.5946 C   0  0  0  0  0  0  0  0  0  0  0  0\\n    5.9121   -0.5519    0.6130 C   0  0  2  0  0  0  0  0  0  0  0  0\\n    3.9134    0.7241   -0.9340 C   0  0  0  0  0  0  0  0  0  0  0  0\\n    5.0405    0.6404    1.1008 C   0  0  0  0  0  0  0  0  0  0  0  0\\n    3.7160    0.0207   -3.7371 N   0  0  0  0  0  0  0  0  0  0  0  0\\n    3.9796    1.1019    0.3172 N   0  0  0  0  0  2  0  0  0  0  0  0\\n    5.2985    1.1457    2.1772 O   0  0  0  0  0  0  0  0  0  0  0  0\\n  3 10  2  0\\n  4  2  2  0\\n  5 11  2  0\\n  5  3  1  0\\n  6 14  2  0\\n  7  6  1  0\\n  8 13  1  0\\n  9 12  2  0\\n 10  2  1  0\\n 10  1  1  0\\n 11  4  1  0\\n 12 14  1  0\\n 12  8  1  0\\n 13 15  1  0\\n 13 11  1  1\\n 14 17  1  0\\n 15 18  2  0\\n 16  7  2  0\\n 16  9  1  0\\n 17 15  1  0\\nM  RAD  2   8   2  17   2\\nM  END\\n\",\"sdf\");\n\tviewergrid_17422866078324378[0][0].setStyle({\"stick\": {}});\n\tviewergrid_17422866078324378[0][1].removeAllModels();\n\tviewergrid_17422866078324378[0][1].addModel(\"/Volumes/PubChemQCDataBaseWork/pubchemqc2017database/xyz/00000000_00009999/1.xyz\\n     RDKit          3D\\n\\n 17 17  0  0  0  0  0  0  0  0999 V2000\\n    7.0068    1.8970    3.2727 C   0  0  0  0  0  0  0  0  0  0  0  0\\n    4.4650   -0.2257    1.3353 C   0  0  0  0  0  0  0  0  0  0  0  0\\n    0.4432    2.1011    9.5057 C   0  0  0  0  0  0  0  0  0  0  0  0\\n    0.3366   -2.5350    5.1551 C   0  0  0  0  0  0  0  0  0  0  0  0\\n    2.6396    1.6000    5.9257 C   0  0  0  0  0  0  0  0  0  0  0  0\\n    1.9474    1.8190    7.1190 C   0  0  0  0  0  0  0  0  0  0  0  0\\n    3.1830    0.2123    3.8873 C   0  0  0  0  0  0  0  0  0  0  0  0\\n    4.3870    0.7439    3.5935 C   0  0  0  0  0  0  0  0  0  0  0  0\\n    0.7754   -0.2729    6.7631 C   0  0  0  0  0  0  0  0  0  0  0  0\\n    6.3568    1.0842    2.1622 C   0  0  0  0  0  0  0  0  0  0  0  0\\n    2.4537    0.4611    5.1348 C   0  0  0  0  0  0  0  0  0  0  0  0\\n    1.0098    0.8730    7.5380 C   0  0  0  0  0  0  0  0  0  0  0  0\\n    1.4835   -0.4763    5.5827 C   0  0  0  0  0  0  0  0  0  0  0  0\\n    5.0856    0.5626    2.3959 N   0  0  0  0  0  0  0  0  0  0  0  0\\n    6.9369    0.8984    1.1006 O   0  0  0  0  0  0  0  0  0  0  0  0\\n    0.2593    0.9658    8.6759 O   0  0  0  0  0  0  0  0  0  0  0  0\\n    1.3108   -1.5731    4.7848 O   0  0  0  0  0  0  0  0  0  0  0  0\\n  2 14  1  0\\n  5  6  2  0\\n  6 12  1  0\\n  7 11  1  0\\n  8  7  2  0\\n  9 12  2  0\\n 10 14  1  0\\n 10  1  1  0\\n 11 13  2  0\\n 11  5  1  0\\n 12 16  1  0\\n 13  9  1  0\\n 14  8  1  0\\n 15 10  2  0\\n 16  3  1  0\\n 17  4  1  0\\n 17 13  1  0\\nM  END\\n\",\"sdf\");\n\tviewergrid_17422866078324378[0][1].setStyle({\"stick\": {}});\n\tviewergrid_17422866078324378[0][2].removeAllModels();\n\tviewergrid_17422866078324378[0][2].addModel(\"/Volumes/PubChemQCDataBaseWork/pubchemqc2017database/xyz/00000000_00009999/2.xyz\\n     RDKit          3D\\n\\n 16 16  0  0  0  0  0  0  0  0999 V2000\\n    5.5212   -2.8688   -3.6095 C   0  0  0  0  0  0  0  0  0  0  0  0\\n    7.6182   -2.1495    0.2508 C   0  0  0  0  0  0  0  0  0  0  0  0\\n    1.2104    0.1511   -0.9250 C   0  0  0  0  0  0  0  0  0  0  0  0\\n    4.3388   -2.3123   -3.3477 C   0  0  0  0  0  0  0  0  0  0  0  0\\n    7.3853    0.4487    3.0347 C   0  0  0  0  0  0  0  0  0  0  0  0\\n    6.3255    1.2451    2.6020 C   0  0  0  0  0  0  0  0  0  0  0  0\\n    7.7894   -0.6353    2.2548 C   0  0  0  0  0  0  0  0  0  0  0  0\\n    5.6850    0.9485    1.4018 C   0  0  0  0  0  0  0  0  0  0  0  0\\n    5.3690   -0.4755   -0.6390 C   0  0  0  0  0  0  0  0  0  0  0  0\\n    4.0912   -0.8272   -3.2721 C   0  0  0  0  0  0  0  0  0  0  0  0\\n    4.0697   -0.1952   -0.8660 C   0  0  0  0  0  0  0  0  0  0  0  0\\n    7.1526   -0.9547    1.0515 C   0  0  0  0  0  0  0  0  0  0  0  0\\n    1.9835   -0.2888   -2.1584 C   0  0  0  0  0  0  0  0  0  0  0  0\\n    6.0662   -0.1542    0.6153 C   0  0  0  0  0  0  0  0  0  0  0  0\\n    3.3696   -0.4136   -2.0566 N   0  0  0  0  0  0  0  0  0  0  0  0\\n    1.4090   -0.5259   -3.2127 O   0  0  0  0  0  0  0  0  0  0  0  0\\n  1  4  2  0\\n  2 12  1  0\\n  4 10  1  0\\n  6  5  2  0\\n  7  5  1  0\\n  8  6  1  0\\n  9 14  1  0\\n 10 15  1  0\\n 11  9  2  0\\n 12  7  2  0\\n 13 15  1  0\\n 13  3  1  0\\n 14 12  1  0\\n 14  8  2  0\\n 15 11  1  0\\n 16 13  2  0\\nM  END\\n\",\"sdf\");\n\tviewergrid_17422866078324378[0][2].setStyle({\"stick\": {}});\n\tviewergrid_17422866078324378[0][3].removeAllModels();\n\tviewergrid_17422866078324378[0][3].addModel(\"/Volumes/PubChemQCDataBaseWork/pubchemqc2017database/xyz/00000000_00009999/3.xyz\\n     RDKit          3D\\n\\n 16 16  0  0  0  0  0  0  0  0999 V2000\\n    5.4898    1.9750   -3.9020 C   0  0  0  0  0  0  0  0  0  0  0  0\\n    1.3602    0.3920    0.0503 C   0  0  0  0  0  0  0  0  0  0  0  0\\n    4.3093    1.7822   -3.3149 C   0  0  0  0  0  0  0  0  0  0  0  0\\n    6.9338   -1.1738    2.6743 C   0  0  0  0  0  0  0  0  0  0  0  0\\n    8.2861   -0.8650    2.5032 C   0  0  0  0  0  0  0  0  0  0  0  0\\n    6.0178   -0.9052    1.6608 C   0  0  0  0  0  0  0  0  0  0  0  0\\n    8.7136   -0.2875    1.3076 C   0  0  0  0  0  0  0  0  0  0  0  0\\n    5.5037    0.0223   -0.6560 C   0  0  0  0  0  0  0  0  0  0  0  0\\n    3.7368    0.4303   -2.9728 C   0  0  0  0  0  0  0  0  0  0  0  0\\n    4.1604    0.0686   -0.5486 C   0  0  0  0  0  0  0  0  0  0  0  0\\n    1.8910    0.5151   -1.3701 C   0  0  0  0  0  0  0  0  0  0  0  0\\n    6.4088   -0.3052    0.4474 C   0  0  0  0  0  0  0  0  0  0  0  0\\n    7.7788   -0.0242    0.3174 C   0  0  0  0  0  0  0  0  0  0  0  0\\n    8.2146    0.5382   -0.8366 F   0  0  0  0  0  0  0  0  0  0  0  0\\n    3.2588    0.3282   -1.5827 N   0  0  0  0  0  0  0  0  0  0  0  0\\n    1.1412    0.7684   -2.3024 O   0  0  0  0  0  0  0  0  0  0  0  0\\n  1  3  2  0\\n  3  9  1  0\\n  5  4  2  0\\n  6  4  1  0\\n  7  5  1  0\\n  8 10  2  0\\n  8 12  1  0\\n  9 15  1  0\\n 11  2  1  0\\n 12  6  2  0\\n 13 12  1  0\\n 13  7  2  0\\n 14 13  1  0\\n 15 11  1  0\\n 15 10  1  0\\n 16 11  2  0\\nM  END\\n\",\"sdf\");\n\tviewergrid_17422866078324378[0][3].setStyle({\"stick\": {}});\n\tviewergrid_17422866078324378[0][4].removeAllModels();\n\tviewergrid_17422866078324378[0][4].addModel(\"/Volumes/PubChemQCDataBaseWork/pubchemqc2017database/xyz/00000000_00009999/4.xyz\\n     RDKit          3D\\n\\n 16 16  0  0  0  0  0  0  0  0999 V2000\\n    0.8271   -0.1777   -1.4924 C   0  0  0  0  0  0  0  0  0  0  0  0\\n    3.0165   -1.8039    2.7083 C   0  0  0  0  0  0  0  0  0  0  0  0\\n    1.4505   -0.3465   -0.3274 C   0  0  0  0  0  0  0  0  0  0  0  0\\n    7.1571    3.3707   -1.7824 C   0  0  0  0  0  0  0  0  0  0  0  0\\n    7.3083    3.3803   -3.1708 C   0  0  0  0  0  0  0  0  0  0  0  0\\n    6.2554    2.4982   -1.1848 C   0  0  0  0  0  0  0  0  0  0  0  0\\n    6.5488    2.5090   -3.9482 C   0  0  0  0  0  0  0  0  0  0  0  0\\n    4.5334    0.6611   -1.3058 C   0  0  0  0  0  0  0  0  0  0  0  0\\n    2.6492   -1.2429   -0.1242 C   0  0  0  0  0  0  0  0  0  0  0  0\\n    4.6049    0.2792   -0.0164 C   0  0  0  0  0  0  0  0  0  0  0  0\\n    3.9548   -0.8423    1.9948 C   0  0  0  0  0  0  0  0  0  0  0  0\\n    5.4798    1.5887   -1.9347 C   0  0  0  0  0  0  0  0  0  0  0  0\\n    5.6551    1.6343   -3.3330 C   0  0  0  0  0  0  0  0  0  0  0  0\\n    4.7423    0.5451   -4.3871 Cl  0  0  0  0  0  0  0  0  0  0  0  0\\n    3.7386   -0.6100    0.6303 N   0  0  0  0  0  0  0  0  0  0  0  0\\n    4.8671   -0.2947    2.5954 O   0  0  0  0  0  0  0  0  0  0  0  0\\n  1  3  2  0\\n  3  9  1  0\\n  4  6  2  0\\n  5  4  1  0\\n  7 13  1  0\\n  7  5  2  0\\n  8 10  2  0\\n  9 15  1  0\\n 10 15  1  0\\n 11 16  2  0\\n 11  2  1  0\\n 12  8  1  0\\n 12  6  1  0\\n 13 12  2  0\\n 14 13  1  0\\n 15 11  1  0\\nM  END\\n\",\"sdf\");\n\tviewergrid_17422866078324378[0][4].setStyle({\"stick\": {}});\n\tviewergrid_17422866078324378[1][0].removeAllModels();\n\tviewergrid_17422866078324378[1][0].addModel(\"/Volumes/PubChemQCDataBaseWork/pubchemqc2017database/xyz/00000000_00009999/5.xyz\\n     RDKit          3D\\n\\n 15 15  0  0  0  0  0  0  0  0999 V2000\\n   -1.9495    1.7548    0.9880 C   0  0  0  0  0  0  0  0  0  0  0  0\\n   -1.6578    0.2217   -2.3172 C   0  0  0  0  0  0  0  0  0  0  0  0\\n   -1.4044    2.3178   -0.3288 C   0  0  0  0  0  0  0  0  0  0  0  0\\n    5.0854    2.8684    1.1383 C   0  0  0  0  0  0  0  0  0  0  0  0\\n    5.2400    3.8770    2.0928 C   0  0  0  0  0  0  0  0  0  0  0  0\\n    3.8220    2.5453    0.6613 C   0  0  0  0  0  0  0  0  0  0  0  0\\n    4.1152    4.5511    2.5596 C   0  0  0  0  0  0  0  0  0  0  0  0\\n    1.3156    2.8732    0.6116 C   0  0  0  0  0  0  0  0  0  0  0  0\\n    1.0450    1.9255   -0.3086 C   0  0  0  0  0  0  0  0  0  0  0  0\\n   -0.2885    0.5673   -1.7550 C   0  0  0  0  0  0  0  0  0  0  0  0\\n    2.6547    3.2030    1.1079 C   0  0  0  0  0  0  0  0  0  0  0  0\\n    2.8531    4.2139    2.0726 C   0  0  0  0  0  0  0  0  0  0  0  0\\n    1.4816    5.1234    2.7256 Cl  0  0  0  0  0  0  0  0  0  0  0  0\\n   -0.2167    1.6082   -0.8198 N   0  0  0  0  0  0  0  0  0  0  0  0\\n    0.7109   -0.0361   -2.1169 O   0  0  0  0  0  0  0  0  0  0  0  0\\n  2 10  1  0\\n  3  1  1  0\\n  4  5  2  0\\n  5  7  1  0\\n  6 11  2  0\\n  6  4  1  0\\n  8 11  1  0\\n  9  8  2  0\\n 10 14  1  0\\n 11 12  1  0\\n 12  7  2  0\\n 12 13  1  0\\n 14  3  1  0\\n 14  9  1  0\\n 15 10  2  0\\nM  END\\n\",\"sdf\");\n\tviewergrid_17422866078324378[1][0].setStyle({\"stick\": {}});\n\tviewergrid_17422866078324378[1][1].removeAllModels();\n\tviewergrid_17422866078324378[1][1].addModel(\"/Volumes/PubChemQCDataBaseWork/pubchemqc2017database/xyz/00000000_00009999/6.xyz\\n     RDKit          3D\\n\\n 15 15  0  0  1  0  0  0  0  0999 V2000\\n   -0.3233   -2.6443    0.6970 C   0  0  0  0  0  0  0  0  0  0  0  0\\n   -2.7429    2.2366    5.4837 C   0  0  0  0  0  0  0  0  0  0  0  0\\n    1.1608    1.8340    2.0323 C   0  0  0  0  0  0  0  0  0  0  0  0\\n    1.3228    0.3177    2.1752 C   0  0  0  0  0  0  0  0  0  0  0  0\\n   -0.1505    2.3686    2.6110 C   0  0  2  0  0  0  0  0  0  0  0  0\\n    0.3773   -0.4731    1.2912 C   0  0  0  0  0  0  0  0  0  0  0  0\\n   -0.2223    3.9072    2.6778 C   0  0  2  0  0  0  0  0  0  0  0  0\\n    0.1104    4.1994    4.1602 C   0  0  2  0  0  0  0  0  0  0  0  0\\n   -0.5856    2.9983    4.8301 C   0  0  1  0  0  0  0  0  0  0  0  0\\n   -0.4063   -0.0046    0.4915 O   0  0  0  0  0  0  0  0  0  0  0  0\\n   -1.5087    4.4384    2.3655 O   0  0  0  0  0  0  0  0  0  0  0  0\\n   -0.2843    5.4719    4.5894 O   0  0  0  0  0  0  0  0  0  0  0  0\\n    0.5221   -1.8009    1.4970 O   0  0  0  0  0  0  0  0  0  0  0  0\\n   -1.9792    3.2653    4.8608 O   0  0  0  0  0  0  0  0  0  0  0  0\\n   -0.2712    1.9088    3.9942 O   0  0  0  0  0  0  0  0  0  0  0  0\\n  1 13  1  0\\n  3  4  1  0\\n  5  3  1  1\\n  5  7  1  0\\n  5 15  1  0\\n  6 13  1  0\\n  6  4  1  0\\n  7  8  1  0\\n  8 12  1  1\\n  8  9  1  0\\n  9 14  1  6\\n 10  6  2  0\\n  7 11  1  1\\n 14  2  1  0\\n 15  9  1  0\\nM  END\\n\",\"sdf\");\n\tviewergrid_17422866078324378[1][1].setStyle({\"stick\": {}});\n\tviewergrid_17422866078324378[1][2].removeAllModels();\n\tviewergrid_17422866078324378[1][2].addModel(\"/Volumes/PubChemQCDataBaseWork/pubchemqc2017database/xyz/00000000_00009999/7.xyz\\n     RDKit          3D\\n\\n 14 14  0  0  1  0  0  0  0  0999 V2000\\n    0.6793    0.0293    0.1039 C   0  0  0  0  0  0  0  0  0  0  0  0\\n    4.8872    4.0021   -1.8678 C   0  0  0  0  0  0  0  0  0  0  0  0\\n    2.1533   -1.7526    3.7518 C   0  0  0  0  0  0  0  0  0  0  0  0\\n    3.5111   -1.6758    4.0659 C   0  0  0  0  0  0  0  0  0  0  0  0\\n    1.6984   -1.1954    2.5634 C   0  0  0  0  0  0  0  0  0  0  0  0\\n    4.3507   -1.0353    3.1575 C   0  0  0  0  0  0  0  0  0  0  0  0\\n    2.1575    0.0451    0.4276 C   0  0  0  0  0  0  0  0  0  0  0  0\\n    2.6134   -0.5662    1.6918 C   0  0  0  0  0  0  0  0  0  0  0  0\\n    4.8621    1.6138   -1.2944 C   0  0  2  0  0  0  0  0  0  0  0  0\\n    4.6445    2.9821   -0.8485 N   0  0  0  0  0  0  0  0  0  0  0  0\\n    3.9294   -0.4989    2.0095 N   0  0  0  0  0  0  0  0  0  0  0  0\\n    2.9027    0.6220   -0.4733 N   0  0  0  0  0  0  0  0  0  0  0  0\\n    4.2381    0.6742   -0.3937 N   0  0  0  0  0  0  0  0  0  0  0  0\\n    6.6745    1.2530   -1.4292 S   0  0  0  0  0  0  0  0  0  0  0  0\\n  1  7  1  0\\n  2 10  1  0\\n  3  4  2  0\\n  5  3  1  0\\n  6  4  1  0\\n  7  8  1  0\\n  8 11  1  0\\n  8  5  2  0\\n  9 10  1  0\\n  9 13  1  0\\n 11  6  2  0\\n 12 13  1  0\\n 12  7  2  0\\n  9 14  1  1\\nM  END\\n\",\"sdf\");\n\tviewergrid_17422866078324378[1][2].setStyle({\"stick\": {}});\n\tviewergrid_17422866078324378[1][3].removeAllModels();\n\tviewergrid_17422866078324378[1][3].addModel(\"/Volumes/PubChemQCDataBaseWork/pubchemqc2017database/xyz/00000000_00009999/8.xyz\\n     RDKit          3D\\n\\n 13 13  0  0  1  0  0  0  0  0999 V2000\\n    1.4175    0.1420   -1.8737 C   0  0  0  0  0  0  0  0  0  0  0  0\\n    2.9297    4.0577   -0.8642 C   0  0  0  0  0  0  0  0  0  0  0  0\\n    4.1447    4.1820   -0.1890 C   0  0  0  0  0  0  0  0  0  0  0  0\\n    2.4734    2.7927   -1.2139 C   0  0  0  0  0  0  0  0  0  0  0  0\\n    4.8472    3.0145    0.1017 C   0  0  0  0  0  0  0  0  0  0  0  0\\n    2.7790    0.2980   -1.2309 C   0  0  0  0  0  0  0  0  0  0  0  0\\n    3.2458    1.6577   -0.8874 C   0  0  0  0  0  0  0  0  0  0  0  0\\n    5.0453   -2.2046   -0.0304 C   0  0  2  0  0  0  0  0  0  0  0  0\\n    4.8022   -3.2785   -0.9619 N   0  0  0  0  0  0  0  0  0  0  0  0\\n    4.4246    1.7930   -0.2334 N   0  0  0  0  0  0  0  0  0  0  0  0\\n    3.4174   -0.8193   -1.0338 N   0  0  0  0  0  0  0  0  0  0  0  0\\n    4.6641   -0.8796   -0.5384 N   0  0  0  0  0  0  0  0  0  0  0  0\\n    6.8058   -2.1066    0.5019 S   0  0  0  0  0  0  0  0  0  0  0  0\\n  1  6  1  0\\n  2  3  2  0\\n  3  5  1  0\\n  4  7  2  0\\n  4  2  1  0\\n  6 11  2  0\\n  6  7  1  0\\n  7 10  1  0\\n  8 13  1  0\\n  8  9  1  6\\n 10  5  2  0\\n 11 12  1  0\\n 12  8  1  0\\nM  END\\n\",\"sdf\");\n\tviewergrid_17422866078324378[1][3].setStyle({\"stick\": {}});\n\tviewergrid_17422866078324378[1][4].removeAllModels();\n\tviewergrid_17422866078324378[1][4].addModel(\"/Volumes/PubChemQCDataBaseWork/pubchemqc2017database/xyz/00000000_00009999/9.xyz\\n     RDKit          3D\\n\\n 15 16  0  0  1  0  0  0  0  0999 V2000\\n    0.8124    1.1192    0.2110 C   0  0  0  0  0  0  0  0  0  0  0  0\\n   -0.5239    1.2597    0.0598 C   0  0  0  0  0  0  0  0  0  0  0  0\\n    0.5557   -1.3545    0.0222 C   0  0  0  0  0  0  0  0  0  0  0  0\\n    1.4433   -0.2124    0.2642 C   0  0  0  0  0  0  0  0  0  0  0  0\\n   -1.4008    0.1045    0.0152 C   0  0  0  0  0  3  0  0  0  0  0  0\\n   -0.7895   -1.2143   -0.1355 C   0  0  0  0  0  0  0  0  0  0  0  0\\n   -2.7666    0.3424    0.1501 C   0  0  0  0  0  0  0  0  0  0  0  0\\n   -4.9697    0.2560    0.4096 C   0  0  0  0  0  0  0  0  0  0  0  0\\n   -1.6248   -2.3012   -0.4796 N   0  0  0  0  0  0  0  0  0  0  0  0\\n   -3.7065   -1.6264    1.3287 N   0  0  0  0  0  0  0  0  0  0  0  0\\n   -3.3225    1.5873   -0.1933 N   0  0  0  0  0  0  0  0  0  0  0  0\\n   -4.5951    1.5351   -0.0812 N   0  0  0  0  0  2  0  0  0  0  0  0\\n   -3.8047   -0.4721    0.5273 N   0  0  0  0  0  0  0  0  0  0  0  0\\n    2.6569   -0.3543    0.4315 O   0  0  0  0  0  0  0  0  0  0  0  0\\n   -6.4944   -0.2362    0.8084 S   0  0  0  0  0  0  0  0  0  0  0  0\\n  1  4  1  0\\n  2  1  2  0\\n  3  4  1  0\\n  4 14  2  0\\n  5  2  1  0\\n  5  7  1  0\\n  6  5  1  0\\n  6  3  2  0\\n  7 13  1  0\\n  8 13  1  0\\n  8 15  2  0\\n  9  6  1  0\\n 11 12  1  0\\n 11  7  2  0\\n 12  8  1  0\\n 13 10  1  0\\nM  RAD  2   5   2  12   2\\nM  END\\n\",\"sdf\");\n\tviewergrid_17422866078324378[1][4].setStyle({\"stick\": {}});\n\tviewergrid_17422866078324378[0][0].zoomTo();\n\tviewergrid_17422866078324378[0][1].zoomTo();\n\tviewergrid_17422866078324378[0][2].zoomTo();\n\tviewergrid_17422866078324378[0][3].zoomTo();\n\tviewergrid_17422866078324378[0][4].zoomTo();\n\tviewergrid_17422866078324378[1][0].zoomTo();\n\tviewergrid_17422866078324378[1][1].zoomTo();\n\tviewergrid_17422866078324378[1][2].zoomTo();\n\tviewergrid_17422866078324378[1][3].zoomTo();\n\tviewergrid_17422866078324378[1][4].zoomTo();\nviewergrid_17422866078324378[1][4].render();\nviewergrid_17422866078324378[1][3].render();\nviewergrid_17422866078324378[1][2].render();\nviewergrid_17422866078324378[1][1].render();\nviewergrid_17422866078324378[1][0].render();\nviewergrid_17422866078324378[0][4].render();\nviewergrid_17422866078324378[0][3].render();\nviewergrid_17422866078324378[0][2].render();\nviewergrid_17422866078324378[0][1].render();\nviewergrid_17422866078324378[0][0].render();\n});\n</script>",
      "text/html": [
       "<div id=\"3dmolviewer_17422866078324378\"  style=\"position: relative; width: 2000px; height: 400px;\">\n",
       "        <p id=\"3dmolwarning_17422866078324378\" style=\"background-color:#ffcccc;color:black\">3Dmol.js failed to load for some reason.  Please check your browser console for error messages.<br></p>\n",
       "        </div>\n",
       "<script>\n",
       "\n",
       "var loadScriptAsync = function(uri){\n",
       "  return new Promise((resolve, reject) => {\n",
       "    //this is to ignore the existence of requirejs amd\n",
       "    var savedexports, savedmodule;\n",
       "    if (typeof exports !== 'undefined') savedexports = exports;\n",
       "    else exports = {}\n",
       "    if (typeof module !== 'undefined') savedmodule = module;\n",
       "    else module = {}\n",
       "\n",
       "    var tag = document.createElement('script');\n",
       "    tag.src = uri;\n",
       "    tag.async = true;\n",
       "    tag.onload = () => {\n",
       "        exports = savedexports;\n",
       "        module = savedmodule;\n",
       "        resolve();\n",
       "    };\n",
       "  var firstScriptTag = document.getElementsByTagName('script')[0];\n",
       "  firstScriptTag.parentNode.insertBefore(tag, firstScriptTag);\n",
       "});\n",
       "};\n",
       "\n",
       "if(typeof $3Dmolpromise === 'undefined') {\n",
       "$3Dmolpromise = null;\n",
       "  $3Dmolpromise = loadScriptAsync('https://cdnjs.cloudflare.com/ajax/libs/3Dmol/2.4.0/3Dmol-min.js');\n",
       "}\n",
       "\n",
       "var viewer_17422866078324378 = null;\n",
       "var warn = document.getElementById(\"3dmolwarning_17422866078324378\");\n",
       "if(warn) {\n",
       "    warn.parentNode.removeChild(warn);\n",
       "}\n",
       "$3Dmolpromise.then(function() {\n",
       "var viewergrid_17422866078324378 = null;\n",
       "viewergrid_17422866078324378 = $3Dmol.createViewerGrid(document.getElementById(\"3dmolviewer_17422866078324378\"),{rows: 2, cols: 5, control_all: true},{backgroundColor:\"white\"});\n",
       "viewer_17422866078324378 = viewergrid_17422866078324378[0][0];\n",
       "viewergrid_17422866078324378[0][0].zoomTo();viewergrid_17422866078324378[0][1].zoomTo();viewergrid_17422866078324378[0][2].zoomTo();viewergrid_17422866078324378[0][3].zoomTo();viewergrid_17422866078324378[0][4].zoomTo();viewergrid_17422866078324378[1][0].zoomTo();viewergrid_17422866078324378[1][1].zoomTo();viewergrid_17422866078324378[1][2].zoomTo();viewergrid_17422866078324378[1][3].zoomTo();viewergrid_17422866078324378[1][4].zoomTo();\tviewergrid_17422866078324378[0][0].removeAllModels();\n",
       "\tviewergrid_17422866078324378[0][0].addModel(\"/Volumes/PubChemQCDataBaseWork/pubchemqc2017database/xyz/00000000_00009999/0.xyz\\n     RDKit          3D\\n\\n 18 20  0  0  1  0  0  0  0  0999 V2000\\n    4.9919   -5.2514    4.0126 C   0  0  0  0  0  0  0  0  0  0  0  0\\n    6.1051   -3.0257    3.5200 C   0  0  0  0  0  0  0  0  0  0  0  0\\n    4.5521   -3.9001    1.9140 C   0  0  0  0  0  0  0  0  0  0  0  0\\n    6.3372   -1.9217    2.7029 C   0  0  0  0  0  0  0  0  0  0  0  0\\n    4.7751   -2.7953    1.0929 C   0  0  0  0  0  0  0  0  0  0  0  0\\n    2.8586    1.2252   -1.7853 C   0  0  0  0  0  0  0  0  0  0  0  0\\n    2.8118    0.8707   -3.0956 C   0  0  0  0  0  0  0  0  0  0  0  0\\n    5.7890   -0.8350   -0.8455 C   0  0  0  0  0  3  0  0  0  0  0  0\\n    4.6658   -0.4760   -3.0127 C   0  0  0  0  0  0  0  0  0  0  0  0\\n    5.2150   -4.0391    3.1392 C   0  0  0  0  0  0  0  0  0  0  0  0\\n    5.6770   -1.7955    1.4745 C   0  0  0  0  0  0  0  0  0  0  0  0\\n    4.8499   -0.2104   -1.5946 C   0  0  0  0  0  0  0  0  0  0  0  0\\n    5.9121   -0.5519    0.6130 C   0  0  2  0  0  0  0  0  0  0  0  0\\n    3.9134    0.7241   -0.9340 C   0  0  0  0  0  0  0  0  0  0  0  0\\n    5.0405    0.6404    1.1008 C   0  0  0  0  0  0  0  0  0  0  0  0\\n    3.7160    0.0207   -3.7371 N   0  0  0  0  0  0  0  0  0  0  0  0\\n    3.9796    1.1019    0.3172 N   0  0  0  0  0  2  0  0  0  0  0  0\\n    5.2985    1.1457    2.1772 O   0  0  0  0  0  0  0  0  0  0  0  0\\n  3 10  2  0\\n  4  2  2  0\\n  5 11  2  0\\n  5  3  1  0\\n  6 14  2  0\\n  7  6  1  0\\n  8 13  1  0\\n  9 12  2  0\\n 10  2  1  0\\n 10  1  1  0\\n 11  4  1  0\\n 12 14  1  0\\n 12  8  1  0\\n 13 15  1  0\\n 13 11  1  1\\n 14 17  1  0\\n 15 18  2  0\\n 16  7  2  0\\n 16  9  1  0\\n 17 15  1  0\\nM  RAD  2   8   2  17   2\\nM  END\\n\",\"sdf\");\n",
       "\tviewergrid_17422866078324378[0][0].setStyle({\"stick\": {}});\n",
       "\tviewergrid_17422866078324378[0][1].removeAllModels();\n",
       "\tviewergrid_17422866078324378[0][1].addModel(\"/Volumes/PubChemQCDataBaseWork/pubchemqc2017database/xyz/00000000_00009999/1.xyz\\n     RDKit          3D\\n\\n 17 17  0  0  0  0  0  0  0  0999 V2000\\n    7.0068    1.8970    3.2727 C   0  0  0  0  0  0  0  0  0  0  0  0\\n    4.4650   -0.2257    1.3353 C   0  0  0  0  0  0  0  0  0  0  0  0\\n    0.4432    2.1011    9.5057 C   0  0  0  0  0  0  0  0  0  0  0  0\\n    0.3366   -2.5350    5.1551 C   0  0  0  0  0  0  0  0  0  0  0  0\\n    2.6396    1.6000    5.9257 C   0  0  0  0  0  0  0  0  0  0  0  0\\n    1.9474    1.8190    7.1190 C   0  0  0  0  0  0  0  0  0  0  0  0\\n    3.1830    0.2123    3.8873 C   0  0  0  0  0  0  0  0  0  0  0  0\\n    4.3870    0.7439    3.5935 C   0  0  0  0  0  0  0  0  0  0  0  0\\n    0.7754   -0.2729    6.7631 C   0  0  0  0  0  0  0  0  0  0  0  0\\n    6.3568    1.0842    2.1622 C   0  0  0  0  0  0  0  0  0  0  0  0\\n    2.4537    0.4611    5.1348 C   0  0  0  0  0  0  0  0  0  0  0  0\\n    1.0098    0.8730    7.5380 C   0  0  0  0  0  0  0  0  0  0  0  0\\n    1.4835   -0.4763    5.5827 C   0  0  0  0  0  0  0  0  0  0  0  0\\n    5.0856    0.5626    2.3959 N   0  0  0  0  0  0  0  0  0  0  0  0\\n    6.9369    0.8984    1.1006 O   0  0  0  0  0  0  0  0  0  0  0  0\\n    0.2593    0.9658    8.6759 O   0  0  0  0  0  0  0  0  0  0  0  0\\n    1.3108   -1.5731    4.7848 O   0  0  0  0  0  0  0  0  0  0  0  0\\n  2 14  1  0\\n  5  6  2  0\\n  6 12  1  0\\n  7 11  1  0\\n  8  7  2  0\\n  9 12  2  0\\n 10 14  1  0\\n 10  1  1  0\\n 11 13  2  0\\n 11  5  1  0\\n 12 16  1  0\\n 13  9  1  0\\n 14  8  1  0\\n 15 10  2  0\\n 16  3  1  0\\n 17  4  1  0\\n 17 13  1  0\\nM  END\\n\",\"sdf\");\n",
       "\tviewergrid_17422866078324378[0][1].setStyle({\"stick\": {}});\n",
       "\tviewergrid_17422866078324378[0][2].removeAllModels();\n",
       "\tviewergrid_17422866078324378[0][2].addModel(\"/Volumes/PubChemQCDataBaseWork/pubchemqc2017database/xyz/00000000_00009999/2.xyz\\n     RDKit          3D\\n\\n 16 16  0  0  0  0  0  0  0  0999 V2000\\n    5.5212   -2.8688   -3.6095 C   0  0  0  0  0  0  0  0  0  0  0  0\\n    7.6182   -2.1495    0.2508 C   0  0  0  0  0  0  0  0  0  0  0  0\\n    1.2104    0.1511   -0.9250 C   0  0  0  0  0  0  0  0  0  0  0  0\\n    4.3388   -2.3123   -3.3477 C   0  0  0  0  0  0  0  0  0  0  0  0\\n    7.3853    0.4487    3.0347 C   0  0  0  0  0  0  0  0  0  0  0  0\\n    6.3255    1.2451    2.6020 C   0  0  0  0  0  0  0  0  0  0  0  0\\n    7.7894   -0.6353    2.2548 C   0  0  0  0  0  0  0  0  0  0  0  0\\n    5.6850    0.9485    1.4018 C   0  0  0  0  0  0  0  0  0  0  0  0\\n    5.3690   -0.4755   -0.6390 C   0  0  0  0  0  0  0  0  0  0  0  0\\n    4.0912   -0.8272   -3.2721 C   0  0  0  0  0  0  0  0  0  0  0  0\\n    4.0697   -0.1952   -0.8660 C   0  0  0  0  0  0  0  0  0  0  0  0\\n    7.1526   -0.9547    1.0515 C   0  0  0  0  0  0  0  0  0  0  0  0\\n    1.9835   -0.2888   -2.1584 C   0  0  0  0  0  0  0  0  0  0  0  0\\n    6.0662   -0.1542    0.6153 C   0  0  0  0  0  0  0  0  0  0  0  0\\n    3.3696   -0.4136   -2.0566 N   0  0  0  0  0  0  0  0  0  0  0  0\\n    1.4090   -0.5259   -3.2127 O   0  0  0  0  0  0  0  0  0  0  0  0\\n  1  4  2  0\\n  2 12  1  0\\n  4 10  1  0\\n  6  5  2  0\\n  7  5  1  0\\n  8  6  1  0\\n  9 14  1  0\\n 10 15  1  0\\n 11  9  2  0\\n 12  7  2  0\\n 13 15  1  0\\n 13  3  1  0\\n 14 12  1  0\\n 14  8  2  0\\n 15 11  1  0\\n 16 13  2  0\\nM  END\\n\",\"sdf\");\n",
       "\tviewergrid_17422866078324378[0][2].setStyle({\"stick\": {}});\n",
       "\tviewergrid_17422866078324378[0][3].removeAllModels();\n",
       "\tviewergrid_17422866078324378[0][3].addModel(\"/Volumes/PubChemQCDataBaseWork/pubchemqc2017database/xyz/00000000_00009999/3.xyz\\n     RDKit          3D\\n\\n 16 16  0  0  0  0  0  0  0  0999 V2000\\n    5.4898    1.9750   -3.9020 C   0  0  0  0  0  0  0  0  0  0  0  0\\n    1.3602    0.3920    0.0503 C   0  0  0  0  0  0  0  0  0  0  0  0\\n    4.3093    1.7822   -3.3149 C   0  0  0  0  0  0  0  0  0  0  0  0\\n    6.9338   -1.1738    2.6743 C   0  0  0  0  0  0  0  0  0  0  0  0\\n    8.2861   -0.8650    2.5032 C   0  0  0  0  0  0  0  0  0  0  0  0\\n    6.0178   -0.9052    1.6608 C   0  0  0  0  0  0  0  0  0  0  0  0\\n    8.7136   -0.2875    1.3076 C   0  0  0  0  0  0  0  0  0  0  0  0\\n    5.5037    0.0223   -0.6560 C   0  0  0  0  0  0  0  0  0  0  0  0\\n    3.7368    0.4303   -2.9728 C   0  0  0  0  0  0  0  0  0  0  0  0\\n    4.1604    0.0686   -0.5486 C   0  0  0  0  0  0  0  0  0  0  0  0\\n    1.8910    0.5151   -1.3701 C   0  0  0  0  0  0  0  0  0  0  0  0\\n    6.4088   -0.3052    0.4474 C   0  0  0  0  0  0  0  0  0  0  0  0\\n    7.7788   -0.0242    0.3174 C   0  0  0  0  0  0  0  0  0  0  0  0\\n    8.2146    0.5382   -0.8366 F   0  0  0  0  0  0  0  0  0  0  0  0\\n    3.2588    0.3282   -1.5827 N   0  0  0  0  0  0  0  0  0  0  0  0\\n    1.1412    0.7684   -2.3024 O   0  0  0  0  0  0  0  0  0  0  0  0\\n  1  3  2  0\\n  3  9  1  0\\n  5  4  2  0\\n  6  4  1  0\\n  7  5  1  0\\n  8 10  2  0\\n  8 12  1  0\\n  9 15  1  0\\n 11  2  1  0\\n 12  6  2  0\\n 13 12  1  0\\n 13  7  2  0\\n 14 13  1  0\\n 15 11  1  0\\n 15 10  1  0\\n 16 11  2  0\\nM  END\\n\",\"sdf\");\n",
       "\tviewergrid_17422866078324378[0][3].setStyle({\"stick\": {}});\n",
       "\tviewergrid_17422866078324378[0][4].removeAllModels();\n",
       "\tviewergrid_17422866078324378[0][4].addModel(\"/Volumes/PubChemQCDataBaseWork/pubchemqc2017database/xyz/00000000_00009999/4.xyz\\n     RDKit          3D\\n\\n 16 16  0  0  0  0  0  0  0  0999 V2000\\n    0.8271   -0.1777   -1.4924 C   0  0  0  0  0  0  0  0  0  0  0  0\\n    3.0165   -1.8039    2.7083 C   0  0  0  0  0  0  0  0  0  0  0  0\\n    1.4505   -0.3465   -0.3274 C   0  0  0  0  0  0  0  0  0  0  0  0\\n    7.1571    3.3707   -1.7824 C   0  0  0  0  0  0  0  0  0  0  0  0\\n    7.3083    3.3803   -3.1708 C   0  0  0  0  0  0  0  0  0  0  0  0\\n    6.2554    2.4982   -1.1848 C   0  0  0  0  0  0  0  0  0  0  0  0\\n    6.5488    2.5090   -3.9482 C   0  0  0  0  0  0  0  0  0  0  0  0\\n    4.5334    0.6611   -1.3058 C   0  0  0  0  0  0  0  0  0  0  0  0\\n    2.6492   -1.2429   -0.1242 C   0  0  0  0  0  0  0  0  0  0  0  0\\n    4.6049    0.2792   -0.0164 C   0  0  0  0  0  0  0  0  0  0  0  0\\n    3.9548   -0.8423    1.9948 C   0  0  0  0  0  0  0  0  0  0  0  0\\n    5.4798    1.5887   -1.9347 C   0  0  0  0  0  0  0  0  0  0  0  0\\n    5.6551    1.6343   -3.3330 C   0  0  0  0  0  0  0  0  0  0  0  0\\n    4.7423    0.5451   -4.3871 Cl  0  0  0  0  0  0  0  0  0  0  0  0\\n    3.7386   -0.6100    0.6303 N   0  0  0  0  0  0  0  0  0  0  0  0\\n    4.8671   -0.2947    2.5954 O   0  0  0  0  0  0  0  0  0  0  0  0\\n  1  3  2  0\\n  3  9  1  0\\n  4  6  2  0\\n  5  4  1  0\\n  7 13  1  0\\n  7  5  2  0\\n  8 10  2  0\\n  9 15  1  0\\n 10 15  1  0\\n 11 16  2  0\\n 11  2  1  0\\n 12  8  1  0\\n 12  6  1  0\\n 13 12  2  0\\n 14 13  1  0\\n 15 11  1  0\\nM  END\\n\",\"sdf\");\n",
       "\tviewergrid_17422866078324378[0][4].setStyle({\"stick\": {}});\n",
       "\tviewergrid_17422866078324378[1][0].removeAllModels();\n",
       "\tviewergrid_17422866078324378[1][0].addModel(\"/Volumes/PubChemQCDataBaseWork/pubchemqc2017database/xyz/00000000_00009999/5.xyz\\n     RDKit          3D\\n\\n 15 15  0  0  0  0  0  0  0  0999 V2000\\n   -1.9495    1.7548    0.9880 C   0  0  0  0  0  0  0  0  0  0  0  0\\n   -1.6578    0.2217   -2.3172 C   0  0  0  0  0  0  0  0  0  0  0  0\\n   -1.4044    2.3178   -0.3288 C   0  0  0  0  0  0  0  0  0  0  0  0\\n    5.0854    2.8684    1.1383 C   0  0  0  0  0  0  0  0  0  0  0  0\\n    5.2400    3.8770    2.0928 C   0  0  0  0  0  0  0  0  0  0  0  0\\n    3.8220    2.5453    0.6613 C   0  0  0  0  0  0  0  0  0  0  0  0\\n    4.1152    4.5511    2.5596 C   0  0  0  0  0  0  0  0  0  0  0  0\\n    1.3156    2.8732    0.6116 C   0  0  0  0  0  0  0  0  0  0  0  0\\n    1.0450    1.9255   -0.3086 C   0  0  0  0  0  0  0  0  0  0  0  0\\n   -0.2885    0.5673   -1.7550 C   0  0  0  0  0  0  0  0  0  0  0  0\\n    2.6547    3.2030    1.1079 C   0  0  0  0  0  0  0  0  0  0  0  0\\n    2.8531    4.2139    2.0726 C   0  0  0  0  0  0  0  0  0  0  0  0\\n    1.4816    5.1234    2.7256 Cl  0  0  0  0  0  0  0  0  0  0  0  0\\n   -0.2167    1.6082   -0.8198 N   0  0  0  0  0  0  0  0  0  0  0  0\\n    0.7109   -0.0361   -2.1169 O   0  0  0  0  0  0  0  0  0  0  0  0\\n  2 10  1  0\\n  3  1  1  0\\n  4  5  2  0\\n  5  7  1  0\\n  6 11  2  0\\n  6  4  1  0\\n  8 11  1  0\\n  9  8  2  0\\n 10 14  1  0\\n 11 12  1  0\\n 12  7  2  0\\n 12 13  1  0\\n 14  3  1  0\\n 14  9  1  0\\n 15 10  2  0\\nM  END\\n\",\"sdf\");\n",
       "\tviewergrid_17422866078324378[1][0].setStyle({\"stick\": {}});\n",
       "\tviewergrid_17422866078324378[1][1].removeAllModels();\n",
       "\tviewergrid_17422866078324378[1][1].addModel(\"/Volumes/PubChemQCDataBaseWork/pubchemqc2017database/xyz/00000000_00009999/6.xyz\\n     RDKit          3D\\n\\n 15 15  0  0  1  0  0  0  0  0999 V2000\\n   -0.3233   -2.6443    0.6970 C   0  0  0  0  0  0  0  0  0  0  0  0\\n   -2.7429    2.2366    5.4837 C   0  0  0  0  0  0  0  0  0  0  0  0\\n    1.1608    1.8340    2.0323 C   0  0  0  0  0  0  0  0  0  0  0  0\\n    1.3228    0.3177    2.1752 C   0  0  0  0  0  0  0  0  0  0  0  0\\n   -0.1505    2.3686    2.6110 C   0  0  2  0  0  0  0  0  0  0  0  0\\n    0.3773   -0.4731    1.2912 C   0  0  0  0  0  0  0  0  0  0  0  0\\n   -0.2223    3.9072    2.6778 C   0  0  2  0  0  0  0  0  0  0  0  0\\n    0.1104    4.1994    4.1602 C   0  0  2  0  0  0  0  0  0  0  0  0\\n   -0.5856    2.9983    4.8301 C   0  0  1  0  0  0  0  0  0  0  0  0\\n   -0.4063   -0.0046    0.4915 O   0  0  0  0  0  0  0  0  0  0  0  0\\n   -1.5087    4.4384    2.3655 O   0  0  0  0  0  0  0  0  0  0  0  0\\n   -0.2843    5.4719    4.5894 O   0  0  0  0  0  0  0  0  0  0  0  0\\n    0.5221   -1.8009    1.4970 O   0  0  0  0  0  0  0  0  0  0  0  0\\n   -1.9792    3.2653    4.8608 O   0  0  0  0  0  0  0  0  0  0  0  0\\n   -0.2712    1.9088    3.9942 O   0  0  0  0  0  0  0  0  0  0  0  0\\n  1 13  1  0\\n  3  4  1  0\\n  5  3  1  1\\n  5  7  1  0\\n  5 15  1  0\\n  6 13  1  0\\n  6  4  1  0\\n  7  8  1  0\\n  8 12  1  1\\n  8  9  1  0\\n  9 14  1  6\\n 10  6  2  0\\n  7 11  1  1\\n 14  2  1  0\\n 15  9  1  0\\nM  END\\n\",\"sdf\");\n",
       "\tviewergrid_17422866078324378[1][1].setStyle({\"stick\": {}});\n",
       "\tviewergrid_17422866078324378[1][2].removeAllModels();\n",
       "\tviewergrid_17422866078324378[1][2].addModel(\"/Volumes/PubChemQCDataBaseWork/pubchemqc2017database/xyz/00000000_00009999/7.xyz\\n     RDKit          3D\\n\\n 14 14  0  0  1  0  0  0  0  0999 V2000\\n    0.6793    0.0293    0.1039 C   0  0  0  0  0  0  0  0  0  0  0  0\\n    4.8872    4.0021   -1.8678 C   0  0  0  0  0  0  0  0  0  0  0  0\\n    2.1533   -1.7526    3.7518 C   0  0  0  0  0  0  0  0  0  0  0  0\\n    3.5111   -1.6758    4.0659 C   0  0  0  0  0  0  0  0  0  0  0  0\\n    1.6984   -1.1954    2.5634 C   0  0  0  0  0  0  0  0  0  0  0  0\\n    4.3507   -1.0353    3.1575 C   0  0  0  0  0  0  0  0  0  0  0  0\\n    2.1575    0.0451    0.4276 C   0  0  0  0  0  0  0  0  0  0  0  0\\n    2.6134   -0.5662    1.6918 C   0  0  0  0  0  0  0  0  0  0  0  0\\n    4.8621    1.6138   -1.2944 C   0  0  2  0  0  0  0  0  0  0  0  0\\n    4.6445    2.9821   -0.8485 N   0  0  0  0  0  0  0  0  0  0  0  0\\n    3.9294   -0.4989    2.0095 N   0  0  0  0  0  0  0  0  0  0  0  0\\n    2.9027    0.6220   -0.4733 N   0  0  0  0  0  0  0  0  0  0  0  0\\n    4.2381    0.6742   -0.3937 N   0  0  0  0  0  0  0  0  0  0  0  0\\n    6.6745    1.2530   -1.4292 S   0  0  0  0  0  0  0  0  0  0  0  0\\n  1  7  1  0\\n  2 10  1  0\\n  3  4  2  0\\n  5  3  1  0\\n  6  4  1  0\\n  7  8  1  0\\n  8 11  1  0\\n  8  5  2  0\\n  9 10  1  0\\n  9 13  1  0\\n 11  6  2  0\\n 12 13  1  0\\n 12  7  2  0\\n  9 14  1  1\\nM  END\\n\",\"sdf\");\n",
       "\tviewergrid_17422866078324378[1][2].setStyle({\"stick\": {}});\n",
       "\tviewergrid_17422866078324378[1][3].removeAllModels();\n",
       "\tviewergrid_17422866078324378[1][3].addModel(\"/Volumes/PubChemQCDataBaseWork/pubchemqc2017database/xyz/00000000_00009999/8.xyz\\n     RDKit          3D\\n\\n 13 13  0  0  1  0  0  0  0  0999 V2000\\n    1.4175    0.1420   -1.8737 C   0  0  0  0  0  0  0  0  0  0  0  0\\n    2.9297    4.0577   -0.8642 C   0  0  0  0  0  0  0  0  0  0  0  0\\n    4.1447    4.1820   -0.1890 C   0  0  0  0  0  0  0  0  0  0  0  0\\n    2.4734    2.7927   -1.2139 C   0  0  0  0  0  0  0  0  0  0  0  0\\n    4.8472    3.0145    0.1017 C   0  0  0  0  0  0  0  0  0  0  0  0\\n    2.7790    0.2980   -1.2309 C   0  0  0  0  0  0  0  0  0  0  0  0\\n    3.2458    1.6577   -0.8874 C   0  0  0  0  0  0  0  0  0  0  0  0\\n    5.0453   -2.2046   -0.0304 C   0  0  2  0  0  0  0  0  0  0  0  0\\n    4.8022   -3.2785   -0.9619 N   0  0  0  0  0  0  0  0  0  0  0  0\\n    4.4246    1.7930   -0.2334 N   0  0  0  0  0  0  0  0  0  0  0  0\\n    3.4174   -0.8193   -1.0338 N   0  0  0  0  0  0  0  0  0  0  0  0\\n    4.6641   -0.8796   -0.5384 N   0  0  0  0  0  0  0  0  0  0  0  0\\n    6.8058   -2.1066    0.5019 S   0  0  0  0  0  0  0  0  0  0  0  0\\n  1  6  1  0\\n  2  3  2  0\\n  3  5  1  0\\n  4  7  2  0\\n  4  2  1  0\\n  6 11  2  0\\n  6  7  1  0\\n  7 10  1  0\\n  8 13  1  0\\n  8  9  1  6\\n 10  5  2  0\\n 11 12  1  0\\n 12  8  1  0\\nM  END\\n\",\"sdf\");\n",
       "\tviewergrid_17422866078324378[1][3].setStyle({\"stick\": {}});\n",
       "\tviewergrid_17422866078324378[1][4].removeAllModels();\n",
       "\tviewergrid_17422866078324378[1][4].addModel(\"/Volumes/PubChemQCDataBaseWork/pubchemqc2017database/xyz/00000000_00009999/9.xyz\\n     RDKit          3D\\n\\n 15 16  0  0  1  0  0  0  0  0999 V2000\\n    0.8124    1.1192    0.2110 C   0  0  0  0  0  0  0  0  0  0  0  0\\n   -0.5239    1.2597    0.0598 C   0  0  0  0  0  0  0  0  0  0  0  0\\n    0.5557   -1.3545    0.0222 C   0  0  0  0  0  0  0  0  0  0  0  0\\n    1.4433   -0.2124    0.2642 C   0  0  0  0  0  0  0  0  0  0  0  0\\n   -1.4008    0.1045    0.0152 C   0  0  0  0  0  3  0  0  0  0  0  0\\n   -0.7895   -1.2143   -0.1355 C   0  0  0  0  0  0  0  0  0  0  0  0\\n   -2.7666    0.3424    0.1501 C   0  0  0  0  0  0  0  0  0  0  0  0\\n   -4.9697    0.2560    0.4096 C   0  0  0  0  0  0  0  0  0  0  0  0\\n   -1.6248   -2.3012   -0.4796 N   0  0  0  0  0  0  0  0  0  0  0  0\\n   -3.7065   -1.6264    1.3287 N   0  0  0  0  0  0  0  0  0  0  0  0\\n   -3.3225    1.5873   -0.1933 N   0  0  0  0  0  0  0  0  0  0  0  0\\n   -4.5951    1.5351   -0.0812 N   0  0  0  0  0  2  0  0  0  0  0  0\\n   -3.8047   -0.4721    0.5273 N   0  0  0  0  0  0  0  0  0  0  0  0\\n    2.6569   -0.3543    0.4315 O   0  0  0  0  0  0  0  0  0  0  0  0\\n   -6.4944   -0.2362    0.8084 S   0  0  0  0  0  0  0  0  0  0  0  0\\n  1  4  1  0\\n  2  1  2  0\\n  3  4  1  0\\n  4 14  2  0\\n  5  2  1  0\\n  5  7  1  0\\n  6  5  1  0\\n  6  3  2  0\\n  7 13  1  0\\n  8 13  1  0\\n  8 15  2  0\\n  9  6  1  0\\n 11 12  1  0\\n 11  7  2  0\\n 12  8  1  0\\n 13 10  1  0\\nM  RAD  2   5   2  12   2\\nM  END\\n\",\"sdf\");\n",
       "\tviewergrid_17422866078324378[1][4].setStyle({\"stick\": {}});\n",
       "\tviewergrid_17422866078324378[0][0].zoomTo();\n",
       "\tviewergrid_17422866078324378[0][1].zoomTo();\n",
       "\tviewergrid_17422866078324378[0][2].zoomTo();\n",
       "\tviewergrid_17422866078324378[0][3].zoomTo();\n",
       "\tviewergrid_17422866078324378[0][4].zoomTo();\n",
       "\tviewergrid_17422866078324378[1][0].zoomTo();\n",
       "\tviewergrid_17422866078324378[1][1].zoomTo();\n",
       "\tviewergrid_17422866078324378[1][2].zoomTo();\n",
       "\tviewergrid_17422866078324378[1][3].zoomTo();\n",
       "\tviewergrid_17422866078324378[1][4].zoomTo();\n",
       "viewergrid_17422866078324378[1][4].render();\n",
       "viewergrid_17422866078324378[1][3].render();\n",
       "viewergrid_17422866078324378[1][2].render();\n",
       "viewergrid_17422866078324378[1][1].render();\n",
       "viewergrid_17422866078324378[1][0].render();\n",
       "viewergrid_17422866078324378[0][4].render();\n",
       "viewergrid_17422866078324378[0][3].render();\n",
       "viewergrid_17422866078324378[0][2].render();\n",
       "viewergrid_17422866078324378[0][1].render();\n",
       "viewergrid_17422866078324378[0][0].render();\n",
       "});\n",
       "</script>"
      ]
     },
     "metadata": {},
     "output_type": "display_data"
    }
   ],
   "source": [
    "# TEST 3d\n",
    "mols = []\n",
    "for idx, mol in enumerate(suppl):\n",
    "    print(f'{idx}-th rdkit mol obj: {mol}')\n",
    "    mols.append(mol)\n",
    "    if idx == 10: break\n",
    "\n",
    "from source.utils.mol_utils import visualize_3d_mols\n",
    "visualize_3d_mols(mols,width=2000, grid=(2,5))"
   ]
  },
  {
   "cell_type": "code",
   "execution_count": null,
   "metadata": {},
   "outputs": [],
   "source": []
  },
  {
   "cell_type": "code",
   "execution_count": null,
   "metadata": {},
   "outputs": [],
   "source": []
  }
 ],
 "metadata": {
  "kernelspec": {
   "display_name": "rdkit_pyg_geqm9_clone",
   "language": "python",
   "name": "python3"
  },
  "language_info": {
   "codemirror_mode": {
    "name": "ipython",
    "version": 3
   },
   "file_extension": ".py",
   "mimetype": "text/x-python",
   "name": "python",
   "nbconvert_exporter": "python",
   "pygments_lexer": "ipython3",
   "version": "3.10.14"
  }
 },
 "nbformat": 4,
 "nbformat_minor": 2
}
