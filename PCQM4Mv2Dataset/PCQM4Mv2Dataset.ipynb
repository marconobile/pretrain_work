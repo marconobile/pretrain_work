{
 "cells": [
  {
   "cell_type": "markdown",
   "metadata": {},
   "source": [
    "# TODO:\n",
    "- write data\n",
    "- add homo/lumo to pretrain\n",
    "- check number_radical_e\n",
    "- PRETRAIN: USE SCAFFOLD SPLIT ON PCMM4 TO SELECT ETEROGENEOUS DATA 500K SHOULD BE A REASONABLE TEST AMMOUNT"
   ]
  },
  {
   "cell_type": "markdown",
   "metadata": {},
   "source": [
    "## Notes from https://ogb.stanford.edu/docs/lsc/pcqm4mv2/\n",
    "\n",
    "3D Graph: We  provide equilibrium 3D graph structure for training molecules in the form of the SDF format. \n",
    "The compressed SDF can be downloaded with the code below (1.5GB). \n",
    "The single SDF contains 3D information of all the 3,378,606 training molecules. \n",
    "First download and decompress the file as follows.\n",
    "```\n",
    "wget http://ogb-data.stanford.edu/data/lsc/pcqm4m-v2-train.sdf.tar.gz\n",
    "md5sum pcqm4m-v2-train.sdf.tar.gz # fd72bce606e7ddf36c2a832badeec6ab\n",
    "tar -xf pcqm4m-v2-train.sdf.tar.gz # extracted pcqm4m-v2-train.sdf\n",
    "```\n",
    "Then, use rdkit to extract molecule information as follows.\n",
    "\n",
    "    from rdkit import Chem\n",
    "    suppl = Chem.SDMolSupplier('pcqm4m-v2-train.sdf')\n",
    "    for idx, mol in enumerate(suppl):\n",
    "        print(f'{idx}-th rdkit mol obj: {mol}')\n",
    "\n",
    "\n",
    "- These structures are calculated by DFT. (cit from tgt: \"DFT coordinates extracted from the SDF file provided by OGB\")\n",
    "\n",
    "- Note that 3D information is not provided for validation and test molecules, and test-time inference needs to be performed without explicit 3D information. Known issue: A very small number of training molecules (around 46 out of 3,378,606) have 2D graph structures that are inconsistent with the ones calculated from SMILES. These molecules often involve Si atom(s).\n",
    "\n",
    "- Prediction task and evaluation metric: The task is graph regression: predicting the HOMO-LUMO energy gap in electronvolt (eV) given 2D molecular graphs. Mean Absolute Error (MAE) is used as evaluation metric. HOMO-LUMO gap was calculated by DFT based on the final 3D structures"
   ]
  },
  {
   "cell_type": "code",
   "execution_count": null,
   "metadata": {},
   "outputs": [],
   "source": [
    "%load_ext autoreload\n",
    "%autoreload 2"
   ]
  },
  {
   "cell_type": "code",
   "execution_count": null,
   "metadata": {},
   "outputs": [],
   "source": [
    "# wget http://ogb-data.stanford.edu/data/lsc/pcqm4m-v2-train.sdf.tar.gz -P /storage_common/nobilm/pretrain_paper/PCQM4Mv2Dataset/from_wget # 2025-03-17 14:50:51 (14.1 MB/s) - ‘/storage_common/nobilm/pretrain_paper/PCQM4Mv2Dataset/from_wget/pcqm4m-v2-train.sdf.tar.gz’ saved [1559712928/1559712928]\n",
    "# md5sum /storage_common/nobilm/pretrain_paper/PCQM4Mv2Dataset/from_wget/pcqm4m-v2-train.sdf.tar.gz # fd72bce606e7ddf36c2a832badeec6ab  Check against this <-\n",
    "# tar -xf /storage_common/nobilm/pretrain_paper/PCQM4Mv2Dataset/from_wget/pcqm4m-v2-train.sdf.tar.gz # extracts pcqm4m-v2-train.sdf\n",
    "# 'fd72bce606e7ddf36c2a832badeec6ab' ==  'fd72bce606e7ddf36c2a832badeec6ab'"
   ]
  },
  {
   "cell_type": "code",
   "execution_count": null,
   "metadata": {},
   "outputs": [],
   "source": [
    "from rdkit import Chem as rdChem\n",
    "suppl = rdChem.SDMolSupplier('/storage_common/nobilm/pretrain_paper/PCQM4Mv2Dataset/from_wget/pcqm4m-v2-train.sdf')\n",
    "len(suppl)"
   ]
  },
  {
   "cell_type": "code",
   "execution_count": null,
   "metadata": {},
   "outputs": [],
   "source": [
    "from ogb.lsc import PCQM4Mv2Dataset\n",
    "dataset = PCQM4Mv2Dataset(root = '/storage_common/nobilm/pretrain_paper/PCQM4Mv2Dataset', only_smiles = True)\n",
    "print(len(dataset))\n",
    "split_dict = dataset.get_idx_split()\n",
    "len(split_dict['train']) == len(suppl)"
   ]
  },
  {
   "cell_type": "code",
   "execution_count": null,
   "metadata": {},
   "outputs": [],
   "source": [
    "train_idxs = dataset.get_idx_split()['train']\n",
    "train_dset = [dataset[i] for i in train_idxs]\n"
   ]
  },
  {
   "cell_type": "code",
   "execution_count": null,
   "metadata": {},
   "outputs": [],
   "source": [
    "train_dset[2][1]\n"
   ]
  },
  {
   "cell_type": "code",
   "execution_count": null,
   "metadata": {},
   "outputs": [],
   "source": [
    "i = -2\n",
    "smi = train_dset[i][0]\n",
    "print(smi, train_dset[i][1]) # ('CC(NCC[C@H]([C@@H]1CCC(=CC1)C)C)C', 6.811009678015001)\n",
    "rdChem.MolFromSmiles(smi)"
   ]
  },
  {
   "cell_type": "code",
   "execution_count": null,
   "metadata": {},
   "outputs": [],
   "source": [
    "smi2 = print(rdChem.MolToSmiles(suppl[i]))\n",
    "suppl[i]"
   ]
  },
  {
   "cell_type": "code",
   "execution_count": null,
   "metadata": {},
   "outputs": [],
   "source": [
    "print(smi == smi2)\n",
    "from source.utils.mol_utils import visualize_3d_mols\n",
    "visualize_3d_mols([suppl[i], rdChem.MolFromSmiles(smi)],width=2000)"
   ]
  },
  {
   "cell_type": "markdown",
   "metadata": {},
   "source": [
    "# stuff"
   ]
  },
  {
   "cell_type": "code",
   "execution_count": null,
   "metadata": {},
   "outputs": [],
   "source": [
    "# 500k:len(suppl) = x :100\n",
    "perc = int(500000*100/len(suppl))\n",
    "print(perc) # perc to be used for split\n",
    "testing_data = int(perc*len(suppl)/100)\n",
    "testing_data"
   ]
  },
  {
   "cell_type": "code",
   "execution_count": null,
   "metadata": {},
   "outputs": [],
   "source": [
    "# TEST 3d\n",
    "mols = []\n",
    "for idx, mol in enumerate(suppl):\n",
    "    print(f'{idx}-th rdkit mol obj: {mol}')\n",
    "    mols.append(mol)\n",
    "    if idx == 10: break\n",
    "\n",
    "from source.utils.mol_utils import visualize_3d_mols\n",
    "visualize_3d_mols(mols,width=2000, grid=(2,5))"
   ]
  },
  {
   "cell_type": "code",
   "execution_count": null,
   "metadata": {},
   "outputs": [],
   "source": []
  },
  {
   "cell_type": "code",
   "execution_count": null,
   "metadata": {},
   "outputs": [],
   "source": []
  }
 ],
 "metadata": {
  "kernelspec": {
   "display_name": "rdkit_pyg_geqm9_clone",
   "language": "python",
   "name": "python3"
  },
  "language_info": {
   "codemirror_mode": {
    "name": "ipython",
    "version": 3
   },
   "file_extension": ".py",
   "mimetype": "text/x-python",
   "name": "python",
   "nbconvert_exporter": "python",
   "pygments_lexer": "ipython3",
   "version": "3.10.14"
  }
 },
 "nbformat": 4,
 "nbformat_minor": 2
}
