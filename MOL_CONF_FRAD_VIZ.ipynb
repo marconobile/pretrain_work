{
 "cells": [
  {
   "cell_type": "code",
   "execution_count": 29,
   "metadata": {},
   "outputs": [
    {
     "name": "stdout",
     "output_type": "stream",
     "text": [
      "The autoreload extension is already loaded. To reload it, use:\n",
      "  %reload_ext autoreload\n"
     ]
    }
   ],
   "source": [
    "%load_ext autoreload\n",
    "%autoreload 2"
   ]
  },
  {
   "cell_type": "code",
   "execution_count": 30,
   "metadata": {},
   "outputs": [],
   "source": [
    "from tqdm import tqdm\n",
    "from rdkit import Chem as rdChem\n",
    "from collections import OrderedDict\n",
    "from copy import deepcopy\n",
    "from source.utils.conforge_conformer_generation import generate_conformers, get_conformer_generator, rdkit_generate_conformers\n",
    "from source.utils.mol2pyg import mols2pyg_list_with_targets, pyg2mol\n",
    "from source.utils.mol_utils import get_energy, smi_reader_params, smi_writer_params, drop_disconnected_components,visualize_3d_mols, set_coords, preprocess_mol,has_steric_clashes,fix_conformer,minimum_atom_distance, get_rdkit_conformer\n",
    "from source.utils.data_splitting_utils import create_data_folders, parse_smiles_file, get_smiles_and_targets_from_csv\n",
    "from source.data_transforms._frad_transforms import frad\n",
    "from source.utils.file_handling_utils import ls\n",
    "from source.utils.npz_utils import get_field_from_npzs, save_npz\n",
    "from source.utils.code_utils import print_obj_API"
   ]
  },
  {
   "cell_type": "code",
   "execution_count": 34,
   "metadata": {},
   "outputs": [
    {
     "name": "stderr",
     "output_type": "stream",
     "text": [
      "  0%|          | 0/1 [00:00<?, ?it/s]/home/nobilm@usi.ch/pretrain_paper/source/data_transforms/_frad_transforms.py:88: UserWarning: To copy construct from a tensor, it is recommended to use sourceTensor.clone().detach() or sourceTensor.clone().detach().requires_grad_(True), rather than torch.tensor(sourceTensor).\n",
      "  angle_diff_rad = torch.deg2rad(torch.tensor(desired_angle_deg - current_angle_deg))\n",
      "/home/nobilm@usi.ch/pretrain_paper/source/data_transforms/_frad_transforms.py:70: UserWarning: To copy construct from a tensor, it is recommended to use sourceTensor.clone().detach() or sourceTensor.clone().detach().requires_grad_(True), rather than torch.tensor(sourceTensor).\n",
      "  neighbors = torch.nonzero(torch.tensor(adjacency_matrix[current]), as_tuple=False).flatten()\n",
      "100%|██████████| 1/1 [00:00<00:00, 63.55it/s]\n"
     ]
    },
    {
     "data": {
      "application/3dmoljs_load.v0": "<div id=\"3dmolviewer_17382594722222133\"  style=\"position: relative; width: 1800px; height: 400px;\">\n        <p id=\"3dmolwarning_17382594722222133\" style=\"background-color:#ffcccc;color:black\">3Dmol.js failed to load for some reason.  Please check your browser console for error messages.<br></p>\n        </div>\n<script>\n\nvar loadScriptAsync = function(uri){\n  return new Promise((resolve, reject) => {\n    //this is to ignore the existence of requirejs amd\n    var savedexports, savedmodule;\n    if (typeof exports !== 'undefined') savedexports = exports;\n    else exports = {}\n    if (typeof module !== 'undefined') savedmodule = module;\n    else module = {}\n\n    var tag = document.createElement('script');\n    tag.src = uri;\n    tag.async = true;\n    tag.onload = () => {\n        exports = savedexports;\n        module = savedmodule;\n        resolve();\n    };\n  var firstScriptTag = document.getElementsByTagName('script')[0];\n  firstScriptTag.parentNode.insertBefore(tag, firstScriptTag);\n});\n};\n\nif(typeof $3Dmolpromise === 'undefined') {\n$3Dmolpromise = null;\n  $3Dmolpromise = loadScriptAsync('https://cdnjs.cloudflare.com/ajax/libs/3Dmol/2.4.0/3Dmol-min.js');\n}\n\nvar viewer_17382594722222133 = null;\nvar warn = document.getElementById(\"3dmolwarning_17382594722222133\");\nif(warn) {\n    warn.parentNode.removeChild(warn);\n}\n$3Dmolpromise.then(function() {\nvar viewergrid_17382594722222133 = null;\nviewergrid_17382594722222133 = $3Dmol.createViewerGrid(document.getElementById(\"3dmolviewer_17382594722222133\"),{rows: 1, cols: 3, control_all: true},{backgroundColor:\"white\"});\nviewer_17382594722222133 = viewergrid_17382594722222133[0][0];\nviewergrid_17382594722222133[0][0].zoomTo();viewergrid_17382594722222133[0][1].zoomTo();viewergrid_17382594722222133[0][2].zoomTo();\tviewergrid_17382594722222133[0][0].removeAllModels();\n\tviewergrid_17382594722222133[0][0].addModel(\"\\n     RDKit          3D\\n\\n 39 41  0  0  0  0  0  0  0  0999 V2000\\n   -2.8620   -0.0009    0.0236 C   0  0  0  0  0  0  0  0  0  0  0  0\\n   -2.1138    0.0010    1.2110 C   0  0  0  0  0  0  0  0  0  0  0  0\\n   -0.7111    0.0000    1.2027 C   0  0  0  0  0  0  0  0  0  0  0  0\\n    0.0000    0.0000    0.0000 C   0  0  0  0  0  0  0  0  0  0  0  0\\n    1.4860   -0.0000    0.0000 C   0  0  0  0  0  0  0  0  0  0  0  0\\n    2.1009   -1.3087    0.0000 N   0  0  0  0  0  0  0  0  0  0  0  0\\n    1.9958   -2.1108    1.1986 C   0  0  0  0  0  0  0  0  0  0  0  0\\n    2.8156   -1.5526    2.3132 C   0  0  0  0  0  0  0  0  0  0  0  0\\n    2.3058   -1.1866    3.4574 N   0  0  0  0  0  0  0  0  0  0  0  0\\n    3.5018   -0.7103    4.2232 C   0  0  0  0  0  0  0  0  0  0  0  0\\n    4.7384   -0.8609    3.3179 C   0  0  0  0  0  0  0  0  0  0  0  0\\n    4.1563   -1.4296    2.1396 N   0  0  0  0  0  0  0  0  0  0  0  0\\n    2.7777   -1.7850   -1.1268 C   0  0  0  0  0  0  0  0  0  0  0  0\\n    2.8746   -1.0037   -2.2810 C   0  0  0  0  0  0  0  0  0  0  0  0\\n    3.5528   -1.4741   -3.4152 C   0  0  0  0  0  0  0  0  0  0  0  0\\n    4.1575   -2.7402   -3.4452 C   0  0  0  0  0  0  0  0  0  0  0  0\\n    4.0275   -3.5054   -2.2701 C   0  0  0  0  0  0  0  0  0  0  0  0\\n    3.3521   -3.0555   -1.1274 C   0  0  0  0  0  0  0  0  0  0  0  0\\n   -0.7114   -0.0194   -1.1991 C   0  0  0  0  0  0  0  0  0  0  0  0\\n   -2.1126   -0.0155   -1.1687 C   0  0  0  0  0  0  0  0  0  0  0  0\\n   -3.9439   -0.0005    0.0237 H   0  0  0  0  0  0  0  0  0  0  0  0\\n   -2.6026   -0.0043    2.1820 H   0  0  0  0  0  0  0  0  0  0  0  0\\n   -0.1814   -0.0042    2.1525 H   0  0  0  0  0  0  0  0  0  0  0  0\\n    1.8798    0.6067   -0.8244 H   0  0  0  0  0  0  0  0  0  0  0  0\\n    1.8118    0.5147    0.9129 H   0  0  0  0  0  0  0  0  0  0  0  0\\n    2.3494   -3.1295    1.0021 H   0  0  0  0  0  0  0  0  0  0  0  0\\n    0.9482   -2.1854    1.5078 H   0  0  0  0  0  0  0  0  0  0  0  0\\n    3.6096   -1.3082    5.1345 H   0  0  0  0  0  0  0  0  0  0  0  0\\n    3.3552    0.3354    4.5139 H   0  0  0  0  0  0  0  0  0  0  0  0\\n    5.1990    0.1086    3.1070 H   0  0  0  0  0  0  0  0  0  0  0  0\\n    5.4823   -1.5285    3.7622 H   0  0  0  0  0  0  0  0  0  0  0  0\\n    4.6810   -1.6650    1.3062 H   0  0  0  0  0  0  0  0  0  0  0  0\\n    2.4193   -0.0166   -2.3144 H   0  0  0  0  0  0  0  0  0  0  0  0\\n    3.5851   -0.8164   -4.2803 H   0  0  0  0  0  0  0  0  0  0  0  0\\n    4.6815   -3.1085   -4.3172 H   0  0  0  0  0  0  0  0  0  0  0  0\\n    4.4755   -4.4981   -2.2499 H   0  0  0  0  0  0  0  0  0  0  0  0\\n    3.2774   -3.6840   -0.2430 H   0  0  0  0  0  0  0  0  0  0  0  0\\n   -0.1765   -0.0317   -2.1459 H   0  0  0  0  0  0  0  0  0  0  0  0\\n   -2.6514   -0.0242   -2.1154 H   0  0  0  0  0  0  0  0  0  0  0  0\\n  1  2  2  0\\n  2  3  1  0\\n  3  4  2  0\\n  4  5  1  0\\n  5  6  1  0\\n  6  7  1  0\\n  7  8  1  0\\n  8  9  2  0\\n  9 10  1  0\\n 10 11  1  0\\n  8 12  1  0\\n 11 12  1  0\\n  6 13  1  0\\n 13 14  2  0\\n 14 15  1  0\\n 15 16  2  0\\n 16 17  1  0\\n 13 18  1  0\\n 17 18  2  0\\n  4 19  1  0\\n  1 20  1  0\\n 19 20  2  0\\n  1 21  1  0\\n  2 22  1  0\\n  3 23  1  0\\n  5 24  1  0\\n  5 25  1  0\\n  7 26  1  0\\n  7 27  1  0\\n 10 28  1  0\\n 10 29  1  0\\n 11 30  1  0\\n 11 31  1  0\\n 12 32  1  0\\n 14 33  1  0\\n 15 34  1  0\\n 16 35  1  0\\n 17 36  1  0\\n 18 37  1  0\\n 19 38  1  0\\n 20 39  1  0\\nM  END\\n\",\"sdf\");\n\tviewergrid_17382594722222133[0][0].setStyle({\"stick\": {}});\n\tviewergrid_17382594722222133[0][0].addLabel(\"conforge:104.8\");\n\tviewergrid_17382594722222133[0][1].removeAllModels();\n\tviewergrid_17382594722222133[0][1].addModel(\"\\n     RDKit          3D\\n\\n 39 41  0  0  0  0  0  0  0  0999 V2000\\n   -2.8620   -0.0009    0.0236 C   0  0  0  0  0  0  0  0  0  0  0  0\\n   -2.1138    0.0010    1.2110 C   0  0  0  0  0  0  0  0  0  0  0  0\\n   -0.7111    0.0000    1.2027 C   0  0  0  0  0  0  0  0  0  0  0  0\\n    0.0000    0.0000    0.0000 C   0  0  0  0  0  0  0  0  0  0  0  0\\n    1.4860    0.0000    0.0000 C   0  0  0  0  0  0  0  0  0  0  0  0\\n    2.1009   -1.2863   -0.2412 N   0  0  0  0  0  0  0  0  0  0  0  0\\n    2.3454   -2.1481    0.8940 C   0  0  0  0  0  0  0  0  0  0  0  0\\n    3.4306   -1.6174    1.7696 C   0  0  0  0  0  0  0  0  0  0  0  0\\n    3.2498   -1.3238    3.0283 N   0  0  0  0  0  0  0  0  0  0  0  0\\n    4.6018   -0.8458    3.4612 C   0  0  0  0  0  0  0  0  0  0  0  0\\n    5.5430   -0.9120    2.2442 C   0  0  0  0  0  0  0  0  0  0  0  0\\n    4.6688   -1.4423    1.2416 N   0  0  0  0  0  0  0  0  0  0  0  0\\n    2.2098   -1.7706   -1.5482 C   0  0  0  0  0  0  0  0  0  0  0  0\\n    1.9718   -0.9313   -2.6395 C   0  0  0  0  0  0  0  0  0  0  0  0\\n    2.0800   -1.4094   -3.9538 C   0  0  0  0  0  0  0  0  0  0  0  0\\n    2.4261   -2.7407   -4.2320 C   0  0  0  0  0  0  0  0  0  0  0  0\\n    2.6445   -3.5610   -3.1083 C   0  0  0  0  0  0  0  0  0  0  0  0\\n    2.5390   -3.1041   -1.7876 C   0  0  0  0  0  0  0  0  0  0  0  0\\n   -0.7114   -0.0194   -1.1991 C   0  0  0  0  0  0  0  0  0  0  0  0\\n   -2.1126   -0.0155   -1.1687 C   0  0  0  0  0  0  0  0  0  0  0  0\\n   -3.9439   -0.0005    0.0237 H   0  0  0  0  0  0  0  0  0  0  0  0\\n   -2.6026   -0.0043    2.1820 H   0  0  0  0  0  0  0  0  0  0  0  0\\n   -0.1814   -0.0042    2.1525 H   0  0  0  0  0  0  0  0  0  0  0  0\\n    1.8798    0.7482   -0.6985 H   0  0  0  0  0  0  0  0  0  0  0  0\\n    1.8118    0.3377    0.9921 H   0  0  0  0  0  0  0  0  0  0  0  0\\n    2.4479   -3.2388    0.8595 H   0  0  0  0  0  0  0  0  0  0  0  0\\n    1.3685   -1.9282    1.3367 H   0  0  0  0  0  0  0  0  0  0  0  0\\n    4.9678   -1.4829    4.2734 H   0  0  0  0  0  0  0  0  0  0  0  0\\n    4.5219    0.1793    3.8383 H   0  0  0  0  0  0  0  0  0  0  0  0\\n    5.9097    0.0811    1.9688 H   0  0  0  0  0  0  0  0  0  0  0  0\\n    6.3927   -1.5754    2.4296 H   0  0  0  0  0  0  0  0  0  0  0  0\\n    4.9474   -1.6200    0.2844 H   0  0  0  0  0  0  0  0  0  0  0  0\\n    1.6948    0.1084   -2.4811 H   0  0  0  0  0  0  0  0  0  0  0  0\\n    1.8759   -0.7037   -4.7552 H   0  0  0  0  0  0  0  0  0  0  0  0\\n    2.5107   -3.1152   -5.2436 H   0  0  0  0  0  0  0  0  0  0  0  0\\n    2.9089   -4.6044   -3.2761 H   0  0  0  0  0  0  0  0  0  0  0  0\\n    2.7164   -3.7766   -0.9515 H   0  0  0  0  0  0  0  0  0  0  0  0\\n   -0.1765   -0.0317   -2.1459 H   0  0  0  0  0  0  0  0  0  0  0  0\\n   -2.6514   -0.0242   -2.1154 H   0  0  0  0  0  0  0  0  0  0  0  0\\n  1  2  2  0\\n  2  3  1  0\\n  3  4  2  0\\n  4  5  1  0\\n  5  6  1  0\\n  6  7  1  0\\n  7  8  1  0\\n  8  9  2  0\\n  9 10  1  0\\n 10 11  1  0\\n 11 12  1  0\\n  6 13  1  0\\n 13 14  2  0\\n 14 15  1  0\\n 15 16  2  0\\n 16 17  1  0\\n 17 18  2  0\\n  4 19  1  0\\n 19 20  2  0\\n 20  1  1  0\\n 12  8  1  0\\n 18 13  1  0\\n  1 21  1  0\\n  2 22  1  0\\n  3 23  1  0\\n  5 24  1  0\\n  5 25  1  0\\n  7 26  1  0\\n  7 27  1  0\\n 10 28  1  0\\n 10 29  1  0\\n 11 30  1  0\\n 11 31  1  0\\n 12 32  1  0\\n 14 33  1  0\\n 15 34  1  0\\n 16 35  1  0\\n 17 36  1  0\\n 18 37  1  0\\n 19 38  1  0\\n 20 39  1  0\\nM  END\\n\",\"sdf\");\n\tviewergrid_17382594722222133[0][1].setStyle({\"stick\": {}});\n\tviewergrid_17382594722222133[0][1].addLabel(\"dih:111.9\");\n\tviewergrid_17382594722222133[0][2].removeAllModels();\n\tviewergrid_17382594722222133[0][2].addModel(\"\\n     RDKit          3D\\n\\n 39 41  0  0  0  0  0  0  0  0999 V2000\\n   -2.7287    0.2156    0.1762 C   0  0  0  0  0  0  0  0  0  0  0  0\\n   -2.1071   -0.2355    1.1646 C   0  0  0  0  0  0  0  0  0  0  0  0\\n   -0.5494   -0.6270    0.9718 C   0  0  0  0  0  0  0  0  0  0  0  0\\n   -0.1358    0.2330   -0.0932 C   0  0  0  0  0  0  0  0  0  0  0  0\\n    1.4931   -0.0162    0.2119 C   0  0  0  0  0  0  0  0  0  0  0  0\\n    2.2767   -1.1573   -0.2203 N   0  0  0  0  0  0  0  0  0  0  0  0\\n    2.5940   -1.8736    1.2614 C   0  0  0  0  0  0  0  0  0  0  0  0\\n    3.9927   -1.2854    1.9088 C   0  0  0  0  0  0  0  0  0  0  0  0\\n    3.4033   -1.3067    3.0713 N   0  0  0  0  0  0  0  0  0  0  0  0\\n    5.0385   -0.3845    3.1870 C   0  0  0  0  0  0  0  0  0  0  0  0\\n    5.6733   -0.5338    2.1329 C   0  0  0  0  0  0  0  0  0  0  0  0\\n    4.1603   -0.9777    1.2425 N   0  0  0  0  0  0  0  0  0  0  0  0\\n    2.4330   -1.7799   -0.9599 C   0  0  0  0  0  0  0  0  0  0  0  0\\n    2.0825   -1.2052   -2.5214 C   0  0  0  0  0  0  0  0  0  0  0  0\\n    2.3303   -1.6259   -3.8933 C   0  0  0  0  0  0  0  0  0  0  0  0\\n    2.8161   -3.2501   -3.7228 C   0  0  0  0  0  0  0  0  0  0  0  0\\n    3.1525   -3.5863   -2.6494 C   0  0  0  0  0  0  0  0  0  0  0  0\\n    2.9745   -3.7963   -1.6283 C   0  0  0  0  0  0  0  0  0  0  0  0\\n   -0.6334   -0.0899   -0.9245 C   0  0  0  0  0  0  0  0  0  0  0  0\\n   -2.0427    0.3009   -0.9638 C   0  0  0  0  0  0  0  0  0  0  0  0\\n   -4.3885    0.2740    0.4426 H   0  0  0  0  0  0  0  0  0  0  0  0\\n   -3.1286   -0.4033    2.3056 H   0  0  0  0  0  0  0  0  0  0  0  0\\n   -0.3206   -0.1336    2.2296 H   0  0  0  0  0  0  0  0  0  0  0  0\\n    1.4668    0.5238   -0.6236 H   0  0  0  0  0  0  0  0  0  0  0  0\\n    1.8527    0.6436    1.2992 H   0  0  0  0  0  0  0  0  0  0  0  0\\n    2.6963   -2.9990    0.8478 H   0  0  0  0  0  0  0  0  0  0  0  0\\n    1.4484   -1.8984    1.6584 H   0  0  0  0  0  0  0  0  0  0  0  0\\n    5.4026   -1.4550    4.1669 H   0  0  0  0  0  0  0  0  0  0  0  0\\n    4.8901    0.3731    3.3086 H   0  0  0  0  0  0  0  0  0  0  0  0\\n    6.4030    0.3937    1.3603 H   0  0  0  0  0  0  0  0  0  0  0  0\\n    6.7153   -1.1577    1.9438 H   0  0  0  0  0  0  0  0  0  0  0  0\\n    4.6512   -1.3018   -0.0279 H   0  0  0  0  0  0  0  0  0  0  0  0\\n    1.2732   -0.3464   -2.3459 H   0  0  0  0  0  0  0  0  0  0  0  0\\n    2.4155   -1.1812   -4.8118 H   0  0  0  0  0  0  0  0  0  0  0  0\\n    3.1207   -3.2994   -5.1692 H   0  0  0  0  0  0  0  0  0  0  0  0\\n    3.8022   -4.5239   -2.7033 H   0  0  0  0  0  0  0  0  0  0  0  0\\n    3.4641   -3.4389   -0.6898 H   0  0  0  0  0  0  0  0  0  0  0  0\\n   -0.1376   -0.3978   -2.6858 H   0  0  0  0  0  0  0  0  0  0  0  0\\n   -2.8386   -0.1154   -2.0985 H   0  0  0  0  0  0  0  0  0  0  0  0\\n  1  2  2  0\\n  2  3  1  0\\n  3  4  2  0\\n  4  5  1  0\\n  5  6  1  0\\n  6  7  1  0\\n  7  8  1  0\\n  8  9  2  0\\n  9 10  1  0\\n 10 11  1  0\\n 11 12  1  0\\n  6 13  1  0\\n 13 14  2  0\\n 14 15  1  0\\n 15 16  2  0\\n 16 17  1  0\\n 17 18  2  0\\n  4 19  1  0\\n 19 20  2  0\\n 20  1  1  0\\n 12  8  1  0\\n 18 13  1  0\\n  1 21  1  0\\n  2 22  1  0\\n  3 23  1  0\\n  5 24  1  0\\n  5 25  1  0\\n  7 26  1  0\\n  7 27  1  0\\n 10 28  1  0\\n 10 29  1  0\\n 11 30  1  0\\n 11 31  1  0\\n 12 32  1  0\\n 14 33  1  0\\n 15 34  1  0\\n 16 35  1  0\\n 17 36  1  0\\n 18 37  1  0\\n 19 38  1  0\\n 20 39  1  0\\nM  END\\n\",\"sdf\");\n\tviewergrid_17382594722222133[0][2].setStyle({\"stick\": {}});\n\tviewergrid_17382594722222133[0][2].addLabel(\"dih+cords:2614.8\");\n\tviewergrid_17382594722222133[0][0].zoomTo();\n\tviewergrid_17382594722222133[0][1].zoomTo();\n\tviewergrid_17382594722222133[0][2].zoomTo();\nviewergrid_17382594722222133[0][2].render();\nviewergrid_17382594722222133[0][1].render();\nviewergrid_17382594722222133[0][0].render();\n});\n</script>",
      "text/html": [
       "<div id=\"3dmolviewer_17382594722222133\"  style=\"position: relative; width: 1800px; height: 400px;\">\n",
       "        <p id=\"3dmolwarning_17382594722222133\" style=\"background-color:#ffcccc;color:black\">3Dmol.js failed to load for some reason.  Please check your browser console for error messages.<br></p>\n",
       "        </div>\n",
       "<script>\n",
       "\n",
       "var loadScriptAsync = function(uri){\n",
       "  return new Promise((resolve, reject) => {\n",
       "    //this is to ignore the existence of requirejs amd\n",
       "    var savedexports, savedmodule;\n",
       "    if (typeof exports !== 'undefined') savedexports = exports;\n",
       "    else exports = {}\n",
       "    if (typeof module !== 'undefined') savedmodule = module;\n",
       "    else module = {}\n",
       "\n",
       "    var tag = document.createElement('script');\n",
       "    tag.src = uri;\n",
       "    tag.async = true;\n",
       "    tag.onload = () => {\n",
       "        exports = savedexports;\n",
       "        module = savedmodule;\n",
       "        resolve();\n",
       "    };\n",
       "  var firstScriptTag = document.getElementsByTagName('script')[0];\n",
       "  firstScriptTag.parentNode.insertBefore(tag, firstScriptTag);\n",
       "});\n",
       "};\n",
       "\n",
       "if(typeof $3Dmolpromise === 'undefined') {\n",
       "$3Dmolpromise = null;\n",
       "  $3Dmolpromise = loadScriptAsync('https://cdnjs.cloudflare.com/ajax/libs/3Dmol/2.4.0/3Dmol-min.js');\n",
       "}\n",
       "\n",
       "var viewer_17382594722222133 = null;\n",
       "var warn = document.getElementById(\"3dmolwarning_17382594722222133\");\n",
       "if(warn) {\n",
       "    warn.parentNode.removeChild(warn);\n",
       "}\n",
       "$3Dmolpromise.then(function() {\n",
       "var viewergrid_17382594722222133 = null;\n",
       "viewergrid_17382594722222133 = $3Dmol.createViewerGrid(document.getElementById(\"3dmolviewer_17382594722222133\"),{rows: 1, cols: 3, control_all: true},{backgroundColor:\"white\"});\n",
       "viewer_17382594722222133 = viewergrid_17382594722222133[0][0];\n",
       "viewergrid_17382594722222133[0][0].zoomTo();viewergrid_17382594722222133[0][1].zoomTo();viewergrid_17382594722222133[0][2].zoomTo();\tviewergrid_17382594722222133[0][0].removeAllModels();\n",
       "\tviewergrid_17382594722222133[0][0].addModel(\"\\n     RDKit          3D\\n\\n 39 41  0  0  0  0  0  0  0  0999 V2000\\n   -2.8620   -0.0009    0.0236 C   0  0  0  0  0  0  0  0  0  0  0  0\\n   -2.1138    0.0010    1.2110 C   0  0  0  0  0  0  0  0  0  0  0  0\\n   -0.7111    0.0000    1.2027 C   0  0  0  0  0  0  0  0  0  0  0  0\\n    0.0000    0.0000    0.0000 C   0  0  0  0  0  0  0  0  0  0  0  0\\n    1.4860   -0.0000    0.0000 C   0  0  0  0  0  0  0  0  0  0  0  0\\n    2.1009   -1.3087    0.0000 N   0  0  0  0  0  0  0  0  0  0  0  0\\n    1.9958   -2.1108    1.1986 C   0  0  0  0  0  0  0  0  0  0  0  0\\n    2.8156   -1.5526    2.3132 C   0  0  0  0  0  0  0  0  0  0  0  0\\n    2.3058   -1.1866    3.4574 N   0  0  0  0  0  0  0  0  0  0  0  0\\n    3.5018   -0.7103    4.2232 C   0  0  0  0  0  0  0  0  0  0  0  0\\n    4.7384   -0.8609    3.3179 C   0  0  0  0  0  0  0  0  0  0  0  0\\n    4.1563   -1.4296    2.1396 N   0  0  0  0  0  0  0  0  0  0  0  0\\n    2.7777   -1.7850   -1.1268 C   0  0  0  0  0  0  0  0  0  0  0  0\\n    2.8746   -1.0037   -2.2810 C   0  0  0  0  0  0  0  0  0  0  0  0\\n    3.5528   -1.4741   -3.4152 C   0  0  0  0  0  0  0  0  0  0  0  0\\n    4.1575   -2.7402   -3.4452 C   0  0  0  0  0  0  0  0  0  0  0  0\\n    4.0275   -3.5054   -2.2701 C   0  0  0  0  0  0  0  0  0  0  0  0\\n    3.3521   -3.0555   -1.1274 C   0  0  0  0  0  0  0  0  0  0  0  0\\n   -0.7114   -0.0194   -1.1991 C   0  0  0  0  0  0  0  0  0  0  0  0\\n   -2.1126   -0.0155   -1.1687 C   0  0  0  0  0  0  0  0  0  0  0  0\\n   -3.9439   -0.0005    0.0237 H   0  0  0  0  0  0  0  0  0  0  0  0\\n   -2.6026   -0.0043    2.1820 H   0  0  0  0  0  0  0  0  0  0  0  0\\n   -0.1814   -0.0042    2.1525 H   0  0  0  0  0  0  0  0  0  0  0  0\\n    1.8798    0.6067   -0.8244 H   0  0  0  0  0  0  0  0  0  0  0  0\\n    1.8118    0.5147    0.9129 H   0  0  0  0  0  0  0  0  0  0  0  0\\n    2.3494   -3.1295    1.0021 H   0  0  0  0  0  0  0  0  0  0  0  0\\n    0.9482   -2.1854    1.5078 H   0  0  0  0  0  0  0  0  0  0  0  0\\n    3.6096   -1.3082    5.1345 H   0  0  0  0  0  0  0  0  0  0  0  0\\n    3.3552    0.3354    4.5139 H   0  0  0  0  0  0  0  0  0  0  0  0\\n    5.1990    0.1086    3.1070 H   0  0  0  0  0  0  0  0  0  0  0  0\\n    5.4823   -1.5285    3.7622 H   0  0  0  0  0  0  0  0  0  0  0  0\\n    4.6810   -1.6650    1.3062 H   0  0  0  0  0  0  0  0  0  0  0  0\\n    2.4193   -0.0166   -2.3144 H   0  0  0  0  0  0  0  0  0  0  0  0\\n    3.5851   -0.8164   -4.2803 H   0  0  0  0  0  0  0  0  0  0  0  0\\n    4.6815   -3.1085   -4.3172 H   0  0  0  0  0  0  0  0  0  0  0  0\\n    4.4755   -4.4981   -2.2499 H   0  0  0  0  0  0  0  0  0  0  0  0\\n    3.2774   -3.6840   -0.2430 H   0  0  0  0  0  0  0  0  0  0  0  0\\n   -0.1765   -0.0317   -2.1459 H   0  0  0  0  0  0  0  0  0  0  0  0\\n   -2.6514   -0.0242   -2.1154 H   0  0  0  0  0  0  0  0  0  0  0  0\\n  1  2  2  0\\n  2  3  1  0\\n  3  4  2  0\\n  4  5  1  0\\n  5  6  1  0\\n  6  7  1  0\\n  7  8  1  0\\n  8  9  2  0\\n  9 10  1  0\\n 10 11  1  0\\n  8 12  1  0\\n 11 12  1  0\\n  6 13  1  0\\n 13 14  2  0\\n 14 15  1  0\\n 15 16  2  0\\n 16 17  1  0\\n 13 18  1  0\\n 17 18  2  0\\n  4 19  1  0\\n  1 20  1  0\\n 19 20  2  0\\n  1 21  1  0\\n  2 22  1  0\\n  3 23  1  0\\n  5 24  1  0\\n  5 25  1  0\\n  7 26  1  0\\n  7 27  1  0\\n 10 28  1  0\\n 10 29  1  0\\n 11 30  1  0\\n 11 31  1  0\\n 12 32  1  0\\n 14 33  1  0\\n 15 34  1  0\\n 16 35  1  0\\n 17 36  1  0\\n 18 37  1  0\\n 19 38  1  0\\n 20 39  1  0\\nM  END\\n\",\"sdf\");\n",
       "\tviewergrid_17382594722222133[0][0].setStyle({\"stick\": {}});\n",
       "\tviewergrid_17382594722222133[0][0].addLabel(\"conforge:104.8\");\n",
       "\tviewergrid_17382594722222133[0][1].removeAllModels();\n",
       "\tviewergrid_17382594722222133[0][1].addModel(\"\\n     RDKit          3D\\n\\n 39 41  0  0  0  0  0  0  0  0999 V2000\\n   -2.8620   -0.0009    0.0236 C   0  0  0  0  0  0  0  0  0  0  0  0\\n   -2.1138    0.0010    1.2110 C   0  0  0  0  0  0  0  0  0  0  0  0\\n   -0.7111    0.0000    1.2027 C   0  0  0  0  0  0  0  0  0  0  0  0\\n    0.0000    0.0000    0.0000 C   0  0  0  0  0  0  0  0  0  0  0  0\\n    1.4860    0.0000    0.0000 C   0  0  0  0  0  0  0  0  0  0  0  0\\n    2.1009   -1.2863   -0.2412 N   0  0  0  0  0  0  0  0  0  0  0  0\\n    2.3454   -2.1481    0.8940 C   0  0  0  0  0  0  0  0  0  0  0  0\\n    3.4306   -1.6174    1.7696 C   0  0  0  0  0  0  0  0  0  0  0  0\\n    3.2498   -1.3238    3.0283 N   0  0  0  0  0  0  0  0  0  0  0  0\\n    4.6018   -0.8458    3.4612 C   0  0  0  0  0  0  0  0  0  0  0  0\\n    5.5430   -0.9120    2.2442 C   0  0  0  0  0  0  0  0  0  0  0  0\\n    4.6688   -1.4423    1.2416 N   0  0  0  0  0  0  0  0  0  0  0  0\\n    2.2098   -1.7706   -1.5482 C   0  0  0  0  0  0  0  0  0  0  0  0\\n    1.9718   -0.9313   -2.6395 C   0  0  0  0  0  0  0  0  0  0  0  0\\n    2.0800   -1.4094   -3.9538 C   0  0  0  0  0  0  0  0  0  0  0  0\\n    2.4261   -2.7407   -4.2320 C   0  0  0  0  0  0  0  0  0  0  0  0\\n    2.6445   -3.5610   -3.1083 C   0  0  0  0  0  0  0  0  0  0  0  0\\n    2.5390   -3.1041   -1.7876 C   0  0  0  0  0  0  0  0  0  0  0  0\\n   -0.7114   -0.0194   -1.1991 C   0  0  0  0  0  0  0  0  0  0  0  0\\n   -2.1126   -0.0155   -1.1687 C   0  0  0  0  0  0  0  0  0  0  0  0\\n   -3.9439   -0.0005    0.0237 H   0  0  0  0  0  0  0  0  0  0  0  0\\n   -2.6026   -0.0043    2.1820 H   0  0  0  0  0  0  0  0  0  0  0  0\\n   -0.1814   -0.0042    2.1525 H   0  0  0  0  0  0  0  0  0  0  0  0\\n    1.8798    0.7482   -0.6985 H   0  0  0  0  0  0  0  0  0  0  0  0\\n    1.8118    0.3377    0.9921 H   0  0  0  0  0  0  0  0  0  0  0  0\\n    2.4479   -3.2388    0.8595 H   0  0  0  0  0  0  0  0  0  0  0  0\\n    1.3685   -1.9282    1.3367 H   0  0  0  0  0  0  0  0  0  0  0  0\\n    4.9678   -1.4829    4.2734 H   0  0  0  0  0  0  0  0  0  0  0  0\\n    4.5219    0.1793    3.8383 H   0  0  0  0  0  0  0  0  0  0  0  0\\n    5.9097    0.0811    1.9688 H   0  0  0  0  0  0  0  0  0  0  0  0\\n    6.3927   -1.5754    2.4296 H   0  0  0  0  0  0  0  0  0  0  0  0\\n    4.9474   -1.6200    0.2844 H   0  0  0  0  0  0  0  0  0  0  0  0\\n    1.6948    0.1084   -2.4811 H   0  0  0  0  0  0  0  0  0  0  0  0\\n    1.8759   -0.7037   -4.7552 H   0  0  0  0  0  0  0  0  0  0  0  0\\n    2.5107   -3.1152   -5.2436 H   0  0  0  0  0  0  0  0  0  0  0  0\\n    2.9089   -4.6044   -3.2761 H   0  0  0  0  0  0  0  0  0  0  0  0\\n    2.7164   -3.7766   -0.9515 H   0  0  0  0  0  0  0  0  0  0  0  0\\n   -0.1765   -0.0317   -2.1459 H   0  0  0  0  0  0  0  0  0  0  0  0\\n   -2.6514   -0.0242   -2.1154 H   0  0  0  0  0  0  0  0  0  0  0  0\\n  1  2  2  0\\n  2  3  1  0\\n  3  4  2  0\\n  4  5  1  0\\n  5  6  1  0\\n  6  7  1  0\\n  7  8  1  0\\n  8  9  2  0\\n  9 10  1  0\\n 10 11  1  0\\n 11 12  1  0\\n  6 13  1  0\\n 13 14  2  0\\n 14 15  1  0\\n 15 16  2  0\\n 16 17  1  0\\n 17 18  2  0\\n  4 19  1  0\\n 19 20  2  0\\n 20  1  1  0\\n 12  8  1  0\\n 18 13  1  0\\n  1 21  1  0\\n  2 22  1  0\\n  3 23  1  0\\n  5 24  1  0\\n  5 25  1  0\\n  7 26  1  0\\n  7 27  1  0\\n 10 28  1  0\\n 10 29  1  0\\n 11 30  1  0\\n 11 31  1  0\\n 12 32  1  0\\n 14 33  1  0\\n 15 34  1  0\\n 16 35  1  0\\n 17 36  1  0\\n 18 37  1  0\\n 19 38  1  0\\n 20 39  1  0\\nM  END\\n\",\"sdf\");\n",
       "\tviewergrid_17382594722222133[0][1].setStyle({\"stick\": {}});\n",
       "\tviewergrid_17382594722222133[0][1].addLabel(\"dih:111.9\");\n",
       "\tviewergrid_17382594722222133[0][2].removeAllModels();\n",
       "\tviewergrid_17382594722222133[0][2].addModel(\"\\n     RDKit          3D\\n\\n 39 41  0  0  0  0  0  0  0  0999 V2000\\n   -2.7287    0.2156    0.1762 C   0  0  0  0  0  0  0  0  0  0  0  0\\n   -2.1071   -0.2355    1.1646 C   0  0  0  0  0  0  0  0  0  0  0  0\\n   -0.5494   -0.6270    0.9718 C   0  0  0  0  0  0  0  0  0  0  0  0\\n   -0.1358    0.2330   -0.0932 C   0  0  0  0  0  0  0  0  0  0  0  0\\n    1.4931   -0.0162    0.2119 C   0  0  0  0  0  0  0  0  0  0  0  0\\n    2.2767   -1.1573   -0.2203 N   0  0  0  0  0  0  0  0  0  0  0  0\\n    2.5940   -1.8736    1.2614 C   0  0  0  0  0  0  0  0  0  0  0  0\\n    3.9927   -1.2854    1.9088 C   0  0  0  0  0  0  0  0  0  0  0  0\\n    3.4033   -1.3067    3.0713 N   0  0  0  0  0  0  0  0  0  0  0  0\\n    5.0385   -0.3845    3.1870 C   0  0  0  0  0  0  0  0  0  0  0  0\\n    5.6733   -0.5338    2.1329 C   0  0  0  0  0  0  0  0  0  0  0  0\\n    4.1603   -0.9777    1.2425 N   0  0  0  0  0  0  0  0  0  0  0  0\\n    2.4330   -1.7799   -0.9599 C   0  0  0  0  0  0  0  0  0  0  0  0\\n    2.0825   -1.2052   -2.5214 C   0  0  0  0  0  0  0  0  0  0  0  0\\n    2.3303   -1.6259   -3.8933 C   0  0  0  0  0  0  0  0  0  0  0  0\\n    2.8161   -3.2501   -3.7228 C   0  0  0  0  0  0  0  0  0  0  0  0\\n    3.1525   -3.5863   -2.6494 C   0  0  0  0  0  0  0  0  0  0  0  0\\n    2.9745   -3.7963   -1.6283 C   0  0  0  0  0  0  0  0  0  0  0  0\\n   -0.6334   -0.0899   -0.9245 C   0  0  0  0  0  0  0  0  0  0  0  0\\n   -2.0427    0.3009   -0.9638 C   0  0  0  0  0  0  0  0  0  0  0  0\\n   -4.3885    0.2740    0.4426 H   0  0  0  0  0  0  0  0  0  0  0  0\\n   -3.1286   -0.4033    2.3056 H   0  0  0  0  0  0  0  0  0  0  0  0\\n   -0.3206   -0.1336    2.2296 H   0  0  0  0  0  0  0  0  0  0  0  0\\n    1.4668    0.5238   -0.6236 H   0  0  0  0  0  0  0  0  0  0  0  0\\n    1.8527    0.6436    1.2992 H   0  0  0  0  0  0  0  0  0  0  0  0\\n    2.6963   -2.9990    0.8478 H   0  0  0  0  0  0  0  0  0  0  0  0\\n    1.4484   -1.8984    1.6584 H   0  0  0  0  0  0  0  0  0  0  0  0\\n    5.4026   -1.4550    4.1669 H   0  0  0  0  0  0  0  0  0  0  0  0\\n    4.8901    0.3731    3.3086 H   0  0  0  0  0  0  0  0  0  0  0  0\\n    6.4030    0.3937    1.3603 H   0  0  0  0  0  0  0  0  0  0  0  0\\n    6.7153   -1.1577    1.9438 H   0  0  0  0  0  0  0  0  0  0  0  0\\n    4.6512   -1.3018   -0.0279 H   0  0  0  0  0  0  0  0  0  0  0  0\\n    1.2732   -0.3464   -2.3459 H   0  0  0  0  0  0  0  0  0  0  0  0\\n    2.4155   -1.1812   -4.8118 H   0  0  0  0  0  0  0  0  0  0  0  0\\n    3.1207   -3.2994   -5.1692 H   0  0  0  0  0  0  0  0  0  0  0  0\\n    3.8022   -4.5239   -2.7033 H   0  0  0  0  0  0  0  0  0  0  0  0\\n    3.4641   -3.4389   -0.6898 H   0  0  0  0  0  0  0  0  0  0  0  0\\n   -0.1376   -0.3978   -2.6858 H   0  0  0  0  0  0  0  0  0  0  0  0\\n   -2.8386   -0.1154   -2.0985 H   0  0  0  0  0  0  0  0  0  0  0  0\\n  1  2  2  0\\n  2  3  1  0\\n  3  4  2  0\\n  4  5  1  0\\n  5  6  1  0\\n  6  7  1  0\\n  7  8  1  0\\n  8  9  2  0\\n  9 10  1  0\\n 10 11  1  0\\n 11 12  1  0\\n  6 13  1  0\\n 13 14  2  0\\n 14 15  1  0\\n 15 16  2  0\\n 16 17  1  0\\n 17 18  2  0\\n  4 19  1  0\\n 19 20  2  0\\n 20  1  1  0\\n 12  8  1  0\\n 18 13  1  0\\n  1 21  1  0\\n  2 22  1  0\\n  3 23  1  0\\n  5 24  1  0\\n  5 25  1  0\\n  7 26  1  0\\n  7 27  1  0\\n 10 28  1  0\\n 10 29  1  0\\n 11 30  1  0\\n 11 31  1  0\\n 12 32  1  0\\n 14 33  1  0\\n 15 34  1  0\\n 16 35  1  0\\n 17 36  1  0\\n 18 37  1  0\\n 19 38  1  0\\n 20 39  1  0\\nM  END\\n\",\"sdf\");\n",
       "\tviewergrid_17382594722222133[0][2].setStyle({\"stick\": {}});\n",
       "\tviewergrid_17382594722222133[0][2].addLabel(\"dih+cords:2614.8\");\n",
       "\tviewergrid_17382594722222133[0][0].zoomTo();\n",
       "\tviewergrid_17382594722222133[0][1].zoomTo();\n",
       "\tviewergrid_17382594722222133[0][2].zoomTo();\n",
       "viewergrid_17382594722222133[0][2].render();\n",
       "viewergrid_17382594722222133[0][1].render();\n",
       "viewergrid_17382594722222133[0][0].render();\n",
       "});\n",
       "</script>"
      ]
     },
     "metadata": {},
     "output_type": "display_data"
    }
   ],
   "source": [
    "input_data = '/home/nobilm@usi.ch/pretrain_paper/data/halicin_data.csv'\n",
    "smiles,targets = get_smiles_and_targets_from_csv(input_data)\n",
    "max_confs = 1\n",
    "n_confs_to_keep = 1\n",
    "\n",
    "\n",
    "idx = 1501\n",
    "smiles,targets = [smiles[idx]],[targets[idx]]\n",
    "\n",
    "conf_generator = get_conformer_generator()\n",
    "for s,y in tqdm(zip(smiles, targets), total=len(smiles)):\n",
    "    s = drop_disconnected_components(s)\n",
    "    conformers = generate_conformers(s, conf_generator)\n",
    "    if not conformers: continue\n",
    "    mol2pyg_kwargs = {\"max_energy\": max((get_energy(m) for m in conformers))}\n",
    "    pyg_mol_confs = mols2pyg_list_with_targets(conformers, [s]*len(conformers), [y]*len(conformers), **mol2pyg_kwargs)\n",
    "    dc_pyg_mol_confs = deepcopy(pyg_mol_confs)\n",
    "    out_dihedrals_only = frad(pyg_mol_confs[0], add_coords_noise=False)\n",
    "    out = frad(dc_pyg_mol_confs[0])\n",
    "\n",
    "d = OrderedDict()\n",
    "# d[\"rdkit_conf\"]=rdkit_generate_conformers(preprocess_mol(rdChem.MolFromSmiles(smiles[0], smi_reader_params())),num_conformers=1)[0]\n",
    "d[\"conforge\"]=conformers[0]\n",
    "d[\"dih\"]=pyg2mol(out_dihedrals_only)\n",
    "d[\"dih+cords\"]=pyg2mol(out)\n",
    "\n",
    "mols,titles = [],[]\n",
    "for k,v in d.items():\n",
    "    mols.append(v)\n",
    "    titles.append(f\"{k}:{get_energy(v):.1f}\")\n",
    "\n",
    "visualize_3d_mols(mols,titles=titles, width=1800, height=400)"
   ]
  },
  {
   "cell_type": "code",
   "execution_count": 32,
   "metadata": {},
   "outputs": [
    {
     "data": {
      "text/plain": [
       "tensor([[ 0,  1,  2, 28],\n",
       "        [ 4,  3,  1,  0],\n",
       "        [ 8,  7,  6,  5],\n",
       "        [11, 10,  9,  8],\n",
       "        [10, 15, 16, 35],\n",
       "        [20, 19, 18,  7],\n",
       "        [19, 24, 25, 40]])"
      ]
     },
     "execution_count": 32,
     "metadata": {},
     "output_type": "execute_result"
    }
   ],
   "source": [
    "out.rotable_bonds"
   ]
  },
  {
   "cell_type": "code",
   "execution_count": 13,
   "metadata": {},
   "outputs": [],
   "source": [
    "# input_data = '/home/nobilm@usi.ch/pretrain_paper/data/halicin_data.csv'\n",
    "# smiles,targets = get_smiles_and_targets_from_csv(input_data)\n",
    "# max_confs = 1\n",
    "# n_confs_to_keep = 1\n",
    "# idx = 2\n",
    "# smiles,targets = [smiles[idx]],[targets[idx]]\n",
    "# conf_generator = get_conformer_generator(max_confs=max_confs)\n",
    "# smiles = [drop_disconnected_components(s) for s in smiles]\n",
    "\n",
    "# for s,y in tqdm(zip(smiles, targets), total=len(smiles)):\n",
    "#   conformers = generate_conformers(s, conf_generator, n_confs_to_keep)\n",
    "#   mol2pyg_kwargs = {\"max_energy\": max((get_energy(m) for m in conformers))}\n",
    "#   pyg_mol_confs = mols2pyg_list_with_targets(conformers, [s]*len(conformers), [y]*len(conformers), **mol2pyg_kwargs)\n",
    "#   out_dihedrals_only = frad(pyg_mol_confs[0], add_coords_noise=False)\n",
    "#   out = frad(pyg_mol_confs[0]) #, add_coords_noise=False)\n",
    "# d = OrderedDict()\n",
    "# d[\"rdkit_conf\"]=rdkit_generate_conformers(preprocess_mol(rdChem.MolFromSmiles(smiles[0], smi_reader_params())),num_conformers=1)[0]\n",
    "# d[\"conforge\"]=conformers[0]\n",
    "# d[\"dih\"]=pyg2mol(out_dihedrals_only)\n",
    "# d[\"dih+cords\"]=pyg2mol(out)\n",
    "\n",
    "# mols,titles = [],[]\n",
    "# for k,v in d.items():\n",
    "#   mols.append(v)\n",
    "#   titles.append(f\"{k}:{get_energy(v):.1f}\")\n",
    "\n",
    "# visualize_3d_mols(mols,titles=titles, width=2200, height=500)"
   ]
  },
  {
   "cell_type": "markdown",
   "metadata": {},
   "source": [
    "# test read write npz"
   ]
  },
  {
   "cell_type": "code",
   "execution_count": 7,
   "metadata": {},
   "outputs": [
    {
     "name": "stdout",
     "output_type": "stream",
     "text": [
      "coords (2, 45, 3)\n",
      "atom_types (45,)\n",
      "group (45,)\n",
      "period (45,)\n",
      "hybridization (45,)\n",
      "chirality (45,)\n",
      "is_aromatic (45,)\n",
      "is_in_ring (45,)\n",
      "smiles ()\n",
      "adj_matrix (45, 45)\n",
      "max_energy ()\n",
      "graph_labels ()\n"
     ]
    },
    {
     "data": {
      "text/plain": [
       "(array('COc1ccc(OC)c2c1c(OC)cc1c(=O)cc(-c3ccccc3)oc12', dtype='<U45'),\n",
       " array(114.17016, dtype=float32))"
      ]
     },
     "execution_count": 7,
     "metadata": {},
     "output_type": "execute_result"
    }
   ],
   "source": [
    "d = get_field_from_npzs('/storage_common/nobilm/pretrain_paper/guacamol/all/mol_1.npz')[0]\n",
    "for k,v in d.items():\n",
    "  print(k,v.shape)\n",
    "\n",
    "d['smiles'], d['max_energy']\n",
    "\n",
    "# pyg_mol_confs[0]['y']"
   ]
  },
  {
   "cell_type": "markdown",
   "metadata": {},
   "source": [
    "# TEST FIX CLASHES"
   ]
  },
  {
   "cell_type": "code",
   "execution_count": null,
   "metadata": {},
   "outputs": [],
   "source": [
    "input_data = '/home/nobilm@usi.ch/pretrain_paper/data/halicin_data.csv'\n",
    "smiles,targets = get_smiles_and_targets_from_csv(input_data)\n",
    "max_confs = 1\n",
    "n_confs_to_keep = 1\n",
    "idx = 2\n",
    "smiles,targets = [smiles[idx]],[targets[idx]]\n",
    "\n",
    "\n",
    "conf_generator = get_conformer_generator(max_confs=max_confs)\n",
    "smiles = [drop_disconnected_components(s) for s in smiles]\n",
    "\n",
    "for s,y in tqdm(zip(smiles, targets), total=len(smiles)):\n",
    "  conformers = generate_conformers(s, conf_generator, n_confs_to_keep)\n",
    "  mol2pyg_kwargs = {\"max_energy\": max((get_energy(m) for m in conformers))}\n",
    "  pyg_mol_confs = mols2pyg_list_with_targets(conformers, [s]*len(conformers), [y]*len(conformers), **mol2pyg_kwargs)\n",
    "  dc_pyg_mol_confs = deepcopy(pyg_mol_confs)\n",
    "  out_dihedrals_only = frad(pyg_mol_confs[0], add_coords_noise=False)\n",
    "  out = frad(dc_pyg_mol_confs[0]) #, add_coords_noise=False)\n",
    "\n",
    "d = OrderedDict()\n",
    "d[\"rdkit_conf\"]=rdkit_generate_conformers(preprocess_mol(rdChem.MolFromSmiles(smiles[0], smi_reader_params())),num_conformers=1)[0]\n",
    "d[\"conforge\"]=conformers[0]\n",
    "d[\"dih\"]=pyg2mol(out_dihedrals_only)\n",
    "d[\"dih+cords\"]=pyg2mol(out)\n",
    "\n",
    "mols,titles = [],[]\n",
    "for k,v in d.items():\n",
    "  mols.append(v)\n",
    "  titles.append(f\"{k}:{get_energy(v):.1f}\")\n",
    "\n",
    "visualize_3d_mols(mols,titles=titles, width=2200, height=500)"
   ]
  },
  {
   "cell_type": "code",
   "execution_count": null,
   "metadata": {},
   "outputs": [],
   "source": [
    "# minimum_atom_distance(d[\"dih\"]), minimum_atom_distance_vectorized(d[\"dih\"]), minimum_atom_distance(d[\"dih\"]) == minimum_atom_distance_vectorized(d[\"dih\"])"
   ]
  },
  {
   "cell_type": "code",
   "execution_count": null,
   "metadata": {},
   "outputs": [],
   "source": [
    "m_old = d[\"dih\"]\n",
    "mol = deepcopy(d[\"dih\"])\n",
    "print(\"Min dist before fix:\", minimum_atom_distance(m_old))\n",
    "\n",
    "m_new = fix_conformer(mol)\n",
    "print(\"Min dist post fix:\", minimum_atom_distance(m_new))\n",
    "\n",
    "d = OrderedDict()\n",
    "d[\"dih\"]=m_old\n",
    "d[\"updated\"]=m_new\n",
    "\n",
    "mols,titles = [],[]\n",
    "for k,v in d.items():\n",
    "  mols.append(v)\n",
    "  titles.append(f\"{k}:{get_energy(v):.1f}\")\n",
    "\n",
    "visualize_3d_mols(mols,titles=titles, width=2200, height=500)"
   ]
  },
  {
   "cell_type": "markdown",
   "metadata": {},
   "source": [
    "# test execution times:\n"
   ]
  },
  {
   "cell_type": "code",
   "execution_count": null,
   "metadata": {},
   "outputs": [],
   "source": [
    "import timeit\n",
    "\n",
    "input_data = '/home/nobilm@usi.ch/pretrain_paper/data/halicin_data.csv'\n",
    "smiles,targets = get_smiles_and_targets_from_csv(input_data)\n",
    "mols = [preprocess_mol(rdChem.MolFromSmiles(smi, smi_reader_params())) for smi in smiles]\n",
    "mols = [m for m in mols if get_rdkit_conformer(m)]\n",
    "\n",
    "# Benchmark the execution time of line1\n",
    "def benchmark_line1():\n",
    "    for mol in mols: minimum_atom_distance(mol) >= 0.8\n",
    "\n",
    "# Benchmark the execution time of line2\n",
    "def benchmark_line2():\n",
    "    for mol in mols: get_energy(mol) <= 2 * 10000\n",
    "\n",
    "# Run the benchmarks\n",
    "line1_time = timeit.timeit(benchmark_line1, number=100)\n",
    "print(f\"Line 1 execution time: {line1_time:.4f} seconds\")\n",
    "line2_time = timeit.timeit(benchmark_line2, number=100)\n",
    "print(f\"Line 2 execution time: {line2_time:.4f} seconds\")\n",
    "\n"
   ]
  },
  {
   "cell_type": "markdown",
   "metadata": {},
   "source": [
    "# TEST WRITE"
   ]
  },
  {
   "cell_type": "code",
   "execution_count": null,
   "metadata": {},
   "outputs": [],
   "source": [
    "# # get halicin smiles + labels\n",
    "# input_data = '/home/nobilm@usi.ch/pretrain_paper/data/halicin_data.csv'\n",
    "# smiles,targets = get_smiles_and_targets_from_csv(input_data)\n",
    "\n",
    "# # create dir\n",
    "# dir = '/storage_common/nobilm/pretrain_paper/halicin_new_data_enc'\n",
    "# all_dir, train_dir, val_dir, test_dir = create_data_folders(dir)\n",
    "# N = 2\n",
    "# conf_generator = get_conformer_generator(max_confs=5)\n",
    "# i_save = 0\n",
    "# for s,y in tqdm(zip(smiles, targets), total=len(smiles)):\n",
    "#   conformers = generate_conformers(s, conf_generator, N)\n",
    "#   mol2pyg_kwargs = {\"max_energy\": max(get_energy(m) for m in conformers)}\n",
    "#   pyg_mol_confs = mols2pyg_list_with_targets(conformers, [y]*len(conformers), **mol2pyg_kwargs)\n",
    "#   i_save = save_npz(pyg_mol_confs, folder_name=all_dir, idx=i_save)\n",
    "\n",
    "# # check that final npzs must be < 25*nsmiles\n",
    "\n",
    "# assert len(ls(all_dir)) <= len(smiles)*N"
   ]
  },
  {
   "cell_type": "code",
   "execution_count": null,
   "metadata": {},
   "outputs": [],
   "source": [
    "# len(ls(all_dir)) # N=25*max_confs=1000="
   ]
  },
  {
   "cell_type": "markdown",
   "metadata": {},
   "source": [
    "# Viz Tests"
   ]
  },
  {
   "cell_type": "code",
   "execution_count": null,
   "metadata": {},
   "outputs": [],
   "source": [
    "visualize_3d_mols(conformers)"
   ]
  },
  {
   "cell_type": "markdown",
   "metadata": {},
   "source": [
    "# ConfGen exploration"
   ]
  },
  {
   "cell_type": "code",
   "execution_count": null,
   "metadata": {},
   "outputs": [],
   "source": [
    "# /home/marconobile/CDPKit/CDPKit/Apps/CmdLine/ConfGen/ConfGenImpl.cpp\n",
    "# https://cdpkit.org/v1.1.1/applications/confgen.html\n",
    "# https://cdpkit.org/cdpl_api_doc/python_api_doc/classCDPL_1_1ConfGen_1_1ConformerGeneratorSettings.html#a8f00604dec7d4da5376bcd28b2051f42"
   ]
  },
  {
   "cell_type": "code",
   "execution_count": null,
   "metadata": {},
   "outputs": [],
   "source": [
    "import CDPL.Chem as Chem\n",
    "import CDPL.ConfGen as ConfGen\n",
    "import CDPL.Chem as CDPLChem\n",
    "from source.utils.code_utils import print_obj_API\n",
    "conf_generator = ConfGen.ConformerGenerator()\n",
    "conf_generator.settings.setEnergyWindow(20.0)\n",
    "conf_generator.settings.setMaxNumOutputConformers(250)\n",
    "conf_generator.settings.setMinRMSD(0.5)\n",
    "\n",
    "print(\"getEnergyWindow\", conf_generator.settings.getEnergyWindow())\n",
    "print(\"getMaxNumOutputConformers\", conf_generator.settings.getMaxNumOutputConformers())\n",
    "print(\"getMaxNumSampledConformers\", conf_generator.settings.getMaxNumSampledConformers())\n",
    "print(\"getMinRMSD\", conf_generator.settings.getMinRMSD())"
   ]
  },
  {
   "cell_type": "code",
   "execution_count": null,
   "metadata": {},
   "outputs": [],
   "source": [
    "conf_generator = ConfGen.ConformerGenerator()\n",
    "conf_generator.settings.setEnergyWindow(20.0)\n",
    "conf_generator.settings.setMaxNumOutputConformers(250)\n",
    "conf_generator.settings.setMinRMSD(0.5)\n",
    "print(\"getEnergyWindow\", conf_generator.settings.getEnergyWindow())\n",
    "print(\"getMaxNumOutputConformers\", conf_generator.settings.getMaxNumOutputConformers())\n",
    "print(\"getMaxNumSampledConformers\", conf_generator.settings.getMaxNumSampledConformers())\n",
    "print(\"getMinRMSD\", conf_generator.settings.getMinRMSD())"
   ]
  },
  {
   "cell_type": "code",
   "execution_count": null,
   "metadata": {},
   "outputs": [],
   "source": [
    "print_obj_API(conf_generator.settings)"
   ]
  },
  {
   "cell_type": "code",
   "execution_count": null,
   "metadata": {},
   "outputs": [],
   "source": [
    "conf_generator.settings.getSamplingMode()"
   ]
  },
  {
   "cell_type": "code",
   "execution_count": null,
   "metadata": {},
   "outputs": [],
   "source": [
    "# Conformer generation preset to use: -C [ –conf-gen-preset ] arg\n",
    "# (SMALL_SET_DIVERSE, MEDIUM_SET_DIVERSE, LARGE_SET_DIVERSE, SMALL_SET_DENSE, MEDIUM_SET_DENSE, LARGE_SET_DENSE, default: MEDIUM_SET_DIVERSE).\n",
    "\n",
    "# -m [ –mode ] arg\n",
    "# Conformer sampling mode (AUTO, STOCHASTIC, SYSTEMATIC, default: AUTO).\n",
    "\n",
    "# -e [ –e-window ] arg\n",
    "# Energy window for generated conformers.\n",
    "# The energy window may be specified as a single constant value or  as a list of pairs RBC1 EW1 RBC2 EW2…\n",
    "# where RBC denotes a rotatable bond count and EW the energy window that applies if the rotatable bond count of the processed molecule is <= RBC\n",
    "# (the EW value associated with the lowest RBC that fulfills the latter condition takes precedence). If the rotatable bond count of the processed\n",
    "# molecule is outside any defined range then the EW value associated with the highest RBC will be used. (default: 15.0, energy window values must be >= 0).\n",
    "\n",
    "# -r [ –rmsd ] arg\n",
    "# Minimum RMSD for output conformer selection.\n",
    "# The RMSD may be specified as a single constant value or  as a list of pairs RBC1 RMSD1 RBC2 RMSD2…\n",
    "# where RBC denotes a rotatable bond count and RMSD is the value that applies if the rotatable bond count of the processed molecule is <= RBC\n",
    "# (the RMSD value associated with the lowest RBC that fulfills the latter condition takes precedence).\n",
    "# If the rotatable bond count of the processed molecule is outside any defined range then the RMSD value associated with the highest RBC will be used.\n",
    "# (default: 0.5, RMSD values must be >= 0, 0 disables RMSD checking).\n",
    "\n",
    "# -n [ –max-num-out-confs ] arg\n",
    "# Maximum number of output conformers per molecule. The max. number of output conformers may be specified as a single constant value or as a list of\n",
    "# pairs RBC1 MC1 RBC2 MC2… where RBC denotes a rotatable bond count and MC the max. number of conformers that applies if the rotatable bond count of\n",
    "# the processed molecule is <= RBC (the MC value associated with the lowest RBC that fulfills the latter condition takes precedence).\n",
    "# If the rotatable bond count of the processed molecule is outside any defined range then the MC value associated with the highest RBC will be used.\n",
    "# (default: 100, count values must be >= 0, 0 disables limit).\n",
    "\n",
    "# -x [ –max-num-sampled-confs ] arg\n",
    "# Maximum number of sampled conformers (only effective in stochastic sampling mode, default: 2000, must be >= 0, 0 disables limit).\n",
    "\n",
    "# -y [ –conv-check-cycle-size ] arg\n",
    "# Minimum number of duplicate conformers that have to be generated in succession to consider convergence to be reached\n",
    "# (only effective in stochastic sampling mode, default: 100, must be > 0).\n",
    "\n",
    "# -B [ –frag-build-preset ] arg\n",
    "# Fragment build preset to use (FAST, THOROUGH, only effective in systematic sampling mode, default: FAST)."
   ]
  },
  {
   "cell_type": "code",
   "execution_count": null,
   "metadata": {},
   "outputs": [],
   "source": [
    "# ConformerGeneratorSettings Attributes: [\n",
    "\n",
    "#   'DEFAULT',\n",
    "\n",
    "#   'LARGE_SET_DENSE',\n",
    "#   'LARGE_SET_DIVERSE',\n",
    "#   'MEDIUM_SET_DENSE',\n",
    "#   'MEDIUM_SET_DIVERSE',\n",
    "#   'SMALL_SET_DENSE',\n",
    "#   'SMALL_SET_DIVERSE',\n",
    "\n",
    "#   'samplingMode',\n",
    "  # settings.setSamplingMode(ConformerSamplingMode::AUTO);\n",
    "  # settings.setSamplingMode(ConformerSamplingMode::SYSTEMATIC);\n",
    "  # settings.setSamplingMode(ConformerSamplingMode::STOCHASTIC);\n",
    "\n",
    "\n",
    "#   'energyWindow',\n",
    "#   'distanceExponent',\n",
    "#   'fragmentBuildSettings',\n",
    "#   'maxNumRefinementIterations',\n",
    "#   'maxNumSampledConformers',\n",
    "#   'maxPoolSize',\n",
    "#   'maxRotatableBondCount',\n",
    "#   'minRMSD',\n",
    "#   'maxNumOutputConformers',\n",
    "#   'refinementTolerance',\n",
    "#   'strictForceFieldParam'\n",
    "\n",
    "\n",
    "#   'forceFieldTypeSystematic',\n",
    "#   'forceFieldTypeStochastic',\n",
    "\n",
    "#   'nitrogenEnumMode',\n",
    "#   'convCheckCycleSize',\n",
    "#   'dielectricConstant',\n",
    "#   'enumRings',\n",
    "#   'genCoordsFromScratch',\n",
    "#   'includeInputCoords',\n",
    "#   'macrocycleRotorBondCountThresh',\n",
    "#   'objectID',\n",
    "#   'sampleAngleTolRanges',\n",
    "#   'sampleHetAtomHydrogens',\n",
    "\n",
    "#   'timeout'\n"
   ]
  },
  {
   "cell_type": "markdown",
   "metadata": {},
   "source": [
    "# Test dis dihedrals sampling"
   ]
  },
  {
   "cell_type": "code",
   "execution_count": null,
   "metadata": {},
   "outputs": [],
   "source": [
    "import numpy as np\n",
    "import matplotlib.pyplot as plt\n",
    "scale = 40\n",
    "s = np.random.normal(0, scale, size=1000000)\n",
    "s = np.clip(s, a_min=-180., a_max=180)\n",
    "print(min(s), max(s), np.std(s))\n",
    "plt.hist(s, bins=1000)\n",
    "plt.show()"
   ]
  },
  {
   "cell_type": "code",
   "execution_count": null,
   "metadata": {},
   "outputs": [],
   "source": [
    "scale = 40\n",
    "s = np.random.standard_cauchy(size=1000000) * scale\n",
    "s = np.clip(s, a_min=-180., a_max=180)\n",
    "print(min(s), max(s), np.std(s))\n",
    "plt.hist(s, bins=100)\n",
    "plt.show()"
   ]
  },
  {
   "cell_type": "markdown",
   "metadata": {},
   "source": [
    "# Test atom enc"
   ]
  },
  {
   "cell_type": "code",
   "execution_count": 7,
   "metadata": {},
   "outputs": [
    {
     "data": {
      "text/plain": [
       "(118, 118)"
      ]
     },
     "execution_count": 7,
     "metadata": {},
     "output_type": "execute_result"
    }
   ],
   "source": [
    "from mendeleev.fetch import fetch_table\n",
    "# from rdkit import Chem\n",
    "# import numpy as np\n",
    "# # pip install mendeleev\n",
    "\n",
    "ptable = fetch_table(\"elements\")\n",
    "PATOMIC_NUMBERS = {row[\"symbol\"]: row[\"atomic_number\"] for _, row in ptable.iterrows()}\n",
    "PGROUP_IDS = {row[\"symbol\"]: row[\"group_id\"] for _, row in ptable.iterrows()}\n",
    "PPERIOD_IDS = {row[\"symbol\"]: row[\"period\"] for _, row in ptable.iterrows()}\n",
    "\n",
    "len(PGROUP_IDS), len(PPERIOD_IDS)"
   ]
  },
  {
   "cell_type": "markdown",
   "metadata": {},
   "source": [
    "# test new pos"
   ]
  },
  {
   "cell_type": "code",
   "execution_count": 10,
   "metadata": {},
   "outputs": [
    {
     "name": "stdout",
     "output_type": "stream",
     "text": [
      "torch.Size([4, 5, 3])\n"
     ]
    }
   ],
   "source": [
    "import torch\n",
    "\n",
    "bs = 4  # example batch size\n",
    "N = 5   # example value for N\n",
    "\n",
    "out = []\n",
    "for i in range(bs):\n",
    "    l = []\n",
    "    for j in range(N):\n",
    "        l.append((1, 2, 3.0))\n",
    "    out.append(torch.tensor(l))\n",
    "\n",
    "# Stack the list of tensors into a single tensor with shape (bs, N, 3)\n",
    "out_tensor = torch.stack(out)\n",
    "print(out_tensor.shape)  # Should print torch.Size([bs, N, 3])\n"
   ]
  },
  {
   "cell_type": "code",
   "execution_count": 9,
   "metadata": {},
   "outputs": [
    {
     "ename": "AttributeError",
     "evalue": "'list' object has no attribute 'shape'",
     "output_type": "error",
     "traceback": [
      "\u001b[0;31m---------------------------------------------------------------------------\u001b[0m",
      "\u001b[0;31mAttributeError\u001b[0m                            Traceback (most recent call last)",
      "Cell \u001b[0;32mIn[9], line 1\u001b[0m\n\u001b[0;32m----> 1\u001b[0m \u001b[43mout\u001b[49m\u001b[38;5;241;43m.\u001b[39;49m\u001b[43mshape\u001b[49m\n",
      "\u001b[0;31mAttributeError\u001b[0m: 'list' object has no attribute 'shape'"
     ]
    }
   ],
   "source": [
    "# mutliprocess\n",
    "import multiprocessing as mp\n",
    "import torch\n",
    "from tqdm import tqdm\n",
    "\n",
    "def worker(smiles_target, conf_generator, n_confs_to_keep, all_dir, lock, shared_i_save):\n",
    "    s, y = smiles_target\n",
    "    s = drop_disconnected_components(s)\n",
    "    conformers = generate_conformers(s, conf_generator, n_confs_to_keep)\n",
    "    if not conformers:\n",
    "        return\n",
    "\n",
    "    mol2pyg_kwargs = {\"max_energy\": max((get_energy(m) for m in conformers))}\n",
    "    pyg_mol_fixed_fields = mols2pyg_list_with_targets([conformers[0]], [s], [y], **mol2pyg_kwargs)[0]\n",
    "\n",
    "    batched_pos = []\n",
    "    for mol in conformers:\n",
    "        pos = []\n",
    "        conf = mol.GetConformer()\n",
    "        for i, atom in enumerate(mol.GetAtoms()):\n",
    "            positions = conf.GetAtomPosition(i)\n",
    "            pos.append((positions.x, positions.y, positions.z))\n",
    "        pos = torch.tensor(pos, dtype=torch.float32)\n",
    "        batched_pos.append(pos)\n",
    "\n",
    "    batched_pos = torch.stack(batched_pos)\n",
    "    pyg_mol_fixed_fields.pos = batched_pos\n",
    "\n",
    "    with lock:\n",
    "        i_save = shared_i_save.value\n",
    "        save_pyg_as_npz(pyg_mol_fixed_fields, f'{all_dir}/mol_{i_save}')\n",
    "        shared_i_save.value += 1\n",
    "\n",
    "def main(smiles, targets, conf_generator, n_confs_to_keep, all_dir):\n",
    "    manager = mp.Manager()\n",
    "    lock = manager.Lock()\n",
    "    shared_i_save = manager.Value('i', 0)\n",
    "\n",
    "    with mp.Pool(mp.cpu_count()) as pool:\n",
    "        tasks = [(s, y) for s, y in zip(smiles, targets)]\n",
    "        results = list(tqdm(pool.imap_unordered(worker, tasks), total=len(smiles)))\n",
    "\n",
    "if __name__ == \"__main__\":\n",
    "    # Initialize your variables `smiles`, `targets`, `conf_generator`, `n_confs_to_keep`, `all_dir` here\n",
    "    main(smiles, targets, conf_generator, n_confs_to_keep, all_dir)\n"
   ]
  },
  {
   "cell_type": "code",
   "execution_count": 12,
   "metadata": {},
   "outputs": [],
   "source": [
    "import CDPL.Chem as Chem\n",
    "import CDPL.ConfGen as ConfGen\n",
    "import CDPL.Chem as CDPLChem\n",
    "conf_gen = ConfGen.ConformerGenerator()\n"
   ]
  },
  {
   "cell_type": "code",
   "execution_count": 16,
   "metadata": {},
   "outputs": [
    {
     "name": "stdout",
     "output_type": "stream",
     "text": [
      "ConformerGeneratorSettings Attributes: ['DEFAULT', 'LARGE_SET_DENSE', 'LARGE_SET_DIVERSE', 'MEDIUM_SET_DENSE', 'MEDIUM_SET_DIVERSE', 'SMALL_SET_DENSE', 'SMALL_SET_DIVERSE', 'convCheckCycleSize', 'dielectricConstant', 'distanceExponent', 'energyWindow', 'enumRings', 'forceFieldTypeStochastic', 'forceFieldTypeSystematic', 'fragmentBuildSettings', 'genCoordsFromScratch', 'includeInputCoords', 'macrocycleRotorBondCountThresh', 'maxNumOutputConformers', 'maxNumRefinementIterations', 'maxNumSampledConformers', 'maxPoolSize', 'maxRotatableBondCount', 'minRMSD', 'nitrogenEnumMode', 'objectID', 'refinementTolerance', 'sampleAngleTolRanges', 'sampleHetAtomHydrogens', 'samplingMode', 'strictForceFieldParam', 'timeout']\n",
      "\n",
      "\n",
      "ConformerGeneratorSettings Methods: ['addEnergyWindowRange', 'addMaxNumOutputConformersRange', 'addMinRMSDRange', 'assign', 'clearEnergyWindowRanges', 'clearMaxNumOutputConformersRanges', 'clearMinRMSDRanges', 'enumerateRings', 'generateCoordinatesFromScratch', 'getConvergenceCheckCycleSize', 'getDielectricConstant', 'getDistanceExponent', 'getEnergyWindow', 'getForceFieldTypeStochastic', 'getForceFieldTypeSystematic', 'getFragmentBuildSettings', 'getMacrocycleRotorBondCountThreshold', 'getMaxNumOutputConformers', 'getMaxNumRefinementIterations', 'getMaxNumSampledConformers', 'getMaxPoolSize', 'getMaxRotatableBondCount', 'getMinRMSD', 'getNitrogenEnumerationMode', 'getObjectID', 'getRefinementTolerance', 'getSamplingMode', 'getTimeout', 'includeInputCoordinates', 'sampleAngleToleranceRanges', 'sampleHeteroAtomHydrogens', 'setConvergenceCheckCycleSize', 'setDielectricConstant', 'setDistanceExponent', 'setEnergyWindow', 'setForceFieldTypeStochastic', 'setForceFieldTypeSystematic', 'setMacrocycleRotorBondCountThreshold', 'setMaxNumOutputConformers', 'setMaxNumRefinementIterations', 'setMaxNumSampledConformers', 'setMaxPoolSize', 'setMaxRotatableBondCount', 'setMinRMSD', 'setNitrogenEnumerationMode', 'setRefinementStopGradient', 'setSamplingMode', 'setTimeout', 'strictForceFieldParameterization']\n"
     ]
    }
   ],
   "source": [
    "print_obj_API(conf_gen.settings)"
   ]
  },
  {
   "cell_type": "code",
   "execution_count": 18,
   "metadata": {},
   "outputs": [
    {
     "name": "stdout",
     "output_type": "stream",
     "text": [
      "coords (2, 24, 3)\n",
      "atom_types (24,)\n",
      "group (24,)\n",
      "period (24,)\n",
      "graph_labels ()\n",
      "hybridization (24,)\n",
      "chirality (24,)\n",
      "is_aromatic (24,)\n",
      "is_in_ring (24,)\n",
      "smiles ()\n",
      "rotable_bonds (3, 4)\n",
      "dihedral_angles_degrees (3,)\n"
     ]
    }
   ],
   "source": [
    "from source.utils.npz_utils import get_field_from_npzs\n",
    "d = get_field_from_npzs('/storage_common/nobilm/pretrain_paper/second_test/all/mol_0.npz')[0]\n",
    "for k,v in d.items():\n",
    "  print(k,v.shape)\n"
   ]
  },
  {
   "cell_type": "code",
   "execution_count": 20,
   "metadata": {},
   "outputs": [
    {
     "data": {
      "text/plain": [
       "array([[ 4.1532e+00, -1.5440e-01,  1.1000e-02],\n",
       "       [ 3.3906e+00, -1.2998e+00,  7.5000e-03],\n",
       "       [ 3.9976e+00, -2.5581e+00, -8.2000e-03],\n",
       "       [ 3.2271e+00, -3.7303e+00, -1.0900e-02],\n",
       "       [ 4.0777e+00, -5.2262e+00, -3.9100e-02],\n",
       "       [ 1.8242e+00, -3.6951e+00, -1.1000e-03],\n",
       "       [ 1.2470e+00, -2.4106e+00,  0.0000e+00],\n",
       "       [ 1.9982e+00, -1.2273e+00,  0.0000e+00],\n",
       "       [ 1.3760e+00,  0.0000e+00,  0.0000e+00],\n",
       "       [ 0.0000e+00,  0.0000e+00,  0.0000e+00],\n",
       "       [-7.1110e-01,  0.0000e+00,  1.2027e+00],\n",
       "       [-2.1138e+00,  1.0000e-03,  1.2110e+00],\n",
       "       [-2.8620e+00, -9.0000e-04,  2.3600e-02],\n",
       "       [-4.5830e+00, -3.0000e-04,  2.3800e-02],\n",
       "       [-2.1126e+00, -1.5500e-02, -1.1687e+00],\n",
       "       [-7.1140e-01, -1.9400e-02, -1.1991e+00],\n",
       "       [ 1.3510e-01, -3.8900e-02, -2.6974e+00],\n",
       "       [ 3.5697e+00,  6.2170e-01,  2.2400e-02],\n",
       "       [ 5.0817e+00, -2.6435e+00, -2.2000e-02],\n",
       "       [ 1.2247e+00, -4.5958e+00, -3.5000e-03],\n",
       "       [ 1.6040e-01, -2.3343e+00,  8.0000e-04],\n",
       "       [-1.8140e-01, -4.2000e-03,  2.1525e+00],\n",
       "       [-2.6026e+00, -4.3000e-03,  2.1820e+00],\n",
       "       [-2.6514e+00, -2.4200e-02, -2.1154e+00]], dtype=float32)"
      ]
     },
     "execution_count": 20,
     "metadata": {},
     "output_type": "execute_result"
    }
   ],
   "source": [
    "d['coords'][0]"
   ]
  },
  {
   "cell_type": "code",
   "execution_count": 21,
   "metadata": {},
   "outputs": [
    {
     "data": {
      "text/plain": [
       "array([[ 3.3937e+00, -7.6760e-01,  1.7540e+00],\n",
       "       [ 3.0105e+00,  5.5100e-01,  1.6653e+00],\n",
       "       [ 3.6155e+00,  1.5228e+00,  2.4663e+00],\n",
       "       [ 3.2310e+00,  2.8691e+00,  2.3810e+00],\n",
       "       [ 4.0361e+00,  3.9805e+00,  3.4195e+00],\n",
       "       [ 2.2284e+00,  3.2991e+00,  1.4981e+00],\n",
       "       [ 1.6309e+00,  2.2909e+00,  7.1720e-01],\n",
       "       [ 1.9982e+00,  9.4020e-01,  7.8890e-01],\n",
       "       [ 1.3760e+00,  0.0000e+00,  0.0000e+00],\n",
       "       [ 0.0000e+00,  0.0000e+00,  0.0000e+00],\n",
       "       [-7.1110e-01,  0.0000e+00,  1.2027e+00],\n",
       "       [-2.1138e+00,  1.0000e-03,  1.2110e+00],\n",
       "       [-2.8620e+00, -9.0000e-04,  2.3600e-02],\n",
       "       [-4.5830e+00, -3.0000e-04,  2.3800e-02],\n",
       "       [-2.1126e+00, -1.5500e-02, -1.1687e+00],\n",
       "       [-7.1140e-01, -1.9400e-02, -1.1991e+00],\n",
       "       [ 1.3510e-01, -3.8900e-02, -2.6974e+00],\n",
       "       [ 2.8720e+00, -1.2980e+00,  1.1298e+00],\n",
       "       [ 4.3944e+00,  1.2439e+00,  3.1722e+00],\n",
       "       [ 1.9274e+00,  4.3359e+00,  1.4282e+00],\n",
       "       [ 8.4260e-01,  2.5772e+00,  2.2100e-02],\n",
       "       [-1.8140e-01, -4.2000e-03,  2.1525e+00],\n",
       "       [-2.6026e+00, -4.3000e-03,  2.1820e+00],\n",
       "       [-2.6514e+00, -2.4200e-02, -2.1154e+00]], dtype=float32)"
      ]
     },
     "execution_count": 21,
     "metadata": {},
     "output_type": "execute_result"
    }
   ],
   "source": [
    "d['coords'][1]\n"
   ]
  },
  {
   "cell_type": "code",
   "execution_count": null,
   "metadata": {},
   "outputs": [],
   "source": []
  }
 ],
 "metadata": {
  "kernelspec": {
   "display_name": "rdkit_pyg_geqm9_clone",
   "language": "python",
   "name": "python3"
  },
  "language_info": {
   "codemirror_mode": {
    "name": "ipython",
    "version": 3
   },
   "file_extension": ".py",
   "mimetype": "text/x-python",
   "name": "python",
   "nbconvert_exporter": "python",
   "pygments_lexer": "ipython3",
   "version": "3.10.14"
  }
 },
 "nbformat": 4,
 "nbformat_minor": 2
}
