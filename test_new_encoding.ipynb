{
 "cells": [
  {
   "cell_type": "code",
   "execution_count": 1,
   "metadata": {},
   "outputs": [],
   "source": [
    "# 1) new atom Encoding\n",
    "# 2) scaffold splitting\n",
    "# 3) conformer generation\n",
    "\n",
    "# frad and conforge at runtime is it feasible?"
   ]
  },
  {
   "cell_type": "code",
   "execution_count": 2,
   "metadata": {},
   "outputs": [],
   "source": [
    "import numpy as np\n",
    "import sys\n",
    "import os\n",
    "\n",
    "import CDPL.Chem as Chem\n",
    "import CDPL.ConfGen as ConfGen\n",
    "import rdkit\n",
    "import CDPL.Chem as CDPLChem\n",
    "\n",
    "# import rdkit\n",
    "\n",
    "smiles=[\"CC(C)Cl\", \"CCC(C)CO\", \"CCCCCCCO\"]# , \"CCCCCCCC(=O)OC\" , \"c3ccc2nc1ccccc1cc2c3\" , \"Nc2cccc3nc1ccccc1cc23\" , \"C1CCCCCC1\" ]"
   ]
  },
  {
   "cell_type": "code",
   "execution_count": 3,
   "metadata": {},
   "outputs": [],
   "source": [
    "def generateConformationEnsembles(mol: Chem.BasicMolecule, conf_gen: ConfGen.ConformerGenerator):\n",
    "  \"\"\"\n",
    "  Generates a conformation ensemble for the argument molecule using the provided initialized ConfGen.ConformerGenerator instance.\n",
    "\n",
    "  Parameters:\n",
    "  - mol (Chem.BasicMolecule): Molecule to generate a conformation ensemble for.\n",
    "  - conf_gen (ConfGen.ConformerGenerator): Instance of the ConfGen.ConformerGenerator class.\n",
    "\n",
    "  Returns:\n",
    "  - int: Status code indicating the success of the conformation ensemble generation.\n",
    "  - int: Number of generated conformers.\n",
    "  \"\"\"\n",
    "  # prepare the molecule for conformer generation\n",
    "  ConfGen.prepareForConformerGeneration(mol)\n",
    "\n",
    "  # generate the conformer ensemble\n",
    "  status = conf_gen.generate(mol)\n",
    "  num_confs = conf_gen.getNumConformers()\n",
    "\n",
    "  # if sucessful, store the generated conformer ensemble as\n",
    "  # per atom 3D coordinates arrays (= the way conformers are represented in CDPKit)\n",
    "  if status == ConfGen.ReturnCode.SUCCESS or status == ConfGen.ReturnCode.TOO_MUCH_SYMMETRY:\n",
    "      conf_gen.setConformers(mol)\n",
    "  else:\n",
    "      num_confs = 0\n",
    "\n",
    "  # return status code and the number of generated conformers\n",
    "  return (status, num_confs)"
   ]
  },
  {
   "cell_type": "code",
   "execution_count": 4,
   "metadata": {},
   "outputs": [],
   "source": [
    "def get_conformer_generator():\n",
    "  # Settings\n",
    "  max_time = 36000 # Max. allowed molecule processing time in seconds (default: 3600 sec)\n",
    "  min_rmsd = 0.5 # Output conformer RMSD threshold (default: 0.5)\n",
    "  e_window = 20.0 # Output conformer energy window (default: 20.0)\n",
    "  max_confs = 100 # Max. output ensemble size (default: 100)\n",
    "\n",
    "  # create and initialize an instance of the class ConfGen.ConformerGenerator which\n",
    "  # will perform the actual conformer ensemble generation work\n",
    "  conf_gen = ConfGen.ConformerGenerator()\n",
    "  conf_gen.settings.timeout = max_time * 1000          # apply the -t argument\n",
    "  conf_gen.settings.minRMSD = min_rmsd                 # apply the -r argument\n",
    "  conf_gen.settings.energyWindow = e_window            # apply the -e argument\n",
    "  conf_gen.settings.maxNumOutputConformers = max_confs # apply the -n argument\n",
    "  return conf_gen"
   ]
  },
  {
   "cell_type": "code",
   "execution_count": null,
   "metadata": {},
   "outputs": [],
   "source": [
    "import numpy as np\n",
    "from rdkit import Chem as rdChem\n",
    "from rdkit.Geometry import rdGeometry\n",
    "from rdkit.Chem import AllChem, rdMolTransforms\n",
    "\n",
    "def get_dihedral_angles(mol):\n",
    "  # Find all dihedral angles (torsions)\n",
    "  dihedral_indices = []\n",
    "\n",
    "  # from frad repo\n",
    "  torsionSmarts = '[!$(*#*)&!D1]-&!@[!$(*#*)&!D1]'\n",
    "  # from chatgpt\n",
    "  # torsionSmarts = '[!#1]~[!#1]~[!#1]~[!#1]'\n",
    "  for torsion in mol.GetSubstructMatches(rdChem.MolFromSmarts(torsionSmarts)): dihedral_indices.append(torsion)\n",
    "\n",
    "  # Calculate all dihedral angles\n",
    "  dihedral_angles = []\n",
    "  conf = mol.GetConformer()\n",
    "  for dihedral in dihedral_indices:\n",
    "    dihedral_angles.append(rdMolTransforms.GetDihedralDeg(conf, dihedral[0], dihedral[1], dihedral[2], dihedral[3]))\n",
    "  return np.array(dihedral_angles)"
   ]
  },
  {
   "cell_type": "code",
   "execution_count": null,
   "metadata": {},
   "outputs": [],
   "source": [
    "def generate_conformers(smi, N:int=10):\n",
    "  '''\n",
    "  N: num of conformers to select\n",
    "  '''\n",
    "  mol = CDPLChem.parseSMILES(smi)\n",
    "  try:\n",
    "      # generate conformer ensemble for read molecule\n",
    "      status, num_confs = generateConformationEnsembles(mol, get_conformer_generator())\n",
    "\n",
    "      # output generated ensemble (if available)\n",
    "      if num_confs > 0:\n",
    "          tmp_name = \"./tmp.sdf\"\n",
    "          writer = Chem.MolecularGraphWriter(tmp_name)\n",
    "          if not writer.write(mol):\n",
    "              sys.exit('Error: output of conformer ensemble for molecule %s failed' % smi)\n",
    "  except Exception as e:\n",
    "      sys.exit('Error: conformer ensemble generation or output for molecule %s failed: %s' % (smi, str(e)))\n",
    "\n",
    "  writer.close()\n",
    "  tmp_mol_ensemble = rdkit.Chem.rdmolfiles.SDMolSupplier(tmp_name, removeHs=False)\n",
    "  tmp_mol_ensemble = list(tmp_mol_ensemble)\n",
    "\n",
    "  # try to get conf, if error then drop the mol, careful with indices\n",
    "  mol_ensemble = [m for m in tmp_mol_ensemble if m.GetConformer() !=-1]\n",
    "  print(len(mol_ensemble))\n",
    "  if len(mol_ensemble) < N: return mol_ensemble\n",
    "\n",
    "  dihedral_fingerprints = [get_dihedral_angles(mol) for mol in mol_ensemble]\n",
    "\n",
    "  # Compute the dot product matrix\n",
    "  n = len(dihedral_fingerprints)\n",
    "  dot_product_matrix = np.zeros((n, n))\n",
    "  for i in range(n):\n",
    "      for j in range(i + 1, n):\n",
    "          dot_product_matrix[i, j] = np.dot(dihedral_fingerprints[i], dihedral_fingerprints[j])\n",
    "          dot_product_matrix[j, i] = dot_product_matrix[i, j]\n",
    "\n",
    "  sum_of_dot_prods = dot_product_matrix.sum(-1)\n",
    "  sorted_indices = np.argsort(sum_of_dot_prods)\n",
    "  # Get the indices of the 5 lowest values\n",
    "  lowest_indices = sorted_indices[:N]\n",
    "\n",
    "  if os.path.exists(tmp_name): os.remove(tmp_name)\n",
    "\n",
    "  return [mol_ensemble[i] for i in lowest_indices]\n",
    "\n"
   ]
  },
  {
   "cell_type": "code",
   "execution_count": 11,
   "metadata": {},
   "outputs": [
    {
     "name": "stdout",
     "output_type": "stream",
     "text": [
      "64\n",
      "[[     0.          96533.92913327  94089.99929102 ... 266138.41732614\n",
      "  201565.30113964 216707.9227926 ]\n",
      " [ 96533.92913327      0.         376569.67543564 ... 351263.51099943\n",
      "  286225.24792106 383550.71108261]\n",
      " [ 94089.99929102 376569.67543564      0.         ... 207131.43206721\n",
      "  271689.72831157 405106.95686096]\n",
      " ...\n",
      " [266138.41732614 351263.51099943 207131.43206721 ...      0.\n",
      "  272757.80530541 271523.19944007]\n",
      " [201565.30113964 286225.24792106 271689.72831157 ... 272757.80530541\n",
      "       0.         206421.6739375 ]\n",
      " [216707.9227926  383550.71108261 405106.95686096 ... 271523.19944007\n",
      "  206421.6739375       0.        ]]\n"
     ]
    }
   ],
   "source": [
    "d = generate_conformers('[H]c1c([H])c([H])c(N(C(=O)C([H])([H])C([H])([H])[H])C2([H])C([H])([H])C([H])([H])N(C([H])([H])C([H])([H])c3c([H])c([H])c([H])c([H])c3[H])C([H])([H])C2([H])[H])c([H])c1[H]')"
   ]
  },
  {
   "cell_type": "code",
   "execution_count": 8,
   "metadata": {},
   "outputs": [
    {
     "data": {
      "text/plain": [
       "[<rdkit.Chem.rdchem.Mol at 0x7f8248c520a0>,\n",
       " <rdkit.Chem.rdchem.Mol at 0x7f8248c51d20>,\n",
       " <rdkit.Chem.rdchem.Mol at 0x7f8248c52110>,\n",
       " <rdkit.Chem.rdchem.Mol at 0x7f8248c51690>,\n",
       " <rdkit.Chem.rdchem.Mol at 0x7f8248c51c40>]"
      ]
     },
     "execution_count": 8,
     "metadata": {},
     "output_type": "execute_result"
    }
   ],
   "source": [
    "d"
   ]
  },
  {
   "cell_type": "code",
   "execution_count": 9,
   "metadata": {},
   "outputs": [
    {
     "data": {
      "application/3dmoljs_load.v0": "<div id=\"3dmolviewer_17338454013411248\"  style=\"position: relative; width: 1500px; height: 400px;\">\n        <p id=\"3dmolwarning_17338454013411248\" style=\"background-color:#ffcccc;color:black\">3Dmol.js failed to load for some reason.  Please check your browser console for error messages.<br></p>\n        </div>\n<script>\n\nvar loadScriptAsync = function(uri){\n  return new Promise((resolve, reject) => {\n    //this is to ignore the existence of requirejs amd\n    var savedexports, savedmodule;\n    if (typeof exports !== 'undefined') savedexports = exports;\n    else exports = {}\n    if (typeof module !== 'undefined') savedmodule = module;\n    else module = {}\n\n    var tag = document.createElement('script');\n    tag.src = uri;\n    tag.async = true;\n    tag.onload = () => {\n        exports = savedexports;\n        module = savedmodule;\n        resolve();\n    };\n  var firstScriptTag = document.getElementsByTagName('script')[0];\n  firstScriptTag.parentNode.insertBefore(tag, firstScriptTag);\n});\n};\n\nif(typeof $3Dmolpromise === 'undefined') {\n$3Dmolpromise = null;\n  $3Dmolpromise = loadScriptAsync('https://cdnjs.cloudflare.com/ajax/libs/3Dmol/2.4.0/3Dmol-min.js');\n}\n\nvar viewer_17338454013411248 = null;\nvar warn = document.getElementById(\"3dmolwarning_17338454013411248\");\nif(warn) {\n    warn.parentNode.removeChild(warn);\n}\n$3Dmolpromise.then(function() {\nvar viewergrid_17338454013411248 = null;\nviewergrid_17338454013411248 = $3Dmol.createViewerGrid(document.getElementById(\"3dmolviewer_17338454013411248\"),{rows: 1, cols: 5, control_all: true},{backgroundColor:\"white\"});\nviewer_17338454013411248 = viewergrid_17338454013411248[0][0];\nviewergrid_17338454013411248[0][0].zoomTo();viewergrid_17338454013411248[0][1].zoomTo();viewergrid_17338454013411248[0][2].zoomTo();viewergrid_17338454013411248[0][3].zoomTo();viewergrid_17338454013411248[0][4].zoomTo();\tviewergrid_17338454013411248[0][0].removeAllModels();\n\tviewergrid_17338454013411248[0][0].addModel(\"\\n     RDKit          3D\\n\\n 53 55  0  0  0  0  0  0  0  0999 V2000\\n    5.5339   -7.4886   -5.7045 H   0  0  0  0  0  0  0  0  0  0  0  0\\n    4.6525   -6.9045   -5.4617 C   0  0  0  0  0  0  0  0  0  0  0  0\\n    3.9132   -7.1770   -4.3113 C   0  0  0  0  0  0  0  0  0  0  0  0\\n    4.2186   -7.9846   -3.6500 H   0  0  0  0  0  0  0  0  0  0  0  0\\n    2.7769   -6.4082   -4.0247 C   0  0  0  0  0  0  0  0  0  0  0  0\\n    2.2081   -6.6399   -3.1250 H   0  0  0  0  0  0  0  0  0  0  0  0\\n    2.3312   -5.3499   -4.8399 C   0  0  0  0  0  0  0  0  0  0  0  0\\n    1.1976   -4.5990   -4.5281 N   0  0  0  0  0  0  0  0  0  0  0  0\\n    0.0979   -4.5333   -5.4141 C   0  0  0  0  0  0  0  0  0  0  0  0\\n    0.0770   -5.1272   -6.4981 O   0  0  0  0  0  0  0  0  0  0  0  0\\n   -1.1165   -3.7103   -4.9887 C   0  0  0  0  0  0  0  0  0  0  0  0\\n   -0.8072   -2.6697   -4.8580 H   0  0  0  0  0  0  0  0  0  0  0  0\\n   -1.5147   -4.0945   -4.0444 H   0  0  0  0  0  0  0  0  0  0  0  0\\n   -2.2319   -3.7488   -6.0239 C   0  0  0  0  0  0  0  0  0  0  0  0\\n   -3.0939   -3.1715   -5.6753 H   0  0  0  0  0  0  0  0  0  0  0  0\\n   -2.5594   -4.7771   -6.2093 H   0  0  0  0  0  0  0  0  0  0  0  0\\n   -1.9013   -3.3234   -6.9772 H   0  0  0  0  0  0  0  0  0  0  0  0\\n    1.2083   -3.6711   -3.4323 C   0  0  0  0  0  0  0  0  0  0  0  0\\n    0.3001   -3.0597   -3.5116 H   0  0  0  0  0  0  0  0  0  0  0  0\\n    1.1886   -4.4074   -2.0818 C   0  0  0  0  0  0  0  0  0  0  0  0\\n    0.1456   -4.6271   -1.8191 H   0  0  0  0  0  0  0  0  0  0  0  0\\n    1.6982   -5.3772   -2.1535 H   0  0  0  0  0  0  0  0  0  0  0  0\\n    1.8554   -3.6080   -0.9522 C   0  0  0  0  0  0  0  0  0  0  0  0\\n    1.3995   -3.9188   -0.0039 H   0  0  0  0  0  0  0  0  0  0  0  0\\n    2.9208   -3.8668   -0.8891 H   0  0  0  0  0  0  0  0  0  0  0  0\\n    1.6879   -2.1718   -1.1645 N   0  0  0  0  0  0  0  0  0  0  0  0\\n    2.0902   -1.4053    0.0000 C   0  0  0  0  0  0  0  0  0  0  0  0\\n    3.1821   -1.3319   -0.0401 H   0  0  0  0  0  0  0  0  0  0  0  0\\n    1.8217   -1.9541    0.9092 H   0  0  0  0  0  0  0  0  0  0  0  0\\n    1.4860    0.0000    0.0000 C   0  0  0  0  0  0  0  0  0  0  0  0\\n    1.8565    0.5669   -0.8637 H   0  0  0  0  0  0  0  0  0  0  0  0\\n    1.8333    0.5427    0.8884 H   0  0  0  0  0  0  0  0  0  0  0  0\\n    0.0000    0.0000    0.0000 C   0  0  0  0  0  0  0  0  0  0  0  0\\n   -0.7114    0.0000    1.1992 C   0  0  0  0  0  0  0  0  0  0  0  0\\n   -0.1765   -0.0031    2.1461 H   0  0  0  0  0  0  0  0  0  0  0  0\\n   -2.1126   -0.0035    1.1688 C   0  0  0  0  0  0  0  0  0  0  0  0\\n   -2.6514   -0.0101    2.1155 H   0  0  0  0  0  0  0  0  0  0  0  0\\n   -2.8620    0.0013   -0.0236 C   0  0  0  0  0  0  0  0  0  0  0  0\\n   -3.9439    0.0009   -0.0237 H   0  0  0  0  0  0  0  0  0  0  0  0\\n   -2.1138    0.0186   -1.2108 C   0  0  0  0  0  0  0  0  0  0  0  0\\n   -2.6026    0.0397   -2.1817 H   0  0  0  0  0  0  0  0  0  0  0  0\\n   -0.7111    0.0195   -1.2025 C   0  0  0  0  0  0  0  0  0  0  0  0\\n   -0.1814    0.0390   -2.1521 H   0  0  0  0  0  0  0  0  0  0  0  0\\n    2.3979   -1.7117   -2.3687 C   0  0  0  0  0  0  0  0  0  0  0  0\\n    1.9033   -0.7998   -2.7247 H   0  0  0  0  0  0  0  0  0  0  0  0\\n    3.4379   -1.4411   -2.1433 H   0  0  0  0  0  0  0  0  0  0  0  0\\n    2.4193   -2.7433   -3.5091 C   0  0  0  0  0  0  0  0  0  0  0  0\\n    2.4492   -2.2186   -4.4718 H   0  0  0  0  0  0  0  0  0  0  0  0\\n    3.3421   -3.3355   -3.4414 H   0  0  0  0  0  0  0  0  0  0  0  0\\n    3.1087   -5.0926   -5.9797 C   0  0  0  0  0  0  0  0  0  0  0  0\\n    2.8542   -4.2852   -6.6618 H   0  0  0  0  0  0  0  0  0  0  0  0\\n    4.2477   -5.8518   -6.2863 C   0  0  0  0  0  0  0  0  0  0  0  0\\n    4.8169   -5.6054   -7.1796 H   0  0  0  0  0  0  0  0  0  0  0  0\\n  1  2  1  0\\n  2  3  2  0\\n  3  4  1  0\\n  3  5  1  0\\n  5  6  1  0\\n  5  7  2  0\\n  7  8  1  0\\n  8  9  1  0\\n  9 10  2  0\\n  9 11  1  0\\n 11 12  1  0\\n 11 13  1  0\\n 11 14  1  0\\n 14 15  1  0\\n 14 16  1  0\\n 14 17  1  0\\n  8 18  1  0\\n 18 19  1  0\\n 18 20  1  0\\n 20 21  1  0\\n 20 22  1  0\\n 20 23  1  0\\n 23 24  1  0\\n 23 25  1  0\\n 23 26  1  0\\n 26 27  1  0\\n 27 28  1  0\\n 27 29  1  0\\n 27 30  1  0\\n 30 31  1  0\\n 30 32  1  0\\n 30 33  1  0\\n 33 34  2  0\\n 34 35  1  0\\n 34 36  1  0\\n 36 37  1  0\\n 36 38  2  0\\n 38 39  1  0\\n 38 40  1  0\\n 40 41  1  0\\n 33 42  1  0\\n 40 42  2  0\\n 42 43  1  0\\n 26 44  1  0\\n 44 45  1  0\\n 44 46  1  0\\n 18 47  1  0\\n 44 47  1  0\\n 47 48  1  0\\n 47 49  1  0\\n  7 50  1  0\\n 50 51  1  0\\n  2 52  1  0\\n 50 52  2  0\\n 52 53  1  0\\nM  END\\n\",\"sdf\");\n\tviewergrid_17338454013411248[0][0].setStyle({\"stick\": {}});\n\tviewergrid_17338454013411248[0][1].removeAllModels();\n\tviewergrid_17338454013411248[0][1].addModel(\"\\n     RDKit          3D\\n\\n 53 55  0  0  0  0  0  0  0  0999 V2000\\n    5.5339   -7.4886   -5.7045 H   0  0  0  0  0  0  0  0  0  0  0  0\\n    4.6525   -6.9045   -5.4617 C   0  0  0  0  0  0  0  0  0  0  0  0\\n    3.9132   -7.1770   -4.3113 C   0  0  0  0  0  0  0  0  0  0  0  0\\n    4.2186   -7.9846   -3.6500 H   0  0  0  0  0  0  0  0  0  0  0  0\\n    2.7769   -6.4082   -4.0247 C   0  0  0  0  0  0  0  0  0  0  0  0\\n    2.2081   -6.6399   -3.1250 H   0  0  0  0  0  0  0  0  0  0  0  0\\n    2.3312   -5.3499   -4.8399 C   0  0  0  0  0  0  0  0  0  0  0  0\\n    1.1976   -4.5990   -4.5281 N   0  0  0  0  0  0  0  0  0  0  0  0\\n    0.0979   -4.5333   -5.4141 C   0  0  0  0  0  0  0  0  0  0  0  0\\n   -0.9205   -3.8773   -5.1672 O   0  0  0  0  0  0  0  0  0  0  0  0\\n    0.1977   -5.2897   -6.7373 C   0  0  0  0  0  0  0  0  0  0  0  0\\n    0.3149   -6.3558   -6.5244 H   0  0  0  0  0  0  0  0  0  0  0  0\\n    1.0625   -4.9334   -7.3057 H   0  0  0  0  0  0  0  0  0  0  0  0\\n   -1.0433   -5.1104   -7.6004 C   0  0  0  0  0  0  0  0  0  0  0  0\\n   -0.9264   -5.6432   -8.5492 H   0  0  0  0  0  0  0  0  0  0  0  0\\n   -1.2185   -4.0521   -7.8200 H   0  0  0  0  0  0  0  0  0  0  0  0\\n   -1.9340   -5.5023   -7.0983 H   0  0  0  0  0  0  0  0  0  0  0  0\\n    1.2083   -3.6711   -3.4323 C   0  0  0  0  0  0  0  0  0  0  0  0\\n    0.3001   -3.0597   -3.5116 H   0  0  0  0  0  0  0  0  0  0  0  0\\n    1.1886   -4.4074   -2.0818 C   0  0  0  0  0  0  0  0  0  0  0  0\\n    0.1456   -4.6271   -1.8191 H   0  0  0  0  0  0  0  0  0  0  0  0\\n    1.6982   -5.3772   -2.1535 H   0  0  0  0  0  0  0  0  0  0  0  0\\n    1.8554   -3.6080   -0.9522 C   0  0  0  0  0  0  0  0  0  0  0  0\\n    1.3995   -3.9188   -0.0039 H   0  0  0  0  0  0  0  0  0  0  0  0\\n    2.9208   -3.8668   -0.8891 H   0  0  0  0  0  0  0  0  0  0  0  0\\n    1.6879   -2.1718   -1.1645 N   0  0  0  0  0  0  0  0  0  0  0  0\\n    2.0902   -1.4053    0.0000 C   0  0  0  0  0  0  0  0  0  0  0  0\\n    3.1821   -1.3319   -0.0401 H   0  0  0  0  0  0  0  0  0  0  0  0\\n    1.8217   -1.9541    0.9092 H   0  0  0  0  0  0  0  0  0  0  0  0\\n    1.4860    0.0000    0.0000 C   0  0  0  0  0  0  0  0  0  0  0  0\\n    1.8565    0.5669   -0.8637 H   0  0  0  0  0  0  0  0  0  0  0  0\\n    1.8333    0.5427    0.8884 H   0  0  0  0  0  0  0  0  0  0  0  0\\n    0.0000    0.0000    0.0000 C   0  0  0  0  0  0  0  0  0  0  0  0\\n   -0.7114    0.0000    1.1992 C   0  0  0  0  0  0  0  0  0  0  0  0\\n   -0.1765   -0.0031    2.1461 H   0  0  0  0  0  0  0  0  0  0  0  0\\n   -2.1126   -0.0035    1.1688 C   0  0  0  0  0  0  0  0  0  0  0  0\\n   -2.6514   -0.0101    2.1155 H   0  0  0  0  0  0  0  0  0  0  0  0\\n   -2.8620    0.0013   -0.0236 C   0  0  0  0  0  0  0  0  0  0  0  0\\n   -3.9439    0.0009   -0.0237 H   0  0  0  0  0  0  0  0  0  0  0  0\\n   -2.1138    0.0186   -1.2108 C   0  0  0  0  0  0  0  0  0  0  0  0\\n   -2.6026    0.0397   -2.1817 H   0  0  0  0  0  0  0  0  0  0  0  0\\n   -0.7111    0.0195   -1.2025 C   0  0  0  0  0  0  0  0  0  0  0  0\\n   -0.1814    0.0390   -2.1521 H   0  0  0  0  0  0  0  0  0  0  0  0\\n    2.3979   -1.7117   -2.3687 C   0  0  0  0  0  0  0  0  0  0  0  0\\n    1.9033   -0.7998   -2.7247 H   0  0  0  0  0  0  0  0  0  0  0  0\\n    3.4379   -1.4411   -2.1433 H   0  0  0  0  0  0  0  0  0  0  0  0\\n    2.4193   -2.7433   -3.5091 C   0  0  0  0  0  0  0  0  0  0  0  0\\n    2.4492   -2.2186   -4.4718 H   0  0  0  0  0  0  0  0  0  0  0  0\\n    3.3421   -3.3355   -3.4414 H   0  0  0  0  0  0  0  0  0  0  0  0\\n    3.1087   -5.0926   -5.9797 C   0  0  0  0  0  0  0  0  0  0  0  0\\n    2.8542   -4.2852   -6.6618 H   0  0  0  0  0  0  0  0  0  0  0  0\\n    4.2477   -5.8518   -6.2863 C   0  0  0  0  0  0  0  0  0  0  0  0\\n    4.8169   -5.6054   -7.1796 H   0  0  0  0  0  0  0  0  0  0  0  0\\n  1  2  1  0\\n  2  3  2  0\\n  3  4  1  0\\n  3  5  1  0\\n  5  6  1  0\\n  5  7  2  0\\n  7  8  1  0\\n  8  9  1  0\\n  9 10  2  0\\n  9 11  1  0\\n 11 12  1  0\\n 11 13  1  0\\n 11 14  1  0\\n 14 15  1  0\\n 14 16  1  0\\n 14 17  1  0\\n  8 18  1  0\\n 18 19  1  0\\n 18 20  1  0\\n 20 21  1  0\\n 20 22  1  0\\n 20 23  1  0\\n 23 24  1  0\\n 23 25  1  0\\n 23 26  1  0\\n 26 27  1  0\\n 27 28  1  0\\n 27 29  1  0\\n 27 30  1  0\\n 30 31  1  0\\n 30 32  1  0\\n 30 33  1  0\\n 33 34  2  0\\n 34 35  1  0\\n 34 36  1  0\\n 36 37  1  0\\n 36 38  2  0\\n 38 39  1  0\\n 38 40  1  0\\n 40 41  1  0\\n 33 42  1  0\\n 40 42  2  0\\n 42 43  1  0\\n 26 44  1  0\\n 44 45  1  0\\n 44 46  1  0\\n 18 47  1  0\\n 44 47  1  0\\n 47 48  1  0\\n 47 49  1  0\\n  7 50  1  0\\n 50 51  1  0\\n  2 52  1  0\\n 50 52  2  0\\n 52 53  1  0\\nM  END\\n\",\"sdf\");\n\tviewergrid_17338454013411248[0][1].setStyle({\"stick\": {}});\n\tviewergrid_17338454013411248[0][2].removeAllModels();\n\tviewergrid_17338454013411248[0][2].addModel(\"\\n     RDKit          3D\\n\\n 53 55  0  0  0  0  0  0  0  0999 V2000\\n    0.3889  -10.7298   -3.5141 H   0  0  0  0  0  0  0  0  0  0  0  0\\n    0.4173   -9.6465   -3.5642 C   0  0  0  0  0  0  0  0  0  0  0  0\\n   -0.6472   -8.9316   -4.1120 C   0  0  0  0  0  0  0  0  0  0  0  0\\n   -1.5150   -9.4624   -4.4966 H   0  0  0  0  0  0  0  0  0  0  0  0\\n   -0.5815   -7.5327   -4.1668 C   0  0  0  0  0  0  0  0  0  0  0  0\\n   -1.4196   -6.9915   -4.6041 H   0  0  0  0  0  0  0  0  0  0  0  0\\n    0.5128   -6.7886   -3.6851 C   0  0  0  0  0  0  0  0  0  0  0  0\\n    0.5497   -5.3956   -3.7499 N   0  0  0  0  0  0  0  0  0  0  0  0\\n    0.4891   -4.7196   -4.9901 C   0  0  0  0  0  0  0  0  0  0  0  0\\n    0.5195   -3.4871   -5.0813 O   0  0  0  0  0  0  0  0  0  0  0  0\\n    0.4076   -5.5617   -6.2618 C   0  0  0  0  0  0  0  0  0  0  0  0\\n   -0.5082   -6.1584   -6.2298 H   0  0  0  0  0  0  0  0  0  0  0  0\\n    1.2748   -6.2265   -6.3246 H   0  0  0  0  0  0  0  0  0  0  0  0\\n    0.3742   -4.7061   -7.5203 C   0  0  0  0  0  0  0  0  0  0  0  0\\n    0.3424   -5.3413   -8.4109 H   0  0  0  0  0  0  0  0  0  0  0  0\\n    1.2622   -4.0686   -7.5847 H   0  0  0  0  0  0  0  0  0  0  0  0\\n   -0.5079   -4.0574   -7.5341 H   0  0  0  0  0  0  0  0  0  0  0  0\\n    0.9053   -4.6146   -2.5986 C   0  0  0  0  0  0  0  0  0  0  0  0\\n    0.9041   -5.2889   -1.7354 H   0  0  0  0  0  0  0  0  0  0  0  0\\n   -0.0969   -3.5006   -2.2598 C   0  0  0  0  0  0  0  0  0  0  0  0\\n   -0.1889   -2.7895   -3.0898 H   0  0  0  0  0  0  0  0  0  0  0  0\\n   -1.0926   -3.9310   -2.0990 H   0  0  0  0  0  0  0  0  0  0  0  0\\n    0.3375   -2.7357   -1.0057 C   0  0  0  0  0  0  0  0  0  0  0  0\\n   -0.3949   -1.9388   -0.8414 H   0  0  0  0  0  0  0  0  0  0  0  0\\n    0.2929   -3.4015   -0.1338 H   0  0  0  0  0  0  0  0  0  0  0  0\\n    1.6879   -2.1718   -1.1645 N   0  0  0  0  0  0  0  0  0  0  0  0\\n    2.0902   -1.4053    0.0000 C   0  0  0  0  0  0  0  0  0  0  0  0\\n    3.1821   -1.3319   -0.0401 H   0  0  0  0  0  0  0  0  0  0  0  0\\n    1.8217   -1.9541    0.9092 H   0  0  0  0  0  0  0  0  0  0  0  0\\n    1.4860    0.0000    0.0000 C   0  0  0  0  0  0  0  0  0  0  0  0\\n    1.8565    0.5669   -0.8637 H   0  0  0  0  0  0  0  0  0  0  0  0\\n    1.8333    0.5427    0.8884 H   0  0  0  0  0  0  0  0  0  0  0  0\\n    0.0000    0.0000    0.0000 C   0  0  0  0  0  0  0  0  0  0  0  0\\n   -0.7114    0.0000    1.1992 C   0  0  0  0  0  0  0  0  0  0  0  0\\n   -0.1765   -0.0031    2.1461 H   0  0  0  0  0  0  0  0  0  0  0  0\\n   -2.1126   -0.0035    1.1688 C   0  0  0  0  0  0  0  0  0  0  0  0\\n   -2.6514   -0.0101    2.1155 H   0  0  0  0  0  0  0  0  0  0  0  0\\n   -2.8620    0.0013   -0.0236 C   0  0  0  0  0  0  0  0  0  0  0  0\\n   -3.9439    0.0009   -0.0237 H   0  0  0  0  0  0  0  0  0  0  0  0\\n   -2.1138    0.0186   -1.2108 C   0  0  0  0  0  0  0  0  0  0  0  0\\n   -2.6026    0.0397   -2.1817 H   0  0  0  0  0  0  0  0  0  0  0  0\\n   -0.7111    0.0195   -1.2025 C   0  0  0  0  0  0  0  0  0  0  0  0\\n   -0.1814    0.0390   -2.1521 H   0  0  0  0  0  0  0  0  0  0  0  0\\n    2.6687   -3.2371   -1.4314 C   0  0  0  0  0  0  0  0  0  0  0  0\\n    2.7390   -3.9255   -0.5788 H   0  0  0  0  0  0  0  0  0  0  0  0\\n    3.6631   -2.7976   -1.5773 H   0  0  0  0  0  0  0  0  0  0  0  0\\n    2.3146   -4.0188   -2.6993 C   0  0  0  0  0  0  0  0  0  0  0  0\\n    3.0577   -4.8067   -2.8587 H   0  0  0  0  0  0  0  0  0  0  0  0\\n    2.3900   -3.3463   -3.5596 H   0  0  0  0  0  0  0  0  0  0  0  0\\n    1.5580   -7.5393   -3.1251 C   0  0  0  0  0  0  0  0  0  0  0  0\\n    2.4386   -7.0537   -2.7118 H   0  0  0  0  0  0  0  0  0  0  0  0\\n    1.5135   -8.9400   -3.0631 C   0  0  0  0  0  0  0  0  0  0  0  0\\n    2.3489   -9.4715   -2.6132 H   0  0  0  0  0  0  0  0  0  0  0  0\\n  1  2  1  0\\n  2  3  2  0\\n  3  4  1  0\\n  3  5  1  0\\n  5  6  1  0\\n  5  7  2  0\\n  7  8  1  0\\n  8  9  1  0\\n  9 10  2  0\\n  9 11  1  0\\n 11 12  1  0\\n 11 13  1  0\\n 11 14  1  0\\n 14 15  1  0\\n 14 16  1  0\\n 14 17  1  0\\n  8 18  1  0\\n 18 19  1  0\\n 18 20  1  0\\n 20 21  1  0\\n 20 22  1  0\\n 20 23  1  0\\n 23 24  1  0\\n 23 25  1  0\\n 23 26  1  0\\n 26 27  1  0\\n 27 28  1  0\\n 27 29  1  0\\n 27 30  1  0\\n 30 31  1  0\\n 30 32  1  0\\n 30 33  1  0\\n 33 34  2  0\\n 34 35  1  0\\n 34 36  1  0\\n 36 37  1  0\\n 36 38  2  0\\n 38 39  1  0\\n 38 40  1  0\\n 40 41  1  0\\n 33 42  1  0\\n 40 42  2  0\\n 42 43  1  0\\n 26 44  1  0\\n 44 45  1  0\\n 44 46  1  0\\n 18 47  1  0\\n 44 47  1  0\\n 47 48  1  0\\n 47 49  1  0\\n  7 50  1  0\\n 50 51  1  0\\n  2 52  1  0\\n 50 52  2  0\\n 52 53  1  0\\nM  END\\n\",\"sdf\");\n\tviewergrid_17338454013411248[0][2].setStyle({\"stick\": {}});\n\tviewergrid_17338454013411248[0][3].removeAllModels();\n\tviewergrid_17338454013411248[0][3].addModel(\"\\n     RDKit          3D\\n\\n 53 55  0  0  0  0  0  0  0  0999 V2000\\n   -3.1790   -5.2417   -7.5228 H   0  0  0  0  0  0  0  0  0  0  0  0\\n   -2.2894   -5.1069   -6.9167 C   0  0  0  0  0  0  0  0  0  0  0  0\\n   -1.5398   -3.9345   -7.0044 C   0  0  0  0  0  0  0  0  0  0  0  0\\n   -1.8454   -3.1463   -7.6885 H   0  0  0  0  0  0  0  0  0  0  0  0\\n   -0.3931   -3.7893   -6.2117 C   0  0  0  0  0  0  0  0  0  0  0  0\\n    0.1836   -2.8693   -6.2985 H   0  0  0  0  0  0  0  0  0  0  0  0\\n    0.0535   -4.7720   -5.3072 C   0  0  0  0  0  0  0  0  0  0  0  0\\n    1.1976   -4.5990   -4.5281 N   0  0  0  0  0  0  0  0  0  0  0  0\\n    2.2879   -5.4942   -4.6216 C   0  0  0  0  0  0  0  0  0  0  0  0\\n    3.3152   -5.3685   -3.9454 O   0  0  0  0  0  0  0  0  0  0  0  0\\n    2.1660   -6.6737   -5.5843 C   0  0  0  0  0  0  0  0  0  0  0  0\\n    2.0410   -6.2869   -6.5995 H   0  0  0  0  0  0  0  0  0  0  0  0\\n    1.2983   -7.2848   -5.3168 H   0  0  0  0  0  0  0  0  0  0  0  0\\n    3.3988   -7.5663   -5.5636 C   0  0  0  0  0  0  0  0  0  0  0  0\\n    3.2661   -8.4132   -6.2440 H   0  0  0  0  0  0  0  0  0  0  0  0\\n    3.5817   -7.9590   -4.5580 H   0  0  0  0  0  0  0  0  0  0  0  0\\n    4.2914   -7.0151   -5.8776 H   0  0  0  0  0  0  0  0  0  0  0  0\\n    1.2083   -3.6711   -3.4323 C   0  0  0  0  0  0  0  0  0  0  0  0\\n    0.3001   -3.0597   -3.5116 H   0  0  0  0  0  0  0  0  0  0  0  0\\n    1.1886   -4.4074   -2.0818 C   0  0  0  0  0  0  0  0  0  0  0  0\\n    0.1456   -4.6271   -1.8191 H   0  0  0  0  0  0  0  0  0  0  0  0\\n    1.6982   -5.3772   -2.1535 H   0  0  0  0  0  0  0  0  0  0  0  0\\n    1.8554   -3.6080   -0.9522 C   0  0  0  0  0  0  0  0  0  0  0  0\\n    1.3995   -3.9188   -0.0039 H   0  0  0  0  0  0  0  0  0  0  0  0\\n    2.9208   -3.8668   -0.8891 H   0  0  0  0  0  0  0  0  0  0  0  0\\n    1.6879   -2.1718   -1.1645 N   0  0  0  0  0  0  0  0  0  0  0  0\\n    2.0902   -1.4053    0.0000 C   0  0  0  0  0  0  0  0  0  0  0  0\\n    3.1821   -1.3319   -0.0401 H   0  0  0  0  0  0  0  0  0  0  0  0\\n    1.8217   -1.9541    0.9092 H   0  0  0  0  0  0  0  0  0  0  0  0\\n    1.4860    0.0000    0.0000 C   0  0  0  0  0  0  0  0  0  0  0  0\\n    1.8565    0.5669   -0.8637 H   0  0  0  0  0  0  0  0  0  0  0  0\\n    1.8333    0.5427    0.8884 H   0  0  0  0  0  0  0  0  0  0  0  0\\n    0.0000    0.0000    0.0000 C   0  0  0  0  0  0  0  0  0  0  0  0\\n   -0.7114    0.0000    1.1992 C   0  0  0  0  0  0  0  0  0  0  0  0\\n   -0.1765   -0.0031    2.1461 H   0  0  0  0  0  0  0  0  0  0  0  0\\n   -2.1126   -0.0035    1.1688 C   0  0  0  0  0  0  0  0  0  0  0  0\\n   -2.6514   -0.0101    2.1155 H   0  0  0  0  0  0  0  0  0  0  0  0\\n   -2.8620    0.0013   -0.0236 C   0  0  0  0  0  0  0  0  0  0  0  0\\n   -3.9439    0.0009   -0.0237 H   0  0  0  0  0  0  0  0  0  0  0  0\\n   -2.1138    0.0186   -1.2108 C   0  0  0  0  0  0  0  0  0  0  0  0\\n   -2.6026    0.0397   -2.1817 H   0  0  0  0  0  0  0  0  0  0  0  0\\n   -0.7111    0.0195   -1.2025 C   0  0  0  0  0  0  0  0  0  0  0  0\\n   -0.1814    0.0390   -2.1521 H   0  0  0  0  0  0  0  0  0  0  0  0\\n    2.3979   -1.7117   -2.3687 C   0  0  0  0  0  0  0  0  0  0  0  0\\n    1.9033   -0.7998   -2.7247 H   0  0  0  0  0  0  0  0  0  0  0  0\\n    3.4379   -1.4411   -2.1433 H   0  0  0  0  0  0  0  0  0  0  0  0\\n    2.4193   -2.7433   -3.5091 C   0  0  0  0  0  0  0  0  0  0  0  0\\n    2.4492   -2.2186   -4.4718 H   0  0  0  0  0  0  0  0  0  0  0  0\\n    3.3421   -3.3355   -3.4414 H   0  0  0  0  0  0  0  0  0  0  0  0\\n   -0.7343   -5.9311   -5.2324 C   0  0  0  0  0  0  0  0  0  0  0  0\\n   -0.4798   -6.7393   -4.5512 H   0  0  0  0  0  0  0  0  0  0  0  0\\n   -1.8839   -6.0976   -6.0188 C   0  0  0  0  0  0  0  0  0  0  0  0\\n   -2.4608   -7.0138   -5.9164 H   0  0  0  0  0  0  0  0  0  0  0  0\\n  1  2  1  0\\n  2  3  2  0\\n  3  4  1  0\\n  3  5  1  0\\n  5  6  1  0\\n  5  7  2  0\\n  7  8  1  0\\n  8  9  1  0\\n  9 10  2  0\\n  9 11  1  0\\n 11 12  1  0\\n 11 13  1  0\\n 11 14  1  0\\n 14 15  1  0\\n 14 16  1  0\\n 14 17  1  0\\n  8 18  1  0\\n 18 19  1  0\\n 18 20  1  0\\n 20 21  1  0\\n 20 22  1  0\\n 20 23  1  0\\n 23 24  1  0\\n 23 25  1  0\\n 23 26  1  0\\n 26 27  1  0\\n 27 28  1  0\\n 27 29  1  0\\n 27 30  1  0\\n 30 31  1  0\\n 30 32  1  0\\n 30 33  1  0\\n 33 34  2  0\\n 34 35  1  0\\n 34 36  1  0\\n 36 37  1  0\\n 36 38  2  0\\n 38 39  1  0\\n 38 40  1  0\\n 40 41  1  0\\n 33 42  1  0\\n 40 42  2  0\\n 42 43  1  0\\n 26 44  1  0\\n 44 45  1  0\\n 44 46  1  0\\n 18 47  1  0\\n 44 47  1  0\\n 47 48  1  0\\n 47 49  1  0\\n  7 50  1  0\\n 50 51  1  0\\n  2 52  1  0\\n 50 52  2  0\\n 52 53  1  0\\nM  END\\n\",\"sdf\");\n\tviewergrid_17338454013411248[0][3].setStyle({\"stick\": {}});\n\tviewergrid_17338454013411248[0][4].removeAllModels();\n\tviewergrid_17338454013411248[0][4].addModel(\"\\n     RDKit          3D\\n\\n 53 55  0  0  0  0  0  0  0  0999 V2000\\n    5.6821   -5.0214   -7.4406 H   0  0  0  0  0  0  0  0  0  0  0  0\\n    4.7761   -4.9326   -6.8504 C   0  0  0  0  0  0  0  0  0  0  0  0\\n    4.6786   -5.5434   -5.6007 C   0  0  0  0  0  0  0  0  0  0  0  0\\n    5.5162   -6.1179   -5.2119 H   0  0  0  0  0  0  0  0  0  0  0  0\\n    3.4946   -5.4147   -4.8618 C   0  0  0  0  0  0  0  0  0  0  0  0\\n    3.4342   -5.9042   -3.8905 H   0  0  0  0  0  0  0  0  0  0  0  0\\n    2.3769   -4.6844   -5.3097 C   0  0  0  0  0  0  0  0  0  0  0  0\\n    1.2117   -4.5705   -4.5511 N   0  0  0  0  0  0  0  0  0  0  0  0\\n   -0.0317   -5.0233   -5.0488 C   0  0  0  0  0  0  0  0  0  0  0  0\\n   -0.1568   -5.5376   -6.1660 O   0  0  0  0  0  0  0  0  0  0  0  0\\n   -1.2569   -4.8865   -4.1471 C   0  0  0  0  0  0  0  0  0  0  0  0\\n   -1.4175   -3.8266   -3.9312 H   0  0  0  0  0  0  0  0  0  0  0  0\\n   -1.0930   -5.4292   -3.2109 H   0  0  0  0  0  0  0  0  0  0  0  0\\n   -2.5182   -5.4358   -4.7987 C   0  0  0  0  0  0  0  0  0  0  0  0\\n   -3.3688   -5.3455   -4.1160 H   0  0  0  0  0  0  0  0  0  0  0  0\\n   -2.3969   -6.4927   -5.0584 H   0  0  0  0  0  0  0  0  0  0  0  0\\n   -2.7595   -4.8890   -5.7162 H   0  0  0  0  0  0  0  0  0  0  0  0\\n    1.1842   -3.7677   -3.3608 C   0  0  0  0  0  0  0  0  0  0  0  0\\n    0.1337   -3.6626   -3.0606 H   0  0  0  0  0  0  0  0  0  0  0  0\\n    1.9429   -4.4468   -2.2223 C   0  0  0  0  0  0  0  0  0  0  0  0\\n    2.9970   -4.5724   -2.5052 H   0  0  0  0  0  0  0  0  0  0  0  0\\n    1.5442   -5.4506   -2.0310 H   0  0  0  0  0  0  0  0  0  0  0  0\\n    1.8636   -3.6143   -0.9316 C   0  0  0  0  0  0  0  0  0  0  0  0\\n    2.7693   -3.8194   -0.3457 H   0  0  0  0  0  0  0  0  0  0  0  0\\n    1.0135   -3.9660   -0.3344 H   0  0  0  0  0  0  0  0  0  0  0  0\\n    1.6879   -2.1718   -1.1645 N   0  0  0  0  0  0  0  0  0  0  0  0\\n    2.0902   -1.4053    0.0000 C   0  0  0  0  0  0  0  0  0  0  0  0\\n    3.1821   -1.3319   -0.0401 H   0  0  0  0  0  0  0  0  0  0  0  0\\n    1.8217   -1.9541    0.9092 H   0  0  0  0  0  0  0  0  0  0  0  0\\n    1.4860    0.0000    0.0000 C   0  0  0  0  0  0  0  0  0  0  0  0\\n    1.8565    0.5669   -0.8637 H   0  0  0  0  0  0  0  0  0  0  0  0\\n    1.8333    0.5427    0.8884 H   0  0  0  0  0  0  0  0  0  0  0  0\\n    0.0000    0.0000    0.0000 C   0  0  0  0  0  0  0  0  0  0  0  0\\n   -0.7114    0.0000    1.1992 C   0  0  0  0  0  0  0  0  0  0  0  0\\n   -0.1765   -0.0031    2.1461 H   0  0  0  0  0  0  0  0  0  0  0  0\\n   -2.1126   -0.0035    1.1688 C   0  0  0  0  0  0  0  0  0  0  0  0\\n   -2.6514   -0.0101    2.1155 H   0  0  0  0  0  0  0  0  0  0  0  0\\n   -2.8620    0.0013   -0.0236 C   0  0  0  0  0  0  0  0  0  0  0  0\\n   -3.9439    0.0009   -0.0237 H   0  0  0  0  0  0  0  0  0  0  0  0\\n   -2.1138    0.0186   -1.2108 C   0  0  0  0  0  0  0  0  0  0  0  0\\n   -2.6026    0.0397   -2.1817 H   0  0  0  0  0  0  0  0  0  0  0  0\\n   -0.7111    0.0195   -1.2025 C   0  0  0  0  0  0  0  0  0  0  0  0\\n   -0.1814    0.0390   -2.1521 H   0  0  0  0  0  0  0  0  0  0  0  0\\n    2.3834   -1.7289   -2.3712 C   0  0  0  0  0  0  0  0  0  0  0  0\\n    3.4514   -1.9786   -2.3143 H   0  0  0  0  0  0  0  0  0  0  0  0\\n    2.3205   -0.6392   -2.4809 H   0  0  0  0  0  0  0  0  0  0  0  0\\n    1.7629   -2.3667   -3.6233 C   0  0  0  0  0  0  0  0  0  0  0  0\\n    2.5356   -2.3984   -4.4025 H   0  0  0  0  0  0  0  0  0  0  0  0\\n    0.9612   -1.7251   -4.0116 H   0  0  0  0  0  0  0  0  0  0  0  0\\n    2.5165   -4.0690   -6.5633 C   0  0  0  0  0  0  0  0  0  0  0  0\\n    1.7140   -3.4700   -6.9866 H   0  0  0  0  0  0  0  0  0  0  0  0\\n    3.6916   -4.1876   -7.3201 C   0  0  0  0  0  0  0  0  0  0  0  0\\n    3.7479   -3.6850   -8.2829 H   0  0  0  0  0  0  0  0  0  0  0  0\\n  1  2  1  0\\n  2  3  2  0\\n  3  4  1  0\\n  3  5  1  0\\n  5  6  1  0\\n  5  7  2  0\\n  7  8  1  0\\n  8  9  1  0\\n  9 10  2  0\\n  9 11  1  0\\n 11 12  1  0\\n 11 13  1  0\\n 11 14  1  0\\n 14 15  1  0\\n 14 16  1  0\\n 14 17  1  0\\n  8 18  1  0\\n 18 19  1  0\\n 18 20  1  0\\n 20 21  1  0\\n 20 22  1  0\\n 20 23  1  0\\n 23 24  1  0\\n 23 25  1  0\\n 23 26  1  0\\n 26 27  1  0\\n 27 28  1  0\\n 27 29  1  0\\n 27 30  1  0\\n 30 31  1  0\\n 30 32  1  0\\n 30 33  1  0\\n 33 34  2  0\\n 34 35  1  0\\n 34 36  1  0\\n 36 37  1  0\\n 36 38  2  0\\n 38 39  1  0\\n 38 40  1  0\\n 40 41  1  0\\n 33 42  1  0\\n 40 42  2  0\\n 42 43  1  0\\n 26 44  1  0\\n 44 45  1  0\\n 44 46  1  0\\n 18 47  1  0\\n 44 47  1  0\\n 47 48  1  0\\n 47 49  1  0\\n  7 50  1  0\\n 50 51  1  0\\n  2 52  1  0\\n 50 52  2  0\\n 52 53  1  0\\nM  END\\n\",\"sdf\");\n\tviewergrid_17338454013411248[0][4].setStyle({\"stick\": {}});\n\tviewergrid_17338454013411248[0][0].zoomTo();\n\tviewergrid_17338454013411248[0][1].zoomTo();\n\tviewergrid_17338454013411248[0][2].zoomTo();\n\tviewergrid_17338454013411248[0][3].zoomTo();\n\tviewergrid_17338454013411248[0][4].zoomTo();\nviewergrid_17338454013411248[0][4].render();\nviewergrid_17338454013411248[0][3].render();\nviewergrid_17338454013411248[0][2].render();\nviewergrid_17338454013411248[0][1].render();\nviewergrid_17338454013411248[0][0].render();\n});\n</script>",
      "text/html": [
       "<div id=\"3dmolviewer_17338454013411248\"  style=\"position: relative; width: 1500px; height: 400px;\">\n",
       "        <p id=\"3dmolwarning_17338454013411248\" style=\"background-color:#ffcccc;color:black\">3Dmol.js failed to load for some reason.  Please check your browser console for error messages.<br></p>\n",
       "        </div>\n",
       "<script>\n",
       "\n",
       "var loadScriptAsync = function(uri){\n",
       "  return new Promise((resolve, reject) => {\n",
       "    //this is to ignore the existence of requirejs amd\n",
       "    var savedexports, savedmodule;\n",
       "    if (typeof exports !== 'undefined') savedexports = exports;\n",
       "    else exports = {}\n",
       "    if (typeof module !== 'undefined') savedmodule = module;\n",
       "    else module = {}\n",
       "\n",
       "    var tag = document.createElement('script');\n",
       "    tag.src = uri;\n",
       "    tag.async = true;\n",
       "    tag.onload = () => {\n",
       "        exports = savedexports;\n",
       "        module = savedmodule;\n",
       "        resolve();\n",
       "    };\n",
       "  var firstScriptTag = document.getElementsByTagName('script')[0];\n",
       "  firstScriptTag.parentNode.insertBefore(tag, firstScriptTag);\n",
       "});\n",
       "};\n",
       "\n",
       "if(typeof $3Dmolpromise === 'undefined') {\n",
       "$3Dmolpromise = null;\n",
       "  $3Dmolpromise = loadScriptAsync('https://cdnjs.cloudflare.com/ajax/libs/3Dmol/2.4.0/3Dmol-min.js');\n",
       "}\n",
       "\n",
       "var viewer_17338454013411248 = null;\n",
       "var warn = document.getElementById(\"3dmolwarning_17338454013411248\");\n",
       "if(warn) {\n",
       "    warn.parentNode.removeChild(warn);\n",
       "}\n",
       "$3Dmolpromise.then(function() {\n",
       "var viewergrid_17338454013411248 = null;\n",
       "viewergrid_17338454013411248 = $3Dmol.createViewerGrid(document.getElementById(\"3dmolviewer_17338454013411248\"),{rows: 1, cols: 5, control_all: true},{backgroundColor:\"white\"});\n",
       "viewer_17338454013411248 = viewergrid_17338454013411248[0][0];\n",
       "viewergrid_17338454013411248[0][0].zoomTo();viewergrid_17338454013411248[0][1].zoomTo();viewergrid_17338454013411248[0][2].zoomTo();viewergrid_17338454013411248[0][3].zoomTo();viewergrid_17338454013411248[0][4].zoomTo();\tviewergrid_17338454013411248[0][0].removeAllModels();\n",
       "\tviewergrid_17338454013411248[0][0].addModel(\"\\n     RDKit          3D\\n\\n 53 55  0  0  0  0  0  0  0  0999 V2000\\n    5.5339   -7.4886   -5.7045 H   0  0  0  0  0  0  0  0  0  0  0  0\\n    4.6525   -6.9045   -5.4617 C   0  0  0  0  0  0  0  0  0  0  0  0\\n    3.9132   -7.1770   -4.3113 C   0  0  0  0  0  0  0  0  0  0  0  0\\n    4.2186   -7.9846   -3.6500 H   0  0  0  0  0  0  0  0  0  0  0  0\\n    2.7769   -6.4082   -4.0247 C   0  0  0  0  0  0  0  0  0  0  0  0\\n    2.2081   -6.6399   -3.1250 H   0  0  0  0  0  0  0  0  0  0  0  0\\n    2.3312   -5.3499   -4.8399 C   0  0  0  0  0  0  0  0  0  0  0  0\\n    1.1976   -4.5990   -4.5281 N   0  0  0  0  0  0  0  0  0  0  0  0\\n    0.0979   -4.5333   -5.4141 C   0  0  0  0  0  0  0  0  0  0  0  0\\n    0.0770   -5.1272   -6.4981 O   0  0  0  0  0  0  0  0  0  0  0  0\\n   -1.1165   -3.7103   -4.9887 C   0  0  0  0  0  0  0  0  0  0  0  0\\n   -0.8072   -2.6697   -4.8580 H   0  0  0  0  0  0  0  0  0  0  0  0\\n   -1.5147   -4.0945   -4.0444 H   0  0  0  0  0  0  0  0  0  0  0  0\\n   -2.2319   -3.7488   -6.0239 C   0  0  0  0  0  0  0  0  0  0  0  0\\n   -3.0939   -3.1715   -5.6753 H   0  0  0  0  0  0  0  0  0  0  0  0\\n   -2.5594   -4.7771   -6.2093 H   0  0  0  0  0  0  0  0  0  0  0  0\\n   -1.9013   -3.3234   -6.9772 H   0  0  0  0  0  0  0  0  0  0  0  0\\n    1.2083   -3.6711   -3.4323 C   0  0  0  0  0  0  0  0  0  0  0  0\\n    0.3001   -3.0597   -3.5116 H   0  0  0  0  0  0  0  0  0  0  0  0\\n    1.1886   -4.4074   -2.0818 C   0  0  0  0  0  0  0  0  0  0  0  0\\n    0.1456   -4.6271   -1.8191 H   0  0  0  0  0  0  0  0  0  0  0  0\\n    1.6982   -5.3772   -2.1535 H   0  0  0  0  0  0  0  0  0  0  0  0\\n    1.8554   -3.6080   -0.9522 C   0  0  0  0  0  0  0  0  0  0  0  0\\n    1.3995   -3.9188   -0.0039 H   0  0  0  0  0  0  0  0  0  0  0  0\\n    2.9208   -3.8668   -0.8891 H   0  0  0  0  0  0  0  0  0  0  0  0\\n    1.6879   -2.1718   -1.1645 N   0  0  0  0  0  0  0  0  0  0  0  0\\n    2.0902   -1.4053    0.0000 C   0  0  0  0  0  0  0  0  0  0  0  0\\n    3.1821   -1.3319   -0.0401 H   0  0  0  0  0  0  0  0  0  0  0  0\\n    1.8217   -1.9541    0.9092 H   0  0  0  0  0  0  0  0  0  0  0  0\\n    1.4860    0.0000    0.0000 C   0  0  0  0  0  0  0  0  0  0  0  0\\n    1.8565    0.5669   -0.8637 H   0  0  0  0  0  0  0  0  0  0  0  0\\n    1.8333    0.5427    0.8884 H   0  0  0  0  0  0  0  0  0  0  0  0\\n    0.0000    0.0000    0.0000 C   0  0  0  0  0  0  0  0  0  0  0  0\\n   -0.7114    0.0000    1.1992 C   0  0  0  0  0  0  0  0  0  0  0  0\\n   -0.1765   -0.0031    2.1461 H   0  0  0  0  0  0  0  0  0  0  0  0\\n   -2.1126   -0.0035    1.1688 C   0  0  0  0  0  0  0  0  0  0  0  0\\n   -2.6514   -0.0101    2.1155 H   0  0  0  0  0  0  0  0  0  0  0  0\\n   -2.8620    0.0013   -0.0236 C   0  0  0  0  0  0  0  0  0  0  0  0\\n   -3.9439    0.0009   -0.0237 H   0  0  0  0  0  0  0  0  0  0  0  0\\n   -2.1138    0.0186   -1.2108 C   0  0  0  0  0  0  0  0  0  0  0  0\\n   -2.6026    0.0397   -2.1817 H   0  0  0  0  0  0  0  0  0  0  0  0\\n   -0.7111    0.0195   -1.2025 C   0  0  0  0  0  0  0  0  0  0  0  0\\n   -0.1814    0.0390   -2.1521 H   0  0  0  0  0  0  0  0  0  0  0  0\\n    2.3979   -1.7117   -2.3687 C   0  0  0  0  0  0  0  0  0  0  0  0\\n    1.9033   -0.7998   -2.7247 H   0  0  0  0  0  0  0  0  0  0  0  0\\n    3.4379   -1.4411   -2.1433 H   0  0  0  0  0  0  0  0  0  0  0  0\\n    2.4193   -2.7433   -3.5091 C   0  0  0  0  0  0  0  0  0  0  0  0\\n    2.4492   -2.2186   -4.4718 H   0  0  0  0  0  0  0  0  0  0  0  0\\n    3.3421   -3.3355   -3.4414 H   0  0  0  0  0  0  0  0  0  0  0  0\\n    3.1087   -5.0926   -5.9797 C   0  0  0  0  0  0  0  0  0  0  0  0\\n    2.8542   -4.2852   -6.6618 H   0  0  0  0  0  0  0  0  0  0  0  0\\n    4.2477   -5.8518   -6.2863 C   0  0  0  0  0  0  0  0  0  0  0  0\\n    4.8169   -5.6054   -7.1796 H   0  0  0  0  0  0  0  0  0  0  0  0\\n  1  2  1  0\\n  2  3  2  0\\n  3  4  1  0\\n  3  5  1  0\\n  5  6  1  0\\n  5  7  2  0\\n  7  8  1  0\\n  8  9  1  0\\n  9 10  2  0\\n  9 11  1  0\\n 11 12  1  0\\n 11 13  1  0\\n 11 14  1  0\\n 14 15  1  0\\n 14 16  1  0\\n 14 17  1  0\\n  8 18  1  0\\n 18 19  1  0\\n 18 20  1  0\\n 20 21  1  0\\n 20 22  1  0\\n 20 23  1  0\\n 23 24  1  0\\n 23 25  1  0\\n 23 26  1  0\\n 26 27  1  0\\n 27 28  1  0\\n 27 29  1  0\\n 27 30  1  0\\n 30 31  1  0\\n 30 32  1  0\\n 30 33  1  0\\n 33 34  2  0\\n 34 35  1  0\\n 34 36  1  0\\n 36 37  1  0\\n 36 38  2  0\\n 38 39  1  0\\n 38 40  1  0\\n 40 41  1  0\\n 33 42  1  0\\n 40 42  2  0\\n 42 43  1  0\\n 26 44  1  0\\n 44 45  1  0\\n 44 46  1  0\\n 18 47  1  0\\n 44 47  1  0\\n 47 48  1  0\\n 47 49  1  0\\n  7 50  1  0\\n 50 51  1  0\\n  2 52  1  0\\n 50 52  2  0\\n 52 53  1  0\\nM  END\\n\",\"sdf\");\n",
       "\tviewergrid_17338454013411248[0][0].setStyle({\"stick\": {}});\n",
       "\tviewergrid_17338454013411248[0][1].removeAllModels();\n",
       "\tviewergrid_17338454013411248[0][1].addModel(\"\\n     RDKit          3D\\n\\n 53 55  0  0  0  0  0  0  0  0999 V2000\\n    5.5339   -7.4886   -5.7045 H   0  0  0  0  0  0  0  0  0  0  0  0\\n    4.6525   -6.9045   -5.4617 C   0  0  0  0  0  0  0  0  0  0  0  0\\n    3.9132   -7.1770   -4.3113 C   0  0  0  0  0  0  0  0  0  0  0  0\\n    4.2186   -7.9846   -3.6500 H   0  0  0  0  0  0  0  0  0  0  0  0\\n    2.7769   -6.4082   -4.0247 C   0  0  0  0  0  0  0  0  0  0  0  0\\n    2.2081   -6.6399   -3.1250 H   0  0  0  0  0  0  0  0  0  0  0  0\\n    2.3312   -5.3499   -4.8399 C   0  0  0  0  0  0  0  0  0  0  0  0\\n    1.1976   -4.5990   -4.5281 N   0  0  0  0  0  0  0  0  0  0  0  0\\n    0.0979   -4.5333   -5.4141 C   0  0  0  0  0  0  0  0  0  0  0  0\\n   -0.9205   -3.8773   -5.1672 O   0  0  0  0  0  0  0  0  0  0  0  0\\n    0.1977   -5.2897   -6.7373 C   0  0  0  0  0  0  0  0  0  0  0  0\\n    0.3149   -6.3558   -6.5244 H   0  0  0  0  0  0  0  0  0  0  0  0\\n    1.0625   -4.9334   -7.3057 H   0  0  0  0  0  0  0  0  0  0  0  0\\n   -1.0433   -5.1104   -7.6004 C   0  0  0  0  0  0  0  0  0  0  0  0\\n   -0.9264   -5.6432   -8.5492 H   0  0  0  0  0  0  0  0  0  0  0  0\\n   -1.2185   -4.0521   -7.8200 H   0  0  0  0  0  0  0  0  0  0  0  0\\n   -1.9340   -5.5023   -7.0983 H   0  0  0  0  0  0  0  0  0  0  0  0\\n    1.2083   -3.6711   -3.4323 C   0  0  0  0  0  0  0  0  0  0  0  0\\n    0.3001   -3.0597   -3.5116 H   0  0  0  0  0  0  0  0  0  0  0  0\\n    1.1886   -4.4074   -2.0818 C   0  0  0  0  0  0  0  0  0  0  0  0\\n    0.1456   -4.6271   -1.8191 H   0  0  0  0  0  0  0  0  0  0  0  0\\n    1.6982   -5.3772   -2.1535 H   0  0  0  0  0  0  0  0  0  0  0  0\\n    1.8554   -3.6080   -0.9522 C   0  0  0  0  0  0  0  0  0  0  0  0\\n    1.3995   -3.9188   -0.0039 H   0  0  0  0  0  0  0  0  0  0  0  0\\n    2.9208   -3.8668   -0.8891 H   0  0  0  0  0  0  0  0  0  0  0  0\\n    1.6879   -2.1718   -1.1645 N   0  0  0  0  0  0  0  0  0  0  0  0\\n    2.0902   -1.4053    0.0000 C   0  0  0  0  0  0  0  0  0  0  0  0\\n    3.1821   -1.3319   -0.0401 H   0  0  0  0  0  0  0  0  0  0  0  0\\n    1.8217   -1.9541    0.9092 H   0  0  0  0  0  0  0  0  0  0  0  0\\n    1.4860    0.0000    0.0000 C   0  0  0  0  0  0  0  0  0  0  0  0\\n    1.8565    0.5669   -0.8637 H   0  0  0  0  0  0  0  0  0  0  0  0\\n    1.8333    0.5427    0.8884 H   0  0  0  0  0  0  0  0  0  0  0  0\\n    0.0000    0.0000    0.0000 C   0  0  0  0  0  0  0  0  0  0  0  0\\n   -0.7114    0.0000    1.1992 C   0  0  0  0  0  0  0  0  0  0  0  0\\n   -0.1765   -0.0031    2.1461 H   0  0  0  0  0  0  0  0  0  0  0  0\\n   -2.1126   -0.0035    1.1688 C   0  0  0  0  0  0  0  0  0  0  0  0\\n   -2.6514   -0.0101    2.1155 H   0  0  0  0  0  0  0  0  0  0  0  0\\n   -2.8620    0.0013   -0.0236 C   0  0  0  0  0  0  0  0  0  0  0  0\\n   -3.9439    0.0009   -0.0237 H   0  0  0  0  0  0  0  0  0  0  0  0\\n   -2.1138    0.0186   -1.2108 C   0  0  0  0  0  0  0  0  0  0  0  0\\n   -2.6026    0.0397   -2.1817 H   0  0  0  0  0  0  0  0  0  0  0  0\\n   -0.7111    0.0195   -1.2025 C   0  0  0  0  0  0  0  0  0  0  0  0\\n   -0.1814    0.0390   -2.1521 H   0  0  0  0  0  0  0  0  0  0  0  0\\n    2.3979   -1.7117   -2.3687 C   0  0  0  0  0  0  0  0  0  0  0  0\\n    1.9033   -0.7998   -2.7247 H   0  0  0  0  0  0  0  0  0  0  0  0\\n    3.4379   -1.4411   -2.1433 H   0  0  0  0  0  0  0  0  0  0  0  0\\n    2.4193   -2.7433   -3.5091 C   0  0  0  0  0  0  0  0  0  0  0  0\\n    2.4492   -2.2186   -4.4718 H   0  0  0  0  0  0  0  0  0  0  0  0\\n    3.3421   -3.3355   -3.4414 H   0  0  0  0  0  0  0  0  0  0  0  0\\n    3.1087   -5.0926   -5.9797 C   0  0  0  0  0  0  0  0  0  0  0  0\\n    2.8542   -4.2852   -6.6618 H   0  0  0  0  0  0  0  0  0  0  0  0\\n    4.2477   -5.8518   -6.2863 C   0  0  0  0  0  0  0  0  0  0  0  0\\n    4.8169   -5.6054   -7.1796 H   0  0  0  0  0  0  0  0  0  0  0  0\\n  1  2  1  0\\n  2  3  2  0\\n  3  4  1  0\\n  3  5  1  0\\n  5  6  1  0\\n  5  7  2  0\\n  7  8  1  0\\n  8  9  1  0\\n  9 10  2  0\\n  9 11  1  0\\n 11 12  1  0\\n 11 13  1  0\\n 11 14  1  0\\n 14 15  1  0\\n 14 16  1  0\\n 14 17  1  0\\n  8 18  1  0\\n 18 19  1  0\\n 18 20  1  0\\n 20 21  1  0\\n 20 22  1  0\\n 20 23  1  0\\n 23 24  1  0\\n 23 25  1  0\\n 23 26  1  0\\n 26 27  1  0\\n 27 28  1  0\\n 27 29  1  0\\n 27 30  1  0\\n 30 31  1  0\\n 30 32  1  0\\n 30 33  1  0\\n 33 34  2  0\\n 34 35  1  0\\n 34 36  1  0\\n 36 37  1  0\\n 36 38  2  0\\n 38 39  1  0\\n 38 40  1  0\\n 40 41  1  0\\n 33 42  1  0\\n 40 42  2  0\\n 42 43  1  0\\n 26 44  1  0\\n 44 45  1  0\\n 44 46  1  0\\n 18 47  1  0\\n 44 47  1  0\\n 47 48  1  0\\n 47 49  1  0\\n  7 50  1  0\\n 50 51  1  0\\n  2 52  1  0\\n 50 52  2  0\\n 52 53  1  0\\nM  END\\n\",\"sdf\");\n",
       "\tviewergrid_17338454013411248[0][1].setStyle({\"stick\": {}});\n",
       "\tviewergrid_17338454013411248[0][2].removeAllModels();\n",
       "\tviewergrid_17338454013411248[0][2].addModel(\"\\n     RDKit          3D\\n\\n 53 55  0  0  0  0  0  0  0  0999 V2000\\n    0.3889  -10.7298   -3.5141 H   0  0  0  0  0  0  0  0  0  0  0  0\\n    0.4173   -9.6465   -3.5642 C   0  0  0  0  0  0  0  0  0  0  0  0\\n   -0.6472   -8.9316   -4.1120 C   0  0  0  0  0  0  0  0  0  0  0  0\\n   -1.5150   -9.4624   -4.4966 H   0  0  0  0  0  0  0  0  0  0  0  0\\n   -0.5815   -7.5327   -4.1668 C   0  0  0  0  0  0  0  0  0  0  0  0\\n   -1.4196   -6.9915   -4.6041 H   0  0  0  0  0  0  0  0  0  0  0  0\\n    0.5128   -6.7886   -3.6851 C   0  0  0  0  0  0  0  0  0  0  0  0\\n    0.5497   -5.3956   -3.7499 N   0  0  0  0  0  0  0  0  0  0  0  0\\n    0.4891   -4.7196   -4.9901 C   0  0  0  0  0  0  0  0  0  0  0  0\\n    0.5195   -3.4871   -5.0813 O   0  0  0  0  0  0  0  0  0  0  0  0\\n    0.4076   -5.5617   -6.2618 C   0  0  0  0  0  0  0  0  0  0  0  0\\n   -0.5082   -6.1584   -6.2298 H   0  0  0  0  0  0  0  0  0  0  0  0\\n    1.2748   -6.2265   -6.3246 H   0  0  0  0  0  0  0  0  0  0  0  0\\n    0.3742   -4.7061   -7.5203 C   0  0  0  0  0  0  0  0  0  0  0  0\\n    0.3424   -5.3413   -8.4109 H   0  0  0  0  0  0  0  0  0  0  0  0\\n    1.2622   -4.0686   -7.5847 H   0  0  0  0  0  0  0  0  0  0  0  0\\n   -0.5079   -4.0574   -7.5341 H   0  0  0  0  0  0  0  0  0  0  0  0\\n    0.9053   -4.6146   -2.5986 C   0  0  0  0  0  0  0  0  0  0  0  0\\n    0.9041   -5.2889   -1.7354 H   0  0  0  0  0  0  0  0  0  0  0  0\\n   -0.0969   -3.5006   -2.2598 C   0  0  0  0  0  0  0  0  0  0  0  0\\n   -0.1889   -2.7895   -3.0898 H   0  0  0  0  0  0  0  0  0  0  0  0\\n   -1.0926   -3.9310   -2.0990 H   0  0  0  0  0  0  0  0  0  0  0  0\\n    0.3375   -2.7357   -1.0057 C   0  0  0  0  0  0  0  0  0  0  0  0\\n   -0.3949   -1.9388   -0.8414 H   0  0  0  0  0  0  0  0  0  0  0  0\\n    0.2929   -3.4015   -0.1338 H   0  0  0  0  0  0  0  0  0  0  0  0\\n    1.6879   -2.1718   -1.1645 N   0  0  0  0  0  0  0  0  0  0  0  0\\n    2.0902   -1.4053    0.0000 C   0  0  0  0  0  0  0  0  0  0  0  0\\n    3.1821   -1.3319   -0.0401 H   0  0  0  0  0  0  0  0  0  0  0  0\\n    1.8217   -1.9541    0.9092 H   0  0  0  0  0  0  0  0  0  0  0  0\\n    1.4860    0.0000    0.0000 C   0  0  0  0  0  0  0  0  0  0  0  0\\n    1.8565    0.5669   -0.8637 H   0  0  0  0  0  0  0  0  0  0  0  0\\n    1.8333    0.5427    0.8884 H   0  0  0  0  0  0  0  0  0  0  0  0\\n    0.0000    0.0000    0.0000 C   0  0  0  0  0  0  0  0  0  0  0  0\\n   -0.7114    0.0000    1.1992 C   0  0  0  0  0  0  0  0  0  0  0  0\\n   -0.1765   -0.0031    2.1461 H   0  0  0  0  0  0  0  0  0  0  0  0\\n   -2.1126   -0.0035    1.1688 C   0  0  0  0  0  0  0  0  0  0  0  0\\n   -2.6514   -0.0101    2.1155 H   0  0  0  0  0  0  0  0  0  0  0  0\\n   -2.8620    0.0013   -0.0236 C   0  0  0  0  0  0  0  0  0  0  0  0\\n   -3.9439    0.0009   -0.0237 H   0  0  0  0  0  0  0  0  0  0  0  0\\n   -2.1138    0.0186   -1.2108 C   0  0  0  0  0  0  0  0  0  0  0  0\\n   -2.6026    0.0397   -2.1817 H   0  0  0  0  0  0  0  0  0  0  0  0\\n   -0.7111    0.0195   -1.2025 C   0  0  0  0  0  0  0  0  0  0  0  0\\n   -0.1814    0.0390   -2.1521 H   0  0  0  0  0  0  0  0  0  0  0  0\\n    2.6687   -3.2371   -1.4314 C   0  0  0  0  0  0  0  0  0  0  0  0\\n    2.7390   -3.9255   -0.5788 H   0  0  0  0  0  0  0  0  0  0  0  0\\n    3.6631   -2.7976   -1.5773 H   0  0  0  0  0  0  0  0  0  0  0  0\\n    2.3146   -4.0188   -2.6993 C   0  0  0  0  0  0  0  0  0  0  0  0\\n    3.0577   -4.8067   -2.8587 H   0  0  0  0  0  0  0  0  0  0  0  0\\n    2.3900   -3.3463   -3.5596 H   0  0  0  0  0  0  0  0  0  0  0  0\\n    1.5580   -7.5393   -3.1251 C   0  0  0  0  0  0  0  0  0  0  0  0\\n    2.4386   -7.0537   -2.7118 H   0  0  0  0  0  0  0  0  0  0  0  0\\n    1.5135   -8.9400   -3.0631 C   0  0  0  0  0  0  0  0  0  0  0  0\\n    2.3489   -9.4715   -2.6132 H   0  0  0  0  0  0  0  0  0  0  0  0\\n  1  2  1  0\\n  2  3  2  0\\n  3  4  1  0\\n  3  5  1  0\\n  5  6  1  0\\n  5  7  2  0\\n  7  8  1  0\\n  8  9  1  0\\n  9 10  2  0\\n  9 11  1  0\\n 11 12  1  0\\n 11 13  1  0\\n 11 14  1  0\\n 14 15  1  0\\n 14 16  1  0\\n 14 17  1  0\\n  8 18  1  0\\n 18 19  1  0\\n 18 20  1  0\\n 20 21  1  0\\n 20 22  1  0\\n 20 23  1  0\\n 23 24  1  0\\n 23 25  1  0\\n 23 26  1  0\\n 26 27  1  0\\n 27 28  1  0\\n 27 29  1  0\\n 27 30  1  0\\n 30 31  1  0\\n 30 32  1  0\\n 30 33  1  0\\n 33 34  2  0\\n 34 35  1  0\\n 34 36  1  0\\n 36 37  1  0\\n 36 38  2  0\\n 38 39  1  0\\n 38 40  1  0\\n 40 41  1  0\\n 33 42  1  0\\n 40 42  2  0\\n 42 43  1  0\\n 26 44  1  0\\n 44 45  1  0\\n 44 46  1  0\\n 18 47  1  0\\n 44 47  1  0\\n 47 48  1  0\\n 47 49  1  0\\n  7 50  1  0\\n 50 51  1  0\\n  2 52  1  0\\n 50 52  2  0\\n 52 53  1  0\\nM  END\\n\",\"sdf\");\n",
       "\tviewergrid_17338454013411248[0][2].setStyle({\"stick\": {}});\n",
       "\tviewergrid_17338454013411248[0][3].removeAllModels();\n",
       "\tviewergrid_17338454013411248[0][3].addModel(\"\\n     RDKit          3D\\n\\n 53 55  0  0  0  0  0  0  0  0999 V2000\\n   -3.1790   -5.2417   -7.5228 H   0  0  0  0  0  0  0  0  0  0  0  0\\n   -2.2894   -5.1069   -6.9167 C   0  0  0  0  0  0  0  0  0  0  0  0\\n   -1.5398   -3.9345   -7.0044 C   0  0  0  0  0  0  0  0  0  0  0  0\\n   -1.8454   -3.1463   -7.6885 H   0  0  0  0  0  0  0  0  0  0  0  0\\n   -0.3931   -3.7893   -6.2117 C   0  0  0  0  0  0  0  0  0  0  0  0\\n    0.1836   -2.8693   -6.2985 H   0  0  0  0  0  0  0  0  0  0  0  0\\n    0.0535   -4.7720   -5.3072 C   0  0  0  0  0  0  0  0  0  0  0  0\\n    1.1976   -4.5990   -4.5281 N   0  0  0  0  0  0  0  0  0  0  0  0\\n    2.2879   -5.4942   -4.6216 C   0  0  0  0  0  0  0  0  0  0  0  0\\n    3.3152   -5.3685   -3.9454 O   0  0  0  0  0  0  0  0  0  0  0  0\\n    2.1660   -6.6737   -5.5843 C   0  0  0  0  0  0  0  0  0  0  0  0\\n    2.0410   -6.2869   -6.5995 H   0  0  0  0  0  0  0  0  0  0  0  0\\n    1.2983   -7.2848   -5.3168 H   0  0  0  0  0  0  0  0  0  0  0  0\\n    3.3988   -7.5663   -5.5636 C   0  0  0  0  0  0  0  0  0  0  0  0\\n    3.2661   -8.4132   -6.2440 H   0  0  0  0  0  0  0  0  0  0  0  0\\n    3.5817   -7.9590   -4.5580 H   0  0  0  0  0  0  0  0  0  0  0  0\\n    4.2914   -7.0151   -5.8776 H   0  0  0  0  0  0  0  0  0  0  0  0\\n    1.2083   -3.6711   -3.4323 C   0  0  0  0  0  0  0  0  0  0  0  0\\n    0.3001   -3.0597   -3.5116 H   0  0  0  0  0  0  0  0  0  0  0  0\\n    1.1886   -4.4074   -2.0818 C   0  0  0  0  0  0  0  0  0  0  0  0\\n    0.1456   -4.6271   -1.8191 H   0  0  0  0  0  0  0  0  0  0  0  0\\n    1.6982   -5.3772   -2.1535 H   0  0  0  0  0  0  0  0  0  0  0  0\\n    1.8554   -3.6080   -0.9522 C   0  0  0  0  0  0  0  0  0  0  0  0\\n    1.3995   -3.9188   -0.0039 H   0  0  0  0  0  0  0  0  0  0  0  0\\n    2.9208   -3.8668   -0.8891 H   0  0  0  0  0  0  0  0  0  0  0  0\\n    1.6879   -2.1718   -1.1645 N   0  0  0  0  0  0  0  0  0  0  0  0\\n    2.0902   -1.4053    0.0000 C   0  0  0  0  0  0  0  0  0  0  0  0\\n    3.1821   -1.3319   -0.0401 H   0  0  0  0  0  0  0  0  0  0  0  0\\n    1.8217   -1.9541    0.9092 H   0  0  0  0  0  0  0  0  0  0  0  0\\n    1.4860    0.0000    0.0000 C   0  0  0  0  0  0  0  0  0  0  0  0\\n    1.8565    0.5669   -0.8637 H   0  0  0  0  0  0  0  0  0  0  0  0\\n    1.8333    0.5427    0.8884 H   0  0  0  0  0  0  0  0  0  0  0  0\\n    0.0000    0.0000    0.0000 C   0  0  0  0  0  0  0  0  0  0  0  0\\n   -0.7114    0.0000    1.1992 C   0  0  0  0  0  0  0  0  0  0  0  0\\n   -0.1765   -0.0031    2.1461 H   0  0  0  0  0  0  0  0  0  0  0  0\\n   -2.1126   -0.0035    1.1688 C   0  0  0  0  0  0  0  0  0  0  0  0\\n   -2.6514   -0.0101    2.1155 H   0  0  0  0  0  0  0  0  0  0  0  0\\n   -2.8620    0.0013   -0.0236 C   0  0  0  0  0  0  0  0  0  0  0  0\\n   -3.9439    0.0009   -0.0237 H   0  0  0  0  0  0  0  0  0  0  0  0\\n   -2.1138    0.0186   -1.2108 C   0  0  0  0  0  0  0  0  0  0  0  0\\n   -2.6026    0.0397   -2.1817 H   0  0  0  0  0  0  0  0  0  0  0  0\\n   -0.7111    0.0195   -1.2025 C   0  0  0  0  0  0  0  0  0  0  0  0\\n   -0.1814    0.0390   -2.1521 H   0  0  0  0  0  0  0  0  0  0  0  0\\n    2.3979   -1.7117   -2.3687 C   0  0  0  0  0  0  0  0  0  0  0  0\\n    1.9033   -0.7998   -2.7247 H   0  0  0  0  0  0  0  0  0  0  0  0\\n    3.4379   -1.4411   -2.1433 H   0  0  0  0  0  0  0  0  0  0  0  0\\n    2.4193   -2.7433   -3.5091 C   0  0  0  0  0  0  0  0  0  0  0  0\\n    2.4492   -2.2186   -4.4718 H   0  0  0  0  0  0  0  0  0  0  0  0\\n    3.3421   -3.3355   -3.4414 H   0  0  0  0  0  0  0  0  0  0  0  0\\n   -0.7343   -5.9311   -5.2324 C   0  0  0  0  0  0  0  0  0  0  0  0\\n   -0.4798   -6.7393   -4.5512 H   0  0  0  0  0  0  0  0  0  0  0  0\\n   -1.8839   -6.0976   -6.0188 C   0  0  0  0  0  0  0  0  0  0  0  0\\n   -2.4608   -7.0138   -5.9164 H   0  0  0  0  0  0  0  0  0  0  0  0\\n  1  2  1  0\\n  2  3  2  0\\n  3  4  1  0\\n  3  5  1  0\\n  5  6  1  0\\n  5  7  2  0\\n  7  8  1  0\\n  8  9  1  0\\n  9 10  2  0\\n  9 11  1  0\\n 11 12  1  0\\n 11 13  1  0\\n 11 14  1  0\\n 14 15  1  0\\n 14 16  1  0\\n 14 17  1  0\\n  8 18  1  0\\n 18 19  1  0\\n 18 20  1  0\\n 20 21  1  0\\n 20 22  1  0\\n 20 23  1  0\\n 23 24  1  0\\n 23 25  1  0\\n 23 26  1  0\\n 26 27  1  0\\n 27 28  1  0\\n 27 29  1  0\\n 27 30  1  0\\n 30 31  1  0\\n 30 32  1  0\\n 30 33  1  0\\n 33 34  2  0\\n 34 35  1  0\\n 34 36  1  0\\n 36 37  1  0\\n 36 38  2  0\\n 38 39  1  0\\n 38 40  1  0\\n 40 41  1  0\\n 33 42  1  0\\n 40 42  2  0\\n 42 43  1  0\\n 26 44  1  0\\n 44 45  1  0\\n 44 46  1  0\\n 18 47  1  0\\n 44 47  1  0\\n 47 48  1  0\\n 47 49  1  0\\n  7 50  1  0\\n 50 51  1  0\\n  2 52  1  0\\n 50 52  2  0\\n 52 53  1  0\\nM  END\\n\",\"sdf\");\n",
       "\tviewergrid_17338454013411248[0][3].setStyle({\"stick\": {}});\n",
       "\tviewergrid_17338454013411248[0][4].removeAllModels();\n",
       "\tviewergrid_17338454013411248[0][4].addModel(\"\\n     RDKit          3D\\n\\n 53 55  0  0  0  0  0  0  0  0999 V2000\\n    5.6821   -5.0214   -7.4406 H   0  0  0  0  0  0  0  0  0  0  0  0\\n    4.7761   -4.9326   -6.8504 C   0  0  0  0  0  0  0  0  0  0  0  0\\n    4.6786   -5.5434   -5.6007 C   0  0  0  0  0  0  0  0  0  0  0  0\\n    5.5162   -6.1179   -5.2119 H   0  0  0  0  0  0  0  0  0  0  0  0\\n    3.4946   -5.4147   -4.8618 C   0  0  0  0  0  0  0  0  0  0  0  0\\n    3.4342   -5.9042   -3.8905 H   0  0  0  0  0  0  0  0  0  0  0  0\\n    2.3769   -4.6844   -5.3097 C   0  0  0  0  0  0  0  0  0  0  0  0\\n    1.2117   -4.5705   -4.5511 N   0  0  0  0  0  0  0  0  0  0  0  0\\n   -0.0317   -5.0233   -5.0488 C   0  0  0  0  0  0  0  0  0  0  0  0\\n   -0.1568   -5.5376   -6.1660 O   0  0  0  0  0  0  0  0  0  0  0  0\\n   -1.2569   -4.8865   -4.1471 C   0  0  0  0  0  0  0  0  0  0  0  0\\n   -1.4175   -3.8266   -3.9312 H   0  0  0  0  0  0  0  0  0  0  0  0\\n   -1.0930   -5.4292   -3.2109 H   0  0  0  0  0  0  0  0  0  0  0  0\\n   -2.5182   -5.4358   -4.7987 C   0  0  0  0  0  0  0  0  0  0  0  0\\n   -3.3688   -5.3455   -4.1160 H   0  0  0  0  0  0  0  0  0  0  0  0\\n   -2.3969   -6.4927   -5.0584 H   0  0  0  0  0  0  0  0  0  0  0  0\\n   -2.7595   -4.8890   -5.7162 H   0  0  0  0  0  0  0  0  0  0  0  0\\n    1.1842   -3.7677   -3.3608 C   0  0  0  0  0  0  0  0  0  0  0  0\\n    0.1337   -3.6626   -3.0606 H   0  0  0  0  0  0  0  0  0  0  0  0\\n    1.9429   -4.4468   -2.2223 C   0  0  0  0  0  0  0  0  0  0  0  0\\n    2.9970   -4.5724   -2.5052 H   0  0  0  0  0  0  0  0  0  0  0  0\\n    1.5442   -5.4506   -2.0310 H   0  0  0  0  0  0  0  0  0  0  0  0\\n    1.8636   -3.6143   -0.9316 C   0  0  0  0  0  0  0  0  0  0  0  0\\n    2.7693   -3.8194   -0.3457 H   0  0  0  0  0  0  0  0  0  0  0  0\\n    1.0135   -3.9660   -0.3344 H   0  0  0  0  0  0  0  0  0  0  0  0\\n    1.6879   -2.1718   -1.1645 N   0  0  0  0  0  0  0  0  0  0  0  0\\n    2.0902   -1.4053    0.0000 C   0  0  0  0  0  0  0  0  0  0  0  0\\n    3.1821   -1.3319   -0.0401 H   0  0  0  0  0  0  0  0  0  0  0  0\\n    1.8217   -1.9541    0.9092 H   0  0  0  0  0  0  0  0  0  0  0  0\\n    1.4860    0.0000    0.0000 C   0  0  0  0  0  0  0  0  0  0  0  0\\n    1.8565    0.5669   -0.8637 H   0  0  0  0  0  0  0  0  0  0  0  0\\n    1.8333    0.5427    0.8884 H   0  0  0  0  0  0  0  0  0  0  0  0\\n    0.0000    0.0000    0.0000 C   0  0  0  0  0  0  0  0  0  0  0  0\\n   -0.7114    0.0000    1.1992 C   0  0  0  0  0  0  0  0  0  0  0  0\\n   -0.1765   -0.0031    2.1461 H   0  0  0  0  0  0  0  0  0  0  0  0\\n   -2.1126   -0.0035    1.1688 C   0  0  0  0  0  0  0  0  0  0  0  0\\n   -2.6514   -0.0101    2.1155 H   0  0  0  0  0  0  0  0  0  0  0  0\\n   -2.8620    0.0013   -0.0236 C   0  0  0  0  0  0  0  0  0  0  0  0\\n   -3.9439    0.0009   -0.0237 H   0  0  0  0  0  0  0  0  0  0  0  0\\n   -2.1138    0.0186   -1.2108 C   0  0  0  0  0  0  0  0  0  0  0  0\\n   -2.6026    0.0397   -2.1817 H   0  0  0  0  0  0  0  0  0  0  0  0\\n   -0.7111    0.0195   -1.2025 C   0  0  0  0  0  0  0  0  0  0  0  0\\n   -0.1814    0.0390   -2.1521 H   0  0  0  0  0  0  0  0  0  0  0  0\\n    2.3834   -1.7289   -2.3712 C   0  0  0  0  0  0  0  0  0  0  0  0\\n    3.4514   -1.9786   -2.3143 H   0  0  0  0  0  0  0  0  0  0  0  0\\n    2.3205   -0.6392   -2.4809 H   0  0  0  0  0  0  0  0  0  0  0  0\\n    1.7629   -2.3667   -3.6233 C   0  0  0  0  0  0  0  0  0  0  0  0\\n    2.5356   -2.3984   -4.4025 H   0  0  0  0  0  0  0  0  0  0  0  0\\n    0.9612   -1.7251   -4.0116 H   0  0  0  0  0  0  0  0  0  0  0  0\\n    2.5165   -4.0690   -6.5633 C   0  0  0  0  0  0  0  0  0  0  0  0\\n    1.7140   -3.4700   -6.9866 H   0  0  0  0  0  0  0  0  0  0  0  0\\n    3.6916   -4.1876   -7.3201 C   0  0  0  0  0  0  0  0  0  0  0  0\\n    3.7479   -3.6850   -8.2829 H   0  0  0  0  0  0  0  0  0  0  0  0\\n  1  2  1  0\\n  2  3  2  0\\n  3  4  1  0\\n  3  5  1  0\\n  5  6  1  0\\n  5  7  2  0\\n  7  8  1  0\\n  8  9  1  0\\n  9 10  2  0\\n  9 11  1  0\\n 11 12  1  0\\n 11 13  1  0\\n 11 14  1  0\\n 14 15  1  0\\n 14 16  1  0\\n 14 17  1  0\\n  8 18  1  0\\n 18 19  1  0\\n 18 20  1  0\\n 20 21  1  0\\n 20 22  1  0\\n 20 23  1  0\\n 23 24  1  0\\n 23 25  1  0\\n 23 26  1  0\\n 26 27  1  0\\n 27 28  1  0\\n 27 29  1  0\\n 27 30  1  0\\n 30 31  1  0\\n 30 32  1  0\\n 30 33  1  0\\n 33 34  2  0\\n 34 35  1  0\\n 34 36  1  0\\n 36 37  1  0\\n 36 38  2  0\\n 38 39  1  0\\n 38 40  1  0\\n 40 41  1  0\\n 33 42  1  0\\n 40 42  2  0\\n 42 43  1  0\\n 26 44  1  0\\n 44 45  1  0\\n 44 46  1  0\\n 18 47  1  0\\n 44 47  1  0\\n 47 48  1  0\\n 47 49  1  0\\n  7 50  1  0\\n 50 51  1  0\\n  2 52  1  0\\n 50 52  2  0\\n 52 53  1  0\\nM  END\\n\",\"sdf\");\n",
       "\tviewergrid_17338454013411248[0][4].setStyle({\"stick\": {}});\n",
       "\tviewergrid_17338454013411248[0][0].zoomTo();\n",
       "\tviewergrid_17338454013411248[0][1].zoomTo();\n",
       "\tviewergrid_17338454013411248[0][2].zoomTo();\n",
       "\tviewergrid_17338454013411248[0][3].zoomTo();\n",
       "\tviewergrid_17338454013411248[0][4].zoomTo();\n",
       "viewergrid_17338454013411248[0][4].render();\n",
       "viewergrid_17338454013411248[0][3].render();\n",
       "viewergrid_17338454013411248[0][2].render();\n",
       "viewergrid_17338454013411248[0][1].render();\n",
       "viewergrid_17338454013411248[0][0].render();\n",
       "});\n",
       "</script>"
      ]
     },
     "metadata": {},
     "output_type": "display_data"
    }
   ],
   "source": [
    "from my_general_utils import visualize_3d_mols\n",
    "visualize_3d_mols(d)\n"
   ]
  },
  {
   "cell_type": "code",
   "execution_count": null,
   "metadata": {},
   "outputs": [],
   "source": []
  },
  {
   "cell_type": "code",
   "execution_count": null,
   "metadata": {},
   "outputs": [],
   "source": []
  },
  {
   "cell_type": "code",
   "execution_count": null,
   "metadata": {},
   "outputs": [],
   "source": []
  }
 ],
 "metadata": {
  "kernelspec": {
   "display_name": "rdkit_pyg_geqm9_clone",
   "language": "python",
   "name": "python3"
  },
  "language_info": {
   "codemirror_mode": {
    "name": "ipython",
    "version": 3
   },
   "file_extension": ".py",
   "mimetype": "text/x-python",
   "name": "python",
   "nbconvert_exporter": "python",
   "pygments_lexer": "ipython3",
   "version": "3.10.14"
  }
 },
 "nbformat": 4,
 "nbformat_minor": 2
}
