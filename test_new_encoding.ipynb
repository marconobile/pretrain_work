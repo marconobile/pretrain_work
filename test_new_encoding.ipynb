{
 "cells": [
  {
   "cell_type": "code",
   "execution_count": 1,
   "metadata": {},
   "outputs": [],
   "source": [
    "import numpy as np\n",
    "import sys\n",
    "import os\n",
    "\n",
    "import CDPL.Chem as Chem\n",
    "import CDPL.ConfGen as ConfGen\n",
    "import rdkit\n",
    "import CDPL.Chem as CDPLChem\n",
    "\n",
    "import numpy as np\n",
    "from rdkit import Chem as rdChem\n",
    "from rdkit.Chem import rdMolTransforms"
   ]
  },
  {
   "cell_type": "code",
   "execution_count": 2,
   "metadata": {},
   "outputs": [],
   "source": [
    "def generateConformationEnsembles(mol: Chem.BasicMolecule, conf_gen: ConfGen.ConformerGenerator):\n",
    "  \"\"\"\n",
    "  Generates a conformation ensemble for the argument molecule using the provided initialized ConfGen.ConformerGenerator instance.\n",
    "\n",
    "  Parameters:\n",
    "  - mol (Chem.BasicMolecule): Molecule to generate a conformation ensemble for.\n",
    "  - conf_gen (ConfGen.ConformerGenerator): Instance of the ConfGen.ConformerGenerator class.\n",
    "\n",
    "  Returns:\n",
    "  - int: Status code indicating the success of the conformation ensemble generation.\n",
    "  - int: Number of generated conformers.\n",
    "  \"\"\"\n",
    "  # prepare the molecule for conformer generation\n",
    "  ConfGen.prepareForConformerGeneration(mol)\n",
    "\n",
    "  # generate the conformer ensemble\n",
    "  status = conf_gen.generate(mol)\n",
    "  num_confs = conf_gen.getNumConformers()\n",
    "\n",
    "  # if sucessful, store the generated conformer ensemble as\n",
    "  # per atom 3D coordinates arrays (= the way conformers are represented in CDPKit)\n",
    "  if status == ConfGen.ReturnCode.SUCCESS or status == ConfGen.ReturnCode.TOO_MUCH_SYMMETRY:\n",
    "      conf_gen.setConformers(mol)\n",
    "  else:\n",
    "      num_confs = 0\n",
    "\n",
    "  # return status code and the number of generated conformers\n",
    "  return (status, num_confs)"
   ]
  },
  {
   "cell_type": "code",
   "execution_count": 3,
   "metadata": {},
   "outputs": [],
   "source": [
    "def get_conformer_generator():\n",
    "  # Settings\n",
    "  max_time = 36000 # Max. allowed molecule processing time in seconds (default: 3600 sec)\n",
    "  min_rmsd = 0.5 # Output conformer RMSD threshold (default: 0.5)\n",
    "  e_window = 20.0 # Output conformer energy window (default: 20.0)\n",
    "  max_confs = 100 # Max. output ensemble size (default: 100)\n",
    "\n",
    "  # create and initialize an instance of the class ConfGen.ConformerGenerator which\n",
    "  # will perform the actual conformer ensemble generation work\n",
    "  conf_gen = ConfGen.ConformerGenerator()\n",
    "  conf_gen.settings.timeout = max_time * 1000          # apply the -t argument\n",
    "  conf_gen.settings.minRMSD = min_rmsd                 # apply the -r argument\n",
    "  conf_gen.settings.energyWindow = e_window            # apply the -e argument\n",
    "  conf_gen.settings.maxNumOutputConformers = max_confs # apply the -n argument\n",
    "  return conf_gen"
   ]
  },
  {
   "cell_type": "code",
   "execution_count": null,
   "metadata": {},
   "outputs": [],
   "source": [
    "def get_dihedral_angles(mol):\n",
    "  # Find all dihedral angles (torsions)\n",
    "  dihedral_indices = []\n",
    "\n",
    "  # from frad repo\n",
    "  # torsionSmarts = '[!$(*#*)&!D1]-&!@[!$(*#*)&!D1]'\n",
    "  # from chatgpt\n",
    "  torsionSmarts = '[!#1]~[!#1]~[!#1]~[!#1]'\n",
    "  for torsion in mol.GetSubstructMatches(rdChem.MolFromSmarts(torsionSmarts)): dihedral_indices.append(torsion)\n",
    "\n",
    "  # Calculate all dihedral angles\n",
    "  dihedral_angles = []\n",
    "  conf = mol.GetConformer()\n",
    "  for dihedral in dihedral_indices: dihedral_angles.append(rdMolTransforms.GetDihedralDeg(conf, dihedral[0], dihedral[1], dihedral[2], dihedral[3]))\n",
    "  return np.array(dihedral_angles)"
   ]
  },
  {
   "cell_type": "code",
   "execution_count": 5,
   "metadata": {},
   "outputs": [],
   "source": [
    "def generate_conformers(smi, N:int=10):\n",
    "  '''\n",
    "  N: num of conformers to select\n",
    "  '''\n",
    "  mol = CDPLChem.parseSMILES(smi)\n",
    "  try:\n",
    "      # generate conformer ensemble for read molecule\n",
    "      status, num_confs = generateConformationEnsembles(mol, get_conformer_generator())\n",
    "\n",
    "      # output generated ensemble (if available)\n",
    "      if num_confs > 0:\n",
    "          tmp_name = \"./tmp.sdf\"\n",
    "          writer = Chem.MolecularGraphWriter(tmp_name)\n",
    "          if not writer.write(mol):\n",
    "              sys.exit('Error: output of conformer ensemble for molecule %s failed' % smi)\n",
    "  except Exception as e:\n",
    "      sys.exit('Error: conformer ensemble generation or output for molecule %s failed: %s' % (smi, str(e)))\n",
    "\n",
    "  writer.close()\n",
    "  tmp_mol_ensemble = rdkit.Chem.rdmolfiles.SDMolSupplier(tmp_name, removeHs=False)\n",
    "  tmp_mol_ensemble = list(tmp_mol_ensemble)\n",
    "\n",
    "  # try to get conf, if error then drop the mol, careful with indices\n",
    "  mol_ensemble = [m for m in tmp_mol_ensemble if m.GetConformer() !=-1]\n",
    "  print(len(mol_ensemble))\n",
    "  if len(mol_ensemble) < N: return mol_ensemble\n",
    "\n",
    "  dihedral_fingerprints = [get_dihedral_angles(mol) for mol in mol_ensemble]\n",
    "\n",
    "  # Compute the dot product matrix\n",
    "  n = len(dihedral_fingerprints)\n",
    "  dot_product_matrix = np.zeros((n, n))\n",
    "  for i in range(n):\n",
    "      for j in range(i + 1, n):\n",
    "          dot_product_matrix[i, j] = np.dot(dihedral_fingerprints[i], dihedral_fingerprints[j])\n",
    "          dot_product_matrix[j, i] = dot_product_matrix[i, j]\n",
    "\n",
    "  sum_of_dot_prods = dot_product_matrix.sum(-1)\n",
    "  sorted_indices = np.argsort(sum_of_dot_prods)\n",
    "  # Get the indices of the 5 lowest values\n",
    "  lowest_indices = sorted_indices[:N]\n",
    "\n",
    "  if os.path.exists(tmp_name): os.remove(tmp_name)\n",
    "\n",
    "  return [mol_ensemble[i] for i in lowest_indices]"
   ]
  },
  {
   "cell_type": "code",
   "execution_count": null,
   "metadata": {},
   "outputs": [
    {
     "name": "stdout",
     "output_type": "stream",
     "text": [
      "64\n"
     ]
    },
    {
     "data": {
      "text/plain": [
       "[<rdkit.Chem.rdchem.Mol at 0x7f798cd30190>,\n",
       " <rdkit.Chem.rdchem.Mol at 0x7f798d3fbd80>,\n",
       " <rdkit.Chem.rdchem.Mol at 0x7f798cd30200>,\n",
       " <rdkit.Chem.rdchem.Mol at 0x7f798d3fb6f0>,\n",
       " <rdkit.Chem.rdchem.Mol at 0x7f798d3fbca0>,\n",
       " <rdkit.Chem.rdchem.Mol at 0x7f798d3fb220>,\n",
       " <rdkit.Chem.rdchem.Mol at 0x7f798d3fba70>,\n",
       " <rdkit.Chem.rdchem.Mol at 0x7f798d3fab20>,\n",
       " <rdkit.Chem.rdchem.Mol at 0x7f798d3fb4c0>,\n",
       " <rdkit.Chem.rdchem.Mol at 0x7f798d3fb1b0>]"
      ]
     },
     "execution_count": 6,
     "metadata": {},
     "output_type": "execute_result"
    }
   ],
   "source": [
    "# smiles=[\"CC(C)Cl\", \"CCC(C)CO\", \"CCCCCCCO\"]# , \"CCCCCCCC(=O)OC\" , \"c3ccc2nc1ccccc1cc2c3\" , \"Nc2cccc3nc1ccccc1cc23\" , \"C1CCCCCC1\" ]\n",
    "d = generate_conformers('[H]c1c([H])c([H])c(N(C(=O)C([H])([H])C([H])([H])[H])C2([H])C([H])([H])C([H])([H])N(C([H])([H])C([H])([H])c3c([H])c([H])c([H])c([H])c3[H])C([H])([H])C2([H])[H])c([H])c1[H]')\n",
    "# d"
   ]
  },
  {
   "cell_type": "code",
   "execution_count": 8,
   "metadata": {},
   "outputs": [],
   "source": [
    "# from source.utils.mol_utils import visualize_3d_mols\n",
    "# visualize_3d_mols(d)"
   ]
  }
 ],
 "metadata": {
  "kernelspec": {
   "display_name": "rdkit_pyg_geqm9_clone",
   "language": "python",
   "name": "python3"
  },
  "language_info": {
   "codemirror_mode": {
    "name": "ipython",
    "version": 3
   },
   "file_extension": ".py",
   "mimetype": "text/x-python",
   "name": "python",
   "nbconvert_exporter": "python",
   "pygments_lexer": "ipython3",
   "version": "3.10.14"
  }
 },
 "nbformat": 4,
 "nbformat_minor": 2
}
