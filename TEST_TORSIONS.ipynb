{
 "cells": [
  {
   "cell_type": "code",
   "execution_count": 2,
   "metadata": {},
   "outputs": [
    {
     "name": "stdout",
     "output_type": "stream",
     "text": [
      "<function copy at 0x7f8a6e482f80>\n",
      "<function move at 0x7f8a6e4835b0>\n"
     ]
    }
   ],
   "source": [
    "import shutil\n",
    "\n",
    "f = shutil.copy\n",
    "print(f)\n",
    "f = shutil.move\n",
    "print(f)"
   ]
  },
  {
   "cell_type": "code",
   "execution_count": 1,
   "metadata": {},
   "outputs": [],
   "source": [
    "%load_ext autoreload\n",
    "%autoreload 2"
   ]
  },
  {
   "cell_type": "code",
   "execution_count": 2,
   "metadata": {},
   "outputs": [
    {
     "name": "stderr",
     "output_type": "stream",
     "text": [
      "No normalization for SPS. Feature removed!\n",
      "No normalization for AvgIpc. Feature removed!\n",
      "Skipped loading some Tensorflow models, missing a dependency. No module named 'tensorflow'\n",
      "Skipped loading modules with pytorch-geometric dependency, missing a dependency. No module named 'dgl'\n",
      "Skipped loading modules with transformers dependency. No module named 'transformers'\n",
      "cannot import name 'HuggingFaceModel' from 'deepchem.models.torch_models' (/home/nobilm@usi.ch/miniconda3/envs/rdkit_pyg_geqm9_clone/lib/python3.10/site-packages/deepchem/models/torch_models/__init__.py)\n",
      "Skipped loading modules with pytorch-lightning dependency, missing a dependency. No module named 'lightning'\n",
      "Skipped loading some Jax models, missing a dependency. No module named 'jax'\n",
      "Skipped loading some PyTorch models, missing a dependency. No module named 'tensorflow'\n"
     ]
    }
   ],
   "source": [
    "# from source.utils.conformer_generation import generate_conformers\n",
    "from source.utils.mol2pyg import mol2pyg\n",
    "from source.data_transforms._frad_transforms import *\n",
    "import numpy as np\n",
    "from rdkit import Chem\n",
    "from copy import deepcopy\n",
    "from source.utils.mol_utils import set_coords, get_rdkit_conformer\n",
    "from source.utils.mol_utils import visualize_3d_mols,get_energy\n",
    "import matplotlib.pyplot as plt"
   ]
  },
  {
   "cell_type": "code",
   "execution_count": null,
   "metadata": {},
   "outputs": [],
   "source": [
    "# smiles = ['[H]c1c([H])c([H])c(N(C(=O)C([H])([H])C([H])([H])[H])C2([H])C([H])([H])C([H])([H])N(C([H])([H])C([H])([H])c3c([H])c([H])c([H])c([H])c3[H])C([H])([H])C2([H])[H])c([H])c1[H]']\n",
    "smiles = ['C1=CC=CC=C1']\n",
    "m = Chem.MolFromSmiles(smiles[0])\n",
    "m = Chem.AddHs(m)\n",
    "c = get_rdkit_conformer(m)\n",
    "pygm = mol2pyg(m)\n",
    "from source.data_transforms._frad_transforms import frad"
   ]
  },
  {
   "cell_type": "code",
   "execution_count": null,
   "metadata": {},
   "outputs": [],
   "source": [
    "frad(pygm)"
   ]
  },
  {
   "cell_type": "code",
   "execution_count": null,
   "metadata": {},
   "outputs": [],
   "source": [
    "# smiles = ['CCCCCC']\n",
    "smiles = ['[H]c1c([H])c([H])c(N(C(=O)C([H])([H])C([H])([H])[H])C2([H])C([H])([H])C([H])([H])N(C([H])([H])C([H])([H])c3c([H])c([H])c([H])c([H])c3[H])C([H])([H])C2([H])[H])c([H])c1[H]']\n",
    "data_list = []\n",
    "for s in smiles: conformers = generate_conformers(s, 11000)\n",
    "conformers_old = deepcopy(conformers)\n",
    "max_energy = 2*max(get_energy(m) for m in conformers)\n",
    "len(conformers), max_energy\n",
    "# visualize_3d_mols(conformers[:10])"
   ]
  },
  {
   "cell_type": "code",
   "execution_count": null,
   "metadata": {},
   "outputs": [],
   "source": [
    "m = conformers[0]\n",
    "data = mol2pyg(m, max_energy)\n",
    "old_data = deepcopy(data)\n",
    "\n",
    "data_noised = frad(data, dihedral_scale=100) # acts inplace on data\n",
    "noised_mol = set_coords(m, data_noised.pos)\n",
    "\n",
    "# old_data.pos == data_noised.pos"
   ]
  },
  {
   "cell_type": "code",
   "execution_count": null,
   "metadata": {},
   "outputs": [],
   "source": [
    "visualize_3d_mols([m, noised_mol])"
   ]
  },
  {
   "cell_type": "code",
   "execution_count": null,
   "metadata": {},
   "outputs": [],
   "source": [
    "original_mols = []\n",
    "noised_mols = []\n",
    "max_energy = 2*max(get_energy(m) for m in conformers)\n",
    "print(max_energy)\n",
    "for m in conformers:\n",
    "  data = mol2pyg(m, max_energy)\n",
    "\n",
    "  data_old = deepcopy(data)\n",
    "  mol_old = deepcopy(m)\n",
    "  original_mols.append(mol_old)\n",
    "\n",
    "  data_noised = frad(data) # acts inplace\n",
    "  noised_mol = set_coords(m, data_noised.pos)\n",
    "\n",
    "  noised_mols.append(noised_mol)"
   ]
  },
  {
   "cell_type": "code",
   "execution_count": null,
   "metadata": {},
   "outputs": [],
   "source": [
    "og_conformers_energy = [get_energy(m) for m in original_mols]\n",
    "og_noised_energy = [get_energy(m) for m in noised_mols]"
   ]
  },
  {
   "cell_type": "code",
   "execution_count": null,
   "metadata": {},
   "outputs": [],
   "source": [
    "og_conformers_energy == og_noised_energy"
   ]
  },
  {
   "cell_type": "code",
   "execution_count": null,
   "metadata": {},
   "outputs": [],
   "source": [
    "len(og_conformers_energy)"
   ]
  },
  {
   "cell_type": "code",
   "execution_count": null,
   "metadata": {},
   "outputs": [],
   "source": [
    "min(og_conformers_energy), max(og_conformers_energy), np.mean(og_conformers_energy), np.std(og_conformers_energy), np.median(og_conformers_energy), np.sum(np.array(og_conformers_energy)<150)"
   ]
  },
  {
   "cell_type": "code",
   "execution_count": null,
   "metadata": {},
   "outputs": [],
   "source": [
    "k = 3\n",
    "np.mean(og_conformers_energy) + k*(np.abs(min(og_conformers_energy) - max(og_conformers_energy)))"
   ]
  },
  {
   "cell_type": "code",
   "execution_count": null,
   "metadata": {},
   "outputs": [],
   "source": [
    "2*np.max(og_conformers_energy) # ! criterio x filtrare mol wrt energy, 0, 90"
   ]
  },
  {
   "cell_type": "code",
   "execution_count": null,
   "metadata": {},
   "outputs": [],
   "source": [
    "len(og_noised_energy)"
   ]
  },
  {
   "cell_type": "code",
   "execution_count": null,
   "metadata": {},
   "outputs": [],
   "source": [
    "min(og_noised_energy), max(og_noised_energy), np.mean(og_noised_energy), np.std(og_noised_energy), np.median(og_noised_energy), np.sum(np.array(og_noised_energy)<100)\n",
    "# np.random.normal(0, 90) : (69.89637533061749, 17655.266923111583, 836.6925485529661, 2499.3302193585287)\n",
    "# unif(0,360): (62.6450572083416, 1338561.7658836602, 33822.30710208779, 172727.59413754893)"
   ]
  },
  {
   "cell_type": "code",
   "execution_count": null,
   "metadata": {},
   "outputs": [],
   "source": [
    "plt.boxplot([og_conformers_energy, og_noised_energy]),\n",
    "plt.title('Box Plot of Two Different Lists')\n",
    "plt.xlabel('Sampling from uniform(0, 360)')\n",
    "plt.ylabel('Energy')\n",
    "plt.xticks([1, 2], ['og', 'noised'])\n",
    "plt.grid(True)\n",
    "plt.show()"
   ]
  },
  {
   "cell_type": "code",
   "execution_count": null,
   "metadata": {},
   "outputs": [],
   "source": [
    "# m = confs[0]\n",
    "# data = mol2pyg(m)\n",
    "# data_old = deepcopy(data)\n",
    "# d1 = frad(data, dihedral_noise_tau=55.0,coords_noise_tau=0.0) # ! Cauchy\n",
    "# d1.pos == data_old.pos\n",
    "# m_old = set_coords(m, data_old.pos)\n",
    "# m_new = set_coords(m, d1.pos)"
   ]
  },
  {
   "cell_type": "code",
   "execution_count": null,
   "metadata": {},
   "outputs": [],
   "source": [
    "# visualize_3d_mols([m_old])"
   ]
  },
  {
   "cell_type": "code",
   "execution_count": null,
   "metadata": {},
   "outputs": [],
   "source": [
    "# visualize_3d_mols([m_new])"
   ]
  },
  {
   "cell_type": "markdown",
   "metadata": {
    "vscode": {
     "languageId": "latex"
    }
   },
   "source": [
    "# recall that the noise ur sampling gets added to the og value, furthermore think how this impacts the loss"
   ]
  },
  {
   "cell_type": "code",
   "execution_count": null,
   "metadata": {},
   "outputs": [],
   "source": [
    "scale = 40\n",
    "s = np.random.normal(0, scale, size=1000000)\n",
    "s = np.clip(s, a_min=-180., a_max=180)\n",
    "print(min(s), max(s), np.std(s))\n",
    "plt.hist(s, bins=1000)\n",
    "plt.show()"
   ]
  },
  {
   "cell_type": "code",
   "execution_count": null,
   "metadata": {},
   "outputs": [],
   "source": []
  },
  {
   "cell_type": "code",
   "execution_count": null,
   "metadata": {},
   "outputs": [],
   "source": []
  }
 ],
 "metadata": {
  "kernelspec": {
   "display_name": "rdkit_pyg_geqm9_clone",
   "language": "python",
   "name": "python3"
  },
  "language_info": {
   "codemirror_mode": {
    "name": "ipython",
    "version": 3
   },
   "file_extension": ".py",
   "mimetype": "text/x-python",
   "name": "python",
   "nbconvert_exporter": "python",
   "pygments_lexer": "ipython3",
   "version": "3.10.14"
  }
 },
 "nbformat": 4,
 "nbformat_minor": 2
}
