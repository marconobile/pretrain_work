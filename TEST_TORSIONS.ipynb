{
 "cells": [
  {
   "cell_type": "code",
   "execution_count": 1,
   "metadata": {},
   "outputs": [],
   "source": [
    "%load_ext autoreload\n",
    "%autoreload 2"
   ]
  },
  {
   "cell_type": "code",
   "execution_count": 2,
   "metadata": {},
   "outputs": [
    {
     "name": "stderr",
     "output_type": "stream",
     "text": [
      "No normalization for SPS. Feature removed!\n",
      "No normalization for AvgIpc. Feature removed!\n",
      "Skipped loading some Tensorflow models, missing a dependency. No module named 'tensorflow'\n",
      "Skipped loading modules with pytorch-geometric dependency, missing a dependency. No module named 'dgl'\n",
      "Skipped loading modules with transformers dependency. No module named 'transformers'\n",
      "cannot import name 'HuggingFaceModel' from 'deepchem.models.torch_models' (/home/nobilm@usi.ch/miniconda3/envs/rdkit_pyg_geqm9_clone/lib/python3.10/site-packages/deepchem/models/torch_models/__init__.py)\n",
      "Skipped loading modules with pytorch-lightning dependency, missing a dependency. No module named 'lightning'\n",
      "Skipped loading some Jax models, missing a dependency. No module named 'jax'\n",
      "Skipped loading some PyTorch models, missing a dependency. No module named 'tensorflow'\n"
     ]
    }
   ],
   "source": [
    "from source.utils.conformer_generation import generate_conformers\n",
    "from source.utils.mol2pyg import mol2pyg\n",
    "from source.data_transforms._frad_transforms import *\n",
    "import numpy as np\n",
    "from rdkit import Chem\n",
    "from copy import deepcopy\n",
    "from source.utils.mol_utils import set_coords\n",
    "from source.utils.mol_utils import visualize_3d_mols,get_energy"
   ]
  },
  {
   "cell_type": "code",
   "execution_count": 3,
   "metadata": {},
   "outputs": [
    {
     "ename": "NameError",
     "evalue": "name 'm' is not defined",
     "output_type": "error",
     "traceback": [
      "\u001b[0;31m---------------------------------------------------------------------------\u001b[0m",
      "\u001b[0;31mNameError\u001b[0m                                 Traceback (most recent call last)",
      "Cell \u001b[0;32mIn[3], line 5\u001b[0m\n\u001b[1;32m      3\u001b[0m \u001b[38;5;28;01mfor\u001b[39;00m s \u001b[38;5;129;01min\u001b[39;00m smiles: confs \u001b[38;5;241m=\u001b[39m generate_conformers(s, N\u001b[38;5;241m=\u001b[39m\u001b[38;5;241m100\u001b[39m) \u001b[38;5;66;03m# 10 confs by default\u001b[39;00m\n\u001b[1;32m      4\u001b[0m \u001b[38;5;66;03m# m = Chem.RemoveHs(confs[0])\u001b[39;00m\n\u001b[0;32m----> 5\u001b[0m \u001b[43mm\u001b[49m\n",
      "\u001b[0;31mNameError\u001b[0m: name 'm' is not defined"
     ]
    }
   ],
   "source": [
    "# smiles = ['CCCCCC']\n",
    "smiles = ['[H]c1c([H])c([H])c(N(C(=O)C([H])([H])C([H])([H])[H])C2([H])C([H])([H])C([H])([H])N(C([H])([H])C([H])([H])c3c([H])c([H])c([H])c([H])c3[H])C([H])([H])C2([H])[H])c([H])c1[H]']\n",
    "for s in smiles: confs = generate_conformers(s, N=100) # 10 confs by default\n",
    "# m = Chem.RemoveHs(confs[0])\n",
    "m"
   ]
  },
  {
   "cell_type": "code",
   "execution_count": null,
   "metadata": {},
   "outputs": [],
   "source": [
    "data = mol2pyg(m)\n",
    "data_old = deepcopy(data)"
   ]
  },
  {
   "cell_type": "code",
   "execution_count": null,
   "metadata": {},
   "outputs": [
    {
     "data": {
      "text/plain": [
       "tensor([[False, False, False],\n",
       "        [False, False, False],\n",
       "        [False, False, False],\n",
       "        [False, False, False],\n",
       "        [False, False, False],\n",
       "        [False, False, False],\n",
       "        [False, False, False],\n",
       "        [False, False, False],\n",
       "        [False, False, False],\n",
       "        [False, False, False],\n",
       "        [False, False, False],\n",
       "        [False, False, False],\n",
       "        [False, False, False],\n",
       "        [False, False, False],\n",
       "        [False, False, False],\n",
       "        [False, False, False],\n",
       "        [False, False, False],\n",
       "        [False, False, False],\n",
       "        [False, False, False],\n",
       "        [False, False, False],\n",
       "        [False, False, False],\n",
       "        [False, False, False],\n",
       "        [False, False, False],\n",
       "        [False, False, False],\n",
       "        [False, False, False]])"
      ]
     },
     "execution_count": 29,
     "metadata": {},
     "output_type": "execute_result"
    }
   ],
   "source": [
    "d1 = frad(data, dihedral_noise_tau=55.0,coords_noise_tau=0.0) # ! Cauchy\n",
    "d1.pos == data_old.pos"
   ]
  },
  {
   "cell_type": "code",
   "execution_count": null,
   "metadata": {},
   "outputs": [],
   "source": [
    "m_old = set_coords(m, data_old.pos)\n",
    "m_new = set_coords(m, d1.pos)"
   ]
  },
  {
   "cell_type": "code",
   "execution_count": null,
   "metadata": {},
   "outputs": [
    {
     "data": {
      "application/3dmoljs_load.v0": "<div id=\"3dmolviewer_1733933557698323\"  style=\"position: relative; width: 1500px; height: 400px;\">\n        <p id=\"3dmolwarning_1733933557698323\" style=\"background-color:#ffcccc;color:black\">3Dmol.js failed to load for some reason.  Please check your browser console for error messages.<br></p>\n        </div>\n<script>\n\nvar loadScriptAsync = function(uri){\n  return new Promise((resolve, reject) => {\n    //this is to ignore the existence of requirejs amd\n    var savedexports, savedmodule;\n    if (typeof exports !== 'undefined') savedexports = exports;\n    else exports = {}\n    if (typeof module !== 'undefined') savedmodule = module;\n    else module = {}\n\n    var tag = document.createElement('script');\n    tag.src = uri;\n    tag.async = true;\n    tag.onload = () => {\n        exports = savedexports;\n        module = savedmodule;\n        resolve();\n    };\n  var firstScriptTag = document.getElementsByTagName('script')[0];\n  firstScriptTag.parentNode.insertBefore(tag, firstScriptTag);\n});\n};\n\nif(typeof $3Dmolpromise === 'undefined') {\n$3Dmolpromise = null;\n  $3Dmolpromise = loadScriptAsync('https://cdnjs.cloudflare.com/ajax/libs/3Dmol/2.4.0/3Dmol-min.js');\n}\n\nvar viewer_1733933557698323 = null;\nvar warn = document.getElementById(\"3dmolwarning_1733933557698323\");\nif(warn) {\n    warn.parentNode.removeChild(warn);\n}\n$3Dmolpromise.then(function() {\nvar viewergrid_1733933557698323 = null;\nviewergrid_1733933557698323 = $3Dmol.createViewerGrid(document.getElementById(\"3dmolviewer_1733933557698323\"),{rows: 1, cols: 1, control_all: true},{backgroundColor:\"white\"});\nviewer_1733933557698323 = viewergrid_1733933557698323[0][0];\nviewergrid_1733933557698323[0][0].zoomTo();\tviewergrid_1733933557698323[0][0].removeAllModels();\n\tviewergrid_1733933557698323[0][0].addModel(\"\\n     RDKit          3D\\n\\n 25 27  0  0  0  0  0  0  0  0999 V2000\\n    4.6525   -6.9045   -5.4617 C   0  0  0  0  0  0  0  0  0  0  0  0\\n    3.9132   -7.1770   -4.3113 C   0  0  0  0  0  0  0  0  0  0  0  0\\n    2.7769   -6.4082   -4.0247 C   0  0  0  0  0  0  0  0  0  0  0  0\\n    2.3312   -5.3499   -4.8399 C   0  0  0  0  0  0  0  0  0  0  0  0\\n    1.1976   -4.5990   -4.5281 N   0  0  0  0  0  0  0  0  0  0  0  0\\n    0.0979   -4.5333   -5.4141 C   0  0  0  0  0  0  0  0  0  0  0  0\\n    0.0770   -5.1272   -6.4981 O   0  0  0  0  0  0  0  0  0  0  0  0\\n   -1.1165   -3.7103   -4.9887 C   0  0  0  0  0  0  0  0  0  0  0  0\\n   -2.2319   -3.7488   -6.0239 C   0  0  0  0  0  0  0  0  0  0  0  0\\n    1.2083   -3.6711   -3.4323 C   0  0  0  0  0  0  0  0  0  0  0  0\\n    1.1886   -4.4074   -2.0818 C   0  0  0  0  0  0  0  0  0  0  0  0\\n    1.8554   -3.6080   -0.9522 C   0  0  0  0  0  0  0  0  0  0  0  0\\n    1.6879   -2.1718   -1.1645 N   0  0  0  0  0  0  0  0  0  0  0  0\\n    2.0902   -1.4053    0.0000 C   0  0  0  0  0  0  0  0  0  0  0  0\\n    1.4860    0.0000    0.0000 C   0  0  0  0  0  0  0  0  0  0  0  0\\n    0.0000    0.0000    0.0000 C   0  0  0  0  0  0  0  0  0  0  0  0\\n   -0.7114    0.0000    1.1992 C   0  0  0  0  0  0  0  0  0  0  0  0\\n   -2.1126   -0.0035    1.1688 C   0  0  0  0  0  0  0  0  0  0  0  0\\n   -2.8620    0.0013   -0.0236 C   0  0  0  0  0  0  0  0  0  0  0  0\\n   -2.1138    0.0186   -1.2108 C   0  0  0  0  0  0  0  0  0  0  0  0\\n   -0.7111    0.0195   -1.2025 C   0  0  0  0  0  0  0  0  0  0  0  0\\n    2.3979   -1.7117   -2.3687 C   0  0  0  0  0  0  0  0  0  0  0  0\\n    2.4193   -2.7433   -3.5091 C   0  0  0  0  0  0  0  0  0  0  0  0\\n    3.1087   -5.0926   -5.9797 C   0  0  0  0  0  0  0  0  0  0  0  0\\n    4.2477   -5.8518   -6.2863 C   0  0  0  0  0  0  0  0  0  0  0  0\\n  1  2  2  0\\n  2  3  1  0\\n  3  4  2  0\\n  4  5  1  0\\n  5  6  1  0\\n  6  7  2  0\\n  6  8  1  0\\n  8  9  1  0\\n  5 10  1  0\\n 10 11  1  0\\n 11 12  1  0\\n 12 13  1  0\\n 13 14  1  0\\n 14 15  1  0\\n 15 16  1  0\\n 16 17  2  0\\n 17 18  1  0\\n 18 19  2  0\\n 19 20  1  0\\n 16 21  1  0\\n 20 21  2  0\\n 13 22  1  0\\n 10 23  1  0\\n 22 23  1  0\\n  4 24  1  0\\n  1 25  1  0\\n 24 25  2  0\\nM  END\\n\",\"sdf\");\n\tviewergrid_1733933557698323[0][0].setStyle({\"stick\": {}});\n\tviewergrid_1733933557698323[0][0].zoomTo();\nviewergrid_1733933557698323[0][0].render();\n});\n</script>",
      "text/html": [
       "<div id=\"3dmolviewer_1733933557698323\"  style=\"position: relative; width: 1500px; height: 400px;\">\n",
       "        <p id=\"3dmolwarning_1733933557698323\" style=\"background-color:#ffcccc;color:black\">3Dmol.js failed to load for some reason.  Please check your browser console for error messages.<br></p>\n",
       "        </div>\n",
       "<script>\n",
       "\n",
       "var loadScriptAsync = function(uri){\n",
       "  return new Promise((resolve, reject) => {\n",
       "    //this is to ignore the existence of requirejs amd\n",
       "    var savedexports, savedmodule;\n",
       "    if (typeof exports !== 'undefined') savedexports = exports;\n",
       "    else exports = {}\n",
       "    if (typeof module !== 'undefined') savedmodule = module;\n",
       "    else module = {}\n",
       "\n",
       "    var tag = document.createElement('script');\n",
       "    tag.src = uri;\n",
       "    tag.async = true;\n",
       "    tag.onload = () => {\n",
       "        exports = savedexports;\n",
       "        module = savedmodule;\n",
       "        resolve();\n",
       "    };\n",
       "  var firstScriptTag = document.getElementsByTagName('script')[0];\n",
       "  firstScriptTag.parentNode.insertBefore(tag, firstScriptTag);\n",
       "});\n",
       "};\n",
       "\n",
       "if(typeof $3Dmolpromise === 'undefined') {\n",
       "$3Dmolpromise = null;\n",
       "  $3Dmolpromise = loadScriptAsync('https://cdnjs.cloudflare.com/ajax/libs/3Dmol/2.4.0/3Dmol-min.js');\n",
       "}\n",
       "\n",
       "var viewer_1733933557698323 = null;\n",
       "var warn = document.getElementById(\"3dmolwarning_1733933557698323\");\n",
       "if(warn) {\n",
       "    warn.parentNode.removeChild(warn);\n",
       "}\n",
       "$3Dmolpromise.then(function() {\n",
       "var viewergrid_1733933557698323 = null;\n",
       "viewergrid_1733933557698323 = $3Dmol.createViewerGrid(document.getElementById(\"3dmolviewer_1733933557698323\"),{rows: 1, cols: 1, control_all: true},{backgroundColor:\"white\"});\n",
       "viewer_1733933557698323 = viewergrid_1733933557698323[0][0];\n",
       "viewergrid_1733933557698323[0][0].zoomTo();\tviewergrid_1733933557698323[0][0].removeAllModels();\n",
       "\tviewergrid_1733933557698323[0][0].addModel(\"\\n     RDKit          3D\\n\\n 25 27  0  0  0  0  0  0  0  0999 V2000\\n    4.6525   -6.9045   -5.4617 C   0  0  0  0  0  0  0  0  0  0  0  0\\n    3.9132   -7.1770   -4.3113 C   0  0  0  0  0  0  0  0  0  0  0  0\\n    2.7769   -6.4082   -4.0247 C   0  0  0  0  0  0  0  0  0  0  0  0\\n    2.3312   -5.3499   -4.8399 C   0  0  0  0  0  0  0  0  0  0  0  0\\n    1.1976   -4.5990   -4.5281 N   0  0  0  0  0  0  0  0  0  0  0  0\\n    0.0979   -4.5333   -5.4141 C   0  0  0  0  0  0  0  0  0  0  0  0\\n    0.0770   -5.1272   -6.4981 O   0  0  0  0  0  0  0  0  0  0  0  0\\n   -1.1165   -3.7103   -4.9887 C   0  0  0  0  0  0  0  0  0  0  0  0\\n   -2.2319   -3.7488   -6.0239 C   0  0  0  0  0  0  0  0  0  0  0  0\\n    1.2083   -3.6711   -3.4323 C   0  0  0  0  0  0  0  0  0  0  0  0\\n    1.1886   -4.4074   -2.0818 C   0  0  0  0  0  0  0  0  0  0  0  0\\n    1.8554   -3.6080   -0.9522 C   0  0  0  0  0  0  0  0  0  0  0  0\\n    1.6879   -2.1718   -1.1645 N   0  0  0  0  0  0  0  0  0  0  0  0\\n    2.0902   -1.4053    0.0000 C   0  0  0  0  0  0  0  0  0  0  0  0\\n    1.4860    0.0000    0.0000 C   0  0  0  0  0  0  0  0  0  0  0  0\\n    0.0000    0.0000    0.0000 C   0  0  0  0  0  0  0  0  0  0  0  0\\n   -0.7114    0.0000    1.1992 C   0  0  0  0  0  0  0  0  0  0  0  0\\n   -2.1126   -0.0035    1.1688 C   0  0  0  0  0  0  0  0  0  0  0  0\\n   -2.8620    0.0013   -0.0236 C   0  0  0  0  0  0  0  0  0  0  0  0\\n   -2.1138    0.0186   -1.2108 C   0  0  0  0  0  0  0  0  0  0  0  0\\n   -0.7111    0.0195   -1.2025 C   0  0  0  0  0  0  0  0  0  0  0  0\\n    2.3979   -1.7117   -2.3687 C   0  0  0  0  0  0  0  0  0  0  0  0\\n    2.4193   -2.7433   -3.5091 C   0  0  0  0  0  0  0  0  0  0  0  0\\n    3.1087   -5.0926   -5.9797 C   0  0  0  0  0  0  0  0  0  0  0  0\\n    4.2477   -5.8518   -6.2863 C   0  0  0  0  0  0  0  0  0  0  0  0\\n  1  2  2  0\\n  2  3  1  0\\n  3  4  2  0\\n  4  5  1  0\\n  5  6  1  0\\n  6  7  2  0\\n  6  8  1  0\\n  8  9  1  0\\n  5 10  1  0\\n 10 11  1  0\\n 11 12  1  0\\n 12 13  1  0\\n 13 14  1  0\\n 14 15  1  0\\n 15 16  1  0\\n 16 17  2  0\\n 17 18  1  0\\n 18 19  2  0\\n 19 20  1  0\\n 16 21  1  0\\n 20 21  2  0\\n 13 22  1  0\\n 10 23  1  0\\n 22 23  1  0\\n  4 24  1  0\\n  1 25  1  0\\n 24 25  2  0\\nM  END\\n\",\"sdf\");\n",
       "\tviewergrid_1733933557698323[0][0].setStyle({\"stick\": {}});\n",
       "\tviewergrid_1733933557698323[0][0].zoomTo();\n",
       "viewergrid_1733933557698323[0][0].render();\n",
       "});\n",
       "</script>"
      ]
     },
     "metadata": {},
     "output_type": "display_data"
    }
   ],
   "source": [
    "visualize_3d_mols([m_old])"
   ]
  },
  {
   "cell_type": "code",
   "execution_count": null,
   "metadata": {},
   "outputs": [
    {
     "data": {
      "application/3dmoljs_load.v0": "<div id=\"3dmolviewer_17339335577247982\"  style=\"position: relative; width: 1500px; height: 400px;\">\n        <p id=\"3dmolwarning_17339335577247982\" style=\"background-color:#ffcccc;color:black\">3Dmol.js failed to load for some reason.  Please check your browser console for error messages.<br></p>\n        </div>\n<script>\n\nvar loadScriptAsync = function(uri){\n  return new Promise((resolve, reject) => {\n    //this is to ignore the existence of requirejs amd\n    var savedexports, savedmodule;\n    if (typeof exports !== 'undefined') savedexports = exports;\n    else exports = {}\n    if (typeof module !== 'undefined') savedmodule = module;\n    else module = {}\n\n    var tag = document.createElement('script');\n    tag.src = uri;\n    tag.async = true;\n    tag.onload = () => {\n        exports = savedexports;\n        module = savedmodule;\n        resolve();\n    };\n  var firstScriptTag = document.getElementsByTagName('script')[0];\n  firstScriptTag.parentNode.insertBefore(tag, firstScriptTag);\n});\n};\n\nif(typeof $3Dmolpromise === 'undefined') {\n$3Dmolpromise = null;\n  $3Dmolpromise = loadScriptAsync('https://cdnjs.cloudflare.com/ajax/libs/3Dmol/2.4.0/3Dmol-min.js');\n}\n\nvar viewer_17339335577247982 = null;\nvar warn = document.getElementById(\"3dmolwarning_17339335577247982\");\nif(warn) {\n    warn.parentNode.removeChild(warn);\n}\n$3Dmolpromise.then(function() {\nvar viewergrid_17339335577247982 = null;\nviewergrid_17339335577247982 = $3Dmol.createViewerGrid(document.getElementById(\"3dmolviewer_17339335577247982\"),{rows: 1, cols: 1, control_all: true},{backgroundColor:\"white\"});\nviewer_17339335577247982 = viewergrid_17339335577247982[0][0];\nviewergrid_17339335577247982[0][0].zoomTo();\tviewergrid_17339335577247982[0][0].removeAllModels();\n\tviewergrid_17339335577247982[0][0].addModel(\"\\n     RDKit          3D\\n\\n 25 27  0  0  0  0  0  0  0  0999 V2000\\n    7.3622   -1.4161   -5.0832 C   0  0  0  0  0  0  0  0  0  0  0  0\\n    5.9698   -1.4709   -5.1332 C   0  0  0  0  0  0  0  0  0  0  0  0\\n    5.2172   -0.6321   -4.2999 C   0  0  0  0  0  0  0  0  0  0  0  0\\n    5.7929    0.2758   -3.3901 C   0  0  0  0  0  0  0  0  0  0  0  0\\n    5.0186    1.0968   -2.5701 N   0  0  0  0  0  0  0  0  0  0  0  0\\n    5.2441    2.4911   -2.5097 C   0  0  0  0  0  0  0  0  0  0  0  0\\n    5.0684    3.2388   -3.4784 O   0  0  0  0  0  0  0  0  0  0  0  0\\n    5.6997    3.0861   -1.1787 C   0  0  0  0  0  0  0  0  0  0  0  0\\n    6.9589    3.9291   -1.3235 C   0  0  0  0  0  0  0  0  0  0  0  0\\n    4.1478    0.5336   -1.5768 C   0  0  0  0  0  0  0  0  0  0  0  0\\n    3.2537   -0.5629   -2.1806 C   0  0  0  0  0  0  0  0  0  0  0  0\\n    2.8290   -1.6241   -1.1544 C   0  0  0  0  0  0  0  0  0  0  0  0\\n    2.7092   -1.0376    0.1788 N   0  0  0  0  0  0  0  0  0  0  0  0\\n    2.0793   -1.9511    1.1138 C   0  0  0  0  0  0  0  0  0  0  0  0\\n    0.5759   -1.6986    1.2398 C   0  0  0  0  0  0  0  0  0  0  0  0\\n   -0.2001   -2.9241    1.5627 C   0  0  0  0  0  0  0  0  0  0  0  0\\n    0.0746   -3.6564    2.7170 C   0  0  0  0  0  0  0  0  0  0  0  0\\n   -0.6712   -4.8102    2.9944 C   0  0  0  0  0  0  0  0  0  0  0  0\\n   -1.7082   -5.2807    2.1657 C   0  0  0  0  0  0  0  0  0  0  0  0\\n   -1.9686   -4.5099    1.0222 C   0  0  0  0  0  0  0  0  0  0  0  0\\n   -1.2322   -3.3537    0.7247 C   0  0  0  0  0  0  0  0  0  0  0  0\\n    4.0091   -0.5743    0.6901 C   0  0  0  0  0  0  0  0  0  0  0  0\\n    4.9450   -0.0252   -0.3998 C   0  0  0  0  0  0  0  0  0  0  0  0\\n    7.1958    0.2918   -3.3541 C   0  0  0  0  0  0  0  0  0  0  0  0\\n    7.9676   -0.5372   -4.1816 C   0  0  0  0  0  0  0  0  0  0  0  0\\n  1  2  2  0\\n  2  3  1  0\\n  3  4  2  0\\n  4  5  1  0\\n  5  6  1  0\\n  6  7  2  0\\n  6  8  1  0\\n  8  9  1  0\\n  5 10  1  0\\n 10 11  1  0\\n 11 12  1  0\\n 12 13  1  0\\n 13 14  1  0\\n 14 15  1  0\\n 15 16  1  0\\n 16 17  2  0\\n 17 18  1  0\\n 18 19  2  0\\n 19 20  1  0\\n 16 21  1  0\\n 20 21  2  0\\n 13 22  1  0\\n 10 23  1  0\\n 22 23  1  0\\n  4 24  1  0\\n  1 25  1  0\\n 24 25  2  0\\nM  END\\n\",\"sdf\");\n\tviewergrid_17339335577247982[0][0].setStyle({\"stick\": {}});\n\tviewergrid_17339335577247982[0][0].zoomTo();\nviewergrid_17339335577247982[0][0].render();\n});\n</script>",
      "text/html": [
       "<div id=\"3dmolviewer_17339335577247982\"  style=\"position: relative; width: 1500px; height: 400px;\">\n",
       "        <p id=\"3dmolwarning_17339335577247982\" style=\"background-color:#ffcccc;color:black\">3Dmol.js failed to load for some reason.  Please check your browser console for error messages.<br></p>\n",
       "        </div>\n",
       "<script>\n",
       "\n",
       "var loadScriptAsync = function(uri){\n",
       "  return new Promise((resolve, reject) => {\n",
       "    //this is to ignore the existence of requirejs amd\n",
       "    var savedexports, savedmodule;\n",
       "    if (typeof exports !== 'undefined') savedexports = exports;\n",
       "    else exports = {}\n",
       "    if (typeof module !== 'undefined') savedmodule = module;\n",
       "    else module = {}\n",
       "\n",
       "    var tag = document.createElement('script');\n",
       "    tag.src = uri;\n",
       "    tag.async = true;\n",
       "    tag.onload = () => {\n",
       "        exports = savedexports;\n",
       "        module = savedmodule;\n",
       "        resolve();\n",
       "    };\n",
       "  var firstScriptTag = document.getElementsByTagName('script')[0];\n",
       "  firstScriptTag.parentNode.insertBefore(tag, firstScriptTag);\n",
       "});\n",
       "};\n",
       "\n",
       "if(typeof $3Dmolpromise === 'undefined') {\n",
       "$3Dmolpromise = null;\n",
       "  $3Dmolpromise = loadScriptAsync('https://cdnjs.cloudflare.com/ajax/libs/3Dmol/2.4.0/3Dmol-min.js');\n",
       "}\n",
       "\n",
       "var viewer_17339335577247982 = null;\n",
       "var warn = document.getElementById(\"3dmolwarning_17339335577247982\");\n",
       "if(warn) {\n",
       "    warn.parentNode.removeChild(warn);\n",
       "}\n",
       "$3Dmolpromise.then(function() {\n",
       "var viewergrid_17339335577247982 = null;\n",
       "viewergrid_17339335577247982 = $3Dmol.createViewerGrid(document.getElementById(\"3dmolviewer_17339335577247982\"),{rows: 1, cols: 1, control_all: true},{backgroundColor:\"white\"});\n",
       "viewer_17339335577247982 = viewergrid_17339335577247982[0][0];\n",
       "viewergrid_17339335577247982[0][0].zoomTo();\tviewergrid_17339335577247982[0][0].removeAllModels();\n",
       "\tviewergrid_17339335577247982[0][0].addModel(\"\\n     RDKit          3D\\n\\n 25 27  0  0  0  0  0  0  0  0999 V2000\\n    7.3622   -1.4161   -5.0832 C   0  0  0  0  0  0  0  0  0  0  0  0\\n    5.9698   -1.4709   -5.1332 C   0  0  0  0  0  0  0  0  0  0  0  0\\n    5.2172   -0.6321   -4.2999 C   0  0  0  0  0  0  0  0  0  0  0  0\\n    5.7929    0.2758   -3.3901 C   0  0  0  0  0  0  0  0  0  0  0  0\\n    5.0186    1.0968   -2.5701 N   0  0  0  0  0  0  0  0  0  0  0  0\\n    5.2441    2.4911   -2.5097 C   0  0  0  0  0  0  0  0  0  0  0  0\\n    5.0684    3.2388   -3.4784 O   0  0  0  0  0  0  0  0  0  0  0  0\\n    5.6997    3.0861   -1.1787 C   0  0  0  0  0  0  0  0  0  0  0  0\\n    6.9589    3.9291   -1.3235 C   0  0  0  0  0  0  0  0  0  0  0  0\\n    4.1478    0.5336   -1.5768 C   0  0  0  0  0  0  0  0  0  0  0  0\\n    3.2537   -0.5629   -2.1806 C   0  0  0  0  0  0  0  0  0  0  0  0\\n    2.8290   -1.6241   -1.1544 C   0  0  0  0  0  0  0  0  0  0  0  0\\n    2.7092   -1.0376    0.1788 N   0  0  0  0  0  0  0  0  0  0  0  0\\n    2.0793   -1.9511    1.1138 C   0  0  0  0  0  0  0  0  0  0  0  0\\n    0.5759   -1.6986    1.2398 C   0  0  0  0  0  0  0  0  0  0  0  0\\n   -0.2001   -2.9241    1.5627 C   0  0  0  0  0  0  0  0  0  0  0  0\\n    0.0746   -3.6564    2.7170 C   0  0  0  0  0  0  0  0  0  0  0  0\\n   -0.6712   -4.8102    2.9944 C   0  0  0  0  0  0  0  0  0  0  0  0\\n   -1.7082   -5.2807    2.1657 C   0  0  0  0  0  0  0  0  0  0  0  0\\n   -1.9686   -4.5099    1.0222 C   0  0  0  0  0  0  0  0  0  0  0  0\\n   -1.2322   -3.3537    0.7247 C   0  0  0  0  0  0  0  0  0  0  0  0\\n    4.0091   -0.5743    0.6901 C   0  0  0  0  0  0  0  0  0  0  0  0\\n    4.9450   -0.0252   -0.3998 C   0  0  0  0  0  0  0  0  0  0  0  0\\n    7.1958    0.2918   -3.3541 C   0  0  0  0  0  0  0  0  0  0  0  0\\n    7.9676   -0.5372   -4.1816 C   0  0  0  0  0  0  0  0  0  0  0  0\\n  1  2  2  0\\n  2  3  1  0\\n  3  4  2  0\\n  4  5  1  0\\n  5  6  1  0\\n  6  7  2  0\\n  6  8  1  0\\n  8  9  1  0\\n  5 10  1  0\\n 10 11  1  0\\n 11 12  1  0\\n 12 13  1  0\\n 13 14  1  0\\n 14 15  1  0\\n 15 16  1  0\\n 16 17  2  0\\n 17 18  1  0\\n 18 19  2  0\\n 19 20  1  0\\n 16 21  1  0\\n 20 21  2  0\\n 13 22  1  0\\n 10 23  1  0\\n 22 23  1  0\\n  4 24  1  0\\n  1 25  1  0\\n 24 25  2  0\\nM  END\\n\",\"sdf\");\n",
       "\tviewergrid_17339335577247982[0][0].setStyle({\"stick\": {}});\n",
       "\tviewergrid_17339335577247982[0][0].zoomTo();\n",
       "viewergrid_17339335577247982[0][0].render();\n",
       "});\n",
       "</script>"
      ]
     },
     "metadata": {},
     "output_type": "display_data"
    }
   ],
   "source": [
    "visualize_3d_mols([m_new])"
   ]
  },
  {
   "cell_type": "code",
   "execution_count": null,
   "metadata": {},
   "outputs": [
    {
     "name": "stderr",
     "output_type": "stream",
     "text": [
      "[17:12:37] Molecule does not have explicit Hs. Consider calling AddHs()\n"
     ]
    },
    {
     "data": {
      "text/plain": [
       "74.41968834499278"
      ]
     },
     "execution_count": 33,
     "metadata": {},
     "output_type": "execute_result"
    }
   ],
   "source": [
    "get_energy(m_new)"
   ]
  },
  {
   "cell_type": "code",
   "execution_count": null,
   "metadata": {},
   "outputs": [
    {
     "name": "stderr",
     "output_type": "stream",
     "text": [
      "[17:12:37] Molecule does not have explicit Hs. Consider calling AddHs()\n"
     ]
    },
    {
     "data": {
      "text/plain": [
       "63.47094103660059"
      ]
     },
     "execution_count": 34,
     "metadata": {},
     "output_type": "execute_result"
    }
   ],
   "source": [
    "get_energy(m_old)"
   ]
  },
  {
   "cell_type": "code",
   "execution_count": null,
   "metadata": {},
   "outputs": [
    {
     "data": {
      "text/plain": [
       "73.80943733467005"
      ]
     },
     "execution_count": 35,
     "metadata": {},
     "output_type": "execute_result"
    }
   ],
   "source": [
    "sum([get_energy(c) for c in confs])/len(confs)"
   ]
  },
  {
   "cell_type": "code",
   "execution_count": null,
   "metadata": {},
   "outputs": [],
   "source": [
    "np.std([get_energy(c) for c in confs])"
   ]
  },
  {
   "cell_type": "code",
   "execution_count": null,
   "metadata": {},
   "outputs": [
    {
     "data": {
      "text/plain": [
       "92.2001335995584"
      ]
     },
     "execution_count": 20,
     "metadata": {},
     "output_type": "execute_result"
    }
   ],
   "source": [
    "6.130232088296116*3+73.80943733467005"
   ]
  },
  {
   "cell_type": "code",
   "execution_count": null,
   "metadata": {},
   "outputs": [
    {
     "data": {
      "text/plain": [
       "3025"
      ]
     },
     "execution_count": 21,
     "metadata": {},
     "output_type": "execute_result"
    }
   ],
   "source": [
    "55**2"
   ]
  },
  {
   "cell_type": "code",
   "execution_count": null,
   "metadata": {},
   "outputs": [
    {
     "data": {
      "text/plain": [
       "1700.7476027175783"
      ]
     },
     "execution_count": 23,
     "metadata": {},
     "output_type": "execute_result"
    }
   ],
   "source": [
    "np.random.normal(0, 55**2)"
   ]
  },
  {
   "cell_type": "code",
   "execution_count": null,
   "metadata": {},
   "outputs": [],
   "source": []
  }
 ],
 "metadata": {
  "kernelspec": {
   "display_name": "rdkit_pyg_geqm9_clone",
   "language": "python",
   "name": "python3"
  },
  "language_info": {
   "codemirror_mode": {
    "name": "ipython",
    "version": 3
   },
   "file_extension": ".py",
   "mimetype": "text/x-python",
   "name": "python",
   "nbconvert_exporter": "python",
   "pygments_lexer": "ipython3",
   "version": "3.10.14"
  }
 },
 "nbformat": 4,
 "nbformat_minor": 2
}
