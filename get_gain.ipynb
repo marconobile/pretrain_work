{
 "cells": [
  {
   "cell_type": "code",
   "execution_count": 1,
   "metadata": {},
   "outputs": [],
   "source": [
    "import torch\n",
    "from geqtrain.nn.nonlinearities import ShiftedSoftPlus, ShiftedSoftPlusModule, SwiGLUModule, SwiGLU"
   ]
  },
  {
   "cell_type": "code",
   "execution_count": 11,
   "metadata": {},
   "outputs": [
    {
     "name": "stdout",
     "output_type": "stream",
     "text": [
      "in: 1.0011, out: 1.0113\n"
     ]
    }
   ],
   "source": [
    "a = torch.randn(1000,1000)\n",
    "l = torch.nn.Linear(1000,2*1000, bias=False)\n",
    "\n",
    "their_val = 1.6818526699158522\n",
    "torch.nn.init.orthogonal_(l.weight, gain=1.8)\n",
    "\n",
    "for i in range(10000):\n",
    "  x = l(a)\n",
    "  x = SwiGLU(x)\n",
    "print (f\"in: {a.std().item():.4f}, out: {x.std().item():.4f}\")\n"
   ]
  },
  {
   "cell_type": "code",
   "execution_count": null,
   "metadata": {},
   "outputs": [],
   "source": []
  }
 ],
 "metadata": {
  "kernelspec": {
   "display_name": "rdkit_pyg_geqm9_clone",
   "language": "python",
   "name": "python3"
  },
  "language_info": {
   "codemirror_mode": {
    "name": "ipython",
    "version": 3
   },
   "file_extension": ".py",
   "mimetype": "text/x-python",
   "name": "python",
   "nbconvert_exporter": "python",
   "pygments_lexer": "ipython3",
   "version": "3.10.14"
  }
 },
 "nbformat": 4,
 "nbformat_minor": 2
}
