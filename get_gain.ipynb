{
 "cells": [
  {
   "cell_type": "code",
   "execution_count": 43,
   "metadata": {},
   "outputs": [],
   "source": [
    "import torch\n",
    "from geqtrain.nn.nonlinearities import ShiftedSoftPlus, ShiftedSoftPlusModule, SwiGLUModule, SwiGLU\n",
    "from geqtrain.nn._fc import select_nonlinearity\n",
    "from e3nn.math import normalize2mom\n",
    "import random\n"
   ]
  },
  {
   "cell_type": "code",
   "execution_count": 58,
   "metadata": {},
   "outputs": [],
   "source": [
    "@torch.no_grad()\n",
    "def test_gain(non_linearity:str, gain:float=None, use_normalize2mom:bool=False, seed: int=42):\n",
    "  # todo add selection of non linearity via method that is in\n",
    "  activation = select_nonlinearity(non_linearity)\n",
    "  in_size = 1000\n",
    "  out_size = in_size if non_linearity != \"swiglu\" else 2*in_size\n",
    "\n",
    "  if not gain and not use_normalize2mom: raise ValueError('no gain (nor automatic gain) provided, idk what to do')\n",
    "  if gain and use_normalize2mom: raise ValueError('both gain and automatic gain provided, idk what to do')\n",
    "\n",
    "  # todo implement automatic gain\n",
    "  # nonlinearity = {\n",
    "  #   None: None,\n",
    "  #   \"silu\": torch.nn.functional.silu,\n",
    "  #   \"ssp\": ShiftedSoftPlusModule,\n",
    "  #   \"selu\": torch.nn.functional.selu,\n",
    "  #   \"relu\": torch.nn.functional.relu,\n",
    "  #   \"swiglu\": SwiGLUModule,\n",
    "  # }[non_linearity]\n",
    "  # if use_normalize2mom: gain = normalize2mom()\n",
    "\n",
    "\n",
    "  for test in range(5):\n",
    "    seed = random.randint(0, 100000)\n",
    "    torch.manual_seed(seed)\n",
    "    a = torch.randn(in_size, in_size)\n",
    "    l = torch.nn.Linear(in_size, out_size, bias=False)\n",
    "    torch.nn.init.orthogonal_(l.weight, gain=gain)\n",
    "    for i in range(100):\n",
    "      x = activation(l(a))\n",
    "    print (f\"Test {test} - input std: {a.std().item():.6f}, out std: {x.std().item():.6f}, difference: {a.std().item() - x.std().item()}\")\n",
    "    if a.std().item() - x.std().item() > 0:\n",
    "      print(\"Increase gain\")\n",
    "    else: print(\"Decrease gain\")"
   ]
  },
  {
   "cell_type": "code",
   "execution_count": 60,
   "metadata": {},
   "outputs": [
    {
     "name": "stdout",
     "output_type": "stream",
     "text": [
      "Test 0 - input std: 1.000839, out std: 0.997611, difference: 0.0032287240028381348\n",
      "Increase gain\n",
      "Test 1 - input std: 1.000109, out std: 0.999631, difference: 0.00047779083251953125\n",
      "Increase gain\n",
      "Test 2 - input std: 0.999263, out std: 0.994219, difference: 0.005044043064117432\n",
      "Increase gain\n",
      "Test 3 - input std: 0.999107, out std: 0.998230, difference: 0.0008775591850280762\n",
      "Increase gain\n",
      "Test 4 - input std: 1.001136, out std: 1.002058, difference: -0.0009222030639648438\n",
      "Decrease gain\n"
     ]
    }
   ],
   "source": [
    "test_gain('swiglu', gain=1.79186)\n",
    "# gain=1.8, N = 50000\n",
    "# Test 0 - input std: 1.0000, out std: 1.0097\n",
    "# Test 1 - input std: 0.9993, out std: 1.0040\n",
    "# Test 2 - input std: 1.0000, out std: 1.0099\n",
    "\n",
    "# gain=1.78, N = 50000\n",
    "# Test 0 - input std: 1.0000, out std: 0.9855\n",
    "# Test 1 - input std: 0.9993, out std: 0.9800\n",
    "# Test 2 - input std: 1.0000, out std: 0.9858\n",
    "\n",
    "# gain=1.78, N = 100\n",
    "# Test 0 - input std: 1.0000, out std: 0.9855\n",
    "# Test 1 - input std: 0.9993, out std: 0.9800\n",
    "# Test 2 - input std: 1.0000, out std: 0.9858"
   ]
  },
  {
   "cell_type": "code",
   "execution_count": null,
   "metadata": {},
   "outputs": [],
   "source": []
  },
  {
   "cell_type": "code",
   "execution_count": null,
   "metadata": {},
   "outputs": [],
   "source": []
  }
 ],
 "metadata": {
  "kernelspec": {
   "display_name": "rdkit_pyg_geqm9_clone",
   "language": "python",
   "name": "python3"
  },
  "language_info": {
   "codemirror_mode": {
    "name": "ipython",
    "version": 3
   },
   "file_extension": ".py",
   "mimetype": "text/x-python",
   "name": "python",
   "nbconvert_exporter": "python",
   "pygments_lexer": "ipython3",
   "version": "3.10.14"
  }
 },
 "nbformat": 4,
 "nbformat_minor": 2
}
