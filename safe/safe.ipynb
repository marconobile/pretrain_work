{
 "cells": [
  {
   "cell_type": "code",
   "execution_count": null,
   "metadata": {},
   "outputs": [],
   "source": [
    "# SAFE TO CSV\n",
    "import pandas as pd\n",
    "from typing import Union, List, Tuple\n",
    "\n",
    "def parse_csv(path, col_idxs:List[int]=None):\n",
    "    assert path.endswith(\".csv\"), f\"{path} is not a valid .csv file\"\n",
    "    dset = pd.read_csv(path)\n",
    "    names = list(dset.keys())\n",
    "    out = {}\n",
    "    for col_i in col_idxs:\n",
    "       out[names[col_i]] = dset[names[col_i]].to_list()\n",
    "\n",
    "    # Assert that all values in the dictionary have the same length\n",
    "    assert all(len(v) == len(next(iter(out.values()))) for v in out.values()), \"All dictionary values must have the same length\"\n",
    "    return out"
   ]
  },
  {
   "cell_type": "code",
   "execution_count": null,
   "metadata": {},
   "outputs": [],
   "source": [
    "path:str = '/home/nobilm@usi.ch/pretrain_paper/data/moelculenet/bace.csv'\n",
    "out = parse_csv(path, [0,2]) # bace: [0,2]\n",
    "smiles = out['mol'] # bace: mol\n",
    "ys = out['Class'] # bace: Class\n",
    "assert len(smiles) == len(ys)\n",
    "len(smiles)"
   ]
  },
  {
   "cell_type": "code",
   "execution_count": null,
   "metadata": {},
   "outputs": [],
   "source": [
    "import safe\n",
    "\n",
    "num_of_chunks_in_mol = []\n",
    "safe_smi_list = []\n",
    "for smi, y in zip(smiles, ys):\n",
    "    try:\n",
    "        safe_smi = safe.encode(smi)\n",
    "        safe_smi_list.append(safe_smi)\n",
    "    except:\n",
    "        num_of_chunks_in_mol.append(1)\n",
    "        safe_smi_list.append(smi)\n",
    "        continue\n",
    "    if '.' in safe_smi:\n",
    "        num_of_chunks_in_mol.append(len(safe_smi.split('.')))\n",
    "    else:\n",
    "        num_of_chunks_in_mol.append(1)\n",
    "\n",
    "assert len(smiles) == len(ys) == len(num_of_chunks_in_mol) == len(safe_smi_list)"
   ]
  },
  {
   "cell_type": "code",
   "execution_count": null,
   "metadata": {},
   "outputs": [],
   "source": [
    "import numpy as np\n",
    "np.min(num_of_chunks_in_mol), np.max(num_of_chunks_in_mol), np.mean(num_of_chunks_in_mol), np.std(num_of_chunks_in_mol), np.median(num_of_chunks_in_mol)"
   ]
  },
  {
   "cell_type": "code",
   "execution_count": null,
   "metadata": {},
   "outputs": [],
   "source": [
    "len(np.bincount(num_of_chunks_in_mol))"
   ]
  },
  {
   "cell_type": "code",
   "execution_count": null,
   "metadata": {},
   "outputs": [],
   "source": [
    "# import csv\n",
    "\n",
    "# # Define the header\n",
    "# header = ['smiles', 'safe_smi', 'num_of_chunks_in_mol', 'ys']\n",
    "\n",
    "# # Open a new CSV file for writing\n",
    "# with open('/home/nobilm@usi.ch/pretrain_paper/data/moelculenet/SAFEbace.csv', 'w', newline='') as file:\n",
    "#     writer = csv.writer(file)\n",
    "\n",
    "#     # Write the header\n",
    "#     writer.writerow(header)\n",
    "\n",
    "#     # Write the data\n",
    "#     for row in zip(smiles, safe_smi_list, num_of_chunks_in_mol, ys):\n",
    "#         writer.writerow(row)"
   ]
  },
  {
   "cell_type": "markdown",
   "metadata": {},
   "source": [
    "# SAFE EXPLORATION"
   ]
  },
  {
   "cell_type": "code",
   "execution_count": null,
   "metadata": {},
   "outputs": [],
   "source": [
    "from rdkit import Chem as rdChem\n",
    "def plot_mol_with_atom_idxs(mol):\n",
    "    from rdkit.Chem.Draw import IPythonConsole\n",
    "    IPythonConsole.drawOptions.addAtomIndices = True\n",
    "    return mol"
   ]
  },
  {
   "cell_type": "code",
   "execution_count": null,
   "metadata": {},
   "outputs": [],
   "source": [
    "import safe\n",
    "\n",
    "ibuprofen = \"CC(Cc1ccc(cc1)C(C(=O)O)C)C\"\n",
    "ibuprofen2 = 'CC(C)CC1=CC=C(C=C1)C(C)C(=O)O'\n",
    "\n",
    "# 2 different smiles get mapped to same safe repr\n",
    "\n",
    "ibuprofen_sf = safe.encode(ibuprofen)  # c12ccc3cc1.C3(C)C(=O)O.CC(C)C2\n",
    "ibuprofen_sf2 = safe.encode(ibuprofen2)  # c12ccc3cc1.C3(C)C(=O)O.CC(C)C2\n",
    "ibuprofen_sf, ibuprofen_sf2, ibuprofen_sf == ibuprofen_sf2"
   ]
  },
  {
   "cell_type": "code",
   "execution_count": null,
   "metadata": {},
   "outputs": [],
   "source": [
    "safe.encode(ibuprofen2)"
   ]
  },
  {
   "cell_type": "code",
   "execution_count": null,
   "metadata": {},
   "outputs": [],
   "source": [
    "mol2 = rdChem.MolFromSmiles(ibuprofen_sf2)\n",
    "mol2"
   ]
  },
  {
   "cell_type": "code",
   "execution_count": null,
   "metadata": {},
   "outputs": [],
   "source": [
    "mol = rdChem.MolFromSmiles(ibuprofen_sf)\n",
    "mol"
   ]
  },
  {
   "cell_type": "code",
   "execution_count": null,
   "metadata": {},
   "outputs": [],
   "source": [
    "for atom in mol.GetAtoms():\n",
    "    print(atom.GetIdx(), atom.GetSymbol())"
   ]
  },
  {
   "cell_type": "code",
   "execution_count": null,
   "metadata": {},
   "outputs": [],
   "source": [
    "plot_mol_with_atom_idxs(mol)"
   ]
  },
  {
   "cell_type": "code",
   "execution_count": null,
   "metadata": {},
   "outputs": [],
   "source": [
    "suppl = rdChem.SDMolSupplier('/storage_common/nobilm/pretrain_paper/PCQM4Mv2Dataset/from_wget/pcqm4m-v2-train.sdf')\n",
    "len(suppl)"
   ]
  },
  {
   "cell_type": "code",
   "execution_count": null,
   "metadata": {},
   "outputs": [],
   "source": [
    "mols_test = []\n",
    "for idx, mol in enumerate(suppl):\n",
    "    if not mol:continue\n",
    "    if idx == 10000:\n",
    "        break\n",
    "    mols_test.append(mol)\n",
    "\n"
   ]
  },
  {
   "cell_type": "code",
   "execution_count": null,
   "metadata": {},
   "outputs": [],
   "source": [
    "fragments = set()\n",
    "for idx, mol in enumerate(suppl):\n",
    "    if idx == 10000:\n",
    "        break\n",
    "    if mol:\n",
    "        smi = rdChem.MolToSmiles(mol)\n",
    "    else: continue\n",
    "    try:\n",
    "        smi_as_safe = safe.encode(smi)\n",
    "        if '.' in smi_as_safe:\n",
    "            for el in smi_as_safe.split('.'):\n",
    "                fragments.add(el)\n",
    "        else:\n",
    "            fragments.add(smi_as_safe)\n",
    "    except:\n",
    "        pass"
   ]
  },
  {
   "cell_type": "code",
   "execution_count": null,
   "metadata": {},
   "outputs": [],
   "source": [
    "len(fragments)"
   ]
  },
  {
   "cell_type": "code",
   "execution_count": null,
   "metadata": {},
   "outputs": [],
   "source": [
    "list_f = []\n",
    "for f in fragments:\n",
    "    m = rdChem.MolFromSmiles(f)\n",
    "    list_f.append(m)"
   ]
  },
  {
   "cell_type": "code",
   "execution_count": null,
   "metadata": {},
   "outputs": [],
   "source": [
    "list_f"
   ]
  },
  {
   "cell_type": "code",
   "execution_count": null,
   "metadata": {},
   "outputs": [],
   "source": [
    "# Richard hall 2017\n",
    "# IFG main code\n",
    "# Guillaume Godin 2017\n",
    "# refine output function\n",
    "# astex_ifg: identify functional groups a la Ertl, J. Cheminform (2017) 9:36\n",
    "from rdkit import Chem\n",
    "from collections import namedtuple\n",
    "\n",
    "def merge(mol, marked, aset):\n",
    "    bset = set()\n",
    "    for idx in aset:\n",
    "        atom = mol.GetAtomWithIdx(idx)\n",
    "        for nbr in atom.GetNeighbors():\n",
    "            jdx = nbr.GetIdx()\n",
    "            if jdx in marked:\n",
    "                marked.remove(jdx)\n",
    "                bset.add(jdx)\n",
    "    if not bset:\n",
    "        return\n",
    "    merge(mol, marked, bset)\n",
    "    aset.update(bset)\n",
    "\n",
    "# atoms connected by non-aromatic double or triple bond to any heteroatom\n",
    "# c=O should not match (see fig1, box 15).  I think using A instead of * should sort that out?\n",
    "PATT_DOUBLE_TRIPLE = Chem.MolFromSmarts('A=,#[!#6]')\n",
    "# atoms in non aromatic carbon-carbon double or triple bonds\n",
    "PATT_CC_DOUBLE_TRIPLE = Chem.MolFromSmarts('C=,#C')\n",
    "# acetal carbons, i.e. sp3 carbons connected to tow or more oxygens, nitrogens or sulfurs; these O, N or S atoms must have only single bonds\n",
    "PATT_ACETAL = Chem.MolFromSmarts('[CX4](-[O,N,S])-[O,N,S]')\n",
    "# all atoms in oxirane, aziridine and thiirane rings\n",
    "PATT_OXIRANE_ETC = Chem.MolFromSmarts('[O,N,S]1CC1')\n",
    "\n",
    "PATT_TUPLE = (PATT_DOUBLE_TRIPLE, PATT_CC_DOUBLE_TRIPLE, PATT_ACETAL, PATT_OXIRANE_ETC)\n",
    "\n",
    "def identify_functional_groups(mol):\n",
    "    marked = set()\n",
    "#mark all heteroatoms in a molecule, including halogens\n",
    "    for atom in mol.GetAtoms():\n",
    "        if atom.GetAtomicNum() not in (6,1): # would we ever have hydrogen?\n",
    "            marked.add(atom.GetIdx())\n",
    "\n",
    "#mark the four specific types of carbon atom\n",
    "    for patt in PATT_TUPLE:\n",
    "        for path in mol.GetSubstructMatches(patt):\n",
    "            for atomindex in path:\n",
    "                marked.add(atomindex)\n",
    "\n",
    "#merge all connected marked atoms to a single FG\n",
    "    groups = []\n",
    "    while marked:\n",
    "        grp = set([marked.pop()])\n",
    "        merge(mol, marked, grp)\n",
    "        groups.append(grp)\n",
    "\n",
    "#extract also connected unmarked carbon atoms\n",
    "    ifg = namedtuple('IFG', ['atomIds', 'atoms', 'type'])\n",
    "    ifgs = []\n",
    "    for g in groups:\n",
    "        uca = set()\n",
    "        for atomidx in g:\n",
    "            for n in mol.GetAtomWithIdx(atomidx).GetNeighbors():\n",
    "                if n.GetAtomicNum() == 6:\n",
    "                    uca.add(n.GetIdx())\n",
    "        ifgs.append(ifg(atomIds=tuple(list(g)), atoms=Chem.MolFragmentToSmiles(mol, g, canonical=True), type=Chem.MolFragmentToSmiles(mol, g.union(uca),canonical=True)))\n",
    "    return ifgs\n",
    "\n",
    "\n",
    "# for ix, smiles in enumerate([\n",
    "#     # 'Cc1nc(NS(=O)(=O)c2ccc(N)cc2)nc(C)c1', # fig1, 1\n",
    "#     # 'NC(=N)c1ccc(C=Cc2ccc(cc2O)C(=N)N)cc1', # 2\n",
    "#     # 'CC(=O)Nc1nnc(s1)S(=O)(=O)N', # 3\n",
    "#     # 'NS(=O)(=O)c1cc2c(NCNS2(=O)=O)cc1Cl', # 4\n",
    "#     # 'CNC1=Nc2ccc(Cl)cc2C(=N(=O)C1)c3ccccc3', # 5\n",
    "#     # 'Cc1onc(c1C(=O)NC2C3SC(C)(C)C(N3C2=O)C(=O)O)c4ccccc4', # 6\n",
    "#     # 'Clc1ccccc1C2=NCC(=O)Nc3ccc(cc23)N(=O)=O', # 7\n",
    "#     # 'COc1cc(cc(C(=O)NCC2CCCN2CC=C)c1OC)S(=O)(=O)N', # 8\n",
    "#     # 'Cc1ccc(Cl)c(Nc2ccccc2C(=O)O)c1Cl', # 9\n",
    "#     # 'Clc1ccc2Oc3ccccc3N=C(N4CCNCC4)c2c1', # 10 - there is a discrepancy with the paper here!  I wonder if Peter has the ring as aromatic?\n",
    "#     # 'FC(F)(F)CN1C(=O)CN=C(c2ccccc2)c3cc(Cl)ccc13', # 11\n",
    "#     # 'OCC1OC(CC1O)n2cnc3C(O)CNC=Nc32', # 12\n",
    "#     # 'CCNC1CC(C)S(=O)(=O)c2sc(cc12)S(=O)(=O)N', # 13\n",
    "#     # 'CC(O)C1C2C(C)C(=C(N2C1=O)C(=O)O)SC3CNC(C3)C(=O)N(C)C', # 14\n",
    "#     # 'CC1CN(CC(C)N1)c2c(F)c(N)c3c(=O)c(cn(C4CC4)c3c2F)C(=O)O', # 15\n",
    "#     # 'CC(=CCC1C(=O)N(N(C1=O)c2ccccc2)c3ccccc3)C', # 16\n",
    "#     # 'Clc1ccc2N=C3NC(=O)CN3Cc2c1Cl', # 17\n",
    "#     # 'CC(=O)NC1C(NC(=N)N)C=C(OC1C(O)C(O)CO)C(=O)O', # 18\n",
    "#     # 'CC(O)C(O)C1CNc2nc(N)nc(O)c2N1', # 19\n",
    "#     # 'NC1CCCCN(C1)c2c(Cl)cc3c(=O)c(cn(C4CC4)c3c2Cl)C(=O)O', # 20\n",
    "#     'CCO',\n",
    "#     'CC(=O)C',\n",
    "#     'CC(=O)O', #\n",
    "#     'c1ccccc1',\n",
    "#     'CC(=O)NC',# N\n",
    "#     'CCN',\n",
    "#     'CC#N',\n",
    "#     'CC(=O)Oc1ccccc1C(=O)O',\n",
    "#     'CCO',\n",
    "#     'c1ccccc1',\n",
    "#     'C[N+](=O)[O-]',\n",
    "#     'CS(=O)(=O)C',\n",
    "#     'c1ccccc1Br',\n",
    "# ]):\n",
    "#     m = Chem.MolFromSmiles(smiles)\n",
    "#     fgs = identify_functional_groups(m)\n",
    "#     print('%2d: %d fgs'%(ix, len(fgs)), fgs)\n",
    "\n",
    "\n"
   ]
  },
  {
   "cell_type": "code",
   "execution_count": null,
   "metadata": {},
   "outputs": [],
   "source": [
    "types = set()\n",
    "for ix , m in enumerate(mols_test):\n",
    "    fgs = identify_functional_groups(m)\n",
    "    for el in fgs:\n",
    "        types.add(el.type)"
   ]
  },
  {
   "cell_type": "code",
   "execution_count": null,
   "metadata": {},
   "outputs": [],
   "source": [
    "len(types)"
   ]
  },
  {
   "cell_type": "code",
   "execution_count": null,
   "metadata": {},
   "outputs": [],
   "source": [
    "types"
   ]
  },
  {
   "cell_type": "code",
   "execution_count": null,
   "metadata": {},
   "outputs": [],
   "source": [
    "mmmm = []\n",
    "for t in types:\n",
    "    mmmm.append(rdChem.MolFromSmiles(t))\n"
   ]
  },
  {
   "cell_type": "code",
   "execution_count": null,
   "metadata": {},
   "outputs": [],
   "source": [
    "len(mmmm)\n"
   ]
  },
  {
   "cell_type": "code",
   "execution_count": null,
   "metadata": {},
   "outputs": [],
   "source": [
    "casted = []\n",
    "for m in mmmm:\n",
    "    print(m)\n",
    "    if m is None:continue\n",
    "    casted.append(m)\n",
    "\n"
   ]
  },
  {
   "cell_type": "code",
   "execution_count": null,
   "metadata": {},
   "outputs": [],
   "source": [
    "len(casted)\n"
   ]
  },
  {
   "cell_type": "code",
   "execution_count": null,
   "metadata": {},
   "outputs": [],
   "source": [
    "len(set(casted))"
   ]
  },
  {
   "cell_type": "code",
   "execution_count": null,
   "metadata": {},
   "outputs": [],
   "source": [
    "casted[0]"
   ]
  },
  {
   "cell_type": "code",
   "execution_count": null,
   "metadata": {},
   "outputs": [],
   "source": [
    "from copy import deepcopy\n",
    "asd = deepcopy(casted[0] )"
   ]
  },
  {
   "cell_type": "code",
   "execution_count": null,
   "metadata": {},
   "outputs": [],
   "source": [
    "print(Chem.MolToSmiles(casted[0]) == Chem.MolToSmiles(asd) )\n",
    "print(Chem.MolToInchi(casted[0]) == Chem.MolToInchi(asd) )"
   ]
  },
  {
   "cell_type": "code",
   "execution_count": null,
   "metadata": {},
   "outputs": [],
   "source": [
    "uniques = []\n",
    "skip_idxs = []\n",
    "for idx_i, m in enumerate(casted):\n",
    "    duplicate = False\n",
    "\n",
    "    if idx_i in skip_idxs:\n",
    "        continue\n",
    "    for idx_j in range(idx_i+1, len(casted)):\n",
    "        mm = casted[idx_j]\n",
    "        if Chem.MolToInchi(m) == Chem.MolToInchi(mm):\n",
    "            skip_idxs.append(idx_j)\n",
    "            duplicate = True\n",
    "    if not duplicate:\n",
    "        uniques.append(idx_i)\n"
   ]
  },
  {
   "cell_type": "code",
   "execution_count": null,
   "metadata": {},
   "outputs": [],
   "source": [
    "with open(\"asdasd.txt\", \"w\") as log_file:\n",
    "    log_file.write(f\"Number of unique molecules: {len(uniques)}\\n\")\n",
    "    log_file.write(f\"Number of casted molecules: {len(casted)}\\n\")"
   ]
  },
  {
   "cell_type": "code",
   "execution_count": null,
   "metadata": {},
   "outputs": [],
   "source": []
  }
 ],
 "metadata": {
  "kernelspec": {
   "display_name": "safe",
   "language": "python",
   "name": "python3"
  },
  "language_info": {
   "codemirror_mode": {
    "name": "ipython",
    "version": 3
   },
   "file_extension": ".py",
   "mimetype": "text/x-python",
   "name": "python",
   "nbconvert_exporter": "python",
   "pygments_lexer": "ipython3",
   "version": "3.10.16"
  }
 },
 "nbformat": 4,
 "nbformat_minor": 2
}
