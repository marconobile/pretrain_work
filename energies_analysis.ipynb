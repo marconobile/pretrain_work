{
 "cells": [
  {
   "cell_type": "code",
   "execution_count": 11,
   "metadata": {},
   "outputs": [],
   "source": [
    "import numpy as np\n",
    "import matplotlib.pyplot as plt\n",
    "import pandas as pd"
   ]
  },
  {
   "cell_type": "code",
   "execution_count": 12,
   "metadata": {},
   "outputs": [],
   "source": [
    "energies_post_frad_log = '/home/nobilm@usi.ch/pretrain_paper/energies_post_frad_log.txt'\n",
    "rdkit_energies_not_minimized_log = '/home/nobilm@usi.ch/pretrain_paper/rdkit_energies_not_minimized_log.txt'\n",
    "rdkit_energies_minimized_log = '/home/nobilm@usi.ch/pretrain_paper/rdkit_energies_minimized_log.txt'"
   ]
  },
  {
   "cell_type": "code",
   "execution_count": 13,
   "metadata": {},
   "outputs": [
    {
     "data": {
      "text/html": [
       "<div>\n",
       "<style scoped>\n",
       "    .dataframe tbody tr th:only-of-type {\n",
       "        vertical-align: middle;\n",
       "    }\n",
       "\n",
       "    .dataframe tbody tr th {\n",
       "        vertical-align: top;\n",
       "    }\n",
       "\n",
       "    .dataframe thead th {\n",
       "        text-align: right;\n",
       "    }\n",
       "</style>\n",
       "<table border=\"1\" class=\"dataframe\">\n",
       "  <thead>\n",
       "    <tr style=\"text-align: right;\">\n",
       "      <th></th>\n",
       "      <th>value</th>\n",
       "    </tr>\n",
       "  </thead>\n",
       "  <tbody>\n",
       "    <tr>\n",
       "      <th>count</th>\n",
       "      <td>231.000000</td>\n",
       "    </tr>\n",
       "    <tr>\n",
       "      <th>mean</th>\n",
       "      <td>172.760172</td>\n",
       "    </tr>\n",
       "    <tr>\n",
       "      <th>std</th>\n",
       "      <td>220.842568</td>\n",
       "    </tr>\n",
       "    <tr>\n",
       "      <th>min</th>\n",
       "      <td>-130.997389</td>\n",
       "    </tr>\n",
       "    <tr>\n",
       "      <th>25%</th>\n",
       "      <td>61.660095</td>\n",
       "    </tr>\n",
       "    <tr>\n",
       "      <th>50%</th>\n",
       "      <td>105.349078</td>\n",
       "    </tr>\n",
       "    <tr>\n",
       "      <th>75%</th>\n",
       "      <td>227.071797</td>\n",
       "    </tr>\n",
       "    <tr>\n",
       "      <th>max</th>\n",
       "      <td>1735.969243</td>\n",
       "    </tr>\n",
       "  </tbody>\n",
       "</table>\n",
       "</div>"
      ],
      "text/plain": [
       "            value\n",
       "count  231.000000\n",
       "mean   172.760172\n",
       "std    220.842568\n",
       "min   -130.997389\n",
       "25%     61.660095\n",
       "50%    105.349078\n",
       "75%    227.071797\n",
       "max   1735.969243"
      ]
     },
     "execution_count": 13,
     "metadata": {},
     "output_type": "execute_result"
    }
   ],
   "source": [
    "df1 = pd.read_csv(rdkit_energies_not_minimized_log, header=None, names=['value'])\n",
    "pd.options.display.float_format = '{:.6f}'.format\n",
    "df1.describe()"
   ]
  },
  {
   "cell_type": "code",
   "execution_count": 14,
   "metadata": {},
   "outputs": [
    {
     "data": {
      "text/html": [
       "<div>\n",
       "<style scoped>\n",
       "    .dataframe tbody tr th:only-of-type {\n",
       "        vertical-align: middle;\n",
       "    }\n",
       "\n",
       "    .dataframe tbody tr th {\n",
       "        vertical-align: top;\n",
       "    }\n",
       "\n",
       "    .dataframe thead th {\n",
       "        text-align: right;\n",
       "    }\n",
       "</style>\n",
       "<table border=\"1\" class=\"dataframe\">\n",
       "  <thead>\n",
       "    <tr style=\"text-align: right;\">\n",
       "      <th></th>\n",
       "      <th>value</th>\n",
       "    </tr>\n",
       "  </thead>\n",
       "  <tbody>\n",
       "    <tr>\n",
       "      <th>count</th>\n",
       "      <td>231.000000</td>\n",
       "    </tr>\n",
       "    <tr>\n",
       "      <th>mean</th>\n",
       "      <td>58.390054</td>\n",
       "    </tr>\n",
       "    <tr>\n",
       "      <th>std</th>\n",
       "      <td>101.394976</td>\n",
       "    </tr>\n",
       "    <tr>\n",
       "      <th>min</th>\n",
       "      <td>-294.884296</td>\n",
       "    </tr>\n",
       "    <tr>\n",
       "      <th>25%</th>\n",
       "      <td>17.337176</td>\n",
       "    </tr>\n",
       "    <tr>\n",
       "      <th>50%</th>\n",
       "      <td>53.868467</td>\n",
       "    </tr>\n",
       "    <tr>\n",
       "      <th>75%</th>\n",
       "      <td>96.940921</td>\n",
       "    </tr>\n",
       "    <tr>\n",
       "      <th>max</th>\n",
       "      <td>781.937709</td>\n",
       "    </tr>\n",
       "  </tbody>\n",
       "</table>\n",
       "</div>"
      ],
      "text/plain": [
       "            value\n",
       "count  231.000000\n",
       "mean    58.390054\n",
       "std    101.394976\n",
       "min   -294.884296\n",
       "25%     17.337176\n",
       "50%     53.868467\n",
       "75%     96.940921\n",
       "max    781.937709"
      ]
     },
     "execution_count": 14,
     "metadata": {},
     "output_type": "execute_result"
    }
   ],
   "source": [
    "df2 = pd.read_csv(rdkit_energies_minimized_log, header=None, names=['value'])\n",
    "pd.options.display.float_format = '{:.6f}'.format\n",
    "df2.describe()"
   ]
  },
  {
   "cell_type": "code",
   "execution_count": 15,
   "metadata": {},
   "outputs": [
    {
     "data": {
      "text/html": [
       "<div>\n",
       "<style scoped>\n",
       "    .dataframe tbody tr th:only-of-type {\n",
       "        vertical-align: middle;\n",
       "    }\n",
       "\n",
       "    .dataframe tbody tr th {\n",
       "        vertical-align: top;\n",
       "    }\n",
       "\n",
       "    .dataframe thead th {\n",
       "        text-align: right;\n",
       "    }\n",
       "</style>\n",
       "<table border=\"1\" class=\"dataframe\">\n",
       "  <thead>\n",
       "    <tr style=\"text-align: right;\">\n",
       "      <th></th>\n",
       "      <th>value</th>\n",
       "    </tr>\n",
       "  </thead>\n",
       "  <tbody>\n",
       "    <tr>\n",
       "      <th>count</th>\n",
       "      <td>231.000000</td>\n",
       "    </tr>\n",
       "    <tr>\n",
       "      <th>mean</th>\n",
       "      <td>2594.894483</td>\n",
       "    </tr>\n",
       "    <tr>\n",
       "      <th>std</th>\n",
       "      <td>27479.935427</td>\n",
       "    </tr>\n",
       "    <tr>\n",
       "      <th>min</th>\n",
       "      <td>-293.791004</td>\n",
       "    </tr>\n",
       "    <tr>\n",
       "      <th>25%</th>\n",
       "      <td>27.145629</td>\n",
       "    </tr>\n",
       "    <tr>\n",
       "      <th>50%</th>\n",
       "      <td>63.816559</td>\n",
       "    </tr>\n",
       "    <tr>\n",
       "      <th>75%</th>\n",
       "      <td>115.258420</td>\n",
       "    </tr>\n",
       "    <tr>\n",
       "      <th>max</th>\n",
       "      <td>404904.977620</td>\n",
       "    </tr>\n",
       "  </tbody>\n",
       "</table>\n",
       "</div>"
      ],
      "text/plain": [
       "              value\n",
       "count    231.000000\n",
       "mean    2594.894483\n",
       "std    27479.935427\n",
       "min     -293.791004\n",
       "25%       27.145629\n",
       "50%       63.816559\n",
       "75%      115.258420\n",
       "max   404904.977620"
      ]
     },
     "execution_count": 15,
     "metadata": {},
     "output_type": "execute_result"
    }
   ],
   "source": [
    "df3 = pd.read_csv(energies_post_frad_log, header=None, names=['value'])\n",
    "pd.options.display.float_format = '{:.6f}'.format\n",
    "df3.describe()"
   ]
  },
  {
   "cell_type": "code",
   "execution_count": 19,
   "metadata": {},
   "outputs": [
    {
     "data": {
      "image/png": "[encoded data removed]",
      "text/plain": [
       "<Figure size 1000x600 with 1 Axes>"
      ]
     },
     "metadata": {},
     "output_type": "display_data"
    }
   ],
   "source": [
    "def remove_outliers(df):\n",
    "    Q1 = df['value'].quantile(0.25)\n",
    "    Q3 = df['value'].quantile(0.75)\n",
    "    IQR = Q3 - Q1\n",
    "    lower_bound = Q1 - 1.5 * IQR\n",
    "    upper_bound = Q3 + 1.5 * IQR\n",
    "    return df[(df['value'] >= lower_bound) & (df['value'] <= upper_bound)]\n",
    "\n",
    "\n",
    "\n",
    "dfs = [remove_outliers(df1), remove_outliers(df2), remove_outliers(df3)]\n",
    "# Plot the boxplots\n",
    "plt.figure(figsize=(10, 6))  # Set the figure size\n",
    "plt.boxplot([df['value'] for df in dfs], patch_artist=True)  # Create boxplots\n",
    "\n",
    "# Set plot labels and title\n",
    "plt.xticks([1, 2, 3], ['rdkit_conformer', 'after_minimization', 'after_noise_addition'])  # Set x-axis labels\n",
    "plt.ylabel('Energy (kcal/mol)')\n",
    "plt.title('Energy levels during pipeline')\n",
    "\n",
    "# Show the plot\n",
    "plt.show()\n"
   ]
  },
  {
   "cell_type": "code",
   "execution_count": 1,
   "metadata": {},
   "outputs": [
    {
     "data": {
      "text/plain": [
       "2"
      ]
     },
     "execution_count": 1,
     "metadata": {},
     "output_type": "execute_result"
    }
   ],
   "source": [
    "from my_general_utils import get_field_from_npzs\n",
    "l = get_field_from_npzs('/storage_common/nobilm/pretrain_paper/opioid/single_smiles')\n",
    "len(l)"
   ]
  },
  {
   "cell_type": "code",
   "execution_count": 11,
   "metadata": {},
   "outputs": [
    {
     "data": {
      "text/plain": [
       "(array([[11.]], dtype=float32), array([[220.]], dtype=float32))"
      ]
     },
     "execution_count": 11,
     "metadata": {},
     "output_type": "execute_result"
    }
   ],
   "source": [
    "sum(l[i]['graph_labels'] for i in range(len(l))), len(l)-sum(l[i]['graph_labels'] for i in range(len(l)))"
   ]
  },
  {
   "cell_type": "code",
   "execution_count": 2,
   "metadata": {},
   "outputs": [
    {
     "data": {
      "text/plain": [
       "NpzFile '/storage_common/nobilm/pretrain_paper/opioid/single_smiles/fentanil_minimized.npz' with keys: coords, atom_types, graph_labels, hybridization, chirality..."
      ]
     },
     "execution_count": 2,
     "metadata": {},
     "output_type": "execute_result"
    }
   ],
   "source": [
    "l[0]"
   ]
  },
  {
   "cell_type": "markdown",
   "metadata": {},
   "source": [
    "# test new pipeline for conforme generator and energy evaluation"
   ]
  },
  {
   "cell_type": "code",
   "execution_count": 1,
   "metadata": {},
   "outputs": [],
   "source": [
    "# !pip install cdpkit\n",
    "# 1 load mols from npzs\n",
    "# 2 create 2 copies of them\n",
    "# 3 on 1 apply rdkit minimization, and then get final energies\n",
    "# 4 on the other apply new method, and then get final energies\n",
    "# 5 compare via code above\n",
    "\n",
    "\n",
    "\n",
    "# 1 load mols from npzs\n",
    "from my_general_utils import get_field_from_npzs, get_conformer, visualize_3d_mols, preprocess_mol\n",
    "from source.data_transforms._frad_transforms import get_energy, minimize_energy\n",
    "from rdkit import Chem as rdChem\n",
    "from conforge import *\n",
    "\n",
    "def f(m):\n",
    "  m = preprocess_mol(m)\n",
    "  if get_conformer(m) == None: raise ValueError(\"Mol bad conformer Id\")\n",
    "  print('Energy pre minimization: ' , get_energy(m))\n",
    "  m, en = minimize_energy(m)\n",
    "  print('Energy post minimization: ' , en)\n",
    "  return m\n",
    "\n",
    "og_smiles = get_field_from_npzs('/storage_common/nobilm/pretrain_paper/opioid/single_smiles', field='smiles')"
   ]
  },
  {
   "cell_type": "code",
   "execution_count": 2,
   "metadata": {},
   "outputs": [
    {
     "name": "stdout",
     "output_type": "stream",
     "text": [
      "Start writing ./new_conformers.sdf\n"
     ]
    },
    {
     "name": "stderr",
     "output_type": "stream",
     "text": [
      "100%|██████████| 2/2 [00:00<00:00, 98.43it/s]"
     ]
    },
    {
     "name": "stdout",
     "output_type": "stream",
     "text": [
      "Write ended ok\n"
     ]
    },
    {
     "name": "stderr",
     "output_type": "stream",
     "text": [
      "\n"
     ]
    }
   ],
   "source": [
    "sdf_file_path = './new_conformers.sdf'\n",
    "generate_conf_sdf(og_smiles, sdf_file_path)\n",
    "\n",
    "# The forcefield is not going to behave properly if you remove Hs.\n",
    "# Please try setting the SDMolSupplier to not remove Hs and then try your minimization.\n",
    "new_mols = rdChem.SDMolSupplier(sdf_file_path, removeHs=False)\n",
    "new_mol1, new_mol2 = new_mols"
   ]
  },
  {
   "cell_type": "code",
   "execution_count": 3,
   "metadata": {},
   "outputs": [],
   "source": [
    "rdkit_mols = [rdChem.MolFromSmiles(smi) for smi in og_smiles]\n",
    "rdkit_m1, rdkit_m2 = rdkit_mols"
   ]
  },
  {
   "cell_type": "code",
   "execution_count": 4,
   "metadata": {},
   "outputs": [
    {
     "name": "stdout",
     "output_type": "stream",
     "text": [
      "With rdkit conformer generator\n",
      "Energy pre minimization:  327.75048900263084\n",
      "Energy post minimization:  59.559990654321936\n",
      "\n",
      "\n",
      "Wtih new conformer generator\n",
      "Energy pre minimization:  59.17871173835183\n",
      "Energy post minimization:  53.07712007350229\n"
     ]
    }
   ],
   "source": [
    "print('With rdkit conformer generator')\n",
    "rdkit_m1 = f(rdkit_m1)\n",
    "print('\\n')\n",
    "print('Wtih new conformer generator')\n",
    "f(new_mol1);"
   ]
  },
  {
   "cell_type": "code",
   "execution_count": 5,
   "metadata": {},
   "outputs": [
    {
     "name": "stdout",
     "output_type": "stream",
     "text": [
      "With rdkit conformer generator\n"
     ]
    },
    {
     "name": "stdout",
     "output_type": "stream",
     "text": [
      "Energy pre minimization:  234.547827885911\n",
      "Energy post minimization:  101.94182906708438\n",
      "\n",
      "\n",
      "Wtih new conformer generator\n",
      "Energy pre minimization:  97.46525358605433\n",
      "Energy post minimization:  89.16362684586609\n"
     ]
    }
   ],
   "source": [
    "print('With rdkit conformer generator')\n",
    "rdkit_m2 = f(rdkit_m2)\n",
    "print('\\n')\n",
    "print('Wtih new conformer generator')\n",
    "f(new_mol2);"
   ]
  },
  {
   "cell_type": "code",
   "execution_count": 6,
   "metadata": {},
   "outputs": [
    {
     "name": "stdout",
     "output_type": "stream",
     "text": [
      "With rdkit conformer generator\n"
     ]
    },
    {
     "data": {
      "application/3dmoljs_load.v0": "<div id=\"3dmolviewer_17332430347185516\"  style=\"position: relative; width: 1200px; height: 400px;\">\n        <p id=\"3dmolwarning_17332430347185516\" style=\"background-color:#ffcccc;color:black\">3Dmol.js failed to load for some reason.  Please check your browser console for error messages.<br></p>\n        </div>\n<script>\n\nvar loadScriptAsync = function(uri){\n  return new Promise((resolve, reject) => {\n    //this is to ignore the existence of requirejs amd\n    var savedexports, savedmodule;\n    if (typeof exports !== 'undefined') savedexports = exports;\n    else exports = {}\n    if (typeof module !== 'undefined') savedmodule = module;\n    else module = {}\n\n    var tag = document.createElement('script');\n    tag.src = uri;\n    tag.async = true;\n    tag.onload = () => {\n        exports = savedexports;\n        module = savedmodule;\n        resolve();\n    };\n  var firstScriptTag = document.getElementsByTagName('script')[0];\n  firstScriptTag.parentNode.insertBefore(tag, firstScriptTag);\n});\n};\n\nif(typeof $3Dmolpromise === 'undefined') {\n$3Dmolpromise = null;\n  $3Dmolpromise = loadScriptAsync('https://cdnjs.cloudflare.com/ajax/libs/3Dmol/2.4.0/3Dmol-min.js');\n}\n\nvar viewer_17332430347185516 = null;\nvar warn = document.getElementById(\"3dmolwarning_17332430347185516\");\nif(warn) {\n    warn.parentNode.removeChild(warn);\n}\n$3Dmolpromise.then(function() {\nvar viewergrid_17332430347185516 = null;\nviewergrid_17332430347185516 = $3Dmol.createViewerGrid(document.getElementById(\"3dmolviewer_17332430347185516\"),{rows: 1, cols: 3, control_all: true},{backgroundColor:\"white\"});\nviewer_17332430347185516 = viewergrid_17332430347185516[0][0];\nviewergrid_17332430347185516[0][0].zoomTo();viewergrid_17332430347185516[0][1].zoomTo();viewergrid_17332430347185516[0][2].zoomTo();\tviewergrid_17332430347185516[0][0].removeAllModels();\n\tviewergrid_17332430347185516[0][0].addModel(\"\\n     RDKit          3D\\n\\n 53 55  0  0  0  0  0  0  0  0999 V2000\\n   -1.6234    3.1571    2.3048 C   0  0  0  0  0  0  0  0  0  0  0  0\\n   -0.5669    3.1442    3.2065 C   0  0  0  0  0  0  0  0  0  0  0  0\\n    0.3531    2.0897    3.1937 C   0  0  0  0  0  0  0  0  0  0  0  0\\n    0.2423    1.0233    2.2847 C   0  0  0  0  0  0  0  0  0  0  0  0\\n    1.2273   -0.0380    2.2878 N   0  0  0  0  0  0  0  0  0  0  0  0\\n    1.7313   -0.4801    3.5368 C   0  0  0  0  0  0  0  0  0  0  0  0\\n    1.2736   -0.1282    4.6271 O   0  0  0  0  0  0  0  0  0  0  0  0\\n    2.9064   -1.4549    3.5059 C   0  0  0  0  0  0  0  0  0  0  0  0\\n    3.3988   -1.8227    4.8984 C   0  0  0  0  0  0  0  0  0  0  0  0\\n    1.5887   -0.7279    1.0186 C   0  0  0  0  0  0  0  0  0  0  0  0\\n    0.7120   -1.9549    0.7222 C   0  0  0  0  0  0  0  0  0  0  0  0\\n    1.1899   -2.6645   -0.5468 C   0  0  0  0  0  0  0  0  0  0  0  0\\n    1.3144   -1.7863   -1.7174 N   0  0  0  0  0  0  0  0  0  0  0  0\\n    0.0249   -1.3346   -2.2750 C   0  0  0  0  0  0  0  0  0  0  0  0\\n   -0.7995   -2.4664   -2.9126 C   0  0  0  0  0  0  0  0  0  0  0  0\\n   -2.0617   -1.9340   -3.5506 C   0  0  0  0  0  0  0  0  0  0  0  0\\n   -2.0650   -1.5359   -4.8940 C   0  0  0  0  0  0  0  0  0  0  0  0\\n   -3.2252   -1.0229   -5.4758 C   0  0  0  0  0  0  0  0  0  0  0  0\\n   -4.3898   -0.8998   -4.7201 C   0  0  0  0  0  0  0  0  0  0  0  0\\n   -4.3957   -1.2886   -3.3818 C   0  0  0  0  0  0  0  0  0  0  0  0\\n   -3.2366   -1.8017   -2.7978 C   0  0  0  0  0  0  0  0  0  0  0  0\\n    2.2077   -0.6539   -1.4242 C   0  0  0  0  0  0  0  0  0  0  0  0\\n    1.7749    0.1770   -0.2130 C   0  0  0  0  0  0  0  0  0  0  0  0\\n   -0.8326    1.0619    1.3867 C   0  0  0  0  0  0  0  0  0  0  0  0\\n   -1.7566    2.1152    1.3949 C   0  0  0  0  0  0  0  0  0  0  0  0\\n   -2.3412    3.9726    2.3146 H   0  0  0  0  0  0  0  0  0  0  0  0\\n   -0.4508    3.9515    3.9249 H   0  0  0  0  0  0  0  0  0  0  0  0\\n    1.1764    2.1334    3.9031 H   0  0  0  0  0  0  0  0  0  0  0  0\\n    2.6031   -2.3751    2.9984 H   0  0  0  0  0  0  0  0  0  0  0  0\\n    3.7353   -0.9889    2.9626 H   0  0  0  0  0  0  0  0  0  0  0  0\\n    2.6082   -2.3082    5.4801 H   0  0  0  0  0  0  0  0  0  0  0  0\\n    3.7246   -0.9336    5.4484 H   0  0  0  0  0  0  0  0  0  0  0  0\\n    4.2459   -2.5125    4.8320 H   0  0  0  0  0  0  0  0  0  0  0  0\\n    2.5946   -1.1315    1.1716 H   0  0  0  0  0  0  0  0  0  0  0  0\\n    0.7560   -2.6586    1.5620 H   0  0  0  0  0  0  0  0  0  0  0  0\\n   -0.3427   -1.6893    0.6195 H   0  0  0  0  0  0  0  0  0  0  0  0\\n    2.1746   -3.1094   -0.3495 H   0  0  0  0  0  0  0  0  0  0  0  0\\n    0.5395   -3.5193   -0.7588 H   0  0  0  0  0  0  0  0  0  0  0  0\\n   -0.5791   -0.8163   -1.5213 H   0  0  0  0  0  0  0  0  0  0  0  0\\n    0.2267   -0.5952   -3.0620 H   0  0  0  0  0  0  0  0  0  0  0  0\\n   -1.0804   -3.2210   -2.1692 H   0  0  0  0  0  0  0  0  0  0  0  0\\n   -0.2011   -2.9903   -3.6691 H   0  0  0  0  0  0  0  0  0  0  0  0\\n   -1.1626   -1.6235   -5.4952 H   0  0  0  0  0  0  0  0  0  0  0  0\\n   -3.2202   -0.7191   -6.5193 H   0  0  0  0  0  0  0  0  0  0  0  0\\n   -5.2930   -0.5013   -5.1746 H   0  0  0  0  0  0  0  0  0  0  0  0\\n   -5.3041   -1.1929   -2.7928 H   0  0  0  0  0  0  0  0  0  0  0  0\\n   -3.2569   -2.1001   -1.7521 H   0  0  0  0  0  0  0  0  0  0  0  0\\n    2.3018   -0.0050   -2.3037 H   0  0  0  0  0  0  0  0  0  0  0  0\\n    3.2182   -1.0457   -1.2480 H   0  0  0  0  0  0  0  0  0  0  0  0\\n    0.8702    0.7282   -0.4760 H   0  0  0  0  0  0  0  0  0  0  0  0\\n    2.5405    0.9331    0.0012 H   0  0  0  0  0  0  0  0  0  0  0  0\\n   -1.0087    0.2684    0.6730 H   0  0  0  0  0  0  0  0  0  0  0  0\\n   -2.5852    2.1127    0.6911 H   0  0  0  0  0  0  0  0  0  0  0  0\\n  1  2  2  0\\n  2  3  1  0\\n  3  4  2  0\\n  4  5  1  0\\n  5  6  1  0\\n  6  7  2  0\\n  6  8  1  0\\n  8  9  1  0\\n  5 10  1  0\\n 10 11  1  0\\n 11 12  1  0\\n 12 13  1  0\\n 13 14  1  0\\n 14 15  1  0\\n 15 16  1  0\\n 16 17  2  0\\n 17 18  1  0\\n 18 19  2  0\\n 19 20  1  0\\n 20 21  2  0\\n 13 22  1  0\\n 22 23  1  0\\n  4 24  1  0\\n 24 25  2  0\\n 25  1  1  0\\n 23 10  1  0\\n 21 16  1  0\\n  1 26  1  0\\n  2 27  1  0\\n  3 28  1  0\\n  8 29  1  0\\n  8 30  1  0\\n  9 31  1  0\\n  9 32  1  0\\n  9 33  1  0\\n 10 34  1  0\\n 11 35  1  0\\n 11 36  1  0\\n 12 37  1  0\\n 12 38  1  0\\n 14 39  1  0\\n 14 40  1  0\\n 15 41  1  0\\n 15 42  1  0\\n 17 43  1  0\\n 18 44  1  0\\n 19 45  1  0\\n 20 46  1  0\\n 21 47  1  0\\n 22 48  1  0\\n 22 49  1  0\\n 23 50  1  0\\n 23 51  1  0\\n 24 52  1  0\\n 25 53  1  0\\nM  END\\n\",\"sdf\");\n\tviewergrid_17332430347185516[0][0].setStyle({\"stick\": {}});\n\tviewergrid_17332430347185516[0][1].removeAllModels();\n\tviewergrid_17332430347185516[0][1].addModel(\"\\n     RDKit          3D\\n\\n 45 49  0  0  0  0  0  0  0  0999 V2000\\n    0.2702    5.4154   -1.4878 O   0  0  0  0  0  0  0  0  0  0  0  0\\n    0.2668    4.0655   -1.6492 C   0  0  0  0  0  0  0  0  0  0  0  0\\n    0.2508    3.5212   -2.9345 C   0  0  0  0  0  0  0  0  0  0  0  0\\n    0.1700    2.1243   -3.1207 C   0  0  0  0  0  0  0  0  0  0  0  0\\n    0.1445    1.2682   -2.0175 C   0  0  0  0  0  0  0  0  0  0  0  0\\n    0.2500    1.8540   -0.7658 C   0  0  0  0  0  0  0  0  0  0  0  0\\n    0.2440    3.2136   -0.5702 C   0  0  0  0  0  0  0  0  0  0  0  0\\n    0.1343    3.5660    0.7488 O   0  0  0  0  0  0  0  0  0  0  0  0\\n   -0.1517    2.3124    1.4443 C   0  0  1  0  0  0  0  0  0  0  0  0\\n   -1.6135    2.2554    1.8794 C   0  0  0  0  0  0  0  0  0  0  0  0\\n   -1.9788    2.7324    2.9576 O   0  0  0  0  0  0  0  0  0  0  0  0\\n   -2.6321    1.7203    0.8972 C   0  0  0  0  0  0  0  0  0  0  0  0\\n   -2.2053    0.4662    0.1303 C   0  0  0  0  0  0  0  0  0  0  0  0\\n   -0.7649   -0.0103    0.4219 C   0  0  2  0  0  0  0  0  0  0  0  0\\n   -0.8459   -0.6703    1.6924 O   0  0  0  0  0  0  0  0  0  0  0  0\\n    0.2382    1.1394    0.5361 C   0  0  1  0  0  0  0  0  0  0  0  0\\n    1.6448    0.6049    0.8885 C   0  0  0  0  0  0  0  0  0  0  0  0\\n    2.1375   -0.4721   -0.0870 C   0  0  0  0  0  0  0  0  0  0  0  0\\n    1.1520   -1.5217   -0.3956 N   0  0  0  0  0  0  0  0  0  0  0  0\\n    1.1933   -2.5858    0.6144 C   0  0  0  0  0  0  0  0  0  0  0  0\\n    0.3367   -3.7664    0.2557 C   0  0  0  0  0  0  0  0  0  0  0  0\\n   -0.5652   -4.3311    1.0701 C   0  0  0  0  0  0  0  0  0  0  0  0\\n   -0.1953   -0.9581   -0.7058 C   0  0  2  0  0  0  0  0  0  0  0  0\\n   -0.1168   -0.2193   -2.1040 C   0  0  0  0  0  0  0  0  0  0  0  0\\n    0.2698    5.5743   -0.5246 H   0  0  0  0  0  0  0  0  0  0  0  0\\n    0.2613    4.1826   -3.7972 H   0  0  0  0  0  0  0  0  0  0  0  0\\n    0.0990    1.7258   -4.1304 H   0  0  0  0  0  0  0  0  0  0  0  0\\n    0.4453    2.3077    2.3652 H   0  0  0  0  0  0  0  0  0  0  0  0\\n   -3.5576    1.5082    1.4454 H   0  0  0  0  0  0  0  0  0  0  0  0\\n   -2.8585    2.5282    0.1915 H   0  0  0  0  0  0  0  0  0  0  0  0\\n   -2.3680    0.6608   -0.9351 H   0  0  0  0  0  0  0  0  0  0  0  0\\n   -2.9080   -0.3415    0.3772 H   0  0  0  0  0  0  0  0  0  0  0  0\\n   -1.2571   -1.5418    1.5423 H   0  0  0  0  0  0  0  0  0  0  0  0\\n    2.3785    1.4221    0.8994 H   0  0  0  0  0  0  0  0  0  0  0  0\\n    1.6339    0.1892    1.9044 H   0  0  0  0  0  0  0  0  0  0  0  0\\n    3.0670   -0.9104    0.2990 H   0  0  0  0  0  0  0  0  0  0  0  0\\n    2.4429    0.0045   -1.0265 H   0  0  0  0  0  0  0  0  0  0  0  0\\n    2.2201   -2.9726    0.6651 H   0  0  0  0  0  0  0  0  0  0  0  0\\n    0.9658   -2.2192    1.6200 H   0  0  0  0  0  0  0  0  0  0  0  0\\n    0.4923   -4.1885   -0.7352 H   0  0  0  0  0  0  0  0  0  0  0  0\\n   -1.1388   -5.1944    0.7454 H   0  0  0  0  0  0  0  0  0  0  0  0\\n   -0.7372   -3.9654    2.0777 H   0  0  0  0  0  0  0  0  0  0  0  0\\n   -0.8887   -1.7957   -0.8466 H   0  0  0  0  0  0  0  0  0  0  0  0\\n   -1.0837   -0.3556   -2.6062 H   0  0  0  0  0  0  0  0  0  0  0  0\\n    0.6355   -0.6911   -2.7486 H   0  0  0  0  0  0  0  0  0  0  0  0\\n  1  2  1  0\\n  2  3  2  0\\n  3  4  1  0\\n  4  5  2  0\\n  5  6  1  0\\n  6  7  2  0\\n  7  8  1  0\\n  8  9  1  0\\n  9 10  1  0\\n 10 11  2  0\\n 10 12  1  0\\n 12 13  1  0\\n 13 14  1  0\\n 14 15  1  1\\n 14 16  1  0\\n 16 17  1  1\\n 17 18  1  0\\n 18 19  1  0\\n 19 20  1  0\\n 20 21  1  0\\n 21 22  2  0\\n 19 23  1  0\\n 23 24  1  0\\n  7  2  1  0\\n 16  9  1  0\\n 24  5  1  0\\n 16  6  1  0\\n 23 14  1  0\\n  1 25  1  0\\n  3 26  1  0\\n  4 27  1  0\\n  9 28  1  1\\n 12 29  1  0\\n 12 30  1  0\\n 13 31  1  0\\n 13 32  1  0\\n 15 33  1  0\\n 17 34  1  0\\n 17 35  1  0\\n 18 36  1  0\\n 18 37  1  0\\n 20 38  1  0\\n 20 39  1  0\\n 21 40  1  0\\n 22 41  1  0\\n 22 42  1  0\\n 23 43  1  6\\n 24 44  1  0\\n 24 45  1  0\\nM  END\\n\",\"sdf\");\n\tviewergrid_17332430347185516[0][1].setStyle({\"stick\": {}});\n\tviewergrid_17332430347185516[0][0].zoomTo();\n\tviewergrid_17332430347185516[0][1].zoomTo();\n\tviewergrid_17332430347185516[0][2].zoomTo();\nviewergrid_17332430347185516[0][2].render();\nviewergrid_17332430347185516[0][1].render();\nviewergrid_17332430347185516[0][0].render();\n});\n</script>",
      "text/html": [
       "<div id=\"3dmolviewer_17332430347185516\"  style=\"position: relative; width: 1200px; height: 400px;\">\n",
       "        <p id=\"3dmolwarning_17332430347185516\" style=\"background-color:#ffcccc;color:black\">3Dmol.js failed to load for some reason.  Please check your browser console for error messages.<br></p>\n",
       "        </div>\n",
       "<script>\n",
       "\n",
       "var loadScriptAsync = function(uri){\n",
       "  return new Promise((resolve, reject) => {\n",
       "    //this is to ignore the existence of requirejs amd\n",
       "    var savedexports, savedmodule;\n",
       "    if (typeof exports !== 'undefined') savedexports = exports;\n",
       "    else exports = {}\n",
       "    if (typeof module !== 'undefined') savedmodule = module;\n",
       "    else module = {}\n",
       "\n",
       "    var tag = document.createElement('script');\n",
       "    tag.src = uri;\n",
       "    tag.async = true;\n",
       "    tag.onload = () => {\n",
       "        exports = savedexports;\n",
       "        module = savedmodule;\n",
       "        resolve();\n",
       "    };\n",
       "  var firstScriptTag = document.getElementsByTagName('script')[0];\n",
       "  firstScriptTag.parentNode.insertBefore(tag, firstScriptTag);\n",
       "});\n",
       "};\n",
       "\n",
       "if(typeof $3Dmolpromise === 'undefined') {\n",
       "$3Dmolpromise = null;\n",
       "  $3Dmolpromise = loadScriptAsync('https://cdnjs.cloudflare.com/ajax/libs/3Dmol/2.4.0/3Dmol-min.js');\n",
       "}\n",
       "\n",
       "var viewer_17332430347185516 = null;\n",
       "var warn = document.getElementById(\"3dmolwarning_17332430347185516\");\n",
       "if(warn) {\n",
       "    warn.parentNode.removeChild(warn);\n",
       "}\n",
       "$3Dmolpromise.then(function() {\n",
       "var viewergrid_17332430347185516 = null;\n",
       "viewergrid_17332430347185516 = $3Dmol.createViewerGrid(document.getElementById(\"3dmolviewer_17332430347185516\"),{rows: 1, cols: 3, control_all: true},{backgroundColor:\"white\"});\n",
       "viewer_17332430347185516 = viewergrid_17332430347185516[0][0];\n",
       "viewergrid_17332430347185516[0][0].zoomTo();viewergrid_17332430347185516[0][1].zoomTo();viewergrid_17332430347185516[0][2].zoomTo();\tviewergrid_17332430347185516[0][0].removeAllModels();\n",
       "\tviewergrid_17332430347185516[0][0].addModel(\"\\n     RDKit          3D\\n\\n 53 55  0  0  0  0  0  0  0  0999 V2000\\n   -1.6234    3.1571    2.3048 C   0  0  0  0  0  0  0  0  0  0  0  0\\n   -0.5669    3.1442    3.2065 C   0  0  0  0  0  0  0  0  0  0  0  0\\n    0.3531    2.0897    3.1937 C   0  0  0  0  0  0  0  0  0  0  0  0\\n    0.2423    1.0233    2.2847 C   0  0  0  0  0  0  0  0  0  0  0  0\\n    1.2273   -0.0380    2.2878 N   0  0  0  0  0  0  0  0  0  0  0  0\\n    1.7313   -0.4801    3.5368 C   0  0  0  0  0  0  0  0  0  0  0  0\\n    1.2736   -0.1282    4.6271 O   0  0  0  0  0  0  0  0  0  0  0  0\\n    2.9064   -1.4549    3.5059 C   0  0  0  0  0  0  0  0  0  0  0  0\\n    3.3988   -1.8227    4.8984 C   0  0  0  0  0  0  0  0  0  0  0  0\\n    1.5887   -0.7279    1.0186 C   0  0  0  0  0  0  0  0  0  0  0  0\\n    0.7120   -1.9549    0.7222 C   0  0  0  0  0  0  0  0  0  0  0  0\\n    1.1899   -2.6645   -0.5468 C   0  0  0  0  0  0  0  0  0  0  0  0\\n    1.3144   -1.7863   -1.7174 N   0  0  0  0  0  0  0  0  0  0  0  0\\n    0.0249   -1.3346   -2.2750 C   0  0  0  0  0  0  0  0  0  0  0  0\\n   -0.7995   -2.4664   -2.9126 C   0  0  0  0  0  0  0  0  0  0  0  0\\n   -2.0617   -1.9340   -3.5506 C   0  0  0  0  0  0  0  0  0  0  0  0\\n   -2.0650   -1.5359   -4.8940 C   0  0  0  0  0  0  0  0  0  0  0  0\\n   -3.2252   -1.0229   -5.4758 C   0  0  0  0  0  0  0  0  0  0  0  0\\n   -4.3898   -0.8998   -4.7201 C   0  0  0  0  0  0  0  0  0  0  0  0\\n   -4.3957   -1.2886   -3.3818 C   0  0  0  0  0  0  0  0  0  0  0  0\\n   -3.2366   -1.8017   -2.7978 C   0  0  0  0  0  0  0  0  0  0  0  0\\n    2.2077   -0.6539   -1.4242 C   0  0  0  0  0  0  0  0  0  0  0  0\\n    1.7749    0.1770   -0.2130 C   0  0  0  0  0  0  0  0  0  0  0  0\\n   -0.8326    1.0619    1.3867 C   0  0  0  0  0  0  0  0  0  0  0  0\\n   -1.7566    2.1152    1.3949 C   0  0  0  0  0  0  0  0  0  0  0  0\\n   -2.3412    3.9726    2.3146 H   0  0  0  0  0  0  0  0  0  0  0  0\\n   -0.4508    3.9515    3.9249 H   0  0  0  0  0  0  0  0  0  0  0  0\\n    1.1764    2.1334    3.9031 H   0  0  0  0  0  0  0  0  0  0  0  0\\n    2.6031   -2.3751    2.9984 H   0  0  0  0  0  0  0  0  0  0  0  0\\n    3.7353   -0.9889    2.9626 H   0  0  0  0  0  0  0  0  0  0  0  0\\n    2.6082   -2.3082    5.4801 H   0  0  0  0  0  0  0  0  0  0  0  0\\n    3.7246   -0.9336    5.4484 H   0  0  0  0  0  0  0  0  0  0  0  0\\n    4.2459   -2.5125    4.8320 H   0  0  0  0  0  0  0  0  0  0  0  0\\n    2.5946   -1.1315    1.1716 H   0  0  0  0  0  0  0  0  0  0  0  0\\n    0.7560   -2.6586    1.5620 H   0  0  0  0  0  0  0  0  0  0  0  0\\n   -0.3427   -1.6893    0.6195 H   0  0  0  0  0  0  0  0  0  0  0  0\\n    2.1746   -3.1094   -0.3495 H   0  0  0  0  0  0  0  0  0  0  0  0\\n    0.5395   -3.5193   -0.7588 H   0  0  0  0  0  0  0  0  0  0  0  0\\n   -0.5791   -0.8163   -1.5213 H   0  0  0  0  0  0  0  0  0  0  0  0\\n    0.2267   -0.5952   -3.0620 H   0  0  0  0  0  0  0  0  0  0  0  0\\n   -1.0804   -3.2210   -2.1692 H   0  0  0  0  0  0  0  0  0  0  0  0\\n   -0.2011   -2.9903   -3.6691 H   0  0  0  0  0  0  0  0  0  0  0  0\\n   -1.1626   -1.6235   -5.4952 H   0  0  0  0  0  0  0  0  0  0  0  0\\n   -3.2202   -0.7191   -6.5193 H   0  0  0  0  0  0  0  0  0  0  0  0\\n   -5.2930   -0.5013   -5.1746 H   0  0  0  0  0  0  0  0  0  0  0  0\\n   -5.3041   -1.1929   -2.7928 H   0  0  0  0  0  0  0  0  0  0  0  0\\n   -3.2569   -2.1001   -1.7521 H   0  0  0  0  0  0  0  0  0  0  0  0\\n    2.3018   -0.0050   -2.3037 H   0  0  0  0  0  0  0  0  0  0  0  0\\n    3.2182   -1.0457   -1.2480 H   0  0  0  0  0  0  0  0  0  0  0  0\\n    0.8702    0.7282   -0.4760 H   0  0  0  0  0  0  0  0  0  0  0  0\\n    2.5405    0.9331    0.0012 H   0  0  0  0  0  0  0  0  0  0  0  0\\n   -1.0087    0.2684    0.6730 H   0  0  0  0  0  0  0  0  0  0  0  0\\n   -2.5852    2.1127    0.6911 H   0  0  0  0  0  0  0  0  0  0  0  0\\n  1  2  2  0\\n  2  3  1  0\\n  3  4  2  0\\n  4  5  1  0\\n  5  6  1  0\\n  6  7  2  0\\n  6  8  1  0\\n  8  9  1  0\\n  5 10  1  0\\n 10 11  1  0\\n 11 12  1  0\\n 12 13  1  0\\n 13 14  1  0\\n 14 15  1  0\\n 15 16  1  0\\n 16 17  2  0\\n 17 18  1  0\\n 18 19  2  0\\n 19 20  1  0\\n 20 21  2  0\\n 13 22  1  0\\n 22 23  1  0\\n  4 24  1  0\\n 24 25  2  0\\n 25  1  1  0\\n 23 10  1  0\\n 21 16  1  0\\n  1 26  1  0\\n  2 27  1  0\\n  3 28  1  0\\n  8 29  1  0\\n  8 30  1  0\\n  9 31  1  0\\n  9 32  1  0\\n  9 33  1  0\\n 10 34  1  0\\n 11 35  1  0\\n 11 36  1  0\\n 12 37  1  0\\n 12 38  1  0\\n 14 39  1  0\\n 14 40  1  0\\n 15 41  1  0\\n 15 42  1  0\\n 17 43  1  0\\n 18 44  1  0\\n 19 45  1  0\\n 20 46  1  0\\n 21 47  1  0\\n 22 48  1  0\\n 22 49  1  0\\n 23 50  1  0\\n 23 51  1  0\\n 24 52  1  0\\n 25 53  1  0\\nM  END\\n\",\"sdf\");\n",
       "\tviewergrid_17332430347185516[0][0].setStyle({\"stick\": {}});\n",
       "\tviewergrid_17332430347185516[0][1].removeAllModels();\n",
       "\tviewergrid_17332430347185516[0][1].addModel(\"\\n     RDKit          3D\\n\\n 45 49  0  0  0  0  0  0  0  0999 V2000\\n    0.2702    5.4154   -1.4878 O   0  0  0  0  0  0  0  0  0  0  0  0\\n    0.2668    4.0655   -1.6492 C   0  0  0  0  0  0  0  0  0  0  0  0\\n    0.2508    3.5212   -2.9345 C   0  0  0  0  0  0  0  0  0  0  0  0\\n    0.1700    2.1243   -3.1207 C   0  0  0  0  0  0  0  0  0  0  0  0\\n    0.1445    1.2682   -2.0175 C   0  0  0  0  0  0  0  0  0  0  0  0\\n    0.2500    1.8540   -0.7658 C   0  0  0  0  0  0  0  0  0  0  0  0\\n    0.2440    3.2136   -0.5702 C   0  0  0  0  0  0  0  0  0  0  0  0\\n    0.1343    3.5660    0.7488 O   0  0  0  0  0  0  0  0  0  0  0  0\\n   -0.1517    2.3124    1.4443 C   0  0  1  0  0  0  0  0  0  0  0  0\\n   -1.6135    2.2554    1.8794 C   0  0  0  0  0  0  0  0  0  0  0  0\\n   -1.9788    2.7324    2.9576 O   0  0  0  0  0  0  0  0  0  0  0  0\\n   -2.6321    1.7203    0.8972 C   0  0  0  0  0  0  0  0  0  0  0  0\\n   -2.2053    0.4662    0.1303 C   0  0  0  0  0  0  0  0  0  0  0  0\\n   -0.7649   -0.0103    0.4219 C   0  0  2  0  0  0  0  0  0  0  0  0\\n   -0.8459   -0.6703    1.6924 O   0  0  0  0  0  0  0  0  0  0  0  0\\n    0.2382    1.1394    0.5361 C   0  0  1  0  0  0  0  0  0  0  0  0\\n    1.6448    0.6049    0.8885 C   0  0  0  0  0  0  0  0  0  0  0  0\\n    2.1375   -0.4721   -0.0870 C   0  0  0  0  0  0  0  0  0  0  0  0\\n    1.1520   -1.5217   -0.3956 N   0  0  0  0  0  0  0  0  0  0  0  0\\n    1.1933   -2.5858    0.6144 C   0  0  0  0  0  0  0  0  0  0  0  0\\n    0.3367   -3.7664    0.2557 C   0  0  0  0  0  0  0  0  0  0  0  0\\n   -0.5652   -4.3311    1.0701 C   0  0  0  0  0  0  0  0  0  0  0  0\\n   -0.1953   -0.9581   -0.7058 C   0  0  2  0  0  0  0  0  0  0  0  0\\n   -0.1168   -0.2193   -2.1040 C   0  0  0  0  0  0  0  0  0  0  0  0\\n    0.2698    5.5743   -0.5246 H   0  0  0  0  0  0  0  0  0  0  0  0\\n    0.2613    4.1826   -3.7972 H   0  0  0  0  0  0  0  0  0  0  0  0\\n    0.0990    1.7258   -4.1304 H   0  0  0  0  0  0  0  0  0  0  0  0\\n    0.4453    2.3077    2.3652 H   0  0  0  0  0  0  0  0  0  0  0  0\\n   -3.5576    1.5082    1.4454 H   0  0  0  0  0  0  0  0  0  0  0  0\\n   -2.8585    2.5282    0.1915 H   0  0  0  0  0  0  0  0  0  0  0  0\\n   -2.3680    0.6608   -0.9351 H   0  0  0  0  0  0  0  0  0  0  0  0\\n   -2.9080   -0.3415    0.3772 H   0  0  0  0  0  0  0  0  0  0  0  0\\n   -1.2571   -1.5418    1.5423 H   0  0  0  0  0  0  0  0  0  0  0  0\\n    2.3785    1.4221    0.8994 H   0  0  0  0  0  0  0  0  0  0  0  0\\n    1.6339    0.1892    1.9044 H   0  0  0  0  0  0  0  0  0  0  0  0\\n    3.0670   -0.9104    0.2990 H   0  0  0  0  0  0  0  0  0  0  0  0\\n    2.4429    0.0045   -1.0265 H   0  0  0  0  0  0  0  0  0  0  0  0\\n    2.2201   -2.9726    0.6651 H   0  0  0  0  0  0  0  0  0  0  0  0\\n    0.9658   -2.2192    1.6200 H   0  0  0  0  0  0  0  0  0  0  0  0\\n    0.4923   -4.1885   -0.7352 H   0  0  0  0  0  0  0  0  0  0  0  0\\n   -1.1388   -5.1944    0.7454 H   0  0  0  0  0  0  0  0  0  0  0  0\\n   -0.7372   -3.9654    2.0777 H   0  0  0  0  0  0  0  0  0  0  0  0\\n   -0.8887   -1.7957   -0.8466 H   0  0  0  0  0  0  0  0  0  0  0  0\\n   -1.0837   -0.3556   -2.6062 H   0  0  0  0  0  0  0  0  0  0  0  0\\n    0.6355   -0.6911   -2.7486 H   0  0  0  0  0  0  0  0  0  0  0  0\\n  1  2  1  0\\n  2  3  2  0\\n  3  4  1  0\\n  4  5  2  0\\n  5  6  1  0\\n  6  7  2  0\\n  7  8  1  0\\n  8  9  1  0\\n  9 10  1  0\\n 10 11  2  0\\n 10 12  1  0\\n 12 13  1  0\\n 13 14  1  0\\n 14 15  1  1\\n 14 16  1  0\\n 16 17  1  1\\n 17 18  1  0\\n 18 19  1  0\\n 19 20  1  0\\n 20 21  1  0\\n 21 22  2  0\\n 19 23  1  0\\n 23 24  1  0\\n  7  2  1  0\\n 16  9  1  0\\n 24  5  1  0\\n 16  6  1  0\\n 23 14  1  0\\n  1 25  1  0\\n  3 26  1  0\\n  4 27  1  0\\n  9 28  1  1\\n 12 29  1  0\\n 12 30  1  0\\n 13 31  1  0\\n 13 32  1  0\\n 15 33  1  0\\n 17 34  1  0\\n 17 35  1  0\\n 18 36  1  0\\n 18 37  1  0\\n 20 38  1  0\\n 20 39  1  0\\n 21 40  1  0\\n 22 41  1  0\\n 22 42  1  0\\n 23 43  1  6\\n 24 44  1  0\\n 24 45  1  0\\nM  END\\n\",\"sdf\");\n",
       "\tviewergrid_17332430347185516[0][1].setStyle({\"stick\": {}});\n",
       "\tviewergrid_17332430347185516[0][0].zoomTo();\n",
       "\tviewergrid_17332430347185516[0][1].zoomTo();\n",
       "\tviewergrid_17332430347185516[0][2].zoomTo();\n",
       "viewergrid_17332430347185516[0][2].render();\n",
       "viewergrid_17332430347185516[0][1].render();\n",
       "viewergrid_17332430347185516[0][0].render();\n",
       "});\n",
       "</script>"
      ]
     },
     "metadata": {},
     "output_type": "display_data"
    }
   ],
   "source": [
    "print('With rdkit conformer generator')\n",
    "visualize_3d_mols([rdkit_m1, rdkit_m2])"
   ]
  },
  {
   "cell_type": "code",
   "execution_count": 7,
   "metadata": {},
   "outputs": [
    {
     "name": "stdout",
     "output_type": "stream",
     "text": [
      "Wtih new conformer generator\n"
     ]
    },
    {
     "data": {
      "application/3dmoljs_load.v0": "<div id=\"3dmolviewer_17332430347266045\"  style=\"position: relative; width: 1200px; height: 400px;\">\n        <p id=\"3dmolwarning_17332430347266045\" style=\"background-color:#ffcccc;color:black\">3Dmol.js failed to load for some reason.  Please check your browser console for error messages.<br></p>\n        </div>\n<script>\n\nvar loadScriptAsync = function(uri){\n  return new Promise((resolve, reject) => {\n    //this is to ignore the existence of requirejs amd\n    var savedexports, savedmodule;\n    if (typeof exports !== 'undefined') savedexports = exports;\n    else exports = {}\n    if (typeof module !== 'undefined') savedmodule = module;\n    else module = {}\n\n    var tag = document.createElement('script');\n    tag.src = uri;\n    tag.async = true;\n    tag.onload = () => {\n        exports = savedexports;\n        module = savedmodule;\n        resolve();\n    };\n  var firstScriptTag = document.getElementsByTagName('script')[0];\n  firstScriptTag.parentNode.insertBefore(tag, firstScriptTag);\n});\n};\n\nif(typeof $3Dmolpromise === 'undefined') {\n$3Dmolpromise = null;\n  $3Dmolpromise = loadScriptAsync('https://cdnjs.cloudflare.com/ajax/libs/3Dmol/2.4.0/3Dmol-min.js');\n}\n\nvar viewer_17332430347266045 = null;\nvar warn = document.getElementById(\"3dmolwarning_17332430347266045\");\nif(warn) {\n    warn.parentNode.removeChild(warn);\n}\n$3Dmolpromise.then(function() {\nvar viewergrid_17332430347266045 = null;\nviewergrid_17332430347266045 = $3Dmol.createViewerGrid(document.getElementById(\"3dmolviewer_17332430347266045\"),{rows: 1, cols: 3, control_all: true},{backgroundColor:\"white\"});\nviewer_17332430347266045 = viewergrid_17332430347266045[0][0];\nviewergrid_17332430347266045[0][0].zoomTo();viewergrid_17332430347266045[0][1].zoomTo();viewergrid_17332430347266045[0][2].zoomTo();\tviewergrid_17332430347266045[0][0].removeAllModels();\n\tviewergrid_17332430347266045[0][0].addModel(\"\\n     RDKit          3D\\n\\n 53 55  0  0  0  0  0  0  0  0999 V2000\\n   10.4379    0.2231    2.9642 H   0  0  0  0  0  0  0  0  0  0  0  0\\n    9.8733   -0.2686    2.1792 C   0  0  0  0  0  0  0  0  0  0  0  0\\n    9.7544   -1.6577    2.1517 C   0  0  0  0  0  0  0  0  0  0  0  0\\n   10.2338   -2.2575    2.9218 H   0  0  0  0  0  0  0  0  0  0  0  0\\n    9.0215   -2.2659    1.1234 C   0  0  0  0  0  0  0  0  0  0  0  0\\n    8.9450   -3.3525    1.1146 H   0  0  0  0  0  0  0  0  0  0  0  0\\n    8.3777   -1.5449    0.0993 C   0  0  0  0  0  0  0  0  0  0  0  0\\n    7.6519   -2.1771   -0.9105 N   0  0  0  0  0  0  0  0  0  0  0  0\\n    8.2697   -2.5651   -2.1215 C   0  0  0  0  0  0  0  0  0  0  0  0\\n    7.6547   -3.1268   -3.0351 O   0  0  0  0  0  0  0  0  0  0  0  0\\n    9.7529   -2.2483   -2.3027 C   0  0  0  0  0  0  0  0  0  0  0  0\\n   10.3205   -2.7686   -1.5263 H   0  0  0  0  0  0  0  0  0  0  0  0\\n    9.9169   -1.1698   -2.2144 H   0  0  0  0  0  0  0  0  0  0  0  0\\n   10.2784   -2.6982   -3.6586 C   0  0  0  0  0  0  0  0  0  0  0  0\\n   11.3348   -2.4325   -3.7639 H   0  0  0  0  0  0  0  0  0  0  0  0\\n    9.7217   -2.2221   -4.4725 H   0  0  0  0  0  0  0  0  0  0  0  0\\n   10.1876   -3.7829   -3.7777 H   0  0  0  0  0  0  0  0  0  0  0  0\\n    6.2174   -2.2250   -0.8660 C   0  0  0  0  0  0  0  0  0  0  0  0\\n    5.8978   -3.0246   -1.5430 H   0  0  0  0  0  0  0  0  0  0  0  0\\n    5.6424   -2.5889    0.5113 C   0  0  0  0  0  0  0  0  0  0  0  0\\n    5.9431   -1.8549    1.2687 H   0  0  0  0  0  0  0  0  0  0  0  0\\n    6.0370   -3.5593    0.8357 H   0  0  0  0  0  0  0  0  0  0  0  0\\n    4.1123   -2.6486    0.4677 C   0  0  0  0  0  0  0  0  0  0  0  0\\n    3.7671   -2.8753    1.4816 H   0  0  0  0  0  0  0  0  0  0  0  0\\n    3.7938   -3.4788   -0.1763 H   0  0  0  0  0  0  0  0  0  0  0  0\\n    3.5409   -1.3751   -0.0000 N   0  0  0  0  0  0  0  0  0  0  0  0\\n    2.0902   -1.4053    0.0000 C   0  0  0  0  0  0  0  0  0  0  0  0\\n    1.7917   -1.9296    0.9139 H   0  0  0  0  0  0  0  0  0  0  0  0\\n    1.7370   -1.9905   -0.8559 H   0  0  0  0  0  0  0  0  0  0  0  0\\n    1.4860   -0.0000    0.0000 C   0  0  0  0  0  0  0  0  0  0  0  0\\n    1.8565    0.5669   -0.8637 H   0  0  0  0  0  0  0  0  0  0  0  0\\n    1.8333    0.5427    0.8884 H   0  0  0  0  0  0  0  0  0  0  0  0\\n    0.0000    0.0000    0.0000 C   0  0  0  0  0  0  0  0  0  0  0  0\\n   -0.7114    0.0000    1.1992 C   0  0  0  0  0  0  0  0  0  0  0  0\\n   -0.1765   -0.0031    2.1461 H   0  0  0  0  0  0  0  0  0  0  0  0\\n   -2.1126   -0.0035    1.1688 C   0  0  0  0  0  0  0  0  0  0  0  0\\n   -2.6514   -0.0101    2.1155 H   0  0  0  0  0  0  0  0  0  0  0  0\\n   -2.8620    0.0013   -0.0236 C   0  0  0  0  0  0  0  0  0  0  0  0\\n   -3.9439    0.0009   -0.0237 H   0  0  0  0  0  0  0  0  0  0  0  0\\n   -2.1138    0.0186   -1.2108 C   0  0  0  0  0  0  0  0  0  0  0  0\\n   -2.6026    0.0397   -2.1817 H   0  0  0  0  0  0  0  0  0  0  0  0\\n   -0.7111    0.0195   -1.2025 C   0  0  0  0  0  0  0  0  0  0  0  0\\n   -0.1814    0.0390   -2.1521 H   0  0  0  0  0  0  0  0  0  0  0  0\\n    4.0392   -1.0441   -1.3454 C   0  0  0  0  0  0  0  0  0  0  0  0\\n    3.7146   -1.7953   -2.0777 H   0  0  0  0  0  0  0  0  0  0  0  0\\n    3.6282   -0.0789   -1.6659 H   0  0  0  0  0  0  0  0  0  0  0  0\\n    5.5658   -0.9295   -1.3642 C   0  0  0  0  0  0  0  0  0  0  0  0\\n    5.8991   -0.6941   -2.3800 H   0  0  0  0  0  0  0  0  0  0  0  0\\n    5.8625   -0.0816   -0.7388 H   0  0  0  0  0  0  0  0  0  0  0  0\\n    8.5039   -0.1488    0.1680 C   0  0  0  0  0  0  0  0  0  0  0  0\\n    8.0285    0.4943   -0.5685 H   0  0  0  0  0  0  0  0  0  0  0  0\\n    9.2350    0.4797    1.1868 C   0  0  0  0  0  0  0  0  0  0  0  0\\n    9.2955    1.5655    1.1952 H   0  0  0  0  0  0  0  0  0  0  0  0\\n  1  2  1  0\\n  2  3  2  0\\n  3  4  1  0\\n  3  5  1  0\\n  5  6  1  0\\n  5  7  2  0\\n  7  8  1  0\\n  8  9  1  0\\n  9 10  2  0\\n  9 11  1  0\\n 11 12  1  0\\n 11 13  1  0\\n 11 14  1  0\\n 14 15  1  0\\n 14 16  1  0\\n 14 17  1  0\\n  8 18  1  0\\n 18 19  1  0\\n 18 20  1  0\\n 20 21  1  0\\n 20 22  1  0\\n 20 23  1  0\\n 23 24  1  0\\n 23 25  1  0\\n 23 26  1  0\\n 26 27  1  0\\n 27 28  1  0\\n 27 29  1  0\\n 27 30  1  0\\n 30 31  1  0\\n 30 32  1  0\\n 30 33  1  0\\n 33 34  2  0\\n 34 35  1  0\\n 34 36  1  0\\n 36 37  1  0\\n 36 38  2  0\\n 38 39  1  0\\n 38 40  1  0\\n 40 41  1  0\\n 33 42  1  0\\n 40 42  2  0\\n 42 43  1  0\\n 26 44  1  0\\n 44 45  1  0\\n 44 46  1  0\\n 18 47  1  0\\n 44 47  1  0\\n 47 48  1  0\\n 47 49  1  0\\n  7 50  1  0\\n 50 51  1  0\\n  2 52  1  0\\n 50 52  2  0\\n 52 53  1  0\\nM  END\\n\",\"sdf\");\n\tviewergrid_17332430347266045[0][0].setStyle({\"stick\": {}});\n\tviewergrid_17332430347266045[0][1].removeAllModels();\n\tviewergrid_17332430347266045[0][1].addModel(\"\\n     RDKit          3D\\n\\n 45 49  0  0  0  0  0  0  0  0999 V2000\\n    6.4875    2.5871   -4.2818 H   0  0  0  0  0  0  0  0  0  0  0  0\\n    5.7892    3.2489   -4.4137 O   0  0  0  0  0  0  0  0  0  0  0  0\\n    4.7879    3.0472   -3.4918 C   0  0  0  0  0  0  0  0  0  0  0  0\\n    3.6634    3.8828   -3.4820 C   0  0  0  0  0  0  0  0  0  0  0  0\\n    3.5709    4.6849   -4.2096 H   0  0  0  0  0  0  0  0  0  0  0  0\\n    2.6589    3.7149   -2.5062 C   0  0  0  0  0  0  0  0  0  0  0  0\\n    1.8139    4.3981   -2.4890 H   0  0  0  0  0  0  0  0  0  0  0  0\\n    2.7613    2.6970   -1.5548 C   0  0  0  0  0  0  0  0  0  0  0  0\\n    3.8711    1.8746   -1.6322 C   0  0  0  0  0  0  0  0  0  0  0  0\\n    4.8961    2.0660   -2.5342 C   0  0  0  0  0  0  0  0  0  0  0  0\\n    5.9579    1.2271   -2.2964 O   0  0  0  0  0  0  0  0  0  0  0  0\\n    5.6994    0.7323   -0.9437 C   0  0  1  0  0  0  0  0  0  0  0  0\\n    6.1386   -0.2664   -0.8405 H   0  0  0  0  0  0  0  0  0  0  0  0\\n    6.4423    1.6676    0.0158 C   0  0  0  0  0  0  0  0  0  0  0  0\\n    7.4968    2.2164   -0.3089 O   0  0  0  0  0  0  0  0  0  0  0  0\\n    5.8883    1.8297    1.4134 C   0  0  0  0  0  0  0  0  0  0  0  0\\n    6.1306    0.9309    1.9887 H   0  0  0  0  0  0  0  0  0  0  0  0\\n    6.3962    2.6743    1.8927 H   0  0  0  0  0  0  0  0  0  0  0  0\\n    4.3849    2.1016    1.3840 C   0  0  0  0  0  0  0  0  0  0  0  0\\n    4.2115    3.0743    0.9112 H   0  0  0  0  0  0  0  0  0  0  0  0\\n    4.0301    2.1820    2.4190 H   0  0  0  0  0  0  0  0  0  0  0  0\\n    3.6226    0.9767    0.6608 C   0  0  2  0  0  0  0  0  0  0  0  0\\n    3.7579   -0.1935    1.4848 O   0  0  0  0  0  0  0  0  0  0  0  0\\n    3.3200   -0.0138    2.3342 H   0  0  0  0  0  0  0  0  0  0  0  0\\n    4.1751    0.7151   -0.7471 C   0  0  1  0  0  0  0  0  0  0  0  0\\n    3.5103   -0.5492   -1.3354 C   0  0  0  0  0  0  0  0  0  0  0  0\\n    3.8219   -0.7205   -2.3743 H   0  0  0  0  0  0  0  0  0  0  0  0\\n    3.8396   -1.4316   -0.7714 H   0  0  0  0  0  0  0  0  0  0  0  0\\n    1.9732   -0.4701   -1.2916 C   0  0  0  0  0  0  0  0  0  0  0  0\\n    1.6117    0.1663   -2.1089 H   0  0  0  0  0  0  0  0  0  0  0  0\\n    1.5889   -1.4772   -1.4976 H   0  0  0  0  0  0  0  0  0  0  0  0\\n    1.4510   -0.0000    0.0000 N   0  0  0  0  0  0  0  0  0  0  0  0\\n    0.0000    0.0000    0.0000 C   0  0  0  0  0  0  0  0  0  0  0  0\\n   -0.4090    0.8230   -0.5971 H   0  0  0  0  0  0  0  0  0  0  0  0\\n   -0.3427   -0.9227   -0.4828 H   0  0  0  0  0  0  0  0  0  0  0  0\\n   -0.5083    0.0000    1.4098 C   0  0  0  0  0  0  0  0  0  0  0  0\\n   -0.2369   -0.8418    2.0422 H   0  0  0  0  0  0  0  0  0  0  0  0\\n   -1.2836    0.9613    1.9241 C   0  0  0  0  0  0  0  0  0  0  0  0\\n   -1.5904    1.8185    1.3353 H   0  0  0  0  0  0  0  0  0  0  0  0\\n   -1.6245    0.9008    2.9518 H   0  0  0  0  0  0  0  0  0  0  0  0\\n    2.0892    1.2550    0.4882 C   0  0  2  0  0  0  0  0  0  0  0  0\\n    1.6875    1.4524    1.4896 H   0  0  0  0  0  0  0  0  0  0  0  0\\n    1.8066    2.5152   -0.4035 C   0  0  0  0  0  0  0  0  0  0  0  0\\n    0.7788    2.5198   -0.7780 H   0  0  0  0  0  0  0  0  0  0  0  0\\n    1.9009    3.4013    0.2385 H   0  0  0  0  0  0  0  0  0  0  0  0\\n  1  2  1  0\\n  2  3  1  0\\n  3  4  2  0\\n  4  5  1  0\\n  4  6  1  0\\n  6  7  1  0\\n  6  8  2  0\\n  8  9  1  0\\n  3 10  1  0\\n  9 10  2  0\\n 10 11  1  0\\n 11 12  1  0\\n 12 13  1  6\\n 12 14  1  0\\n 14 15  2  0\\n 14 16  1  0\\n 16 17  1  0\\n 16 18  1  0\\n 16 19  1  0\\n 19 20  1  0\\n 19 21  1  0\\n 19 22  1  0\\n 22 23  1  1\\n 23 24  1  0\\n  9 25  1  0\\n 12 25  1  0\\n 22 25  1  0\\n 25 26  1  6\\n 26 27  1  0\\n 26 28  1  0\\n 26 29  1  0\\n 29 30  1  0\\n 29 31  1  0\\n 29 32  1  0\\n 32 33  1  0\\n 33 34  1  0\\n 33 35  1  0\\n 33 36  1  0\\n 36 37  1  0\\n 36 38  2  0\\n 38 39  1  0\\n 38 40  1  0\\n 22 41  1  0\\n 32 41  1  0\\n 41 42  1  1\\n  8 43  1  0\\n 41 43  1  0\\n 43 44  1  0\\n 43 45  1  0\\nM  END\\n\",\"sdf\");\n\tviewergrid_17332430347266045[0][1].setStyle({\"stick\": {}});\n\tviewergrid_17332430347266045[0][0].zoomTo();\n\tviewergrid_17332430347266045[0][1].zoomTo();\n\tviewergrid_17332430347266045[0][2].zoomTo();\nviewergrid_17332430347266045[0][2].render();\nviewergrid_17332430347266045[0][1].render();\nviewergrid_17332430347266045[0][0].render();\n});\n</script>",
      "text/html": [
       "<div id=\"3dmolviewer_17332430347266045\"  style=\"position: relative; width: 1200px; height: 400px;\">\n",
       "        <p id=\"3dmolwarning_17332430347266045\" style=\"background-color:#ffcccc;color:black\">3Dmol.js failed to load for some reason.  Please check your browser console for error messages.<br></p>\n",
       "        </div>\n",
       "<script>\n",
       "\n",
       "var loadScriptAsync = function(uri){\n",
       "  return new Promise((resolve, reject) => {\n",
       "    //this is to ignore the existence of requirejs amd\n",
       "    var savedexports, savedmodule;\n",
       "    if (typeof exports !== 'undefined') savedexports = exports;\n",
       "    else exports = {}\n",
       "    if (typeof module !== 'undefined') savedmodule = module;\n",
       "    else module = {}\n",
       "\n",
       "    var tag = document.createElement('script');\n",
       "    tag.src = uri;\n",
       "    tag.async = true;\n",
       "    tag.onload = () => {\n",
       "        exports = savedexports;\n",
       "        module = savedmodule;\n",
       "        resolve();\n",
       "    };\n",
       "  var firstScriptTag = document.getElementsByTagName('script')[0];\n",
       "  firstScriptTag.parentNode.insertBefore(tag, firstScriptTag);\n",
       "});\n",
       "};\n",
       "\n",
       "if(typeof $3Dmolpromise === 'undefined') {\n",
       "$3Dmolpromise = null;\n",
       "  $3Dmolpromise = loadScriptAsync('https://cdnjs.cloudflare.com/ajax/libs/3Dmol/2.4.0/3Dmol-min.js');\n",
       "}\n",
       "\n",
       "var viewer_17332430347266045 = null;\n",
       "var warn = document.getElementById(\"3dmolwarning_17332430347266045\");\n",
       "if(warn) {\n",
       "    warn.parentNode.removeChild(warn);\n",
       "}\n",
       "$3Dmolpromise.then(function() {\n",
       "var viewergrid_17332430347266045 = null;\n",
       "viewergrid_17332430347266045 = $3Dmol.createViewerGrid(document.getElementById(\"3dmolviewer_17332430347266045\"),{rows: 1, cols: 3, control_all: true},{backgroundColor:\"white\"});\n",
       "viewer_17332430347266045 = viewergrid_17332430347266045[0][0];\n",
       "viewergrid_17332430347266045[0][0].zoomTo();viewergrid_17332430347266045[0][1].zoomTo();viewergrid_17332430347266045[0][2].zoomTo();\tviewergrid_17332430347266045[0][0].removeAllModels();\n",
       "\tviewergrid_17332430347266045[0][0].addModel(\"\\n     RDKit          3D\\n\\n 53 55  0  0  0  0  0  0  0  0999 V2000\\n   10.4379    0.2231    2.9642 H   0  0  0  0  0  0  0  0  0  0  0  0\\n    9.8733   -0.2686    2.1792 C   0  0  0  0  0  0  0  0  0  0  0  0\\n    9.7544   -1.6577    2.1517 C   0  0  0  0  0  0  0  0  0  0  0  0\\n   10.2338   -2.2575    2.9218 H   0  0  0  0  0  0  0  0  0  0  0  0\\n    9.0215   -2.2659    1.1234 C   0  0  0  0  0  0  0  0  0  0  0  0\\n    8.9450   -3.3525    1.1146 H   0  0  0  0  0  0  0  0  0  0  0  0\\n    8.3777   -1.5449    0.0993 C   0  0  0  0  0  0  0  0  0  0  0  0\\n    7.6519   -2.1771   -0.9105 N   0  0  0  0  0  0  0  0  0  0  0  0\\n    8.2697   -2.5651   -2.1215 C   0  0  0  0  0  0  0  0  0  0  0  0\\n    7.6547   -3.1268   -3.0351 O   0  0  0  0  0  0  0  0  0  0  0  0\\n    9.7529   -2.2483   -2.3027 C   0  0  0  0  0  0  0  0  0  0  0  0\\n   10.3205   -2.7686   -1.5263 H   0  0  0  0  0  0  0  0  0  0  0  0\\n    9.9169   -1.1698   -2.2144 H   0  0  0  0  0  0  0  0  0  0  0  0\\n   10.2784   -2.6982   -3.6586 C   0  0  0  0  0  0  0  0  0  0  0  0\\n   11.3348   -2.4325   -3.7639 H   0  0  0  0  0  0  0  0  0  0  0  0\\n    9.7217   -2.2221   -4.4725 H   0  0  0  0  0  0  0  0  0  0  0  0\\n   10.1876   -3.7829   -3.7777 H   0  0  0  0  0  0  0  0  0  0  0  0\\n    6.2174   -2.2250   -0.8660 C   0  0  0  0  0  0  0  0  0  0  0  0\\n    5.8978   -3.0246   -1.5430 H   0  0  0  0  0  0  0  0  0  0  0  0\\n    5.6424   -2.5889    0.5113 C   0  0  0  0  0  0  0  0  0  0  0  0\\n    5.9431   -1.8549    1.2687 H   0  0  0  0  0  0  0  0  0  0  0  0\\n    6.0370   -3.5593    0.8357 H   0  0  0  0  0  0  0  0  0  0  0  0\\n    4.1123   -2.6486    0.4677 C   0  0  0  0  0  0  0  0  0  0  0  0\\n    3.7671   -2.8753    1.4816 H   0  0  0  0  0  0  0  0  0  0  0  0\\n    3.7938   -3.4788   -0.1763 H   0  0  0  0  0  0  0  0  0  0  0  0\\n    3.5409   -1.3751   -0.0000 N   0  0  0  0  0  0  0  0  0  0  0  0\\n    2.0902   -1.4053    0.0000 C   0  0  0  0  0  0  0  0  0  0  0  0\\n    1.7917   -1.9296    0.9139 H   0  0  0  0  0  0  0  0  0  0  0  0\\n    1.7370   -1.9905   -0.8559 H   0  0  0  0  0  0  0  0  0  0  0  0\\n    1.4860   -0.0000    0.0000 C   0  0  0  0  0  0  0  0  0  0  0  0\\n    1.8565    0.5669   -0.8637 H   0  0  0  0  0  0  0  0  0  0  0  0\\n    1.8333    0.5427    0.8884 H   0  0  0  0  0  0  0  0  0  0  0  0\\n    0.0000    0.0000    0.0000 C   0  0  0  0  0  0  0  0  0  0  0  0\\n   -0.7114    0.0000    1.1992 C   0  0  0  0  0  0  0  0  0  0  0  0\\n   -0.1765   -0.0031    2.1461 H   0  0  0  0  0  0  0  0  0  0  0  0\\n   -2.1126   -0.0035    1.1688 C   0  0  0  0  0  0  0  0  0  0  0  0\\n   -2.6514   -0.0101    2.1155 H   0  0  0  0  0  0  0  0  0  0  0  0\\n   -2.8620    0.0013   -0.0236 C   0  0  0  0  0  0  0  0  0  0  0  0\\n   -3.9439    0.0009   -0.0237 H   0  0  0  0  0  0  0  0  0  0  0  0\\n   -2.1138    0.0186   -1.2108 C   0  0  0  0  0  0  0  0  0  0  0  0\\n   -2.6026    0.0397   -2.1817 H   0  0  0  0  0  0  0  0  0  0  0  0\\n   -0.7111    0.0195   -1.2025 C   0  0  0  0  0  0  0  0  0  0  0  0\\n   -0.1814    0.0390   -2.1521 H   0  0  0  0  0  0  0  0  0  0  0  0\\n    4.0392   -1.0441   -1.3454 C   0  0  0  0  0  0  0  0  0  0  0  0\\n    3.7146   -1.7953   -2.0777 H   0  0  0  0  0  0  0  0  0  0  0  0\\n    3.6282   -0.0789   -1.6659 H   0  0  0  0  0  0  0  0  0  0  0  0\\n    5.5658   -0.9295   -1.3642 C   0  0  0  0  0  0  0  0  0  0  0  0\\n    5.8991   -0.6941   -2.3800 H   0  0  0  0  0  0  0  0  0  0  0  0\\n    5.8625   -0.0816   -0.7388 H   0  0  0  0  0  0  0  0  0  0  0  0\\n    8.5039   -0.1488    0.1680 C   0  0  0  0  0  0  0  0  0  0  0  0\\n    8.0285    0.4943   -0.5685 H   0  0  0  0  0  0  0  0  0  0  0  0\\n    9.2350    0.4797    1.1868 C   0  0  0  0  0  0  0  0  0  0  0  0\\n    9.2955    1.5655    1.1952 H   0  0  0  0  0  0  0  0  0  0  0  0\\n  1  2  1  0\\n  2  3  2  0\\n  3  4  1  0\\n  3  5  1  0\\n  5  6  1  0\\n  5  7  2  0\\n  7  8  1  0\\n  8  9  1  0\\n  9 10  2  0\\n  9 11  1  0\\n 11 12  1  0\\n 11 13  1  0\\n 11 14  1  0\\n 14 15  1  0\\n 14 16  1  0\\n 14 17  1  0\\n  8 18  1  0\\n 18 19  1  0\\n 18 20  1  0\\n 20 21  1  0\\n 20 22  1  0\\n 20 23  1  0\\n 23 24  1  0\\n 23 25  1  0\\n 23 26  1  0\\n 26 27  1  0\\n 27 28  1  0\\n 27 29  1  0\\n 27 30  1  0\\n 30 31  1  0\\n 30 32  1  0\\n 30 33  1  0\\n 33 34  2  0\\n 34 35  1  0\\n 34 36  1  0\\n 36 37  1  0\\n 36 38  2  0\\n 38 39  1  0\\n 38 40  1  0\\n 40 41  1  0\\n 33 42  1  0\\n 40 42  2  0\\n 42 43  1  0\\n 26 44  1  0\\n 44 45  1  0\\n 44 46  1  0\\n 18 47  1  0\\n 44 47  1  0\\n 47 48  1  0\\n 47 49  1  0\\n  7 50  1  0\\n 50 51  1  0\\n  2 52  1  0\\n 50 52  2  0\\n 52 53  1  0\\nM  END\\n\",\"sdf\");\n",
       "\tviewergrid_17332430347266045[0][0].setStyle({\"stick\": {}});\n",
       "\tviewergrid_17332430347266045[0][1].removeAllModels();\n",
       "\tviewergrid_17332430347266045[0][1].addModel(\"\\n     RDKit          3D\\n\\n 45 49  0  0  0  0  0  0  0  0999 V2000\\n    6.4875    2.5871   -4.2818 H   0  0  0  0  0  0  0  0  0  0  0  0\\n    5.7892    3.2489   -4.4137 O   0  0  0  0  0  0  0  0  0  0  0  0\\n    4.7879    3.0472   -3.4918 C   0  0  0  0  0  0  0  0  0  0  0  0\\n    3.6634    3.8828   -3.4820 C   0  0  0  0  0  0  0  0  0  0  0  0\\n    3.5709    4.6849   -4.2096 H   0  0  0  0  0  0  0  0  0  0  0  0\\n    2.6589    3.7149   -2.5062 C   0  0  0  0  0  0  0  0  0  0  0  0\\n    1.8139    4.3981   -2.4890 H   0  0  0  0  0  0  0  0  0  0  0  0\\n    2.7613    2.6970   -1.5548 C   0  0  0  0  0  0  0  0  0  0  0  0\\n    3.8711    1.8746   -1.6322 C   0  0  0  0  0  0  0  0  0  0  0  0\\n    4.8961    2.0660   -2.5342 C   0  0  0  0  0  0  0  0  0  0  0  0\\n    5.9579    1.2271   -2.2964 O   0  0  0  0  0  0  0  0  0  0  0  0\\n    5.6994    0.7323   -0.9437 C   0  0  1  0  0  0  0  0  0  0  0  0\\n    6.1386   -0.2664   -0.8405 H   0  0  0  0  0  0  0  0  0  0  0  0\\n    6.4423    1.6676    0.0158 C   0  0  0  0  0  0  0  0  0  0  0  0\\n    7.4968    2.2164   -0.3089 O   0  0  0  0  0  0  0  0  0  0  0  0\\n    5.8883    1.8297    1.4134 C   0  0  0  0  0  0  0  0  0  0  0  0\\n    6.1306    0.9309    1.9887 H   0  0  0  0  0  0  0  0  0  0  0  0\\n    6.3962    2.6743    1.8927 H   0  0  0  0  0  0  0  0  0  0  0  0\\n    4.3849    2.1016    1.3840 C   0  0  0  0  0  0  0  0  0  0  0  0\\n    4.2115    3.0743    0.9112 H   0  0  0  0  0  0  0  0  0  0  0  0\\n    4.0301    2.1820    2.4190 H   0  0  0  0  0  0  0  0  0  0  0  0\\n    3.6226    0.9767    0.6608 C   0  0  2  0  0  0  0  0  0  0  0  0\\n    3.7579   -0.1935    1.4848 O   0  0  0  0  0  0  0  0  0  0  0  0\\n    3.3200   -0.0138    2.3342 H   0  0  0  0  0  0  0  0  0  0  0  0\\n    4.1751    0.7151   -0.7471 C   0  0  1  0  0  0  0  0  0  0  0  0\\n    3.5103   -0.5492   -1.3354 C   0  0  0  0  0  0  0  0  0  0  0  0\\n    3.8219   -0.7205   -2.3743 H   0  0  0  0  0  0  0  0  0  0  0  0\\n    3.8396   -1.4316   -0.7714 H   0  0  0  0  0  0  0  0  0  0  0  0\\n    1.9732   -0.4701   -1.2916 C   0  0  0  0  0  0  0  0  0  0  0  0\\n    1.6117    0.1663   -2.1089 H   0  0  0  0  0  0  0  0  0  0  0  0\\n    1.5889   -1.4772   -1.4976 H   0  0  0  0  0  0  0  0  0  0  0  0\\n    1.4510   -0.0000    0.0000 N   0  0  0  0  0  0  0  0  0  0  0  0\\n    0.0000    0.0000    0.0000 C   0  0  0  0  0  0  0  0  0  0  0  0\\n   -0.4090    0.8230   -0.5971 H   0  0  0  0  0  0  0  0  0  0  0  0\\n   -0.3427   -0.9227   -0.4828 H   0  0  0  0  0  0  0  0  0  0  0  0\\n   -0.5083    0.0000    1.4098 C   0  0  0  0  0  0  0  0  0  0  0  0\\n   -0.2369   -0.8418    2.0422 H   0  0  0  0  0  0  0  0  0  0  0  0\\n   -1.2836    0.9613    1.9241 C   0  0  0  0  0  0  0  0  0  0  0  0\\n   -1.5904    1.8185    1.3353 H   0  0  0  0  0  0  0  0  0  0  0  0\\n   -1.6245    0.9008    2.9518 H   0  0  0  0  0  0  0  0  0  0  0  0\\n    2.0892    1.2550    0.4882 C   0  0  2  0  0  0  0  0  0  0  0  0\\n    1.6875    1.4524    1.4896 H   0  0  0  0  0  0  0  0  0  0  0  0\\n    1.8066    2.5152   -0.4035 C   0  0  0  0  0  0  0  0  0  0  0  0\\n    0.7788    2.5198   -0.7780 H   0  0  0  0  0  0  0  0  0  0  0  0\\n    1.9009    3.4013    0.2385 H   0  0  0  0  0  0  0  0  0  0  0  0\\n  1  2  1  0\\n  2  3  1  0\\n  3  4  2  0\\n  4  5  1  0\\n  4  6  1  0\\n  6  7  1  0\\n  6  8  2  0\\n  8  9  1  0\\n  3 10  1  0\\n  9 10  2  0\\n 10 11  1  0\\n 11 12  1  0\\n 12 13  1  6\\n 12 14  1  0\\n 14 15  2  0\\n 14 16  1  0\\n 16 17  1  0\\n 16 18  1  0\\n 16 19  1  0\\n 19 20  1  0\\n 19 21  1  0\\n 19 22  1  0\\n 22 23  1  1\\n 23 24  1  0\\n  9 25  1  0\\n 12 25  1  0\\n 22 25  1  0\\n 25 26  1  6\\n 26 27  1  0\\n 26 28  1  0\\n 26 29  1  0\\n 29 30  1  0\\n 29 31  1  0\\n 29 32  1  0\\n 32 33  1  0\\n 33 34  1  0\\n 33 35  1  0\\n 33 36  1  0\\n 36 37  1  0\\n 36 38  2  0\\n 38 39  1  0\\n 38 40  1  0\\n 22 41  1  0\\n 32 41  1  0\\n 41 42  1  1\\n  8 43  1  0\\n 41 43  1  0\\n 43 44  1  0\\n 43 45  1  0\\nM  END\\n\",\"sdf\");\n",
       "\tviewergrid_17332430347266045[0][1].setStyle({\"stick\": {}});\n",
       "\tviewergrid_17332430347266045[0][0].zoomTo();\n",
       "\tviewergrid_17332430347266045[0][1].zoomTo();\n",
       "\tviewergrid_17332430347266045[0][2].zoomTo();\n",
       "viewergrid_17332430347266045[0][2].render();\n",
       "viewergrid_17332430347266045[0][1].render();\n",
       "viewergrid_17332430347266045[0][0].render();\n",
       "});\n",
       "</script>"
      ]
     },
     "metadata": {},
     "output_type": "display_data"
    }
   ],
   "source": [
    "print('Wtih new conformer generator')\n",
    "visualize_3d_mols(list(new_mols))"
   ]
  },
  {
   "cell_type": "code",
   "execution_count": null,
   "metadata": {},
   "outputs": [],
   "source": []
  },
  {
   "cell_type": "code",
   "execution_count": null,
   "metadata": {},
   "outputs": [],
   "source": []
  },
  {
   "cell_type": "code",
   "execution_count": null,
   "metadata": {},
   "outputs": [],
   "source": []
  },
  {
   "cell_type": "code",
   "execution_count": null,
   "metadata": {},
   "outputs": [],
   "source": []
  }
 ],
 "metadata": {
  "kernelspec": {
   "display_name": "rdkit_pyg_geqm9_clone",
   "language": "python",
   "name": "python3"
  },
  "language_info": {
   "codemirror_mode": {
    "name": "ipython",
    "version": 3
   },
   "file_extension": ".py",
   "mimetype": "text/x-python",
   "name": "python",
   "nbconvert_exporter": "python",
   "pygments_lexer": "ipython3",
   "version": "3.10.14"
  }
 },
 "nbformat": 4,
 "nbformat_minor": 2
}
