{
 "cells": [
  {
   "cell_type": "code",
   "execution_count": 2,
   "metadata": {},
   "outputs": [],
   "source": [
    "import pandas as pd"
   ]
  },
  {
   "cell_type": "code",
   "execution_count": 3,
   "metadata": {},
   "outputs": [],
   "source": [
    "path = \"/home/nobilm@usi.ch/pretrain_paper/targets_datasets/baumannii_train.txt\"\n",
    "df = pd.read_csv(path, sep='\\t')\n",
    "# df.describe"
   ]
  },
  {
   "cell_type": "code",
   "execution_count": 14,
   "metadata": {},
   "outputs": [
    {
     "name": "stdout",
     "output_type": "stream",
     "text": [
      "threshold value: 0.8057681044789167\n"
     ]
    },
    {
     "data": {
      "text/plain": [
       "18      0.704075\n",
       "127     0.388830\n",
       "173     0.776445\n",
       "180     0.769045\n",
       "184     0.160165\n",
       "          ...   \n",
       "7557    0.747506\n",
       "7605    0.730285\n",
       "7606    0.743914\n",
       "7638    0.743673\n",
       "7664    0.804019\n",
       "Name: Mean, Length: 480, dtype: float64"
      ]
     },
     "execution_count": 14,
     "metadata": {},
     "output_type": "execute_result"
    }
   ],
   "source": [
    "threshold = df['Mean'].mean() - df['Mean'].std()\n",
    "print(\"threshold value:\", threshold)\n",
    "df['Mean'][df['Mean']<threshold]"
   ]
  },
  {
   "cell_type": "code",
   "execution_count": 16,
   "metadata": {},
   "outputs": [],
   "source": [
    "df['Label'] = df['Mean'].apply(lambda x: 1 if x < threshold else 0)\n",
    "assert df['Label'].sum() == len(df['Mean'][df['Mean']<threshold])\n",
    "print(df['Mean'].apply(lambda x: 1 if x < threshold else 0))\n",
    "# df.head()"
   ]
  },
  {
   "cell_type": "code",
   "execution_count": 25,
   "metadata": {},
   "outputs": [
    {
     "data": {
      "text/html": [
       "<div>\n",
       "<style scoped>\n",
       "    .dataframe tbody tr th:only-of-type {\n",
       "        vertical-align: middle;\n",
       "    }\n",
       "\n",
       "    .dataframe tbody tr th {\n",
       "        vertical-align: top;\n",
       "    }\n",
       "\n",
       "    .dataframe thead th {\n",
       "        text-align: right;\n",
       "    }\n",
       "</style>\n",
       "<table border=\"1\" class=\"dataframe\">\n",
       "  <thead>\n",
       "    <tr style=\"text-align: right;\">\n",
       "      <th></th>\n",
       "      <th>smiles</th>\n",
       "      <th>activity</th>\n",
       "    </tr>\n",
       "  </thead>\n",
       "  <tbody>\n",
       "    <tr>\n",
       "      <th>0</th>\n",
       "      <td>C=CC(C1=CC(=O)C(OC)=CC1=O)c1ccc(O)cc1</td>\n",
       "      <td>0</td>\n",
       "    </tr>\n",
       "    <tr>\n",
       "      <th>1</th>\n",
       "      <td>C=C1CC/C=C(/C)CC[C@@H]2[C@@H]1CC2(C)C.O</td>\n",
       "      <td>0</td>\n",
       "    </tr>\n",
       "    <tr>\n",
       "      <th>2</th>\n",
       "      <td>CCCCCCCCCCCCCCCC(=O)OCC(O)CO</td>\n",
       "      <td>0</td>\n",
       "    </tr>\n",
       "    <tr>\n",
       "      <th>3</th>\n",
       "      <td>CC1(C)C(=O)[C@@H]2O[C@@H]2[C@@]2(C)C1C[C@@H](O...</td>\n",
       "      <td>0</td>\n",
       "    </tr>\n",
       "    <tr>\n",
       "      <th>4</th>\n",
       "      <td>CC1(C)C2CC(=O)[C@]3(C)C(CC[C@@]4(C)[C@H](c5cco...</td>\n",
       "      <td>0</td>\n",
       "    </tr>\n",
       "  </tbody>\n",
       "</table>\n",
       "</div>"
      ],
      "text/plain": [
       "                                              smiles  activity\n",
       "0              C=CC(C1=CC(=O)C(OC)=CC1=O)c1ccc(O)cc1         0\n",
       "1            C=C1CC/C=C(/C)CC[C@@H]2[C@@H]1CC2(C)C.O         0\n",
       "2                       CCCCCCCCCCCCCCCC(=O)OCC(O)CO         0\n",
       "3  CC1(C)C(=O)[C@@H]2O[C@@H]2[C@@]2(C)C1C[C@@H](O...         0\n",
       "4  CC1(C)C2CC(=O)[C@]3(C)C(CC[C@@]4(C)[C@H](c5cco...         0"
      ]
     },
     "execution_count": 25,
     "metadata": {},
     "output_type": "execute_result"
    }
   ],
   "source": [
    "filtered_df = df[['SMILES', 'Label']]\n",
    "filtered_df.columns = ['smiles', 'activity']\n",
    "filtered_df.to_csv('baumannii_train.csv', index=False)\n",
    "filtered_df.head()"
   ]
  },
  {
   "cell_type": "code",
   "execution_count": null,
   "metadata": {},
   "outputs": [],
   "source": []
  }
 ],
 "metadata": {
  "kernelspec": {
   "display_name": "rdkit_pyg_geqm9_clone",
   "language": "python",
   "name": "python3"
  },
  "language_info": {
   "codemirror_mode": {
    "name": "ipython",
    "version": 3
   },
   "file_extension": ".py",
   "mimetype": "text/x-python",
   "name": "python",
   "nbconvert_exporter": "python",
   "pygments_lexer": "ipython3",
   "version": "3.10.14"
  }
 },
 "nbformat": 4,
 "nbformat_minor": 2
}
