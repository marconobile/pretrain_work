{
 "cells": [
  {
   "cell_type": "markdown",
   "metadata": {},
   "source": [
    "# New logic to go from smile to npz\n",
    "1) get all smiles\n",
    "2) split them via scaffold_split\n",
    "So now I have: train_smi, val_smi, test_smi\n",
    "\n",
    "Then for each smile I then:\n",
    "1) generate a set of conformers -> returns a set of mols for a given smi\n",
    "2) cast mol2pyg (here add new atom encoding)\n",
    "3) pyg2npz, where in the same .npz I have several pyg obj (one for each conformer generated for this smile)\n",
    "\n",
    "Last at runtime I need to sample from the .npz one out of the conformers generated\n",
    "\n",
    "Then at runtime I need to update frad_transf s.t.:\n",
    "- multiscale (tbd how?)"
   ]
  },
  {
   "cell_type": "code",
   "execution_count": 1,
   "metadata": {},
   "outputs": [
    {
     "name": "stderr",
     "output_type": "stream",
     "text": [
      "No normalization for SPS. Feature removed!\n",
      "No normalization for AvgIpc. Feature removed!\n",
      "Skipped loading some Tensorflow models, missing a dependency. No module named 'tensorflow'\n",
      "Skipped loading modules with pytorch-geometric dependency, missing a dependency. No module named 'dgl'\n",
      "Skipped loading modules with transformers dependency. No module named 'transformers'\n",
      "cannot import name 'HuggingFaceModel' from 'deepchem.models.torch_models' (/home/nobilm@usi.ch/miniconda3/envs/rdkit_pyg_geqm9_clone/lib/python3.10/site-packages/deepchem/models/torch_models/__init__.py)\n",
      "Skipped loading modules with pytorch-lightning dependency, missing a dependency. No module named 'lightning'\n",
      "Skipped loading some Jax models, missing a dependency. No module named 'jax'\n",
      "Skipped loading some PyTorch models, missing a dependency. No module named 'tensorflow'\n"
     ]
    }
   ],
   "source": [
    "from source.utils.conformer_generation import generate_conformers\n",
    "from source.utils.mol2pyg import mol2pyg"
   ]
  },
  {
   "cell_type": "code",
   "execution_count": 2,
   "metadata": {},
   "outputs": [],
   "source": [
    "# smiles=[\"CC(C)Cl\", \"CCC(C)CO\", \"CCCCCCCO\" , \"CCCCCCCC(=O)OC\" , \"c3ccc2nc1ccccc1cc2c3\" , \"Nc2cccc3nc1ccccc1cc23\" , \"C1CCCCCC1\" ]\n",
    "\n",
    "smiles = ['[H]c1c([H])c([H])c(N(C(=O)C([H])([H])C([H])([H])[H])C2([H])C([H])([H])C([H])([H])N(C([H])([H])C([H])([H])c3c([H])c([H])c([H])c([H])c3[H])C([H])([H])C2([H])[H])c([H])c1[H]']"
   ]
  },
  {
   "cell_type": "code",
   "execution_count": null,
   "metadata": {},
   "outputs": [],
   "source": [
    "for s in smiles:\n",
    "  confs = generate_conformers(s) # 10 confs by default\n",
    "  for conf in confs:\n",
    "    data = mol2pyg(conf)\n"
   ]
  }
 ],
 "metadata": {
  "kernelspec": {
   "display_name": "rdkit_pyg_geqm9_clone",
   "language": "python",
   "name": "python3"
  },
  "language_info": {
   "codemirror_mode": {
    "name": "ipython",
    "version": 3
   },
   "file_extension": ".py",
   "mimetype": "text/x-python",
   "name": "python",
   "nbconvert_exporter": "python",
   "pygments_lexer": "ipython3",
   "version": "3.10.14"
  }
 },
 "nbformat": 4,
 "nbformat_minor": 2
}
