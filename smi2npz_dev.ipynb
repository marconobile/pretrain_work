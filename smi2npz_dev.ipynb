{
 "cells": [
  {
   "cell_type": "markdown",
   "metadata": {},
   "source": [
    "# New logic to go from smile to npz\n",
    "1) get all smiles\n",
    "2) split them via scaffold_split\n",
    "So now I have: train_smi, val_smi, test_smi\n",
    "\n",
    "Then for each smile I then:\n",
    "1) generate a set of conformers -> returns a set of mols for a given smi\n",
    "2) cast mol2pyg (here add new atom encoding)\n",
    "3) pyg2npz, where in the same .npz I have several pyg obj (one for each conformer generated for this smile)\n",
    "\n",
    "Last at runtime I need to sample from the .npz one out of the conformers generated\n",
    "\n",
    "Then at runtime I need to update frad_transf s.t.:\n",
    "- multiscale (tbd how?)"
   ]
  },
  {
   "cell_type": "code",
   "execution_count": null,
   "metadata": {},
   "outputs": [
    {
     "name": "stdout",
     "output_type": "stream",
     "text": [
      "64\n"
     ]
    },
    {
     "data": {
      "text/plain": [
       "[<rdkit.Chem.rdchem.Mol at 0x7f798cd30190>,\n",
       " <rdkit.Chem.rdchem.Mol at 0x7f798d3fbd80>,\n",
       " <rdkit.Chem.rdchem.Mol at 0x7f798cd30200>,\n",
       " <rdkit.Chem.rdchem.Mol at 0x7f798d3fb6f0>,\n",
       " <rdkit.Chem.rdchem.Mol at 0x7f798d3fbca0>,\n",
       " <rdkit.Chem.rdchem.Mol at 0x7f798d3fb220>,\n",
       " <rdkit.Chem.rdchem.Mol at 0x7f798d3fba70>,\n",
       " <rdkit.Chem.rdchem.Mol at 0x7f798d3fab20>,\n",
       " <rdkit.Chem.rdchem.Mol at 0x7f798d3fb4c0>,\n",
       " <rdkit.Chem.rdchem.Mol at 0x7f798d3fb1b0>]"
      ]
     },
     "execution_count": 6,
     "metadata": {},
     "output_type": "execute_result"
    }
   ],
   "source": [
    "# smiles=[\"CC(C)Cl\", \"CCC(C)CO\", \"CCCCCCCO\"]# , \"CCCCCCCC(=O)OC\" , \"c3ccc2nc1ccccc1cc2c3\" , \"Nc2cccc3nc1ccccc1cc23\" , \"C1CCCCCC1\" ]\n",
    "# d = generate_conformers('[H]c1c([H])c([H])c(N(C(=O)C([H])([H])C([H])([H])[H])C2([H])C([H])([H])C([H])([H])N(C([H])([H])C([H])([H])c3c([H])c([H])c([H])c([H])c3[H])C([H])([H])C2([H])[H])c([H])c1[H]')"
   ]
  }
 ],
 "metadata": {
  "kernelspec": {
   "display_name": "rdkit_pyg_geqm9_clone",
   "language": "python",
   "name": "python3"
  },
  "language_info": {
   "codemirror_mode": {
    "name": "ipython",
    "version": 3
   },
   "file_extension": ".py",
   "mimetype": "text/x-python",
   "name": "python",
   "nbconvert_exporter": "python",
   "pygments_lexer": "ipython3",
   "version": "3.10.14"
  }
 },
 "nbformat": 4,
 "nbformat_minor": 2
}
